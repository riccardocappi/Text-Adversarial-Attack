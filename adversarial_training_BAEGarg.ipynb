{
 "nbformat": 4,
 "nbformat_minor": 0,
 "metadata": {
  "colab": {
   "provenance": [],
   "gpuType": "T4",
   "include_colab_link": true
  },
  "kernelspec": {
   "name": "python3",
   "display_name": "Python 3 (ipykernel)",
   "language": "python"
  },
  "language_info": {
   "name": "python"
  },
  "accelerator": "GPU"
 },
 "cells": [
  {
   "cell_type": "markdown",
   "metadata": {
    "id": "view-in-github",
    "colab_type": "text"
   },
   "source": [
    "<a href=\"https://colab.research.google.com/github/riccardocappi/Text-Adversarial-Attack/blob/adversarial-training/adversarial_training.ipynb\" target=\"_parent\"><img src=\"https://colab.research.google.com/assets/colab-badge.svg\" alt=\"Open In Colab\"/></a>"
   ]
  },
  {
   "cell_type": "markdown",
   "source": [
    "## Dependencies"
   ],
   "metadata": {
    "id": "Bc9BVpsSmZBC"
   }
  },
  {
   "cell_type": "code",
   "metadata": {
    "id": "XUDjgWcpx3TW",
    "colab": {
     "base_uri": "https://localhost:8080/"
    },
    "outputId": "bddc71a0-62f6-41e1-cbed-6f0214092f20"
   },
   "source": "!pip install textattack",
   "outputs": [],
   "execution_count": null
  },
  {
   "metadata": {
    "id": "UmAooViNSqwy"
   },
   "cell_type": "markdown",
   "source": [
    "## Imports"
   ]
  },
  {
   "metadata": {
    "id": "I6XaL_ymSqwy"
   },
   "cell_type": "code",
   "source": [
    "import textattack\n",
    "import transformers\n",
    "from textattack.datasets import HuggingFaceDataset\n",
    "from textattack import Attacker\n",
    "from textattack.attack_recipes import BAEGarg2019"
   ],
   "outputs": [],
   "execution_count": null
  },
  {
   "metadata": {
    "id": "HKlTaE5ASqwy"
   },
   "cell_type": "markdown",
   "source": [
    "# Helper methods"
   ]
  },
  {
   "metadata": {
    "id": "VwusiZK6Sqwy"
   },
   "cell_type": "code",
   "source": [
    "class FixedHuggingFaceDataset(HuggingFaceDataset):\n",
    "    def __init__(self, name_or_dataset, subset=None, split=\"train\", dataset_columns=None, label_map=None,\n",
    "                 label_names=None, output_scale_factor=None, shuffle=False, seed=69, subset_size=None, offset=0):\n",
    "        super().__init__(name_or_dataset=name_or_dataset, subset=subset, split=split, dataset_columns=dataset_columns,\n",
    "                         label_map=label_map, label_names=label_names, output_scale_factor=output_scale_factor,\n",
    "                         shuffle=shuffle)\n",
    "        if shuffle:\n",
    "            self._dataset = self._dataset.shuffle(seed=seed).flatten_indices()\n",
    "        if subset_size is not None:\n",
    "            self._dataset = self._dataset.skip(offset).take(subset_size)"
   ],
   "outputs": [],
   "execution_count": null
  },
  {
   "metadata": {
    "id": "Fz-w5xmtpLKc"
   },
   "cell_type": "markdown",
   "source": "# Loading model"
  },
  {
   "metadata": {
    "id": "iVVb6zM5pLKc"
   },
   "cell_type": "code",
   "source": [
    "model = transformers.AutoModelForSequenceClassification.from_pretrained(\"textattack/bert-base-uncased-imdb\")\n",
    "tokenizer = transformers.AutoTokenizer.from_pretrained(\"textattack/bert-base-uncased-imdb\")\n",
    "model_wrapper = textattack.models.wrappers.HuggingFaceModelWrapper(model, tokenizer)"
   ],
   "outputs": [],
   "execution_count": null
  },
  {
   "metadata": {},
   "cell_type": "markdown",
   "source": "# Loading dataset"
  },
  {
   "cell_type": "code",
   "source": [
    "subset_train = FixedHuggingFaceDataset(\"imdb\", split=\"train\", subset_size=1024, shuffle=True)\n",
    "subset_eval = FixedHuggingFaceDataset(\"imdb\", split=\"test\", subset_size=64, shuffle=True)"
   ],
   "metadata": {
    "colab": {
     "base_uri": "https://localhost:8080/"
    },
    "id": "cELJxLkJPxFQ",
    "outputId": "e7000976-9dac-47ac-ed21-7f16db5ccc28"
   },
   "outputs": [],
   "execution_count": null
  },
  {
   "metadata": {},
   "cell_type": "markdown",
   "source": "# Adversarial training BAEGarg"
  },
  {
   "metadata": {},
   "cell_type": "code",
   "source": "attack = BAEGarg2019.build(model_wrapper)",
   "outputs": [],
   "execution_count": null
  },
  {
   "metadata": {},
   "cell_type": "markdown",
   "source": "### Attack before model training"
  },
  {
   "cell_type": "code",
   "source": [
    "attack_args = textattack.AttackArgs(num_examples=-1, parallel=True, disable_stdout=True)\n",
    "attacker = Attacker(attack, subset_eval, attack_args)\n",
    "adv_exp_bae_bert_imdb = attacker.attack_dataset()"
   ],
   "metadata": {
    "id": "Y1I_PQa-V7Ar",
    "outputId": "857cee78-0143-4afe-fad4-84e1ca870e3f",
    "colab": {
     "base_uri": "https://localhost:8080/"
    }
   },
   "outputs": [],
   "execution_count": null
  },
  {
   "metadata": {},
   "cell_type": "markdown",
   "source": "### Define adversarial training hyperparams"
  },
  {
   "metadata": {
    "id": "JVJipLXmSqwz"
   },
   "cell_type": "code",
   "source": [
    "training_args = textattack.TrainingArgs(\n",
    "    num_epochs=5,\n",
    "    num_clean_epochs=0,\n",
    "    num_train_adv_examples=128,\n",
    "    learning_rate=5e-5,\n",
    "    per_device_train_batch_size=8,\n",
    "    gradient_accumulation_steps=1,\n",
    "    per_device_eval_batch_size=1,\n",
    "    attack_epoch_interval=1,\n",
    "    log_to_tb=True,\n",
    "    parallel=True\n",
    ")\n",
    "\n",
    "trainer = textattack.Trainer(\n",
    "    model_wrapper,\n",
    "    \"classification\",\n",
    "    attack,\n",
    "    subset_train,\n",
    "    subset_eval,\n",
    "    training_args\n",
    ")"
   ],
   "outputs": [],
   "execution_count": null
  },
  {
   "metadata": {
    "id": "7CTyx3P7Sqwz"
   },
   "cell_type": "markdown",
   "source": "### Adversarial training"
  },
  {
   "metadata": {
    "id": "WSFV6YkqSqwz",
    "outputId": "f64978f1-4f26-4b51-c9a4-13af4417e4ec",
    "colab": {
     "base_uri": "https://localhost:8080/"
    }
   },
   "cell_type": "code",
   "source": [
    "trainer.train()"
   ],
   "outputs": [],
   "execution_count": null
  },
  {
   "metadata": {},
   "cell_type": "markdown",
   "source": "# Check trained model accuracy"
  },
  {
   "metadata": {},
   "cell_type": "code",
   "source": [
    "fine_tuned_model = transformers.AutoModelForSequenceClassification.from_pretrained(\"outputs/BAEGarg/best_model\")\n",
    "fine_tuned_tokenizer = transformers.AutoTokenizer.from_pretrained(\"outputs/BAEGarg/best_model\")\n",
    "model_wrapper_fine_tuned = textattack.models.wrappers.HuggingFaceModelWrapper(fine_tuned_model, fine_tuned_tokenizer)\n",
    "fine_tuned_attack = BAEGarg2019.build(model_wrapper_fine_tuned)"
   ],
   "outputs": [],
   "execution_count": null
  },
  {
   "cell_type": "code",
   "source": [
    "fine_tuned_attack_args = textattack.AttackArgs(num_examples=-1, parallel=True, disable_stdout=True)\n",
    "fine_tuned_attacker = Attacker(fine_tuned_attack, subset_eval, fine_tuned_attack_args)\n",
    "fine_tuned_eval = fine_tuned_attacker.attack_dataset()"
   ],
   "metadata": {
    "id": "EmTJ-D8bdZqb",
    "outputId": "823515ff-293f-415f-cd2f-62eab0bc85e7",
    "colab": {
     "base_uri": "https://localhost:8080/"
    }
   },
   "outputs": [],
   "execution_count": null
  }
 ]
}
