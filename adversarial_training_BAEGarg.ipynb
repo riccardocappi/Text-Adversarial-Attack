{
 "nbformat": 4,
 "nbformat_minor": 0,
 "metadata": {
  "colab": {
   "provenance": [],
   "gpuType": "T4",
   "include_colab_link": true
  },
  "kernelspec": {
   "name": "python3",
   "display_name": "Python 3 (ipykernel)",
   "language": "python"
  },
  "language_info": {
   "name": "python"
  },
  "accelerator": "GPU"
 },
 "cells": [
  {
   "cell_type": "markdown",
   "metadata": {
    "id": "view-in-github",
    "colab_type": "text"
   },
   "source": [
    "<a href=\"https://colab.research.google.com/github/riccardocappi/Text-Adversarial-Attack/blob/adversarial-training/adversarial_training.ipynb\" target=\"_parent\"><img src=\"https://colab.research.google.com/assets/colab-badge.svg\" alt=\"Open In Colab\"/></a>"
   ]
  },
  {
   "cell_type": "markdown",
   "source": [
    "## Dependencies"
   ],
   "metadata": {
    "id": "Bc9BVpsSmZBC"
   }
  },
  {
   "cell_type": "code",
   "metadata": {
    "id": "XUDjgWcpx3TW",
    "colab": {
     "base_uri": "https://localhost:8080/"
    },
    "outputId": "bddc71a0-62f6-41e1-cbed-6f0214092f20",
    "ExecuteTime": {
     "end_time": "2024-05-17T22:10:43.704638Z",
     "start_time": "2024-05-17T22:10:39.888087Z"
    }
   },
   "source": "!pip install textattack",
   "outputs": [
    {
     "name": "stdout",
     "output_type": "stream",
     "text": [
      "Requirement already satisfied: textattack in ./venv/lib/python3.11/site-packages (0.3.10)\r\n",
      "Requirement already satisfied: bert-score>=0.3.5 in ./venv/lib/python3.11/site-packages (from textattack) (0.3.13)\r\n",
      "Requirement already satisfied: editdistance in ./venv/lib/python3.11/site-packages (from textattack) (0.8.1)\r\n",
      "Requirement already satisfied: flair in ./venv/lib/python3.11/site-packages (from textattack) (0.13.1)\r\n",
      "Requirement already satisfied: filelock in ./venv/lib/python3.11/site-packages (from textattack) (3.14.0)\r\n",
      "Requirement already satisfied: language-tool-python in ./venv/lib/python3.11/site-packages (from textattack) (2.8)\r\n",
      "Requirement already satisfied: lemminflect in ./venv/lib/python3.11/site-packages (from textattack) (0.2.3)\r\n",
      "Requirement already satisfied: lru-dict in ./venv/lib/python3.11/site-packages (from textattack) (1.3.0)\r\n",
      "Requirement already satisfied: datasets>=2.4.0 in ./venv/lib/python3.11/site-packages (from textattack) (2.19.1)\r\n",
      "Requirement already satisfied: nltk in ./venv/lib/python3.11/site-packages (from textattack) (3.8.1)\r\n",
      "Requirement already satisfied: numpy>=1.21.0 in ./venv/lib/python3.11/site-packages (from textattack) (1.26.4)\r\n",
      "Requirement already satisfied: pandas>=1.0.1 in ./venv/lib/python3.11/site-packages (from textattack) (2.2.2)\r\n",
      "Requirement already satisfied: scipy>=1.4.1 in ./venv/lib/python3.11/site-packages (from textattack) (1.11.4)\r\n",
      "Requirement already satisfied: torch!=1.8,>=1.7.0 in ./venv/lib/python3.11/site-packages (from textattack) (2.3.0)\r\n",
      "Requirement already satisfied: transformers>=4.30.0 in ./venv/lib/python3.11/site-packages (from textattack) (4.40.2)\r\n",
      "Requirement already satisfied: terminaltables in ./venv/lib/python3.11/site-packages (from textattack) (3.1.10)\r\n",
      "Requirement already satisfied: tqdm in ./venv/lib/python3.11/site-packages (from textattack) (4.66.4)\r\n",
      "Requirement already satisfied: word2number in ./venv/lib/python3.11/site-packages (from textattack) (1.1)\r\n",
      "Requirement already satisfied: num2words in ./venv/lib/python3.11/site-packages (from textattack) (0.5.13)\r\n",
      "Requirement already satisfied: more-itertools in ./venv/lib/python3.11/site-packages (from textattack) (10.2.0)\r\n",
      "Requirement already satisfied: pinyin>=0.4.0 in ./venv/lib/python3.11/site-packages (from textattack) (0.4.0)\r\n",
      "Requirement already satisfied: jieba in ./venv/lib/python3.11/site-packages (from textattack) (0.42.1)\r\n",
      "Requirement already satisfied: OpenHowNet in ./venv/lib/python3.11/site-packages (from textattack) (2.0)\r\n",
      "Requirement already satisfied: requests in ./venv/lib/python3.11/site-packages (from bert-score>=0.3.5->textattack) (2.31.0)\r\n",
      "Requirement already satisfied: matplotlib in ./venv/lib/python3.11/site-packages (from bert-score>=0.3.5->textattack) (3.8.4)\r\n",
      "Requirement already satisfied: packaging>=20.9 in ./venv/lib/python3.11/site-packages (from bert-score>=0.3.5->textattack) (24.0)\r\n",
      "Requirement already satisfied: pyarrow>=12.0.0 in ./venv/lib/python3.11/site-packages (from datasets>=2.4.0->textattack) (16.0.0)\r\n",
      "Requirement already satisfied: pyarrow-hotfix in ./venv/lib/python3.11/site-packages (from datasets>=2.4.0->textattack) (0.6)\r\n",
      "Requirement already satisfied: dill<0.3.9,>=0.3.0 in ./venv/lib/python3.11/site-packages (from datasets>=2.4.0->textattack) (0.3.8)\r\n",
      "Requirement already satisfied: xxhash in ./venv/lib/python3.11/site-packages (from datasets>=2.4.0->textattack) (3.4.1)\r\n",
      "Requirement already satisfied: multiprocess in ./venv/lib/python3.11/site-packages (from datasets>=2.4.0->textattack) (0.70.16)\r\n",
      "Requirement already satisfied: fsspec[http]<=2024.3.1,>=2023.1.0 in ./venv/lib/python3.11/site-packages (from datasets>=2.4.0->textattack) (2024.3.1)\r\n",
      "Requirement already satisfied: aiohttp in ./venv/lib/python3.11/site-packages (from datasets>=2.4.0->textattack) (3.9.5)\r\n",
      "Requirement already satisfied: huggingface-hub>=0.21.2 in ./venv/lib/python3.11/site-packages (from datasets>=2.4.0->textattack) (0.23.0)\r\n",
      "Requirement already satisfied: pyyaml>=5.1 in ./venv/lib/python3.11/site-packages (from datasets>=2.4.0->textattack) (6.0.1)\r\n",
      "Requirement already satisfied: python-dateutil>=2.8.2 in ./venv/lib/python3.11/site-packages (from pandas>=1.0.1->textattack) (2.9.0.post0)\r\n",
      "Requirement already satisfied: pytz>=2020.1 in ./venv/lib/python3.11/site-packages (from pandas>=1.0.1->textattack) (2024.1)\r\n",
      "Requirement already satisfied: tzdata>=2022.7 in ./venv/lib/python3.11/site-packages (from pandas>=1.0.1->textattack) (2024.1)\r\n",
      "Requirement already satisfied: typing-extensions>=4.8.0 in ./venv/lib/python3.11/site-packages (from torch!=1.8,>=1.7.0->textattack) (4.11.0)\r\n",
      "Requirement already satisfied: sympy in ./venv/lib/python3.11/site-packages (from torch!=1.8,>=1.7.0->textattack) (1.12)\r\n",
      "Requirement already satisfied: networkx in ./venv/lib/python3.11/site-packages (from torch!=1.8,>=1.7.0->textattack) (3.3)\r\n",
      "Requirement already satisfied: jinja2 in ./venv/lib/python3.11/site-packages (from torch!=1.8,>=1.7.0->textattack) (3.1.4)\r\n",
      "Requirement already satisfied: nvidia-cuda-nvrtc-cu12==12.1.105 in ./venv/lib/python3.11/site-packages (from torch!=1.8,>=1.7.0->textattack) (12.1.105)\r\n",
      "Requirement already satisfied: nvidia-cuda-runtime-cu12==12.1.105 in ./venv/lib/python3.11/site-packages (from torch!=1.8,>=1.7.0->textattack) (12.1.105)\r\n",
      "Requirement already satisfied: nvidia-cuda-cupti-cu12==12.1.105 in ./venv/lib/python3.11/site-packages (from torch!=1.8,>=1.7.0->textattack) (12.1.105)\r\n",
      "Requirement already satisfied: nvidia-cudnn-cu12==8.9.2.26 in ./venv/lib/python3.11/site-packages (from torch!=1.8,>=1.7.0->textattack) (8.9.2.26)\r\n",
      "Requirement already satisfied: nvidia-cublas-cu12==12.1.3.1 in ./venv/lib/python3.11/site-packages (from torch!=1.8,>=1.7.0->textattack) (12.1.3.1)\r\n",
      "Requirement already satisfied: nvidia-cufft-cu12==11.0.2.54 in ./venv/lib/python3.11/site-packages (from torch!=1.8,>=1.7.0->textattack) (11.0.2.54)\r\n",
      "Requirement already satisfied: nvidia-curand-cu12==10.3.2.106 in ./venv/lib/python3.11/site-packages (from torch!=1.8,>=1.7.0->textattack) (10.3.2.106)\r\n",
      "Requirement already satisfied: nvidia-cusolver-cu12==11.4.5.107 in ./venv/lib/python3.11/site-packages (from torch!=1.8,>=1.7.0->textattack) (11.4.5.107)\r\n",
      "Requirement already satisfied: nvidia-cusparse-cu12==12.1.0.106 in ./venv/lib/python3.11/site-packages (from torch!=1.8,>=1.7.0->textattack) (12.1.0.106)\r\n",
      "Requirement already satisfied: nvidia-nccl-cu12==2.20.5 in ./venv/lib/python3.11/site-packages (from torch!=1.8,>=1.7.0->textattack) (2.20.5)\r\n",
      "Requirement already satisfied: nvidia-nvtx-cu12==12.1.105 in ./venv/lib/python3.11/site-packages (from torch!=1.8,>=1.7.0->textattack) (12.1.105)\r\n",
      "Requirement already satisfied: triton==2.3.0 in ./venv/lib/python3.11/site-packages (from torch!=1.8,>=1.7.0->textattack) (2.3.0)\r\n",
      "Requirement already satisfied: nvidia-nvjitlink-cu12 in ./venv/lib/python3.11/site-packages (from nvidia-cusolver-cu12==11.4.5.107->torch!=1.8,>=1.7.0->textattack) (12.4.127)\r\n",
      "Requirement already satisfied: regex!=2019.12.17 in ./venv/lib/python3.11/site-packages (from transformers>=4.30.0->textattack) (2024.4.28)\r\n",
      "Requirement already satisfied: tokenizers<0.20,>=0.19 in ./venv/lib/python3.11/site-packages (from transformers>=4.30.0->textattack) (0.19.1)\r\n",
      "Requirement already satisfied: safetensors>=0.4.1 in ./venv/lib/python3.11/site-packages (from transformers>=4.30.0->textattack) (0.4.3)\r\n",
      "Requirement already satisfied: boto3>=1.20.27 in ./venv/lib/python3.11/site-packages (from flair->textattack) (1.34.100)\r\n",
      "Requirement already satisfied: bpemb>=0.3.2 in ./venv/lib/python3.11/site-packages (from flair->textattack) (0.3.5)\r\n",
      "Requirement already satisfied: conllu>=4.0 in ./venv/lib/python3.11/site-packages (from flair->textattack) (4.5.3)\r\n",
      "Requirement already satisfied: deprecated>=1.2.13 in ./venv/lib/python3.11/site-packages (from flair->textattack) (1.2.14)\r\n",
      "Requirement already satisfied: ftfy>=6.1.0 in ./venv/lib/python3.11/site-packages (from flair->textattack) (6.2.0)\r\n",
      "Requirement already satisfied: gdown>=4.4.0 in ./venv/lib/python3.11/site-packages (from flair->textattack) (5.1.0)\r\n",
      "Requirement already satisfied: gensim>=4.2.0 in ./venv/lib/python3.11/site-packages (from flair->textattack) (4.3.2)\r\n",
      "Requirement already satisfied: janome>=0.4.2 in ./venv/lib/python3.11/site-packages (from flair->textattack) (0.5.0)\r\n",
      "Requirement already satisfied: langdetect>=1.0.9 in ./venv/lib/python3.11/site-packages (from flair->textattack) (1.0.9)\r\n",
      "Requirement already satisfied: lxml>=4.8.0 in ./venv/lib/python3.11/site-packages (from flair->textattack) (5.2.1)\r\n",
      "Requirement already satisfied: mpld3>=0.3 in ./venv/lib/python3.11/site-packages (from flair->textattack) (0.5.10)\r\n",
      "Requirement already satisfied: pptree>=3.1 in ./venv/lib/python3.11/site-packages (from flair->textattack) (3.1)\r\n",
      "Requirement already satisfied: pytorch-revgrad>=0.2.0 in ./venv/lib/python3.11/site-packages (from flair->textattack) (0.2.0)\r\n",
      "Requirement already satisfied: scikit-learn>=1.0.2 in ./venv/lib/python3.11/site-packages (from flair->textattack) (1.4.2)\r\n",
      "Requirement already satisfied: segtok>=1.5.11 in ./venv/lib/python3.11/site-packages (from flair->textattack) (1.5.11)\r\n",
      "Requirement already satisfied: sqlitedict>=2.0.0 in ./venv/lib/python3.11/site-packages (from flair->textattack) (2.1.0)\r\n",
      "Requirement already satisfied: tabulate>=0.8.10 in ./venv/lib/python3.11/site-packages (from flair->textattack) (0.9.0)\r\n",
      "Requirement already satisfied: transformer-smaller-training-vocab>=0.2.3 in ./venv/lib/python3.11/site-packages (from flair->textattack) (0.4.0)\r\n",
      "Requirement already satisfied: urllib3<2.0.0,>=1.0.0 in ./venv/lib/python3.11/site-packages (from flair->textattack) (1.26.18)\r\n",
      "Requirement already satisfied: wikipedia-api>=0.5.7 in ./venv/lib/python3.11/site-packages (from flair->textattack) (0.6.0)\r\n",
      "Requirement already satisfied: semver<4.0.0,>=3.0.0 in ./venv/lib/python3.11/site-packages (from flair->textattack) (3.0.2)\r\n",
      "Requirement already satisfied: pip in ./venv/lib/python3.11/site-packages (from language-tool-python->textattack) (23.2.1)\r\n",
      "Requirement already satisfied: wheel in ./venv/lib/python3.11/site-packages (from language-tool-python->textattack) (0.41.2)\r\n",
      "Requirement already satisfied: click in ./venv/lib/python3.11/site-packages (from nltk->textattack) (8.1.7)\r\n",
      "Requirement already satisfied: joblib in ./venv/lib/python3.11/site-packages (from nltk->textattack) (1.4.2)\r\n",
      "Requirement already satisfied: docopt>=0.6.2 in ./venv/lib/python3.11/site-packages (from num2words->textattack) (0.6.2)\r\n",
      "Requirement already satisfied: anytree in ./venv/lib/python3.11/site-packages (from OpenHowNet->textattack) (2.12.1)\r\n",
      "Requirement already satisfied: setuptools in ./venv/lib/python3.11/site-packages (from OpenHowNet->textattack) (68.2.0)\r\n",
      "Requirement already satisfied: botocore<1.35.0,>=1.34.100 in ./venv/lib/python3.11/site-packages (from boto3>=1.20.27->flair->textattack) (1.34.100)\r\n",
      "Requirement already satisfied: jmespath<2.0.0,>=0.7.1 in ./venv/lib/python3.11/site-packages (from boto3>=1.20.27->flair->textattack) (1.0.1)\r\n",
      "Requirement already satisfied: s3transfer<0.11.0,>=0.10.0 in ./venv/lib/python3.11/site-packages (from boto3>=1.20.27->flair->textattack) (0.10.1)\r\n",
      "Requirement already satisfied: sentencepiece in ./venv/lib/python3.11/site-packages (from bpemb>=0.3.2->flair->textattack) (0.2.0)\r\n",
      "Requirement already satisfied: wrapt<2,>=1.10 in ./venv/lib/python3.11/site-packages (from deprecated>=1.2.13->flair->textattack) (1.16.0)\r\n",
      "Requirement already satisfied: aiosignal>=1.1.2 in ./venv/lib/python3.11/site-packages (from aiohttp->datasets>=2.4.0->textattack) (1.3.1)\r\n",
      "Requirement already satisfied: attrs>=17.3.0 in ./venv/lib/python3.11/site-packages (from aiohttp->datasets>=2.4.0->textattack) (23.2.0)\r\n",
      "Requirement already satisfied: frozenlist>=1.1.1 in ./venv/lib/python3.11/site-packages (from aiohttp->datasets>=2.4.0->textattack) (1.4.1)\r\n",
      "Requirement already satisfied: multidict<7.0,>=4.5 in ./venv/lib/python3.11/site-packages (from aiohttp->datasets>=2.4.0->textattack) (6.0.5)\r\n",
      "Requirement already satisfied: yarl<2.0,>=1.0 in ./venv/lib/python3.11/site-packages (from aiohttp->datasets>=2.4.0->textattack) (1.9.4)\r\n",
      "Requirement already satisfied: wcwidth<0.3.0,>=0.2.12 in ./venv/lib/python3.11/site-packages (from ftfy>=6.1.0->flair->textattack) (0.2.13)\r\n",
      "Requirement already satisfied: beautifulsoup4 in ./venv/lib/python3.11/site-packages (from gdown>=4.4.0->flair->textattack) (4.12.3)\r\n",
      "Requirement already satisfied: smart-open>=1.8.1 in ./venv/lib/python3.11/site-packages (from gensim>=4.2.0->flair->textattack) (7.0.4)\r\n",
      "Requirement already satisfied: six in ./venv/lib/python3.11/site-packages (from langdetect>=1.0.9->flair->textattack) (1.16.0)\r\n",
      "Requirement already satisfied: contourpy>=1.0.1 in ./venv/lib/python3.11/site-packages (from matplotlib->bert-score>=0.3.5->textattack) (1.2.1)\r\n",
      "Requirement already satisfied: cycler>=0.10 in ./venv/lib/python3.11/site-packages (from matplotlib->bert-score>=0.3.5->textattack) (0.12.1)\r\n",
      "Requirement already satisfied: fonttools>=4.22.0 in ./venv/lib/python3.11/site-packages (from matplotlib->bert-score>=0.3.5->textattack) (4.51.0)\r\n",
      "Requirement already satisfied: kiwisolver>=1.3.1 in ./venv/lib/python3.11/site-packages (from matplotlib->bert-score>=0.3.5->textattack) (1.4.5)\r\n",
      "Requirement already satisfied: pillow>=8 in ./venv/lib/python3.11/site-packages (from matplotlib->bert-score>=0.3.5->textattack) (10.3.0)\r\n",
      "Requirement already satisfied: pyparsing>=2.3.1 in ./venv/lib/python3.11/site-packages (from matplotlib->bert-score>=0.3.5->textattack) (3.1.2)\r\n",
      "Requirement already satisfied: charset-normalizer<4,>=2 in ./venv/lib/python3.11/site-packages (from requests->bert-score>=0.3.5->textattack) (3.3.2)\r\n",
      "Requirement already satisfied: idna<4,>=2.5 in ./venv/lib/python3.11/site-packages (from requests->bert-score>=0.3.5->textattack) (3.7)\r\n",
      "Requirement already satisfied: certifi>=2017.4.17 in ./venv/lib/python3.11/site-packages (from requests->bert-score>=0.3.5->textattack) (2024.2.2)\r\n",
      "Requirement already satisfied: threadpoolctl>=2.0.0 in ./venv/lib/python3.11/site-packages (from scikit-learn>=1.0.2->flair->textattack) (3.5.0)\r\n",
      "Requirement already satisfied: protobuf in ./venv/lib/python3.11/site-packages (from transformers>=4.30.0->textattack) (4.25.3)\r\n",
      "Requirement already satisfied: MarkupSafe>=2.0 in ./venv/lib/python3.11/site-packages (from jinja2->torch!=1.8,>=1.7.0->textattack) (2.1.5)\r\n",
      "Requirement already satisfied: mpmath>=0.19 in ./venv/lib/python3.11/site-packages (from sympy->torch!=1.8,>=1.7.0->textattack) (1.3.0)\r\n",
      "Requirement already satisfied: accelerate>=0.21.0 in ./venv/lib/python3.11/site-packages (from transformers>=4.30.0->textattack) (0.30.0)\r\n",
      "Requirement already satisfied: soupsieve>1.2 in ./venv/lib/python3.11/site-packages (from beautifulsoup4->gdown>=4.4.0->flair->textattack) (2.5)\r\n",
      "Requirement already satisfied: PySocks!=1.5.7,>=1.5.6 in ./venv/lib/python3.11/site-packages (from requests->bert-score>=0.3.5->textattack) (1.7.1)\r\n",
      "Requirement already satisfied: psutil in ./venv/lib/python3.11/site-packages (from accelerate>=0.21.0->transformers>=4.30.0->textattack) (5.9.8)\r\n",
      "\r\n",
      "\u001B[1m[\u001B[0m\u001B[34;49mnotice\u001B[0m\u001B[1;39;49m]\u001B[0m\u001B[39;49m A new release of pip is available: \u001B[0m\u001B[31;49m23.2.1\u001B[0m\u001B[39;49m -> \u001B[0m\u001B[32;49m24.0\u001B[0m\r\n",
      "\u001B[1m[\u001B[0m\u001B[34;49mnotice\u001B[0m\u001B[1;39;49m]\u001B[0m\u001B[39;49m To update, run: \u001B[0m\u001B[32;49mpip install --upgrade pip\u001B[0m\r\n"
     ]
    }
   ],
   "execution_count": 1
  },
  {
   "metadata": {
    "id": "UmAooViNSqwy"
   },
   "cell_type": "markdown",
   "source": [
    "## Imports"
   ]
  },
  {
   "metadata": {
    "id": "I6XaL_ymSqwy",
    "ExecuteTime": {
     "end_time": "2024-05-20T12:52:20.318476Z",
     "start_time": "2024-05-20T12:52:12.966888Z"
    }
   },
   "cell_type": "code",
   "source": [
    "import textattack\n",
    "import transformers\n",
    "from textattack.datasets import HuggingFaceDataset\n",
    "from textattack import Attacker\n",
    "from textattack.attack_recipes import BAEGarg2019"
   ],
   "outputs": [
    {
     "name": "stderr",
     "output_type": "stream",
     "text": [
      "2024-05-20 14:52:16.245261: I tensorflow/core/platform/cpu_feature_guard.cc:210] This TensorFlow binary is optimized to use available CPU instructions in performance-critical operations.\n",
      "To enable the following instructions: AVX2 FMA, in other operations, rebuild TensorFlow with the appropriate compiler flags.\n",
      "2024-05-20 14:52:17.299547: W tensorflow/compiler/tf2tensorrt/utils/py_utils.cc:38] TF-TRT Warning: Could not find TensorRT\n"
     ]
    }
   ],
   "execution_count": 1
  },
  {
   "metadata": {
    "id": "HKlTaE5ASqwy"
   },
   "cell_type": "markdown",
   "source": [
    "# Helper methods"
   ]
  },
  {
   "metadata": {
    "id": "VwusiZK6Sqwy",
    "ExecuteTime": {
     "end_time": "2024-05-20T12:52:20.323604Z",
     "start_time": "2024-05-20T12:52:20.319917Z"
    }
   },
   "cell_type": "code",
   "source": [
    "class FixedHuggingFaceDataset(HuggingFaceDataset):\n",
    "    def __init__(self, name_or_dataset, subset=None, split=\"train\", dataset_columns=None, label_map=None,\n",
    "                 label_names=None, output_scale_factor=None, shuffle=False, seed=69, subset_size=None, offset=0):\n",
    "        super().__init__(name_or_dataset=name_or_dataset, subset=subset, split=split, dataset_columns=dataset_columns,\n",
    "                         label_map=label_map, label_names=label_names, output_scale_factor=output_scale_factor,\n",
    "                         shuffle=shuffle)\n",
    "        if shuffle:\n",
    "            self._dataset = self._dataset.shuffle(seed=seed).flatten_indices()\n",
    "        if subset_size is not None:\n",
    "            self._dataset = self._dataset.skip(offset).take(subset_size)"
   ],
   "outputs": [],
   "execution_count": 2
  },
  {
   "metadata": {
    "id": "Fz-w5xmtpLKc"
   },
   "cell_type": "markdown",
   "source": "# Loading model"
  },
  {
   "metadata": {
    "id": "iVVb6zM5pLKc",
    "ExecuteTime": {
     "end_time": "2024-05-20T12:52:21.930744Z",
     "start_time": "2024-05-20T12:52:20.324633Z"
    }
   },
   "cell_type": "code",
   "source": [
    "model = transformers.AutoModelForSequenceClassification.from_pretrained(\"textattack/bert-base-uncased-imdb\")\n",
    "tokenizer = transformers.AutoTokenizer.from_pretrained(\"textattack/bert-base-uncased-imdb\")\n",
    "model_wrapper = textattack.models.wrappers.HuggingFaceModelWrapper(model, tokenizer)"
   ],
   "outputs": [
    {
     "name": "stderr",
     "output_type": "stream",
     "text": [
      "/home/toldo/Desktop/UniPD/NLP/Text-Adversarial-Attack/venv/lib/python3.10/site-packages/huggingface_hub/file_download.py:1132: FutureWarning: `resume_download` is deprecated and will be removed in version 1.0.0. Downloads always resume when possible. If you want to force a new download, use `force_download=True`.\n",
      "  warnings.warn(\n"
     ]
    }
   ],
   "execution_count": 3
  },
  {
   "metadata": {},
   "cell_type": "markdown",
   "source": "# Loading dataset"
  },
  {
   "cell_type": "code",
   "source": [
    "subset_train = FixedHuggingFaceDataset(\"imdb\", split=\"train\", subset_size=1024, shuffle=True)\n",
    "subset_eval = FixedHuggingFaceDataset(\"imdb\", split=\"test\", subset_size=64, shuffle=True)"
   ],
   "metadata": {
    "colab": {
     "base_uri": "https://localhost:8080/"
    },
    "id": "cELJxLkJPxFQ",
    "outputId": "e7000976-9dac-47ac-ed21-7f16db5ccc28",
    "ExecuteTime": {
     "end_time": "2024-05-20T12:52:38.901419Z",
     "start_time": "2024-05-20T12:52:21.931531Z"
    }
   },
   "outputs": [
    {
     "name": "stderr",
     "output_type": "stream",
     "text": [
      "textattack: Loading \u001B[94mdatasets\u001B[0m dataset \u001B[94mimdb\u001B[0m, split \u001B[94mtrain\u001B[0m.\n",
      "textattack: Loading \u001B[94mdatasets\u001B[0m dataset \u001B[94mimdb\u001B[0m, split \u001B[94mtest\u001B[0m.\n"
     ]
    }
   ],
   "execution_count": 4
  },
  {
   "metadata": {},
   "cell_type": "markdown",
   "source": "# Adversarial training BAEGarg"
  },
  {
   "metadata": {
    "ExecuteTime": {
     "end_time": "2024-05-20T12:52:40.294829Z",
     "start_time": "2024-05-20T12:52:38.903139Z"
    }
   },
   "cell_type": "code",
   "source": "attack = BAEGarg2019.build(model_wrapper)",
   "outputs": [
    {
     "name": "stderr",
     "output_type": "stream",
     "text": [
      "Some weights of the model checkpoint at bert-base-uncased were not used when initializing BertForMaskedLM: ['bert.pooler.dense.bias', 'bert.pooler.dense.weight', 'cls.seq_relationship.bias', 'cls.seq_relationship.weight']\n",
      "- This IS expected if you are initializing BertForMaskedLM from the checkpoint of a model trained on another task or with another architecture (e.g. initializing a BertForSequenceClassification model from a BertForPreTraining model).\n",
      "- This IS NOT expected if you are initializing BertForMaskedLM from the checkpoint of a model that you expect to be exactly identical (initializing a BertForSequenceClassification model from a BertForSequenceClassification model).\n",
      "textattack: Unknown if model of class <class 'transformers.models.bert.modeling_bert.BertForSequenceClassification'> compatible with goal function <class 'textattack.goal_functions.classification.untargeted_classification.UntargetedClassification'>.\n"
     ]
    }
   ],
   "execution_count": 5
  },
  {
   "metadata": {},
   "cell_type": "markdown",
   "source": "### Attack before model training"
  },
  {
   "cell_type": "code",
   "source": [
    "attack_args = textattack.AttackArgs(num_examples=-1, parallel=True, disable_stdout=True)\n",
    "attacker = Attacker(attack, subset_eval, attack_args)\n",
    "adv_exp_bae_bert_imdb = attacker.attack_dataset()"
   ],
   "metadata": {
    "id": "Y1I_PQa-V7Ar",
    "outputId": "857cee78-0143-4afe-fad4-84e1ca870e3f",
    "colab": {
     "base_uri": "https://localhost:8080/"
    },
    "ExecuteTime": {
     "end_time": "2024-05-20T13:14:52.633174Z",
     "start_time": "2024-05-20T12:52:40.295801Z"
    }
   },
   "outputs": [
    {
     "name": "stderr",
     "output_type": "stream",
     "text": [
      "textattack: Running 1 worker(s) on 1 GPU(s).\n",
      "2024-05-20 14:52:42.794637: I tensorflow/core/platform/cpu_feature_guard.cc:210] This TensorFlow binary is optimized to use available CPU instructions in performance-critical operations.\n",
      "To enable the following instructions: AVX2 FMA, in other operations, rebuild TensorFlow with the appropriate compiler flags.\n",
      "2024-05-20 14:52:43.430119: W tensorflow/compiler/tf2tensorrt/utils/py_utils.cc:38] TF-TRT Warning: Could not find TensorRT\n",
      "textattack: Worklist size: 64\n",
      "textattack: Worklist candidate size: 0\n",
      "  0%|          | 0/64 [00:00<?, ?it/s]2024-05-20 14:53:30.785446: I tensorflow/core/common_runtime/gpu/gpu_device.cc:1928] Created device /job:localhost/replica:0/task:0/device:GPU:0 with 1413 MB memory:  -> device: 0, name: NVIDIA GeForce RTX 3050 Laptop GPU, pci bus id: 0000:01:00.0, compute capability: 8.6\n",
      "2024-05-20 14:53:31.279315: W external/local_tsl/tsl/framework/cpu_allocator_impl.cc:83] Allocation of 34133760 exceeds 10% of free system memory.\n",
      "2024-05-20 14:53:31.306306: W external/local_tsl/tsl/framework/cpu_allocator_impl.cc:83] Allocation of 34133760 exceeds 10% of free system memory.\n",
      "2024-05-20 14:53:31.329118: W external/local_tsl/tsl/framework/cpu_allocator_impl.cc:83] Allocation of 34133760 exceeds 10% of free system memory.\n",
      "2024-05-20 14:53:31.351721: W external/local_tsl/tsl/framework/cpu_allocator_impl.cc:83] Allocation of 34133760 exceeds 10% of free system memory.\n",
      "2024-05-20 14:53:31.373465: W external/local_tsl/tsl/framework/cpu_allocator_impl.cc:83] Allocation of 34133760 exceeds 10% of free system memory.\n",
      "[Succeeded / Failed / Skipped / Total] 37 / 20 / 7 / 64: 100%|██████████| 64/64 [22:05<00:00, 20.70s/it]"
     ]
    },
    {
     "name": "stdout",
     "output_type": "stream",
     "text": [
      "Attack(\n",
      "  (search_method): GreedyWordSwapWIR(\n",
      "    (wir_method):  delete\n",
      "  )\n",
      "  (goal_function):  UntargetedClassification\n",
      "  (transformation):  WordSwapMaskedLM(\n",
      "    (method):  bae\n",
      "    (masked_lm_name):  BertForMaskedLM\n",
      "    (max_length):  512\n",
      "    (max_candidates):  50\n",
      "    (min_confidence):  0.0\n",
      "  )\n",
      "  (constraints): \n",
      "    (0): PartOfSpeech(\n",
      "        (tagger_type):  nltk\n",
      "        (tagset):  universal\n",
      "        (allow_verb_noun_swap):  True\n",
      "        (compare_against_original):  True\n",
      "      )\n",
      "    (1): UniversalSentenceEncoder(\n",
      "        (metric):  cosine\n",
      "        (threshold):  0.936338023\n",
      "        (window_size):  15\n",
      "        (skip_text_shorter_than_window):  True\n",
      "        (compare_against_original):  True\n",
      "      )\n",
      "    (2): RepeatModification\n",
      "    (3): StopwordModification\n",
      "  (is_black_box):  True\n",
      ") \n",
      "\n"
     ]
    },
    {
     "name": "stderr",
     "output_type": "stream",
     "text": [
      "[Succeeded / Failed / Skipped / Total] 37 / 20 / 7 / 64: 100%|██████████| 64/64 [22:07<00:00, 20.74s/it]"
     ]
    },
    {
     "name": "stdout",
     "output_type": "stream",
     "text": [
      "\n",
      "+-------------------------------+--------+\n",
      "| Attack Results                |        |\n",
      "+-------------------------------+--------+\n",
      "| Number of successful attacks: | 37     |\n",
      "| Number of failed attacks:     | 20     |\n",
      "| Number of skipped attacks:    | 7      |\n",
      "| Original accuracy:            | 89.06% |\n",
      "| Accuracy under attack:        | 31.25% |\n",
      "| Attack success rate:          | 64.91% |\n",
      "| Average perturbed word %:     | 3.26%  |\n",
      "| Average num. words per input: | 233.23 |\n",
      "| Avg num queries:              | 331.86 |\n",
      "+-------------------------------+--------+\n"
     ]
    },
    {
     "name": "stderr",
     "output_type": "stream",
     "text": [
      "\n"
     ]
    }
   ],
   "execution_count": 6
  },
  {
   "metadata": {},
   "cell_type": "markdown",
   "source": "### Define adversarial training hyperparams"
  },
  {
   "metadata": {
    "id": "JVJipLXmSqwz",
    "ExecuteTime": {
     "end_time": "2024-05-19T13:08:55.717949Z",
     "start_time": "2024-05-19T13:08:55.714847Z"
    }
   },
   "cell_type": "code",
   "source": [
    "training_args = textattack.TrainingArgs(\n",
    "    num_epochs=5,\n",
    "    num_clean_epochs=0,\n",
    "    num_train_adv_examples=128,\n",
    "    learning_rate=5e-5,\n",
    "    per_device_train_batch_size=8,\n",
    "    gradient_accumulation_steps=1,\n",
    "    per_device_eval_batch_size=1,\n",
    "    attack_epoch_interval=1,\n",
    "    log_to_tb=True,\n",
    "    parallel=True\n",
    ")\n",
    "\n",
    "trainer = textattack.Trainer(\n",
    "    model_wrapper,\n",
    "    \"classification\",\n",
    "    attack,\n",
    "    subset_train,\n",
    "    subset_eval,\n",
    "    training_args\n",
    ")"
   ],
   "outputs": [],
   "execution_count": 7
  },
  {
   "metadata": {
    "id": "7CTyx3P7Sqwz"
   },
   "cell_type": "markdown",
   "source": "### Adversarial training"
  },
  {
   "metadata": {
    "id": "WSFV6YkqSqwz",
    "outputId": "f64978f1-4f26-4b51-c9a4-13af4417e4ec",
    "colab": {
     "base_uri": "https://localhost:8080/"
    },
    "ExecuteTime": {
     "end_time": "2024-05-19T21:54:18.805017Z",
     "start_time": "2024-05-19T13:08:55.718922Z"
    }
   },
   "cell_type": "code",
   "source": [
    "trainer.train()"
   ],
   "outputs": [
    {
     "name": "stderr",
     "output_type": "stream",
     "text": [
      "textattack: Writing logs to ./outputs/2024-05-19-15-08-55-716471/train_log.txt.\n",
      "textattack: Wrote original training args to ./outputs/2024-05-19-15-08-55-716471/training_args.json.\n",
      "/home/toldo/Desktop/UniPD/NLP/Text-Adversarial-Attack/venv/lib/python3.11/site-packages/transformers/optimization.py:521: FutureWarning: This implementation of AdamW is deprecated and will be removed in a future version. Use the PyTorch implementation torch.optim.AdamW instead, or set `no_deprecation_warning=True` to disable this warning\n",
      "  warnings.warn(\n",
      "textattack: ***** Running training *****\n",
      "textattack:   Num examples = 1024\n",
      "textattack:   Num epochs = 5\n",
      "textattack:   Num clean epochs = 0\n",
      "textattack:   Instantaneous batch size per device = 8\n",
      "textattack:   Total train batch size (w. parallel, distributed & accumulation) = 8\n",
      "textattack:   Gradient accumulation steps = 1\n",
      "textattack:   Total optimization steps = 720\n",
      "textattack: ==========================================================\n",
      "textattack: Epoch 1\n",
      "textattack: Attacking model to generate new adversarial training set...\n",
      "2024-05-19 15:09:07.487079: I tensorflow/core/platform/cpu_feature_guard.cc:210] This TensorFlow binary is optimized to use available CPU instructions in performance-critical operations.\n",
      "To enable the following instructions: AVX2 FMA, in other operations, rebuild TensorFlow with the appropriate compiler flags.\n",
      "2024-05-19 15:09:11.953575: W tensorflow/compiler/tf2tensorrt/utils/py_utils.cc:38] TF-TRT Warning: Could not find TensorRT\n",
      "  0%|          | 0/128 [00:00<?, ?it/s]2024-05-19 15:09:38.371600: I tensorflow/core/common_runtime/gpu/gpu_device.cc:1928] Created device /job:localhost/replica:0/task:0/device:GPU:0 with 5012 MB memory:  -> device: 0, name: NVIDIA GeForce GTX 1080, pci bus id: 0000:01:00.0, compute capability: 6.1\n",
      "[Succeeded / Failed / Skipped / Total] 128 / 54 / 4 / 186: 100%|██████████| 128/128 [1:11:35<00:00, 33.56s/it]\n",
      "textattack: Total number of attack results: 186\n",
      "textattack: Attack success rate: 70.33% [128 / 182]\n"
     ]
    },
    {
     "name": "stdout",
     "output_type": "stream",
     "text": [
      "\n",
      "\n"
     ]
    },
    {
     "name": "stderr",
     "output_type": "stream",
     "text": [
      "Loss 0.21144: 100%|██████████| 144/144 [01:39<00:00,  1.45it/s]\n",
      "textattack: Train accuracy: 93.58%\n",
      "textattack: Eval accuracy: 92.19%\n",
      "textattack: Best score found. Saved model to ./outputs/2024-05-19-15-08-55-716471/best_model/\n",
      "textattack: ==========================================================\n",
      "textattack: Epoch 2\n",
      "textattack: Attacking model to generate new adversarial training set...\n",
      "2024-05-19 16:22:51.747985: I tensorflow/core/platform/cpu_feature_guard.cc:210] This TensorFlow binary is optimized to use available CPU instructions in performance-critical operations.\n",
      "To enable the following instructions: AVX2 FMA, in other operations, rebuild TensorFlow with the appropriate compiler flags.\n",
      "2024-05-19 16:22:52.536151: W tensorflow/compiler/tf2tensorrt/utils/py_utils.cc:38] TF-TRT Warning: Could not find TensorRT\n",
      "  0%|          | 0/128 [00:00<?, ?it/s]2024-05-19 16:23:04.222828: I tensorflow/core/common_runtime/gpu/gpu_device.cc:1928] Created device /job:localhost/replica:0/task:0/device:GPU:0 with 3972 MB memory:  -> device: 0, name: NVIDIA GeForce GTX 1080, pci bus id: 0000:01:00.0, compute capability: 6.1\n",
      "[Succeeded / Failed / Skipped / Total] 128 / 83 / 1 / 212: 100%|██████████| 128/128 [1:38:25<00:00, 46.14s/it]\n",
      "textattack: Total number of attack results: 212\n",
      "textattack: Attack success rate: 60.66% [128 / 211]\n"
     ]
    },
    {
     "name": "stdout",
     "output_type": "stream",
     "text": [
      "\n",
      "\n"
     ]
    },
    {
     "name": "stderr",
     "output_type": "stream",
     "text": [
      "Loss 0.16881: 100%|██████████| 144/144 [01:36<00:00,  1.49it/s]\n",
      "textattack: Train accuracy: 95.23%\n",
      "textattack: Eval accuracy: 90.62%\n",
      "textattack: ==========================================================\n",
      "textattack: Epoch 3\n",
      "textattack: Attacking model to generate new adversarial training set...\n",
      "2024-05-19 18:03:13.114522: I tensorflow/core/platform/cpu_feature_guard.cc:210] This TensorFlow binary is optimized to use available CPU instructions in performance-critical operations.\n",
      "To enable the following instructions: AVX2 FMA, in other operations, rebuild TensorFlow with the appropriate compiler flags.\n",
      "2024-05-19 18:03:17.941059: W tensorflow/compiler/tf2tensorrt/utils/py_utils.cc:38] TF-TRT Warning: Could not find TensorRT\n",
      "  0%|          | 0/128 [00:00<?, ?it/s]2024-05-19 18:03:45.307145: I tensorflow/core/common_runtime/gpu/gpu_device.cc:1928] Created device /job:localhost/replica:0/task:0/device:GPU:0 with 3974 MB memory:  -> device: 0, name: NVIDIA GeForce GTX 1080, pci bus id: 0000:01:00.0, compute capability: 6.1\n",
      "[Succeeded / Failed / Skipped / Total] 128 / 111 / 1 / 240: 100%|██████████| 128/128 [2:14:12<00:00, 62.91s/it]\n",
      "textattack: Total number of attack results: 240\n",
      "textattack: Attack success rate: 53.56% [128 / 239]\n"
     ]
    },
    {
     "name": "stdout",
     "output_type": "stream",
     "text": [
      "\n",
      "\n"
     ]
    },
    {
     "name": "stderr",
     "output_type": "stream",
     "text": [
      "Loss 0.14955: 100%|██████████| 144/144 [01:35<00:00,  1.51it/s]\n",
      "textattack: Train accuracy: 95.83%\n",
      "textattack: Eval accuracy: 87.50%\n",
      "textattack: ==========================================================\n",
      "textattack: Epoch 4\n",
      "textattack: Attacking model to generate new adversarial training set...\n",
      "2024-05-19 20:19:28.468860: I tensorflow/core/platform/cpu_feature_guard.cc:210] This TensorFlow binary is optimized to use available CPU instructions in performance-critical operations.\n",
      "To enable the following instructions: AVX2 FMA, in other operations, rebuild TensorFlow with the appropriate compiler flags.\n",
      "2024-05-19 20:19:29.180677: W tensorflow/compiler/tf2tensorrt/utils/py_utils.cc:38] TF-TRT Warning: Could not find TensorRT\n",
      "  0%|          | 0/128 [00:00<?, ?it/s]2024-05-19 20:19:39.972433: I tensorflow/core/common_runtime/gpu/gpu_device.cc:1928] Created device /job:localhost/replica:0/task:0/device:GPU:0 with 3982 MB memory:  -> device: 0, name: NVIDIA GeForce GTX 1080, pci bus id: 0000:01:00.0, compute capability: 6.1\n",
      "[Succeeded / Failed / Skipped / Total] 128 / 207 / 0 / 335: 100%|██████████| 128/128 [3:32:04<00:00, 99.41s/it] \n",
      "textattack: Total number of attack results: 335\n",
      "textattack: Attack success rate: 38.21% [128 / 335]\n"
     ]
    },
    {
     "name": "stdout",
     "output_type": "stream",
     "text": [
      "\n",
      "\n"
     ]
    },
    {
     "name": "stderr",
     "output_type": "stream",
     "text": [
      "Loss 0.13913: 100%|██████████| 144/144 [01:35<00:00,  1.51it/s]\n",
      "textattack: Train accuracy: 95.31%\n",
      "textattack: Eval accuracy: 93.75%\n",
      "textattack: Best score found. Saved model to ./outputs/2024-05-19-15-08-55-716471/best_model/\n",
      "textattack: ==========================================================\n",
      "textattack: Epoch 5\n",
      "textattack: Attacking model to generate new adversarial training set...\n",
      "2024-05-19 23:53:23.594252: I tensorflow/core/platform/cpu_feature_guard.cc:210] This TensorFlow binary is optimized to use available CPU instructions in performance-critical operations.\n",
      "To enable the following instructions: AVX2 FMA, in other operations, rebuild TensorFlow with the appropriate compiler flags.\n",
      "2024-05-19 23:53:24.301042: W tensorflow/compiler/tf2tensorrt/utils/py_utils.cc:38] TF-TRT Warning: Could not find TensorRT\n",
      "  0%|          | 0/128 [00:00<?, ?it/s]2024-05-19 23:53:35.275050: I tensorflow/core/common_runtime/gpu/gpu_device.cc:1928] Created device /job:localhost/replica:0/task:0/device:GPU:0 with 3947 MB memory:  -> device: 0, name: NVIDIA GeForce GTX 1080, pci bus id: 0000:01:00.0, compute capability: 6.1\n",
      "Process SpawnPoolWorker-6:\n"
     ]
    },
    {
     "ename": "KeyboardInterrupt",
     "evalue": "",
     "output_type": "error",
     "traceback": [
      "\u001B[0;31m---------------------------------------------------------------------------\u001B[0m",
      "\u001B[0;31mKeyboardInterrupt\u001B[0m                         Traceback (most recent call last)",
      "Cell \u001B[0;32mIn[8], line 1\u001B[0m\n\u001B[0;32m----> 1\u001B[0m \u001B[43mtrainer\u001B[49m\u001B[38;5;241;43m.\u001B[39;49m\u001B[43mtrain\u001B[49m\u001B[43m(\u001B[49m\u001B[43m)\u001B[49m\n",
      "File \u001B[0;32m~/Desktop/UniPD/NLP/Text-Adversarial-Attack/venv/lib/python3.11/site-packages/textattack/trainer.py:709\u001B[0m, in \u001B[0;36mTrainer.train\u001B[0;34m(self)\u001B[0m\n\u001B[1;32m    703\u001B[0m \u001B[38;5;28;01mif\u001B[39;00m (\n\u001B[1;32m    704\u001B[0m     epoch \u001B[38;5;241m-\u001B[39m num_clean_epochs \u001B[38;5;241m-\u001B[39m \u001B[38;5;241m1\u001B[39m\n\u001B[1;32m    705\u001B[0m ) \u001B[38;5;241m%\u001B[39m \u001B[38;5;28mself\u001B[39m\u001B[38;5;241m.\u001B[39mtraining_args\u001B[38;5;241m.\u001B[39mattack_epoch_interval \u001B[38;5;241m==\u001B[39m \u001B[38;5;241m0\u001B[39m:\n\u001B[1;32m    706\u001B[0m     \u001B[38;5;66;03m# only generate a new adversarial training set every self.training_args.attack_period epochs after the clean epochs\u001B[39;00m\n\u001B[1;32m    707\u001B[0m     \u001B[38;5;66;03m# adv_dataset is instance of `textattack.datasets.Dataset`\u001B[39;00m\n\u001B[1;32m    708\u001B[0m     model\u001B[38;5;241m.\u001B[39meval()\n\u001B[0;32m--> 709\u001B[0m     adv_dataset \u001B[38;5;241m=\u001B[39m \u001B[38;5;28;43mself\u001B[39;49m\u001B[38;5;241;43m.\u001B[39;49m\u001B[43m_generate_adversarial_examples\u001B[49m\u001B[43m(\u001B[49m\u001B[43mepoch\u001B[49m\u001B[43m)\u001B[49m\n\u001B[1;32m    710\u001B[0m     model\u001B[38;5;241m.\u001B[39mtrain()\n\u001B[1;32m    711\u001B[0m     model\u001B[38;5;241m.\u001B[39mto(textattack\u001B[38;5;241m.\u001B[39mshared\u001B[38;5;241m.\u001B[39mutils\u001B[38;5;241m.\u001B[39mdevice)\n",
      "File \u001B[0;32m~/Desktop/UniPD/NLP/Text-Adversarial-Attack/venv/lib/python3.11/site-packages/textattack/trainer.py:216\u001B[0m, in \u001B[0;36mTrainer._generate_adversarial_examples\u001B[0;34m(self, epoch)\u001B[0m\n\u001B[1;32m    213\u001B[0m     \u001B[38;5;28;01massert\u001B[39;00m \u001B[38;5;28;01mFalse\u001B[39;00m, \u001B[38;5;124m\"\u001B[39m\u001B[38;5;124mnum_train_adv_examples is negative and not equal to -1.\u001B[39m\u001B[38;5;124m\"\u001B[39m\n\u001B[1;32m    215\u001B[0m attacker \u001B[38;5;241m=\u001B[39m Attacker(\u001B[38;5;28mself\u001B[39m\u001B[38;5;241m.\u001B[39mattack, \u001B[38;5;28mself\u001B[39m\u001B[38;5;241m.\u001B[39mtrain_dataset, attack_args\u001B[38;5;241m=\u001B[39mattack_args)\n\u001B[0;32m--> 216\u001B[0m results \u001B[38;5;241m=\u001B[39m \u001B[43mattacker\u001B[49m\u001B[38;5;241;43m.\u001B[39;49m\u001B[43mattack_dataset\u001B[49m\u001B[43m(\u001B[49m\u001B[43m)\u001B[49m\n\u001B[1;32m    218\u001B[0m attack_types \u001B[38;5;241m=\u001B[39m collections\u001B[38;5;241m.\u001B[39mCounter(r\u001B[38;5;241m.\u001B[39m\u001B[38;5;18m__class__\u001B[39m\u001B[38;5;241m.\u001B[39m\u001B[38;5;18m__name__\u001B[39m \u001B[38;5;28;01mfor\u001B[39;00m r \u001B[38;5;129;01min\u001B[39;00m results)\n\u001B[1;32m    219\u001B[0m total_attacks \u001B[38;5;241m=\u001B[39m (\n\u001B[1;32m    220\u001B[0m     attack_types[\u001B[38;5;124m\"\u001B[39m\u001B[38;5;124mSuccessfulAttackResult\u001B[39m\u001B[38;5;124m\"\u001B[39m] \u001B[38;5;241m+\u001B[39m attack_types[\u001B[38;5;124m\"\u001B[39m\u001B[38;5;124mFailedAttackResult\u001B[39m\u001B[38;5;124m\"\u001B[39m]\n\u001B[1;32m    221\u001B[0m )\n",
      "File \u001B[0;32m~/Desktop/UniPD/NLP/Text-Adversarial-Attack/venv/lib/python3.11/site-packages/textattack/attacker.py:439\u001B[0m, in \u001B[0;36mAttacker.attack_dataset\u001B[0;34m(self)\u001B[0m\n\u001B[1;32m    435\u001B[0m     \u001B[38;5;28;01mif\u001B[39;00m torch\u001B[38;5;241m.\u001B[39mcuda\u001B[38;5;241m.\u001B[39mdevice_count() \u001B[38;5;241m==\u001B[39m \u001B[38;5;241m0\u001B[39m:\n\u001B[1;32m    436\u001B[0m         \u001B[38;5;28;01mraise\u001B[39;00m \u001B[38;5;167;01mException\u001B[39;00m(\n\u001B[1;32m    437\u001B[0m             \u001B[38;5;124m\"\u001B[39m\u001B[38;5;124mFound no GPU on your system. To run attacks in parallel, GPU is required.\u001B[39m\u001B[38;5;124m\"\u001B[39m\n\u001B[1;32m    438\u001B[0m         )\n\u001B[0;32m--> 439\u001B[0m     \u001B[38;5;28;43mself\u001B[39;49m\u001B[38;5;241;43m.\u001B[39;49m\u001B[43m_attack_parallel\u001B[49m\u001B[43m(\u001B[49m\u001B[43m)\u001B[49m\n\u001B[1;32m    440\u001B[0m \u001B[38;5;28;01melse\u001B[39;00m:\n\u001B[1;32m    441\u001B[0m     \u001B[38;5;28mself\u001B[39m\u001B[38;5;241m.\u001B[39m_attack()\n",
      "File \u001B[0;32m~/Desktop/UniPD/NLP/Text-Adversarial-Attack/venv/lib/python3.11/site-packages/textattack/attacker.py:321\u001B[0m, in \u001B[0;36mAttacker._attack_parallel\u001B[0;34m(self)\u001B[0m\n\u001B[1;32m    319\u001B[0m pbar \u001B[38;5;241m=\u001B[39m tqdm\u001B[38;5;241m.\u001B[39mtqdm(total\u001B[38;5;241m=\u001B[39mnum_remaining_attacks, smoothing\u001B[38;5;241m=\u001B[39m\u001B[38;5;241m0\u001B[39m, dynamic_ncols\u001B[38;5;241m=\u001B[39m\u001B[38;5;28;01mTrue\u001B[39;00m)\n\u001B[1;32m    320\u001B[0m \u001B[38;5;28;01mwhile\u001B[39;00m worklist:\n\u001B[0;32m--> 321\u001B[0m     idx, result \u001B[38;5;241m=\u001B[39m \u001B[43mout_queue\u001B[49m\u001B[38;5;241;43m.\u001B[39;49m\u001B[43mget\u001B[49m\u001B[43m(\u001B[49m\u001B[43mblock\u001B[49m\u001B[38;5;241;43m=\u001B[39;49m\u001B[38;5;28;43;01mTrue\u001B[39;49;00m\u001B[43m)\u001B[49m\n\u001B[1;32m    322\u001B[0m     worklist\u001B[38;5;241m.\u001B[39mremove(idx)\n\u001B[1;32m    324\u001B[0m     \u001B[38;5;28;01mif\u001B[39;00m \u001B[38;5;28misinstance\u001B[39m(result, \u001B[38;5;28mtuple\u001B[39m) \u001B[38;5;129;01mand\u001B[39;00m \u001B[38;5;28misinstance\u001B[39m(result[\u001B[38;5;241m0\u001B[39m], \u001B[38;5;167;01mException\u001B[39;00m):\n",
      "File \u001B[0;32m/usr/lib/python3.11/multiprocessing/queues.py:103\u001B[0m, in \u001B[0;36mQueue.get\u001B[0;34m(self, block, timeout)\u001B[0m\n\u001B[1;32m    101\u001B[0m \u001B[38;5;28;01mif\u001B[39;00m block \u001B[38;5;129;01mand\u001B[39;00m timeout \u001B[38;5;129;01mis\u001B[39;00m \u001B[38;5;28;01mNone\u001B[39;00m:\n\u001B[1;32m    102\u001B[0m     \u001B[38;5;28;01mwith\u001B[39;00m \u001B[38;5;28mself\u001B[39m\u001B[38;5;241m.\u001B[39m_rlock:\n\u001B[0;32m--> 103\u001B[0m         res \u001B[38;5;241m=\u001B[39m \u001B[38;5;28;43mself\u001B[39;49m\u001B[38;5;241;43m.\u001B[39;49m\u001B[43m_recv_bytes\u001B[49m\u001B[43m(\u001B[49m\u001B[43m)\u001B[49m\n\u001B[1;32m    104\u001B[0m     \u001B[38;5;28mself\u001B[39m\u001B[38;5;241m.\u001B[39m_sem\u001B[38;5;241m.\u001B[39mrelease()\n\u001B[1;32m    105\u001B[0m \u001B[38;5;28;01melse\u001B[39;00m:\n",
      "File \u001B[0;32m/usr/lib/python3.11/multiprocessing/connection.py:220\u001B[0m, in \u001B[0;36m_ConnectionBase.recv_bytes\u001B[0;34m(self, maxlength)\u001B[0m\n\u001B[1;32m    218\u001B[0m \u001B[38;5;28;01mif\u001B[39;00m maxlength \u001B[38;5;129;01mis\u001B[39;00m \u001B[38;5;129;01mnot\u001B[39;00m \u001B[38;5;28;01mNone\u001B[39;00m \u001B[38;5;129;01mand\u001B[39;00m maxlength \u001B[38;5;241m<\u001B[39m \u001B[38;5;241m0\u001B[39m:\n\u001B[1;32m    219\u001B[0m     \u001B[38;5;28;01mraise\u001B[39;00m \u001B[38;5;167;01mValueError\u001B[39;00m(\u001B[38;5;124m\"\u001B[39m\u001B[38;5;124mnegative maxlength\u001B[39m\u001B[38;5;124m\"\u001B[39m)\n\u001B[0;32m--> 220\u001B[0m buf \u001B[38;5;241m=\u001B[39m \u001B[38;5;28;43mself\u001B[39;49m\u001B[38;5;241;43m.\u001B[39;49m\u001B[43m_recv_bytes\u001B[49m\u001B[43m(\u001B[49m\u001B[43mmaxlength\u001B[49m\u001B[43m)\u001B[49m\n\u001B[1;32m    221\u001B[0m \u001B[38;5;28;01mif\u001B[39;00m buf \u001B[38;5;129;01mis\u001B[39;00m \u001B[38;5;28;01mNone\u001B[39;00m:\n\u001B[1;32m    222\u001B[0m     \u001B[38;5;28mself\u001B[39m\u001B[38;5;241m.\u001B[39m_bad_message_length()\n",
      "File \u001B[0;32m/usr/lib/python3.11/multiprocessing/connection.py:418\u001B[0m, in \u001B[0;36mConnection._recv_bytes\u001B[0;34m(self, maxsize)\u001B[0m\n\u001B[1;32m    417\u001B[0m \u001B[38;5;28;01mdef\u001B[39;00m \u001B[38;5;21m_recv_bytes\u001B[39m(\u001B[38;5;28mself\u001B[39m, maxsize\u001B[38;5;241m=\u001B[39m\u001B[38;5;28;01mNone\u001B[39;00m):\n\u001B[0;32m--> 418\u001B[0m     buf \u001B[38;5;241m=\u001B[39m \u001B[38;5;28;43mself\u001B[39;49m\u001B[38;5;241;43m.\u001B[39;49m\u001B[43m_recv\u001B[49m\u001B[43m(\u001B[49m\u001B[38;5;241;43m4\u001B[39;49m\u001B[43m)\u001B[49m\n\u001B[1;32m    419\u001B[0m     size, \u001B[38;5;241m=\u001B[39m struct\u001B[38;5;241m.\u001B[39munpack(\u001B[38;5;124m\"\u001B[39m\u001B[38;5;124m!i\u001B[39m\u001B[38;5;124m\"\u001B[39m, buf\u001B[38;5;241m.\u001B[39mgetvalue())\n\u001B[1;32m    420\u001B[0m     \u001B[38;5;28;01mif\u001B[39;00m size \u001B[38;5;241m==\u001B[39m \u001B[38;5;241m-\u001B[39m\u001B[38;5;241m1\u001B[39m:\n",
      "File \u001B[0;32m/usr/lib/python3.11/multiprocessing/connection.py:383\u001B[0m, in \u001B[0;36mConnection._recv\u001B[0;34m(self, size, read)\u001B[0m\n\u001B[1;32m    381\u001B[0m remaining \u001B[38;5;241m=\u001B[39m size\n\u001B[1;32m    382\u001B[0m \u001B[38;5;28;01mwhile\u001B[39;00m remaining \u001B[38;5;241m>\u001B[39m \u001B[38;5;241m0\u001B[39m:\n\u001B[0;32m--> 383\u001B[0m     chunk \u001B[38;5;241m=\u001B[39m read(handle, remaining)\n\u001B[1;32m    384\u001B[0m     n \u001B[38;5;241m=\u001B[39m \u001B[38;5;28mlen\u001B[39m(chunk)\n\u001B[1;32m    385\u001B[0m     \u001B[38;5;28;01mif\u001B[39;00m n \u001B[38;5;241m==\u001B[39m \u001B[38;5;241m0\u001B[39m:\n",
      "\u001B[0;31mKeyboardInterrupt\u001B[0m: "
     ]
    }
   ],
   "execution_count": 8
  },
  {
   "metadata": {},
   "cell_type": "markdown",
   "source": "# Check trained model accuracy"
  },
  {
   "metadata": {
    "ExecuteTime": {
     "end_time": "2024-05-20T13:14:54.467209Z",
     "start_time": "2024-05-20T13:14:52.634991Z"
    }
   },
   "cell_type": "code",
   "source": [
    "fine_tuned_model = transformers.AutoModelForSequenceClassification.from_pretrained(\"outputs/BAEGarg/best_model\")\n",
    "fine_tuned_tokenizer = transformers.AutoTokenizer.from_pretrained(\"outputs/BAEGarg/best_model\")\n",
    "model_wrapper_fine_tuned = textattack.models.wrappers.HuggingFaceModelWrapper(fine_tuned_model, fine_tuned_tokenizer)\n",
    "fine_tuned_attack = BAEGarg2019.build(model_wrapper_fine_tuned)"
   ],
   "outputs": [
    {
     "name": "stderr",
     "output_type": "stream",
     "text": [
      "Some weights of the model checkpoint at bert-base-uncased were not used when initializing BertForMaskedLM: ['bert.pooler.dense.bias', 'bert.pooler.dense.weight', 'cls.seq_relationship.bias', 'cls.seq_relationship.weight']\n",
      "- This IS expected if you are initializing BertForMaskedLM from the checkpoint of a model trained on another task or with another architecture (e.g. initializing a BertForSequenceClassification model from a BertForPreTraining model).\n",
      "- This IS NOT expected if you are initializing BertForMaskedLM from the checkpoint of a model that you expect to be exactly identical (initializing a BertForSequenceClassification model from a BertForSequenceClassification model).\n",
      "textattack: Unknown if model of class <class 'transformers.models.bert.modeling_bert.BertForSequenceClassification'> compatible with goal function <class 'textattack.goal_functions.classification.untargeted_classification.UntargetedClassification'>.\n"
     ]
    }
   ],
   "execution_count": 7
  },
  {
   "cell_type": "code",
   "source": [
    "fine_tuned_attack_args = textattack.AttackArgs(num_examples=-1, parallel=True, disable_stdout=True)\n",
    "fine_tuned_attacker = Attacker(fine_tuned_attack, subset_eval, fine_tuned_attack_args)\n",
    "fine_tuned_eval = fine_tuned_attacker.attack_dataset()"
   ],
   "metadata": {
    "id": "EmTJ-D8bdZqb",
    "outputId": "823515ff-293f-415f-cd2f-62eab0bc85e7",
    "colab": {
     "base_uri": "https://localhost:8080/"
    },
    "ExecuteTime": {
     "end_time": "2024-05-20T13:39:47.701759Z",
     "start_time": "2024-05-20T13:14:54.468041Z"
    }
   },
   "outputs": [
    {
     "name": "stderr",
     "output_type": "stream",
     "text": [
      "textattack: Running 1 worker(s) on 1 GPU(s).\n",
      "2024-05-20 15:14:58.177081: I tensorflow/core/platform/cpu_feature_guard.cc:210] This TensorFlow binary is optimized to use available CPU instructions in performance-critical operations.\n",
      "To enable the following instructions: AVX2 FMA, in other operations, rebuild TensorFlow with the appropriate compiler flags.\n",
      "2024-05-20 15:14:59.038900: W tensorflow/compiler/tf2tensorrt/utils/py_utils.cc:38] TF-TRT Warning: Could not find TensorRT\n",
      "textattack: Worklist size: 64\n",
      "textattack: Worklist candidate size: 0\n",
      "  0%|          | 0/64 [00:00<?, ?it/s]2024-05-20 15:15:10.533271: I tensorflow/core/common_runtime/gpu/gpu_device.cc:1928] Created device /job:localhost/replica:0/task:0/device:GPU:0 with 1413 MB memory:  -> device: 0, name: NVIDIA GeForce RTX 3050 Laptop GPU, pci bus id: 0000:01:00.0, compute capability: 8.6\n",
      "2024-05-20 15:15:11.025731: W external/local_tsl/tsl/framework/cpu_allocator_impl.cc:83] Allocation of 34133760 exceeds 10% of free system memory.\n",
      "2024-05-20 15:15:11.062723: W external/local_tsl/tsl/framework/cpu_allocator_impl.cc:83] Allocation of 34133760 exceeds 10% of free system memory.\n",
      "2024-05-20 15:15:11.103776: W external/local_tsl/tsl/framework/cpu_allocator_impl.cc:83] Allocation of 34133760 exceeds 10% of free system memory.\n",
      "2024-05-20 15:15:11.142701: W external/local_tsl/tsl/framework/cpu_allocator_impl.cc:83] Allocation of 34133760 exceeds 10% of free system memory.\n",
      "2024-05-20 15:15:11.179498: W external/local_tsl/tsl/framework/cpu_allocator_impl.cc:83] Allocation of 34133760 exceeds 10% of free system memory.\n",
      "[Succeeded / Failed / Skipped / Total] 38 / 22 / 4 / 64: 100%|██████████| 64/64 [24:43<00:00, 23.18s/it]"
     ]
    },
    {
     "name": "stdout",
     "output_type": "stream",
     "text": [
      "Attack(\n",
      "  (search_method): GreedyWordSwapWIR(\n",
      "    (wir_method):  delete\n",
      "  )\n",
      "  (goal_function):  UntargetedClassification\n",
      "  (transformation):  WordSwapMaskedLM(\n",
      "    (method):  bae\n",
      "    (masked_lm_name):  BertForMaskedLM\n",
      "    (max_length):  512\n",
      "    (max_candidates):  50\n",
      "    (min_confidence):  0.0\n",
      "  )\n",
      "  (constraints): \n",
      "    (0): PartOfSpeech(\n",
      "        (tagger_type):  nltk\n",
      "        (tagset):  universal\n",
      "        (allow_verb_noun_swap):  True\n",
      "        (compare_against_original):  True\n",
      "      )\n",
      "    (1): UniversalSentenceEncoder(\n",
      "        (metric):  cosine\n",
      "        (threshold):  0.936338023\n",
      "        (window_size):  15\n",
      "        (skip_text_shorter_than_window):  True\n",
      "        (compare_against_original):  True\n",
      "      )\n",
      "    (2): RepeatModification\n",
      "    (3): StopwordModification\n",
      "  (is_black_box):  True\n",
      ") \n",
      "\n"
     ]
    },
    {
     "name": "stderr",
     "output_type": "stream",
     "text": [
      "[Succeeded / Failed / Skipped / Total] 38 / 22 / 4 / 64: 100%|██████████| 64/64 [24:45<00:00, 23.21s/it]"
     ]
    },
    {
     "name": "stdout",
     "output_type": "stream",
     "text": [
      "\n",
      "+-------------------------------+--------+\n",
      "| Attack Results                |        |\n",
      "+-------------------------------+--------+\n",
      "| Number of successful attacks: | 38     |\n",
      "| Number of failed attacks:     | 22     |\n",
      "| Number of skipped attacks:    | 4      |\n",
      "| Original accuracy:            | 93.75% |\n",
      "| Accuracy under attack:        | 34.38% |\n",
      "| Attack success rate:          | 63.33% |\n",
      "| Average perturbed word %:     | 4.26%  |\n",
      "| Average num. words per input: | 233.23 |\n",
      "| Avg num queries:              | 355.12 |\n",
      "+-------------------------------+--------+\n"
     ]
    },
    {
     "name": "stderr",
     "output_type": "stream",
     "text": [
      "\n"
     ]
    }
   ],
   "execution_count": 8
  }
 ]
}
