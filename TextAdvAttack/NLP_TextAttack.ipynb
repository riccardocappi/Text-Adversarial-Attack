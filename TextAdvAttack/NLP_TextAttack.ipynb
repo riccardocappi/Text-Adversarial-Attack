{
  "nbformat": 4,
  "nbformat_minor": 0,
  "metadata": {
    "colab": {
      "provenance": [],
      "gpuType": "T4",
      "collapsed_sections": [
        "TnRg_I5lvVbB",
        "rFIPgu2g4Nwp"
      ]
    },
    "kernelspec": {
      "name": "python3",
      "display_name": "Python 3"
    },
    "language_info": {
      "name": "python"
    },
    "accelerator": "GPU",
    "widgets": {
      "application/vnd.jupyter.widget-state+json": {
        "66394ddaa1754e7682911e950e149e1f": {
          "model_module": "@jupyter-widgets/controls",
          "model_name": "HBoxModel",
          "model_module_version": "1.5.0",
          "state": {
            "_dom_classes": [],
            "_model_module": "@jupyter-widgets/controls",
            "_model_module_version": "1.5.0",
            "_model_name": "HBoxModel",
            "_view_count": null,
            "_view_module": "@jupyter-widgets/controls",
            "_view_module_version": "1.5.0",
            "_view_name": "HBoxView",
            "box_style": "",
            "children": [
              "IPY_MODEL_d3954df708c64092b6bfaf4a40ea9ffd",
              "IPY_MODEL_32aad356d5b146218e72ee717d6b0dad",
              "IPY_MODEL_26108669dca142b1a7e39bedbc5855ad"
            ],
            "layout": "IPY_MODEL_a1a3a228faa54dbfb6c7f1160e679908"
          }
        },
        "d3954df708c64092b6bfaf4a40ea9ffd": {
          "model_module": "@jupyter-widgets/controls",
          "model_name": "HTMLModel",
          "model_module_version": "1.5.0",
          "state": {
            "_dom_classes": [],
            "_model_module": "@jupyter-widgets/controls",
            "_model_module_version": "1.5.0",
            "_model_name": "HTMLModel",
            "_view_count": null,
            "_view_module": "@jupyter-widgets/controls",
            "_view_module_version": "1.5.0",
            "_view_name": "HTMLView",
            "description": "",
            "description_tooltip": null,
            "layout": "IPY_MODEL_91541f5eece9465cb5e8090e858d2e6a",
            "placeholder": "​",
            "style": "IPY_MODEL_0d5ee18f345e4d6b8552b8b5758a4587",
            "value": "config.json: 100%"
          }
        },
        "32aad356d5b146218e72ee717d6b0dad": {
          "model_module": "@jupyter-widgets/controls",
          "model_name": "FloatProgressModel",
          "model_module_version": "1.5.0",
          "state": {
            "_dom_classes": [],
            "_model_module": "@jupyter-widgets/controls",
            "_model_module_version": "1.5.0",
            "_model_name": "FloatProgressModel",
            "_view_count": null,
            "_view_module": "@jupyter-widgets/controls",
            "_view_module_version": "1.5.0",
            "_view_name": "ProgressView",
            "bar_style": "success",
            "description": "",
            "description_tooltip": null,
            "layout": "IPY_MODEL_ae49ea9b388f40d5a21cc477235f1049",
            "max": 520,
            "min": 0,
            "orientation": "horizontal",
            "style": "IPY_MODEL_e086a2a06cf34716afa4a9f9c68c802d",
            "value": 520
          }
        },
        "26108669dca142b1a7e39bedbc5855ad": {
          "model_module": "@jupyter-widgets/controls",
          "model_name": "HTMLModel",
          "model_module_version": "1.5.0",
          "state": {
            "_dom_classes": [],
            "_model_module": "@jupyter-widgets/controls",
            "_model_module_version": "1.5.0",
            "_model_name": "HTMLModel",
            "_view_count": null,
            "_view_module": "@jupyter-widgets/controls",
            "_view_module_version": "1.5.0",
            "_view_name": "HTMLView",
            "description": "",
            "description_tooltip": null,
            "layout": "IPY_MODEL_2f539719c1f5416aad157296d0cb7320",
            "placeholder": "​",
            "style": "IPY_MODEL_06222d52c19443afbdab58aecd97aa7d",
            "value": " 520/520 [00:00&lt;00:00, 9.92kB/s]"
          }
        },
        "a1a3a228faa54dbfb6c7f1160e679908": {
          "model_module": "@jupyter-widgets/base",
          "model_name": "LayoutModel",
          "model_module_version": "1.2.0",
          "state": {
            "_model_module": "@jupyter-widgets/base",
            "_model_module_version": "1.2.0",
            "_model_name": "LayoutModel",
            "_view_count": null,
            "_view_module": "@jupyter-widgets/base",
            "_view_module_version": "1.2.0",
            "_view_name": "LayoutView",
            "align_content": null,
            "align_items": null,
            "align_self": null,
            "border": null,
            "bottom": null,
            "display": null,
            "flex": null,
            "flex_flow": null,
            "grid_area": null,
            "grid_auto_columns": null,
            "grid_auto_flow": null,
            "grid_auto_rows": null,
            "grid_column": null,
            "grid_gap": null,
            "grid_row": null,
            "grid_template_areas": null,
            "grid_template_columns": null,
            "grid_template_rows": null,
            "height": null,
            "justify_content": null,
            "justify_items": null,
            "left": null,
            "margin": null,
            "max_height": null,
            "max_width": null,
            "min_height": null,
            "min_width": null,
            "object_fit": null,
            "object_position": null,
            "order": null,
            "overflow": null,
            "overflow_x": null,
            "overflow_y": null,
            "padding": null,
            "right": null,
            "top": null,
            "visibility": null,
            "width": null
          }
        },
        "91541f5eece9465cb5e8090e858d2e6a": {
          "model_module": "@jupyter-widgets/base",
          "model_name": "LayoutModel",
          "model_module_version": "1.2.0",
          "state": {
            "_model_module": "@jupyter-widgets/base",
            "_model_module_version": "1.2.0",
            "_model_name": "LayoutModel",
            "_view_count": null,
            "_view_module": "@jupyter-widgets/base",
            "_view_module_version": "1.2.0",
            "_view_name": "LayoutView",
            "align_content": null,
            "align_items": null,
            "align_self": null,
            "border": null,
            "bottom": null,
            "display": null,
            "flex": null,
            "flex_flow": null,
            "grid_area": null,
            "grid_auto_columns": null,
            "grid_auto_flow": null,
            "grid_auto_rows": null,
            "grid_column": null,
            "grid_gap": null,
            "grid_row": null,
            "grid_template_areas": null,
            "grid_template_columns": null,
            "grid_template_rows": null,
            "height": null,
            "justify_content": null,
            "justify_items": null,
            "left": null,
            "margin": null,
            "max_height": null,
            "max_width": null,
            "min_height": null,
            "min_width": null,
            "object_fit": null,
            "object_position": null,
            "order": null,
            "overflow": null,
            "overflow_x": null,
            "overflow_y": null,
            "padding": null,
            "right": null,
            "top": null,
            "visibility": null,
            "width": null
          }
        },
        "0d5ee18f345e4d6b8552b8b5758a4587": {
          "model_module": "@jupyter-widgets/controls",
          "model_name": "DescriptionStyleModel",
          "model_module_version": "1.5.0",
          "state": {
            "_model_module": "@jupyter-widgets/controls",
            "_model_module_version": "1.5.0",
            "_model_name": "DescriptionStyleModel",
            "_view_count": null,
            "_view_module": "@jupyter-widgets/base",
            "_view_module_version": "1.2.0",
            "_view_name": "StyleView",
            "description_width": ""
          }
        },
        "ae49ea9b388f40d5a21cc477235f1049": {
          "model_module": "@jupyter-widgets/base",
          "model_name": "LayoutModel",
          "model_module_version": "1.2.0",
          "state": {
            "_model_module": "@jupyter-widgets/base",
            "_model_module_version": "1.2.0",
            "_model_name": "LayoutModel",
            "_view_count": null,
            "_view_module": "@jupyter-widgets/base",
            "_view_module_version": "1.2.0",
            "_view_name": "LayoutView",
            "align_content": null,
            "align_items": null,
            "align_self": null,
            "border": null,
            "bottom": null,
            "display": null,
            "flex": null,
            "flex_flow": null,
            "grid_area": null,
            "grid_auto_columns": null,
            "grid_auto_flow": null,
            "grid_auto_rows": null,
            "grid_column": null,
            "grid_gap": null,
            "grid_row": null,
            "grid_template_areas": null,
            "grid_template_columns": null,
            "grid_template_rows": null,
            "height": null,
            "justify_content": null,
            "justify_items": null,
            "left": null,
            "margin": null,
            "max_height": null,
            "max_width": null,
            "min_height": null,
            "min_width": null,
            "object_fit": null,
            "object_position": null,
            "order": null,
            "overflow": null,
            "overflow_x": null,
            "overflow_y": null,
            "padding": null,
            "right": null,
            "top": null,
            "visibility": null,
            "width": null
          }
        },
        "e086a2a06cf34716afa4a9f9c68c802d": {
          "model_module": "@jupyter-widgets/controls",
          "model_name": "ProgressStyleModel",
          "model_module_version": "1.5.0",
          "state": {
            "_model_module": "@jupyter-widgets/controls",
            "_model_module_version": "1.5.0",
            "_model_name": "ProgressStyleModel",
            "_view_count": null,
            "_view_module": "@jupyter-widgets/base",
            "_view_module_version": "1.2.0",
            "_view_name": "StyleView",
            "bar_color": null,
            "description_width": ""
          }
        },
        "2f539719c1f5416aad157296d0cb7320": {
          "model_module": "@jupyter-widgets/base",
          "model_name": "LayoutModel",
          "model_module_version": "1.2.0",
          "state": {
            "_model_module": "@jupyter-widgets/base",
            "_model_module_version": "1.2.0",
            "_model_name": "LayoutModel",
            "_view_count": null,
            "_view_module": "@jupyter-widgets/base",
            "_view_module_version": "1.2.0",
            "_view_name": "LayoutView",
            "align_content": null,
            "align_items": null,
            "align_self": null,
            "border": null,
            "bottom": null,
            "display": null,
            "flex": null,
            "flex_flow": null,
            "grid_area": null,
            "grid_auto_columns": null,
            "grid_auto_flow": null,
            "grid_auto_rows": null,
            "grid_column": null,
            "grid_gap": null,
            "grid_row": null,
            "grid_template_areas": null,
            "grid_template_columns": null,
            "grid_template_rows": null,
            "height": null,
            "justify_content": null,
            "justify_items": null,
            "left": null,
            "margin": null,
            "max_height": null,
            "max_width": null,
            "min_height": null,
            "min_width": null,
            "object_fit": null,
            "object_position": null,
            "order": null,
            "overflow": null,
            "overflow_x": null,
            "overflow_y": null,
            "padding": null,
            "right": null,
            "top": null,
            "visibility": null,
            "width": null
          }
        },
        "06222d52c19443afbdab58aecd97aa7d": {
          "model_module": "@jupyter-widgets/controls",
          "model_name": "DescriptionStyleModel",
          "model_module_version": "1.5.0",
          "state": {
            "_model_module": "@jupyter-widgets/controls",
            "_model_module_version": "1.5.0",
            "_model_name": "DescriptionStyleModel",
            "_view_count": null,
            "_view_module": "@jupyter-widgets/base",
            "_view_module_version": "1.2.0",
            "_view_name": "StyleView",
            "description_width": ""
          }
        },
        "8aac833e35f44e538ea4c95922266fca": {
          "model_module": "@jupyter-widgets/controls",
          "model_name": "HBoxModel",
          "model_module_version": "1.5.0",
          "state": {
            "_dom_classes": [],
            "_model_module": "@jupyter-widgets/controls",
            "_model_module_version": "1.5.0",
            "_model_name": "HBoxModel",
            "_view_count": null,
            "_view_module": "@jupyter-widgets/controls",
            "_view_module_version": "1.5.0",
            "_view_name": "HBoxView",
            "box_style": "",
            "children": [
              "IPY_MODEL_7def366af454417c9cda33fdfd3f8491",
              "IPY_MODEL_23d2d5cb23604e59a992c27cc2f7d3a6",
              "IPY_MODEL_00200e5970e84df8bda9e14946d7601b"
            ],
            "layout": "IPY_MODEL_7dba3871340142d799514e4b520d9942"
          }
        },
        "7def366af454417c9cda33fdfd3f8491": {
          "model_module": "@jupyter-widgets/controls",
          "model_name": "HTMLModel",
          "model_module_version": "1.5.0",
          "state": {
            "_dom_classes": [],
            "_model_module": "@jupyter-widgets/controls",
            "_model_module_version": "1.5.0",
            "_model_name": "HTMLModel",
            "_view_count": null,
            "_view_module": "@jupyter-widgets/controls",
            "_view_module_version": "1.5.0",
            "_view_name": "HTMLView",
            "description": "",
            "description_tooltip": null,
            "layout": "IPY_MODEL_5199598c15d347fc8475d7a29ef4436d",
            "placeholder": "​",
            "style": "IPY_MODEL_8715ec887e32400ba8a748d20104d2a2",
            "value": "pytorch_model.bin: 100%"
          }
        },
        "23d2d5cb23604e59a992c27cc2f7d3a6": {
          "model_module": "@jupyter-widgets/controls",
          "model_name": "FloatProgressModel",
          "model_module_version": "1.5.0",
          "state": {
            "_dom_classes": [],
            "_model_module": "@jupyter-widgets/controls",
            "_model_module_version": "1.5.0",
            "_model_name": "FloatProgressModel",
            "_view_count": null,
            "_view_module": "@jupyter-widgets/controls",
            "_view_module_version": "1.5.0",
            "_view_name": "ProgressView",
            "bar_style": "success",
            "description": "",
            "description_tooltip": null,
            "layout": "IPY_MODEL_0fa5f076ce4d4b9bb405ef732e8ebdbe",
            "max": 437985387,
            "min": 0,
            "orientation": "horizontal",
            "style": "IPY_MODEL_36acdbceab904e60935afae1286885bf",
            "value": 437985387
          }
        },
        "00200e5970e84df8bda9e14946d7601b": {
          "model_module": "@jupyter-widgets/controls",
          "model_name": "HTMLModel",
          "model_module_version": "1.5.0",
          "state": {
            "_dom_classes": [],
            "_model_module": "@jupyter-widgets/controls",
            "_model_module_version": "1.5.0",
            "_model_name": "HTMLModel",
            "_view_count": null,
            "_view_module": "@jupyter-widgets/controls",
            "_view_module_version": "1.5.0",
            "_view_name": "HTMLView",
            "description": "",
            "description_tooltip": null,
            "layout": "IPY_MODEL_92dd859b76bf416caa4d026cf7340508",
            "placeholder": "​",
            "style": "IPY_MODEL_d2b28c0287fc411eaeba064cdb74430b",
            "value": " 438M/438M [00:05&lt;00:00, 146MB/s]"
          }
        },
        "7dba3871340142d799514e4b520d9942": {
          "model_module": "@jupyter-widgets/base",
          "model_name": "LayoutModel",
          "model_module_version": "1.2.0",
          "state": {
            "_model_module": "@jupyter-widgets/base",
            "_model_module_version": "1.2.0",
            "_model_name": "LayoutModel",
            "_view_count": null,
            "_view_module": "@jupyter-widgets/base",
            "_view_module_version": "1.2.0",
            "_view_name": "LayoutView",
            "align_content": null,
            "align_items": null,
            "align_self": null,
            "border": null,
            "bottom": null,
            "display": null,
            "flex": null,
            "flex_flow": null,
            "grid_area": null,
            "grid_auto_columns": null,
            "grid_auto_flow": null,
            "grid_auto_rows": null,
            "grid_column": null,
            "grid_gap": null,
            "grid_row": null,
            "grid_template_areas": null,
            "grid_template_columns": null,
            "grid_template_rows": null,
            "height": null,
            "justify_content": null,
            "justify_items": null,
            "left": null,
            "margin": null,
            "max_height": null,
            "max_width": null,
            "min_height": null,
            "min_width": null,
            "object_fit": null,
            "object_position": null,
            "order": null,
            "overflow": null,
            "overflow_x": null,
            "overflow_y": null,
            "padding": null,
            "right": null,
            "top": null,
            "visibility": null,
            "width": null
          }
        },
        "5199598c15d347fc8475d7a29ef4436d": {
          "model_module": "@jupyter-widgets/base",
          "model_name": "LayoutModel",
          "model_module_version": "1.2.0",
          "state": {
            "_model_module": "@jupyter-widgets/base",
            "_model_module_version": "1.2.0",
            "_model_name": "LayoutModel",
            "_view_count": null,
            "_view_module": "@jupyter-widgets/base",
            "_view_module_version": "1.2.0",
            "_view_name": "LayoutView",
            "align_content": null,
            "align_items": null,
            "align_self": null,
            "border": null,
            "bottom": null,
            "display": null,
            "flex": null,
            "flex_flow": null,
            "grid_area": null,
            "grid_auto_columns": null,
            "grid_auto_flow": null,
            "grid_auto_rows": null,
            "grid_column": null,
            "grid_gap": null,
            "grid_row": null,
            "grid_template_areas": null,
            "grid_template_columns": null,
            "grid_template_rows": null,
            "height": null,
            "justify_content": null,
            "justify_items": null,
            "left": null,
            "margin": null,
            "max_height": null,
            "max_width": null,
            "min_height": null,
            "min_width": null,
            "object_fit": null,
            "object_position": null,
            "order": null,
            "overflow": null,
            "overflow_x": null,
            "overflow_y": null,
            "padding": null,
            "right": null,
            "top": null,
            "visibility": null,
            "width": null
          }
        },
        "8715ec887e32400ba8a748d20104d2a2": {
          "model_module": "@jupyter-widgets/controls",
          "model_name": "DescriptionStyleModel",
          "model_module_version": "1.5.0",
          "state": {
            "_model_module": "@jupyter-widgets/controls",
            "_model_module_version": "1.5.0",
            "_model_name": "DescriptionStyleModel",
            "_view_count": null,
            "_view_module": "@jupyter-widgets/base",
            "_view_module_version": "1.2.0",
            "_view_name": "StyleView",
            "description_width": ""
          }
        },
        "0fa5f076ce4d4b9bb405ef732e8ebdbe": {
          "model_module": "@jupyter-widgets/base",
          "model_name": "LayoutModel",
          "model_module_version": "1.2.0",
          "state": {
            "_model_module": "@jupyter-widgets/base",
            "_model_module_version": "1.2.0",
            "_model_name": "LayoutModel",
            "_view_count": null,
            "_view_module": "@jupyter-widgets/base",
            "_view_module_version": "1.2.0",
            "_view_name": "LayoutView",
            "align_content": null,
            "align_items": null,
            "align_self": null,
            "border": null,
            "bottom": null,
            "display": null,
            "flex": null,
            "flex_flow": null,
            "grid_area": null,
            "grid_auto_columns": null,
            "grid_auto_flow": null,
            "grid_auto_rows": null,
            "grid_column": null,
            "grid_gap": null,
            "grid_row": null,
            "grid_template_areas": null,
            "grid_template_columns": null,
            "grid_template_rows": null,
            "height": null,
            "justify_content": null,
            "justify_items": null,
            "left": null,
            "margin": null,
            "max_height": null,
            "max_width": null,
            "min_height": null,
            "min_width": null,
            "object_fit": null,
            "object_position": null,
            "order": null,
            "overflow": null,
            "overflow_x": null,
            "overflow_y": null,
            "padding": null,
            "right": null,
            "top": null,
            "visibility": null,
            "width": null
          }
        },
        "36acdbceab904e60935afae1286885bf": {
          "model_module": "@jupyter-widgets/controls",
          "model_name": "ProgressStyleModel",
          "model_module_version": "1.5.0",
          "state": {
            "_model_module": "@jupyter-widgets/controls",
            "_model_module_version": "1.5.0",
            "_model_name": "ProgressStyleModel",
            "_view_count": null,
            "_view_module": "@jupyter-widgets/base",
            "_view_module_version": "1.2.0",
            "_view_name": "StyleView",
            "bar_color": null,
            "description_width": ""
          }
        },
        "92dd859b76bf416caa4d026cf7340508": {
          "model_module": "@jupyter-widgets/base",
          "model_name": "LayoutModel",
          "model_module_version": "1.2.0",
          "state": {
            "_model_module": "@jupyter-widgets/base",
            "_model_module_version": "1.2.0",
            "_model_name": "LayoutModel",
            "_view_count": null,
            "_view_module": "@jupyter-widgets/base",
            "_view_module_version": "1.2.0",
            "_view_name": "LayoutView",
            "align_content": null,
            "align_items": null,
            "align_self": null,
            "border": null,
            "bottom": null,
            "display": null,
            "flex": null,
            "flex_flow": null,
            "grid_area": null,
            "grid_auto_columns": null,
            "grid_auto_flow": null,
            "grid_auto_rows": null,
            "grid_column": null,
            "grid_gap": null,
            "grid_row": null,
            "grid_template_areas": null,
            "grid_template_columns": null,
            "grid_template_rows": null,
            "height": null,
            "justify_content": null,
            "justify_items": null,
            "left": null,
            "margin": null,
            "max_height": null,
            "max_width": null,
            "min_height": null,
            "min_width": null,
            "object_fit": null,
            "object_position": null,
            "order": null,
            "overflow": null,
            "overflow_x": null,
            "overflow_y": null,
            "padding": null,
            "right": null,
            "top": null,
            "visibility": null,
            "width": null
          }
        },
        "d2b28c0287fc411eaeba064cdb74430b": {
          "model_module": "@jupyter-widgets/controls",
          "model_name": "DescriptionStyleModel",
          "model_module_version": "1.5.0",
          "state": {
            "_model_module": "@jupyter-widgets/controls",
            "_model_module_version": "1.5.0",
            "_model_name": "DescriptionStyleModel",
            "_view_count": null,
            "_view_module": "@jupyter-widgets/base",
            "_view_module_version": "1.2.0",
            "_view_name": "StyleView",
            "description_width": ""
          }
        },
        "46675c22ba9a4632b72011b26a859045": {
          "model_module": "@jupyter-widgets/controls",
          "model_name": "HBoxModel",
          "model_module_version": "1.5.0",
          "state": {
            "_dom_classes": [],
            "_model_module": "@jupyter-widgets/controls",
            "_model_module_version": "1.5.0",
            "_model_name": "HBoxModel",
            "_view_count": null,
            "_view_module": "@jupyter-widgets/controls",
            "_view_module_version": "1.5.0",
            "_view_name": "HBoxView",
            "box_style": "",
            "children": [
              "IPY_MODEL_323ff26a7ca14d949934f1c9160c58fa",
              "IPY_MODEL_6642e021092d42f795797e5b3d1ad930",
              "IPY_MODEL_68b1f17d2b4041cea233fbf3bdca144a"
            ],
            "layout": "IPY_MODEL_f353730f285c44009ffad322ecd157e6"
          }
        },
        "323ff26a7ca14d949934f1c9160c58fa": {
          "model_module": "@jupyter-widgets/controls",
          "model_name": "HTMLModel",
          "model_module_version": "1.5.0",
          "state": {
            "_dom_classes": [],
            "_model_module": "@jupyter-widgets/controls",
            "_model_module_version": "1.5.0",
            "_model_name": "HTMLModel",
            "_view_count": null,
            "_view_module": "@jupyter-widgets/controls",
            "_view_module_version": "1.5.0",
            "_view_name": "HTMLView",
            "description": "",
            "description_tooltip": null,
            "layout": "IPY_MODEL_fcb2046e44804d90b62bce661d3d3302",
            "placeholder": "​",
            "style": "IPY_MODEL_5ca03edeb1d7433a9f6a493aa6bf84a4",
            "value": "tokenizer_config.json: 100%"
          }
        },
        "6642e021092d42f795797e5b3d1ad930": {
          "model_module": "@jupyter-widgets/controls",
          "model_name": "FloatProgressModel",
          "model_module_version": "1.5.0",
          "state": {
            "_dom_classes": [],
            "_model_module": "@jupyter-widgets/controls",
            "_model_module_version": "1.5.0",
            "_model_name": "FloatProgressModel",
            "_view_count": null,
            "_view_module": "@jupyter-widgets/controls",
            "_view_module_version": "1.5.0",
            "_view_name": "ProgressView",
            "bar_style": "success",
            "description": "",
            "description_tooltip": null,
            "layout": "IPY_MODEL_66df0b605c6a4d4485e81e736a1beadc",
            "max": 48,
            "min": 0,
            "orientation": "horizontal",
            "style": "IPY_MODEL_2e5eef767140463ca7d589cc66e2426f",
            "value": 48
          }
        },
        "68b1f17d2b4041cea233fbf3bdca144a": {
          "model_module": "@jupyter-widgets/controls",
          "model_name": "HTMLModel",
          "model_module_version": "1.5.0",
          "state": {
            "_dom_classes": [],
            "_model_module": "@jupyter-widgets/controls",
            "_model_module_version": "1.5.0",
            "_model_name": "HTMLModel",
            "_view_count": null,
            "_view_module": "@jupyter-widgets/controls",
            "_view_module_version": "1.5.0",
            "_view_name": "HTMLView",
            "description": "",
            "description_tooltip": null,
            "layout": "IPY_MODEL_b7db8fae527643f2a585df48950e46bf",
            "placeholder": "​",
            "style": "IPY_MODEL_d4b8567bdfeb4e3db4a84408ff83c571",
            "value": " 48.0/48.0 [00:00&lt;00:00, 910B/s]"
          }
        },
        "f353730f285c44009ffad322ecd157e6": {
          "model_module": "@jupyter-widgets/base",
          "model_name": "LayoutModel",
          "model_module_version": "1.2.0",
          "state": {
            "_model_module": "@jupyter-widgets/base",
            "_model_module_version": "1.2.0",
            "_model_name": "LayoutModel",
            "_view_count": null,
            "_view_module": "@jupyter-widgets/base",
            "_view_module_version": "1.2.0",
            "_view_name": "LayoutView",
            "align_content": null,
            "align_items": null,
            "align_self": null,
            "border": null,
            "bottom": null,
            "display": null,
            "flex": null,
            "flex_flow": null,
            "grid_area": null,
            "grid_auto_columns": null,
            "grid_auto_flow": null,
            "grid_auto_rows": null,
            "grid_column": null,
            "grid_gap": null,
            "grid_row": null,
            "grid_template_areas": null,
            "grid_template_columns": null,
            "grid_template_rows": null,
            "height": null,
            "justify_content": null,
            "justify_items": null,
            "left": null,
            "margin": null,
            "max_height": null,
            "max_width": null,
            "min_height": null,
            "min_width": null,
            "object_fit": null,
            "object_position": null,
            "order": null,
            "overflow": null,
            "overflow_x": null,
            "overflow_y": null,
            "padding": null,
            "right": null,
            "top": null,
            "visibility": null,
            "width": null
          }
        },
        "fcb2046e44804d90b62bce661d3d3302": {
          "model_module": "@jupyter-widgets/base",
          "model_name": "LayoutModel",
          "model_module_version": "1.2.0",
          "state": {
            "_model_module": "@jupyter-widgets/base",
            "_model_module_version": "1.2.0",
            "_model_name": "LayoutModel",
            "_view_count": null,
            "_view_module": "@jupyter-widgets/base",
            "_view_module_version": "1.2.0",
            "_view_name": "LayoutView",
            "align_content": null,
            "align_items": null,
            "align_self": null,
            "border": null,
            "bottom": null,
            "display": null,
            "flex": null,
            "flex_flow": null,
            "grid_area": null,
            "grid_auto_columns": null,
            "grid_auto_flow": null,
            "grid_auto_rows": null,
            "grid_column": null,
            "grid_gap": null,
            "grid_row": null,
            "grid_template_areas": null,
            "grid_template_columns": null,
            "grid_template_rows": null,
            "height": null,
            "justify_content": null,
            "justify_items": null,
            "left": null,
            "margin": null,
            "max_height": null,
            "max_width": null,
            "min_height": null,
            "min_width": null,
            "object_fit": null,
            "object_position": null,
            "order": null,
            "overflow": null,
            "overflow_x": null,
            "overflow_y": null,
            "padding": null,
            "right": null,
            "top": null,
            "visibility": null,
            "width": null
          }
        },
        "5ca03edeb1d7433a9f6a493aa6bf84a4": {
          "model_module": "@jupyter-widgets/controls",
          "model_name": "DescriptionStyleModel",
          "model_module_version": "1.5.0",
          "state": {
            "_model_module": "@jupyter-widgets/controls",
            "_model_module_version": "1.5.0",
            "_model_name": "DescriptionStyleModel",
            "_view_count": null,
            "_view_module": "@jupyter-widgets/base",
            "_view_module_version": "1.2.0",
            "_view_name": "StyleView",
            "description_width": ""
          }
        },
        "66df0b605c6a4d4485e81e736a1beadc": {
          "model_module": "@jupyter-widgets/base",
          "model_name": "LayoutModel",
          "model_module_version": "1.2.0",
          "state": {
            "_model_module": "@jupyter-widgets/base",
            "_model_module_version": "1.2.0",
            "_model_name": "LayoutModel",
            "_view_count": null,
            "_view_module": "@jupyter-widgets/base",
            "_view_module_version": "1.2.0",
            "_view_name": "LayoutView",
            "align_content": null,
            "align_items": null,
            "align_self": null,
            "border": null,
            "bottom": null,
            "display": null,
            "flex": null,
            "flex_flow": null,
            "grid_area": null,
            "grid_auto_columns": null,
            "grid_auto_flow": null,
            "grid_auto_rows": null,
            "grid_column": null,
            "grid_gap": null,
            "grid_row": null,
            "grid_template_areas": null,
            "grid_template_columns": null,
            "grid_template_rows": null,
            "height": null,
            "justify_content": null,
            "justify_items": null,
            "left": null,
            "margin": null,
            "max_height": null,
            "max_width": null,
            "min_height": null,
            "min_width": null,
            "object_fit": null,
            "object_position": null,
            "order": null,
            "overflow": null,
            "overflow_x": null,
            "overflow_y": null,
            "padding": null,
            "right": null,
            "top": null,
            "visibility": null,
            "width": null
          }
        },
        "2e5eef767140463ca7d589cc66e2426f": {
          "model_module": "@jupyter-widgets/controls",
          "model_name": "ProgressStyleModel",
          "model_module_version": "1.5.0",
          "state": {
            "_model_module": "@jupyter-widgets/controls",
            "_model_module_version": "1.5.0",
            "_model_name": "ProgressStyleModel",
            "_view_count": null,
            "_view_module": "@jupyter-widgets/base",
            "_view_module_version": "1.2.0",
            "_view_name": "StyleView",
            "bar_color": null,
            "description_width": ""
          }
        },
        "b7db8fae527643f2a585df48950e46bf": {
          "model_module": "@jupyter-widgets/base",
          "model_name": "LayoutModel",
          "model_module_version": "1.2.0",
          "state": {
            "_model_module": "@jupyter-widgets/base",
            "_model_module_version": "1.2.0",
            "_model_name": "LayoutModel",
            "_view_count": null,
            "_view_module": "@jupyter-widgets/base",
            "_view_module_version": "1.2.0",
            "_view_name": "LayoutView",
            "align_content": null,
            "align_items": null,
            "align_self": null,
            "border": null,
            "bottom": null,
            "display": null,
            "flex": null,
            "flex_flow": null,
            "grid_area": null,
            "grid_auto_columns": null,
            "grid_auto_flow": null,
            "grid_auto_rows": null,
            "grid_column": null,
            "grid_gap": null,
            "grid_row": null,
            "grid_template_areas": null,
            "grid_template_columns": null,
            "grid_template_rows": null,
            "height": null,
            "justify_content": null,
            "justify_items": null,
            "left": null,
            "margin": null,
            "max_height": null,
            "max_width": null,
            "min_height": null,
            "min_width": null,
            "object_fit": null,
            "object_position": null,
            "order": null,
            "overflow": null,
            "overflow_x": null,
            "overflow_y": null,
            "padding": null,
            "right": null,
            "top": null,
            "visibility": null,
            "width": null
          }
        },
        "d4b8567bdfeb4e3db4a84408ff83c571": {
          "model_module": "@jupyter-widgets/controls",
          "model_name": "DescriptionStyleModel",
          "model_module_version": "1.5.0",
          "state": {
            "_model_module": "@jupyter-widgets/controls",
            "_model_module_version": "1.5.0",
            "_model_name": "DescriptionStyleModel",
            "_view_count": null,
            "_view_module": "@jupyter-widgets/base",
            "_view_module_version": "1.2.0",
            "_view_name": "StyleView",
            "description_width": ""
          }
        },
        "2558b3436e434bbab8c903367bcd6db2": {
          "model_module": "@jupyter-widgets/controls",
          "model_name": "HBoxModel",
          "model_module_version": "1.5.0",
          "state": {
            "_dom_classes": [],
            "_model_module": "@jupyter-widgets/controls",
            "_model_module_version": "1.5.0",
            "_model_name": "HBoxModel",
            "_view_count": null,
            "_view_module": "@jupyter-widgets/controls",
            "_view_module_version": "1.5.0",
            "_view_name": "HBoxView",
            "box_style": "",
            "children": [
              "IPY_MODEL_5f4e8cc46c434700857326d962da5dfb",
              "IPY_MODEL_02311be1a69e48daacb5bcc38feebad5",
              "IPY_MODEL_9a45dbb7d909465fa2454678742ccb0b"
            ],
            "layout": "IPY_MODEL_2fa1b8a71c1a4ba5aa5c6d06777d6918"
          }
        },
        "5f4e8cc46c434700857326d962da5dfb": {
          "model_module": "@jupyter-widgets/controls",
          "model_name": "HTMLModel",
          "model_module_version": "1.5.0",
          "state": {
            "_dom_classes": [],
            "_model_module": "@jupyter-widgets/controls",
            "_model_module_version": "1.5.0",
            "_model_name": "HTMLModel",
            "_view_count": null,
            "_view_module": "@jupyter-widgets/controls",
            "_view_module_version": "1.5.0",
            "_view_name": "HTMLView",
            "description": "",
            "description_tooltip": null,
            "layout": "IPY_MODEL_aed31e1be84948f890c7b15653e80f38",
            "placeholder": "​",
            "style": "IPY_MODEL_38149ce2eb964f6c991076bbf589963f",
            "value": "vocab.txt: 100%"
          }
        },
        "02311be1a69e48daacb5bcc38feebad5": {
          "model_module": "@jupyter-widgets/controls",
          "model_name": "FloatProgressModel",
          "model_module_version": "1.5.0",
          "state": {
            "_dom_classes": [],
            "_model_module": "@jupyter-widgets/controls",
            "_model_module_version": "1.5.0",
            "_model_name": "FloatProgressModel",
            "_view_count": null,
            "_view_module": "@jupyter-widgets/controls",
            "_view_module_version": "1.5.0",
            "_view_name": "ProgressView",
            "bar_style": "success",
            "description": "",
            "description_tooltip": null,
            "layout": "IPY_MODEL_305af26a5279421c96fa9909bca36d16",
            "max": 231508,
            "min": 0,
            "orientation": "horizontal",
            "style": "IPY_MODEL_a052b1b320924c9c93b60216a13e0bba",
            "value": 231508
          }
        },
        "9a45dbb7d909465fa2454678742ccb0b": {
          "model_module": "@jupyter-widgets/controls",
          "model_name": "HTMLModel",
          "model_module_version": "1.5.0",
          "state": {
            "_dom_classes": [],
            "_model_module": "@jupyter-widgets/controls",
            "_model_module_version": "1.5.0",
            "_model_name": "HTMLModel",
            "_view_count": null,
            "_view_module": "@jupyter-widgets/controls",
            "_view_module_version": "1.5.0",
            "_view_name": "HTMLView",
            "description": "",
            "description_tooltip": null,
            "layout": "IPY_MODEL_3baeca99fd164697a185ec11767eb7c0",
            "placeholder": "​",
            "style": "IPY_MODEL_9879b95f025641f797c151f85327e51f",
            "value": " 232k/232k [00:00&lt;00:00, 2.63MB/s]"
          }
        },
        "2fa1b8a71c1a4ba5aa5c6d06777d6918": {
          "model_module": "@jupyter-widgets/base",
          "model_name": "LayoutModel",
          "model_module_version": "1.2.0",
          "state": {
            "_model_module": "@jupyter-widgets/base",
            "_model_module_version": "1.2.0",
            "_model_name": "LayoutModel",
            "_view_count": null,
            "_view_module": "@jupyter-widgets/base",
            "_view_module_version": "1.2.0",
            "_view_name": "LayoutView",
            "align_content": null,
            "align_items": null,
            "align_self": null,
            "border": null,
            "bottom": null,
            "display": null,
            "flex": null,
            "flex_flow": null,
            "grid_area": null,
            "grid_auto_columns": null,
            "grid_auto_flow": null,
            "grid_auto_rows": null,
            "grid_column": null,
            "grid_gap": null,
            "grid_row": null,
            "grid_template_areas": null,
            "grid_template_columns": null,
            "grid_template_rows": null,
            "height": null,
            "justify_content": null,
            "justify_items": null,
            "left": null,
            "margin": null,
            "max_height": null,
            "max_width": null,
            "min_height": null,
            "min_width": null,
            "object_fit": null,
            "object_position": null,
            "order": null,
            "overflow": null,
            "overflow_x": null,
            "overflow_y": null,
            "padding": null,
            "right": null,
            "top": null,
            "visibility": null,
            "width": null
          }
        },
        "aed31e1be84948f890c7b15653e80f38": {
          "model_module": "@jupyter-widgets/base",
          "model_name": "LayoutModel",
          "model_module_version": "1.2.0",
          "state": {
            "_model_module": "@jupyter-widgets/base",
            "_model_module_version": "1.2.0",
            "_model_name": "LayoutModel",
            "_view_count": null,
            "_view_module": "@jupyter-widgets/base",
            "_view_module_version": "1.2.0",
            "_view_name": "LayoutView",
            "align_content": null,
            "align_items": null,
            "align_self": null,
            "border": null,
            "bottom": null,
            "display": null,
            "flex": null,
            "flex_flow": null,
            "grid_area": null,
            "grid_auto_columns": null,
            "grid_auto_flow": null,
            "grid_auto_rows": null,
            "grid_column": null,
            "grid_gap": null,
            "grid_row": null,
            "grid_template_areas": null,
            "grid_template_columns": null,
            "grid_template_rows": null,
            "height": null,
            "justify_content": null,
            "justify_items": null,
            "left": null,
            "margin": null,
            "max_height": null,
            "max_width": null,
            "min_height": null,
            "min_width": null,
            "object_fit": null,
            "object_position": null,
            "order": null,
            "overflow": null,
            "overflow_x": null,
            "overflow_y": null,
            "padding": null,
            "right": null,
            "top": null,
            "visibility": null,
            "width": null
          }
        },
        "38149ce2eb964f6c991076bbf589963f": {
          "model_module": "@jupyter-widgets/controls",
          "model_name": "DescriptionStyleModel",
          "model_module_version": "1.5.0",
          "state": {
            "_model_module": "@jupyter-widgets/controls",
            "_model_module_version": "1.5.0",
            "_model_name": "DescriptionStyleModel",
            "_view_count": null,
            "_view_module": "@jupyter-widgets/base",
            "_view_module_version": "1.2.0",
            "_view_name": "StyleView",
            "description_width": ""
          }
        },
        "305af26a5279421c96fa9909bca36d16": {
          "model_module": "@jupyter-widgets/base",
          "model_name": "LayoutModel",
          "model_module_version": "1.2.0",
          "state": {
            "_model_module": "@jupyter-widgets/base",
            "_model_module_version": "1.2.0",
            "_model_name": "LayoutModel",
            "_view_count": null,
            "_view_module": "@jupyter-widgets/base",
            "_view_module_version": "1.2.0",
            "_view_name": "LayoutView",
            "align_content": null,
            "align_items": null,
            "align_self": null,
            "border": null,
            "bottom": null,
            "display": null,
            "flex": null,
            "flex_flow": null,
            "grid_area": null,
            "grid_auto_columns": null,
            "grid_auto_flow": null,
            "grid_auto_rows": null,
            "grid_column": null,
            "grid_gap": null,
            "grid_row": null,
            "grid_template_areas": null,
            "grid_template_columns": null,
            "grid_template_rows": null,
            "height": null,
            "justify_content": null,
            "justify_items": null,
            "left": null,
            "margin": null,
            "max_height": null,
            "max_width": null,
            "min_height": null,
            "min_width": null,
            "object_fit": null,
            "object_position": null,
            "order": null,
            "overflow": null,
            "overflow_x": null,
            "overflow_y": null,
            "padding": null,
            "right": null,
            "top": null,
            "visibility": null,
            "width": null
          }
        },
        "a052b1b320924c9c93b60216a13e0bba": {
          "model_module": "@jupyter-widgets/controls",
          "model_name": "ProgressStyleModel",
          "model_module_version": "1.5.0",
          "state": {
            "_model_module": "@jupyter-widgets/controls",
            "_model_module_version": "1.5.0",
            "_model_name": "ProgressStyleModel",
            "_view_count": null,
            "_view_module": "@jupyter-widgets/base",
            "_view_module_version": "1.2.0",
            "_view_name": "StyleView",
            "bar_color": null,
            "description_width": ""
          }
        },
        "3baeca99fd164697a185ec11767eb7c0": {
          "model_module": "@jupyter-widgets/base",
          "model_name": "LayoutModel",
          "model_module_version": "1.2.0",
          "state": {
            "_model_module": "@jupyter-widgets/base",
            "_model_module_version": "1.2.0",
            "_model_name": "LayoutModel",
            "_view_count": null,
            "_view_module": "@jupyter-widgets/base",
            "_view_module_version": "1.2.0",
            "_view_name": "LayoutView",
            "align_content": null,
            "align_items": null,
            "align_self": null,
            "border": null,
            "bottom": null,
            "display": null,
            "flex": null,
            "flex_flow": null,
            "grid_area": null,
            "grid_auto_columns": null,
            "grid_auto_flow": null,
            "grid_auto_rows": null,
            "grid_column": null,
            "grid_gap": null,
            "grid_row": null,
            "grid_template_areas": null,
            "grid_template_columns": null,
            "grid_template_rows": null,
            "height": null,
            "justify_content": null,
            "justify_items": null,
            "left": null,
            "margin": null,
            "max_height": null,
            "max_width": null,
            "min_height": null,
            "min_width": null,
            "object_fit": null,
            "object_position": null,
            "order": null,
            "overflow": null,
            "overflow_x": null,
            "overflow_y": null,
            "padding": null,
            "right": null,
            "top": null,
            "visibility": null,
            "width": null
          }
        },
        "9879b95f025641f797c151f85327e51f": {
          "model_module": "@jupyter-widgets/controls",
          "model_name": "DescriptionStyleModel",
          "model_module_version": "1.5.0",
          "state": {
            "_model_module": "@jupyter-widgets/controls",
            "_model_module_version": "1.5.0",
            "_model_name": "DescriptionStyleModel",
            "_view_count": null,
            "_view_module": "@jupyter-widgets/base",
            "_view_module_version": "1.2.0",
            "_view_name": "StyleView",
            "description_width": ""
          }
        },
        "79bdab009d1743f391e4e2fb85f0045f": {
          "model_module": "@jupyter-widgets/controls",
          "model_name": "HBoxModel",
          "model_module_version": "1.5.0",
          "state": {
            "_dom_classes": [],
            "_model_module": "@jupyter-widgets/controls",
            "_model_module_version": "1.5.0",
            "_model_name": "HBoxModel",
            "_view_count": null,
            "_view_module": "@jupyter-widgets/controls",
            "_view_module_version": "1.5.0",
            "_view_name": "HBoxView",
            "box_style": "",
            "children": [
              "IPY_MODEL_379c5ffec4b94927904a00cab9cf3f6f",
              "IPY_MODEL_946f1ed43d144204ab98e5ab8df1c92e",
              "IPY_MODEL_bcad4d4e95034be8a2d812023ed41f20"
            ],
            "layout": "IPY_MODEL_f97cf1dcf8ed4b628056136cbddfaf7f"
          }
        },
        "379c5ffec4b94927904a00cab9cf3f6f": {
          "model_module": "@jupyter-widgets/controls",
          "model_name": "HTMLModel",
          "model_module_version": "1.5.0",
          "state": {
            "_dom_classes": [],
            "_model_module": "@jupyter-widgets/controls",
            "_model_module_version": "1.5.0",
            "_model_name": "HTMLModel",
            "_view_count": null,
            "_view_module": "@jupyter-widgets/controls",
            "_view_module_version": "1.5.0",
            "_view_name": "HTMLView",
            "description": "",
            "description_tooltip": null,
            "layout": "IPY_MODEL_9c16d4ff91cf4d96a58d25b6da0cef84",
            "placeholder": "​",
            "style": "IPY_MODEL_91cae190395540649445cd1ff52f8726",
            "value": "special_tokens_map.json: 100%"
          }
        },
        "946f1ed43d144204ab98e5ab8df1c92e": {
          "model_module": "@jupyter-widgets/controls",
          "model_name": "FloatProgressModel",
          "model_module_version": "1.5.0",
          "state": {
            "_dom_classes": [],
            "_model_module": "@jupyter-widgets/controls",
            "_model_module_version": "1.5.0",
            "_model_name": "FloatProgressModel",
            "_view_count": null,
            "_view_module": "@jupyter-widgets/controls",
            "_view_module_version": "1.5.0",
            "_view_name": "ProgressView",
            "bar_style": "success",
            "description": "",
            "description_tooltip": null,
            "layout": "IPY_MODEL_b004a20cd3b0485292a4718db6693269",
            "max": 112,
            "min": 0,
            "orientation": "horizontal",
            "style": "IPY_MODEL_3b351cc261684619a48227643f770440",
            "value": 112
          }
        },
        "bcad4d4e95034be8a2d812023ed41f20": {
          "model_module": "@jupyter-widgets/controls",
          "model_name": "HTMLModel",
          "model_module_version": "1.5.0",
          "state": {
            "_dom_classes": [],
            "_model_module": "@jupyter-widgets/controls",
            "_model_module_version": "1.5.0",
            "_model_name": "HTMLModel",
            "_view_count": null,
            "_view_module": "@jupyter-widgets/controls",
            "_view_module_version": "1.5.0",
            "_view_name": "HTMLView",
            "description": "",
            "description_tooltip": null,
            "layout": "IPY_MODEL_e766a03bfd72489eb55ecdecb6391b07",
            "placeholder": "​",
            "style": "IPY_MODEL_014fb421e0c147ef84a6660546509934",
            "value": " 112/112 [00:00&lt;00:00, 2.13kB/s]"
          }
        },
        "f97cf1dcf8ed4b628056136cbddfaf7f": {
          "model_module": "@jupyter-widgets/base",
          "model_name": "LayoutModel",
          "model_module_version": "1.2.0",
          "state": {
            "_model_module": "@jupyter-widgets/base",
            "_model_module_version": "1.2.0",
            "_model_name": "LayoutModel",
            "_view_count": null,
            "_view_module": "@jupyter-widgets/base",
            "_view_module_version": "1.2.0",
            "_view_name": "LayoutView",
            "align_content": null,
            "align_items": null,
            "align_self": null,
            "border": null,
            "bottom": null,
            "display": null,
            "flex": null,
            "flex_flow": null,
            "grid_area": null,
            "grid_auto_columns": null,
            "grid_auto_flow": null,
            "grid_auto_rows": null,
            "grid_column": null,
            "grid_gap": null,
            "grid_row": null,
            "grid_template_areas": null,
            "grid_template_columns": null,
            "grid_template_rows": null,
            "height": null,
            "justify_content": null,
            "justify_items": null,
            "left": null,
            "margin": null,
            "max_height": null,
            "max_width": null,
            "min_height": null,
            "min_width": null,
            "object_fit": null,
            "object_position": null,
            "order": null,
            "overflow": null,
            "overflow_x": null,
            "overflow_y": null,
            "padding": null,
            "right": null,
            "top": null,
            "visibility": null,
            "width": null
          }
        },
        "9c16d4ff91cf4d96a58d25b6da0cef84": {
          "model_module": "@jupyter-widgets/base",
          "model_name": "LayoutModel",
          "model_module_version": "1.2.0",
          "state": {
            "_model_module": "@jupyter-widgets/base",
            "_model_module_version": "1.2.0",
            "_model_name": "LayoutModel",
            "_view_count": null,
            "_view_module": "@jupyter-widgets/base",
            "_view_module_version": "1.2.0",
            "_view_name": "LayoutView",
            "align_content": null,
            "align_items": null,
            "align_self": null,
            "border": null,
            "bottom": null,
            "display": null,
            "flex": null,
            "flex_flow": null,
            "grid_area": null,
            "grid_auto_columns": null,
            "grid_auto_flow": null,
            "grid_auto_rows": null,
            "grid_column": null,
            "grid_gap": null,
            "grid_row": null,
            "grid_template_areas": null,
            "grid_template_columns": null,
            "grid_template_rows": null,
            "height": null,
            "justify_content": null,
            "justify_items": null,
            "left": null,
            "margin": null,
            "max_height": null,
            "max_width": null,
            "min_height": null,
            "min_width": null,
            "object_fit": null,
            "object_position": null,
            "order": null,
            "overflow": null,
            "overflow_x": null,
            "overflow_y": null,
            "padding": null,
            "right": null,
            "top": null,
            "visibility": null,
            "width": null
          }
        },
        "91cae190395540649445cd1ff52f8726": {
          "model_module": "@jupyter-widgets/controls",
          "model_name": "DescriptionStyleModel",
          "model_module_version": "1.5.0",
          "state": {
            "_model_module": "@jupyter-widgets/controls",
            "_model_module_version": "1.5.0",
            "_model_name": "DescriptionStyleModel",
            "_view_count": null,
            "_view_module": "@jupyter-widgets/base",
            "_view_module_version": "1.2.0",
            "_view_name": "StyleView",
            "description_width": ""
          }
        },
        "b004a20cd3b0485292a4718db6693269": {
          "model_module": "@jupyter-widgets/base",
          "model_name": "LayoutModel",
          "model_module_version": "1.2.0",
          "state": {
            "_model_module": "@jupyter-widgets/base",
            "_model_module_version": "1.2.0",
            "_model_name": "LayoutModel",
            "_view_count": null,
            "_view_module": "@jupyter-widgets/base",
            "_view_module_version": "1.2.0",
            "_view_name": "LayoutView",
            "align_content": null,
            "align_items": null,
            "align_self": null,
            "border": null,
            "bottom": null,
            "display": null,
            "flex": null,
            "flex_flow": null,
            "grid_area": null,
            "grid_auto_columns": null,
            "grid_auto_flow": null,
            "grid_auto_rows": null,
            "grid_column": null,
            "grid_gap": null,
            "grid_row": null,
            "grid_template_areas": null,
            "grid_template_columns": null,
            "grid_template_rows": null,
            "height": null,
            "justify_content": null,
            "justify_items": null,
            "left": null,
            "margin": null,
            "max_height": null,
            "max_width": null,
            "min_height": null,
            "min_width": null,
            "object_fit": null,
            "object_position": null,
            "order": null,
            "overflow": null,
            "overflow_x": null,
            "overflow_y": null,
            "padding": null,
            "right": null,
            "top": null,
            "visibility": null,
            "width": null
          }
        },
        "3b351cc261684619a48227643f770440": {
          "model_module": "@jupyter-widgets/controls",
          "model_name": "ProgressStyleModel",
          "model_module_version": "1.5.0",
          "state": {
            "_model_module": "@jupyter-widgets/controls",
            "_model_module_version": "1.5.0",
            "_model_name": "ProgressStyleModel",
            "_view_count": null,
            "_view_module": "@jupyter-widgets/base",
            "_view_module_version": "1.2.0",
            "_view_name": "StyleView",
            "bar_color": null,
            "description_width": ""
          }
        },
        "e766a03bfd72489eb55ecdecb6391b07": {
          "model_module": "@jupyter-widgets/base",
          "model_name": "LayoutModel",
          "model_module_version": "1.2.0",
          "state": {
            "_model_module": "@jupyter-widgets/base",
            "_model_module_version": "1.2.0",
            "_model_name": "LayoutModel",
            "_view_count": null,
            "_view_module": "@jupyter-widgets/base",
            "_view_module_version": "1.2.0",
            "_view_name": "LayoutView",
            "align_content": null,
            "align_items": null,
            "align_self": null,
            "border": null,
            "bottom": null,
            "display": null,
            "flex": null,
            "flex_flow": null,
            "grid_area": null,
            "grid_auto_columns": null,
            "grid_auto_flow": null,
            "grid_auto_rows": null,
            "grid_column": null,
            "grid_gap": null,
            "grid_row": null,
            "grid_template_areas": null,
            "grid_template_columns": null,
            "grid_template_rows": null,
            "height": null,
            "justify_content": null,
            "justify_items": null,
            "left": null,
            "margin": null,
            "max_height": null,
            "max_width": null,
            "min_height": null,
            "min_width": null,
            "object_fit": null,
            "object_position": null,
            "order": null,
            "overflow": null,
            "overflow_x": null,
            "overflow_y": null,
            "padding": null,
            "right": null,
            "top": null,
            "visibility": null,
            "width": null
          }
        },
        "014fb421e0c147ef84a6660546509934": {
          "model_module": "@jupyter-widgets/controls",
          "model_name": "DescriptionStyleModel",
          "model_module_version": "1.5.0",
          "state": {
            "_model_module": "@jupyter-widgets/controls",
            "_model_module_version": "1.5.0",
            "_model_name": "DescriptionStyleModel",
            "_view_count": null,
            "_view_module": "@jupyter-widgets/base",
            "_view_module_version": "1.2.0",
            "_view_name": "StyleView",
            "description_width": ""
          }
        },
        "3f75d9bb36944a7c897f58902bf75a8f": {
          "model_module": "@jupyter-widgets/controls",
          "model_name": "HBoxModel",
          "model_module_version": "1.5.0",
          "state": {
            "_dom_classes": [],
            "_model_module": "@jupyter-widgets/controls",
            "_model_module_version": "1.5.0",
            "_model_name": "HBoxModel",
            "_view_count": null,
            "_view_module": "@jupyter-widgets/controls",
            "_view_module_version": "1.5.0",
            "_view_name": "HBoxView",
            "box_style": "",
            "children": [
              "IPY_MODEL_59f100eb89514b5dbf2e345ef6fec11b",
              "IPY_MODEL_262baf7752834ac1bd4084815ad10794",
              "IPY_MODEL_ace5acc1022140a89b23cb66baefaf95"
            ],
            "layout": "IPY_MODEL_b59eeea7a2284dcba17388e0cb07ee3e"
          }
        },
        "59f100eb89514b5dbf2e345ef6fec11b": {
          "model_module": "@jupyter-widgets/controls",
          "model_name": "HTMLModel",
          "model_module_version": "1.5.0",
          "state": {
            "_dom_classes": [],
            "_model_module": "@jupyter-widgets/controls",
            "_model_module_version": "1.5.0",
            "_model_name": "HTMLModel",
            "_view_count": null,
            "_view_module": "@jupyter-widgets/controls",
            "_view_module_version": "1.5.0",
            "_view_name": "HTMLView",
            "description": "",
            "description_tooltip": null,
            "layout": "IPY_MODEL_c7fee3f767a9485eb3769b9f69072464",
            "placeholder": "​",
            "style": "IPY_MODEL_9ff2ed2a09ba4bd8b8f7025a665e3e1e",
            "value": "config.json: 100%"
          }
        },
        "262baf7752834ac1bd4084815ad10794": {
          "model_module": "@jupyter-widgets/controls",
          "model_name": "FloatProgressModel",
          "model_module_version": "1.5.0",
          "state": {
            "_dom_classes": [],
            "_model_module": "@jupyter-widgets/controls",
            "_model_module_version": "1.5.0",
            "_model_name": "FloatProgressModel",
            "_view_count": null,
            "_view_module": "@jupyter-widgets/controls",
            "_view_module_version": "1.5.0",
            "_view_name": "ProgressView",
            "bar_style": "success",
            "description": "",
            "description_tooltip": null,
            "layout": "IPY_MODEL_dc63e54b05d24c53b82fb15d6d1dbdf1",
            "max": 706,
            "min": 0,
            "orientation": "horizontal",
            "style": "IPY_MODEL_590065d98f324c4bb0387df7faea909f",
            "value": 706
          }
        },
        "ace5acc1022140a89b23cb66baefaf95": {
          "model_module": "@jupyter-widgets/controls",
          "model_name": "HTMLModel",
          "model_module_version": "1.5.0",
          "state": {
            "_dom_classes": [],
            "_model_module": "@jupyter-widgets/controls",
            "_model_module_version": "1.5.0",
            "_model_name": "HTMLModel",
            "_view_count": null,
            "_view_module": "@jupyter-widgets/controls",
            "_view_module_version": "1.5.0",
            "_view_name": "HTMLView",
            "description": "",
            "description_tooltip": null,
            "layout": "IPY_MODEL_68d9f3618ec0466ca950c20f84b64693",
            "placeholder": "​",
            "style": "IPY_MODEL_6f4595e477264645a77277444fc1fa80",
            "value": " 706/706 [00:00&lt;00:00, 9.53kB/s]"
          }
        },
        "b59eeea7a2284dcba17388e0cb07ee3e": {
          "model_module": "@jupyter-widgets/base",
          "model_name": "LayoutModel",
          "model_module_version": "1.2.0",
          "state": {
            "_model_module": "@jupyter-widgets/base",
            "_model_module_version": "1.2.0",
            "_model_name": "LayoutModel",
            "_view_count": null,
            "_view_module": "@jupyter-widgets/base",
            "_view_module_version": "1.2.0",
            "_view_name": "LayoutView",
            "align_content": null,
            "align_items": null,
            "align_self": null,
            "border": null,
            "bottom": null,
            "display": null,
            "flex": null,
            "flex_flow": null,
            "grid_area": null,
            "grid_auto_columns": null,
            "grid_auto_flow": null,
            "grid_auto_rows": null,
            "grid_column": null,
            "grid_gap": null,
            "grid_row": null,
            "grid_template_areas": null,
            "grid_template_columns": null,
            "grid_template_rows": null,
            "height": null,
            "justify_content": null,
            "justify_items": null,
            "left": null,
            "margin": null,
            "max_height": null,
            "max_width": null,
            "min_height": null,
            "min_width": null,
            "object_fit": null,
            "object_position": null,
            "order": null,
            "overflow": null,
            "overflow_x": null,
            "overflow_y": null,
            "padding": null,
            "right": null,
            "top": null,
            "visibility": null,
            "width": null
          }
        },
        "c7fee3f767a9485eb3769b9f69072464": {
          "model_module": "@jupyter-widgets/base",
          "model_name": "LayoutModel",
          "model_module_version": "1.2.0",
          "state": {
            "_model_module": "@jupyter-widgets/base",
            "_model_module_version": "1.2.0",
            "_model_name": "LayoutModel",
            "_view_count": null,
            "_view_module": "@jupyter-widgets/base",
            "_view_module_version": "1.2.0",
            "_view_name": "LayoutView",
            "align_content": null,
            "align_items": null,
            "align_self": null,
            "border": null,
            "bottom": null,
            "display": null,
            "flex": null,
            "flex_flow": null,
            "grid_area": null,
            "grid_auto_columns": null,
            "grid_auto_flow": null,
            "grid_auto_rows": null,
            "grid_column": null,
            "grid_gap": null,
            "grid_row": null,
            "grid_template_areas": null,
            "grid_template_columns": null,
            "grid_template_rows": null,
            "height": null,
            "justify_content": null,
            "justify_items": null,
            "left": null,
            "margin": null,
            "max_height": null,
            "max_width": null,
            "min_height": null,
            "min_width": null,
            "object_fit": null,
            "object_position": null,
            "order": null,
            "overflow": null,
            "overflow_x": null,
            "overflow_y": null,
            "padding": null,
            "right": null,
            "top": null,
            "visibility": null,
            "width": null
          }
        },
        "9ff2ed2a09ba4bd8b8f7025a665e3e1e": {
          "model_module": "@jupyter-widgets/controls",
          "model_name": "DescriptionStyleModel",
          "model_module_version": "1.5.0",
          "state": {
            "_model_module": "@jupyter-widgets/controls",
            "_model_module_version": "1.5.0",
            "_model_name": "DescriptionStyleModel",
            "_view_count": null,
            "_view_module": "@jupyter-widgets/base",
            "_view_module_version": "1.2.0",
            "_view_name": "StyleView",
            "description_width": ""
          }
        },
        "dc63e54b05d24c53b82fb15d6d1dbdf1": {
          "model_module": "@jupyter-widgets/base",
          "model_name": "LayoutModel",
          "model_module_version": "1.2.0",
          "state": {
            "_model_module": "@jupyter-widgets/base",
            "_model_module_version": "1.2.0",
            "_model_name": "LayoutModel",
            "_view_count": null,
            "_view_module": "@jupyter-widgets/base",
            "_view_module_version": "1.2.0",
            "_view_name": "LayoutView",
            "align_content": null,
            "align_items": null,
            "align_self": null,
            "border": null,
            "bottom": null,
            "display": null,
            "flex": null,
            "flex_flow": null,
            "grid_area": null,
            "grid_auto_columns": null,
            "grid_auto_flow": null,
            "grid_auto_rows": null,
            "grid_column": null,
            "grid_gap": null,
            "grid_row": null,
            "grid_template_areas": null,
            "grid_template_columns": null,
            "grid_template_rows": null,
            "height": null,
            "justify_content": null,
            "justify_items": null,
            "left": null,
            "margin": null,
            "max_height": null,
            "max_width": null,
            "min_height": null,
            "min_width": null,
            "object_fit": null,
            "object_position": null,
            "order": null,
            "overflow": null,
            "overflow_x": null,
            "overflow_y": null,
            "padding": null,
            "right": null,
            "top": null,
            "visibility": null,
            "width": null
          }
        },
        "590065d98f324c4bb0387df7faea909f": {
          "model_module": "@jupyter-widgets/controls",
          "model_name": "ProgressStyleModel",
          "model_module_version": "1.5.0",
          "state": {
            "_model_module": "@jupyter-widgets/controls",
            "_model_module_version": "1.5.0",
            "_model_name": "ProgressStyleModel",
            "_view_count": null,
            "_view_module": "@jupyter-widgets/base",
            "_view_module_version": "1.2.0",
            "_view_name": "StyleView",
            "bar_color": null,
            "description_width": ""
          }
        },
        "68d9f3618ec0466ca950c20f84b64693": {
          "model_module": "@jupyter-widgets/base",
          "model_name": "LayoutModel",
          "model_module_version": "1.2.0",
          "state": {
            "_model_module": "@jupyter-widgets/base",
            "_model_module_version": "1.2.0",
            "_model_name": "LayoutModel",
            "_view_count": null,
            "_view_module": "@jupyter-widgets/base",
            "_view_module_version": "1.2.0",
            "_view_name": "LayoutView",
            "align_content": null,
            "align_items": null,
            "align_self": null,
            "border": null,
            "bottom": null,
            "display": null,
            "flex": null,
            "flex_flow": null,
            "grid_area": null,
            "grid_auto_columns": null,
            "grid_auto_flow": null,
            "grid_auto_rows": null,
            "grid_column": null,
            "grid_gap": null,
            "grid_row": null,
            "grid_template_areas": null,
            "grid_template_columns": null,
            "grid_template_rows": null,
            "height": null,
            "justify_content": null,
            "justify_items": null,
            "left": null,
            "margin": null,
            "max_height": null,
            "max_width": null,
            "min_height": null,
            "min_width": null,
            "object_fit": null,
            "object_position": null,
            "order": null,
            "overflow": null,
            "overflow_x": null,
            "overflow_y": null,
            "padding": null,
            "right": null,
            "top": null,
            "visibility": null,
            "width": null
          }
        },
        "6f4595e477264645a77277444fc1fa80": {
          "model_module": "@jupyter-widgets/controls",
          "model_name": "DescriptionStyleModel",
          "model_module_version": "1.5.0",
          "state": {
            "_model_module": "@jupyter-widgets/controls",
            "_model_module_version": "1.5.0",
            "_model_name": "DescriptionStyleModel",
            "_view_count": null,
            "_view_module": "@jupyter-widgets/base",
            "_view_module_version": "1.2.0",
            "_view_name": "StyleView",
            "description_width": ""
          }
        },
        "59c19fd3ab9748ad94a8189932c2c8c5": {
          "model_module": "@jupyter-widgets/controls",
          "model_name": "HBoxModel",
          "model_module_version": "1.5.0",
          "state": {
            "_dom_classes": [],
            "_model_module": "@jupyter-widgets/controls",
            "_model_module_version": "1.5.0",
            "_model_name": "HBoxModel",
            "_view_count": null,
            "_view_module": "@jupyter-widgets/controls",
            "_view_module_version": "1.5.0",
            "_view_name": "HBoxView",
            "box_style": "",
            "children": [
              "IPY_MODEL_4f148b20280142088ebacd402e00c0fd",
              "IPY_MODEL_f3050d89b23e49b080ab9a37dc805ec9",
              "IPY_MODEL_2b604eeabfb54039979c864b1e7d0df7"
            ],
            "layout": "IPY_MODEL_a1f9042e21454ee6af91fa77c5b3d4c9"
          }
        },
        "4f148b20280142088ebacd402e00c0fd": {
          "model_module": "@jupyter-widgets/controls",
          "model_name": "HTMLModel",
          "model_module_version": "1.5.0",
          "state": {
            "_dom_classes": [],
            "_model_module": "@jupyter-widgets/controls",
            "_model_module_version": "1.5.0",
            "_model_name": "HTMLModel",
            "_view_count": null,
            "_view_module": "@jupyter-widgets/controls",
            "_view_module_version": "1.5.0",
            "_view_name": "HTMLView",
            "description": "",
            "description_tooltip": null,
            "layout": "IPY_MODEL_0e5dd8ad474848c7b5f087507b09aa9b",
            "placeholder": "​",
            "style": "IPY_MODEL_eb8d384270354812984c7dd038c420c3",
            "value": "pytorch_model.bin: 100%"
          }
        },
        "f3050d89b23e49b080ab9a37dc805ec9": {
          "model_module": "@jupyter-widgets/controls",
          "model_name": "FloatProgressModel",
          "model_module_version": "1.5.0",
          "state": {
            "_dom_classes": [],
            "_model_module": "@jupyter-widgets/controls",
            "_model_module_version": "1.5.0",
            "_model_name": "FloatProgressModel",
            "_view_count": null,
            "_view_module": "@jupyter-widgets/controls",
            "_view_module_version": "1.5.0",
            "_view_name": "ProgressView",
            "bar_style": "success",
            "description": "",
            "description_tooltip": null,
            "layout": "IPY_MODEL_f35ecee473d2467fa3ff3b7d3a74b63b",
            "max": 437991539,
            "min": 0,
            "orientation": "horizontal",
            "style": "IPY_MODEL_eed2ab5c607e4d2c9b0adc269fd1630b",
            "value": 437991539
          }
        },
        "2b604eeabfb54039979c864b1e7d0df7": {
          "model_module": "@jupyter-widgets/controls",
          "model_name": "HTMLModel",
          "model_module_version": "1.5.0",
          "state": {
            "_dom_classes": [],
            "_model_module": "@jupyter-widgets/controls",
            "_model_module_version": "1.5.0",
            "_model_name": "HTMLModel",
            "_view_count": null,
            "_view_module": "@jupyter-widgets/controls",
            "_view_module_version": "1.5.0",
            "_view_name": "HTMLView",
            "description": "",
            "description_tooltip": null,
            "layout": "IPY_MODEL_a00baf3f99cf4735ac24a7c47d9a7750",
            "placeholder": "​",
            "style": "IPY_MODEL_6c2d51a1e5824fc491fa36e588932fc7",
            "value": " 438M/438M [00:04&lt;00:00, 100MB/s]"
          }
        },
        "a1f9042e21454ee6af91fa77c5b3d4c9": {
          "model_module": "@jupyter-widgets/base",
          "model_name": "LayoutModel",
          "model_module_version": "1.2.0",
          "state": {
            "_model_module": "@jupyter-widgets/base",
            "_model_module_version": "1.2.0",
            "_model_name": "LayoutModel",
            "_view_count": null,
            "_view_module": "@jupyter-widgets/base",
            "_view_module_version": "1.2.0",
            "_view_name": "LayoutView",
            "align_content": null,
            "align_items": null,
            "align_self": null,
            "border": null,
            "bottom": null,
            "display": null,
            "flex": null,
            "flex_flow": null,
            "grid_area": null,
            "grid_auto_columns": null,
            "grid_auto_flow": null,
            "grid_auto_rows": null,
            "grid_column": null,
            "grid_gap": null,
            "grid_row": null,
            "grid_template_areas": null,
            "grid_template_columns": null,
            "grid_template_rows": null,
            "height": null,
            "justify_content": null,
            "justify_items": null,
            "left": null,
            "margin": null,
            "max_height": null,
            "max_width": null,
            "min_height": null,
            "min_width": null,
            "object_fit": null,
            "object_position": null,
            "order": null,
            "overflow": null,
            "overflow_x": null,
            "overflow_y": null,
            "padding": null,
            "right": null,
            "top": null,
            "visibility": null,
            "width": null
          }
        },
        "0e5dd8ad474848c7b5f087507b09aa9b": {
          "model_module": "@jupyter-widgets/base",
          "model_name": "LayoutModel",
          "model_module_version": "1.2.0",
          "state": {
            "_model_module": "@jupyter-widgets/base",
            "_model_module_version": "1.2.0",
            "_model_name": "LayoutModel",
            "_view_count": null,
            "_view_module": "@jupyter-widgets/base",
            "_view_module_version": "1.2.0",
            "_view_name": "LayoutView",
            "align_content": null,
            "align_items": null,
            "align_self": null,
            "border": null,
            "bottom": null,
            "display": null,
            "flex": null,
            "flex_flow": null,
            "grid_area": null,
            "grid_auto_columns": null,
            "grid_auto_flow": null,
            "grid_auto_rows": null,
            "grid_column": null,
            "grid_gap": null,
            "grid_row": null,
            "grid_template_areas": null,
            "grid_template_columns": null,
            "grid_template_rows": null,
            "height": null,
            "justify_content": null,
            "justify_items": null,
            "left": null,
            "margin": null,
            "max_height": null,
            "max_width": null,
            "min_height": null,
            "min_width": null,
            "object_fit": null,
            "object_position": null,
            "order": null,
            "overflow": null,
            "overflow_x": null,
            "overflow_y": null,
            "padding": null,
            "right": null,
            "top": null,
            "visibility": null,
            "width": null
          }
        },
        "eb8d384270354812984c7dd038c420c3": {
          "model_module": "@jupyter-widgets/controls",
          "model_name": "DescriptionStyleModel",
          "model_module_version": "1.5.0",
          "state": {
            "_model_module": "@jupyter-widgets/controls",
            "_model_module_version": "1.5.0",
            "_model_name": "DescriptionStyleModel",
            "_view_count": null,
            "_view_module": "@jupyter-widgets/base",
            "_view_module_version": "1.2.0",
            "_view_name": "StyleView",
            "description_width": ""
          }
        },
        "f35ecee473d2467fa3ff3b7d3a74b63b": {
          "model_module": "@jupyter-widgets/base",
          "model_name": "LayoutModel",
          "model_module_version": "1.2.0",
          "state": {
            "_model_module": "@jupyter-widgets/base",
            "_model_module_version": "1.2.0",
            "_model_name": "LayoutModel",
            "_view_count": null,
            "_view_module": "@jupyter-widgets/base",
            "_view_module_version": "1.2.0",
            "_view_name": "LayoutView",
            "align_content": null,
            "align_items": null,
            "align_self": null,
            "border": null,
            "bottom": null,
            "display": null,
            "flex": null,
            "flex_flow": null,
            "grid_area": null,
            "grid_auto_columns": null,
            "grid_auto_flow": null,
            "grid_auto_rows": null,
            "grid_column": null,
            "grid_gap": null,
            "grid_row": null,
            "grid_template_areas": null,
            "grid_template_columns": null,
            "grid_template_rows": null,
            "height": null,
            "justify_content": null,
            "justify_items": null,
            "left": null,
            "margin": null,
            "max_height": null,
            "max_width": null,
            "min_height": null,
            "min_width": null,
            "object_fit": null,
            "object_position": null,
            "order": null,
            "overflow": null,
            "overflow_x": null,
            "overflow_y": null,
            "padding": null,
            "right": null,
            "top": null,
            "visibility": null,
            "width": null
          }
        },
        "eed2ab5c607e4d2c9b0adc269fd1630b": {
          "model_module": "@jupyter-widgets/controls",
          "model_name": "ProgressStyleModel",
          "model_module_version": "1.5.0",
          "state": {
            "_model_module": "@jupyter-widgets/controls",
            "_model_module_version": "1.5.0",
            "_model_name": "ProgressStyleModel",
            "_view_count": null,
            "_view_module": "@jupyter-widgets/base",
            "_view_module_version": "1.2.0",
            "_view_name": "StyleView",
            "bar_color": null,
            "description_width": ""
          }
        },
        "a00baf3f99cf4735ac24a7c47d9a7750": {
          "model_module": "@jupyter-widgets/base",
          "model_name": "LayoutModel",
          "model_module_version": "1.2.0",
          "state": {
            "_model_module": "@jupyter-widgets/base",
            "_model_module_version": "1.2.0",
            "_model_name": "LayoutModel",
            "_view_count": null,
            "_view_module": "@jupyter-widgets/base",
            "_view_module_version": "1.2.0",
            "_view_name": "LayoutView",
            "align_content": null,
            "align_items": null,
            "align_self": null,
            "border": null,
            "bottom": null,
            "display": null,
            "flex": null,
            "flex_flow": null,
            "grid_area": null,
            "grid_auto_columns": null,
            "grid_auto_flow": null,
            "grid_auto_rows": null,
            "grid_column": null,
            "grid_gap": null,
            "grid_row": null,
            "grid_template_areas": null,
            "grid_template_columns": null,
            "grid_template_rows": null,
            "height": null,
            "justify_content": null,
            "justify_items": null,
            "left": null,
            "margin": null,
            "max_height": null,
            "max_width": null,
            "min_height": null,
            "min_width": null,
            "object_fit": null,
            "object_position": null,
            "order": null,
            "overflow": null,
            "overflow_x": null,
            "overflow_y": null,
            "padding": null,
            "right": null,
            "top": null,
            "visibility": null,
            "width": null
          }
        },
        "6c2d51a1e5824fc491fa36e588932fc7": {
          "model_module": "@jupyter-widgets/controls",
          "model_name": "DescriptionStyleModel",
          "model_module_version": "1.5.0",
          "state": {
            "_model_module": "@jupyter-widgets/controls",
            "_model_module_version": "1.5.0",
            "_model_name": "DescriptionStyleModel",
            "_view_count": null,
            "_view_module": "@jupyter-widgets/base",
            "_view_module_version": "1.2.0",
            "_view_name": "StyleView",
            "description_width": ""
          }
        },
        "449a38c7cbf7423880cf503b414bafe3": {
          "model_module": "@jupyter-widgets/controls",
          "model_name": "HBoxModel",
          "model_module_version": "1.5.0",
          "state": {
            "_dom_classes": [],
            "_model_module": "@jupyter-widgets/controls",
            "_model_module_version": "1.5.0",
            "_model_name": "HBoxModel",
            "_view_count": null,
            "_view_module": "@jupyter-widgets/controls",
            "_view_module_version": "1.5.0",
            "_view_name": "HBoxView",
            "box_style": "",
            "children": [
              "IPY_MODEL_dc1d0e44241c45f8a5d56336b26dab7a",
              "IPY_MODEL_79c8794457c24202b347929e19e47747",
              "IPY_MODEL_f300ef674f1442f28817d2ca097614ca"
            ],
            "layout": "IPY_MODEL_e82575b815974366bc6e6423d2b241cb"
          }
        },
        "dc1d0e44241c45f8a5d56336b26dab7a": {
          "model_module": "@jupyter-widgets/controls",
          "model_name": "HTMLModel",
          "model_module_version": "1.5.0",
          "state": {
            "_dom_classes": [],
            "_model_module": "@jupyter-widgets/controls",
            "_model_module_version": "1.5.0",
            "_model_name": "HTMLModel",
            "_view_count": null,
            "_view_module": "@jupyter-widgets/controls",
            "_view_module_version": "1.5.0",
            "_view_name": "HTMLView",
            "description": "",
            "description_tooltip": null,
            "layout": "IPY_MODEL_cdd74c950c7e4c8d8c5d3dd76c562ef0",
            "placeholder": "​",
            "style": "IPY_MODEL_74675cbe717540e8a3b4efc1214c1994",
            "value": "tokenizer_config.json: 100%"
          }
        },
        "79c8794457c24202b347929e19e47747": {
          "model_module": "@jupyter-widgets/controls",
          "model_name": "FloatProgressModel",
          "model_module_version": "1.5.0",
          "state": {
            "_dom_classes": [],
            "_model_module": "@jupyter-widgets/controls",
            "_model_module_version": "1.5.0",
            "_model_name": "FloatProgressModel",
            "_view_count": null,
            "_view_module": "@jupyter-widgets/controls",
            "_view_module_version": "1.5.0",
            "_view_name": "ProgressView",
            "bar_style": "success",
            "description": "",
            "description_tooltip": null,
            "layout": "IPY_MODEL_7ef8bdaab7144c8c93b156407f56027e",
            "max": 48,
            "min": 0,
            "orientation": "horizontal",
            "style": "IPY_MODEL_ccd98cb93a6449dabf28eb9554125b4f",
            "value": 48
          }
        },
        "f300ef674f1442f28817d2ca097614ca": {
          "model_module": "@jupyter-widgets/controls",
          "model_name": "HTMLModel",
          "model_module_version": "1.5.0",
          "state": {
            "_dom_classes": [],
            "_model_module": "@jupyter-widgets/controls",
            "_model_module_version": "1.5.0",
            "_model_name": "HTMLModel",
            "_view_count": null,
            "_view_module": "@jupyter-widgets/controls",
            "_view_module_version": "1.5.0",
            "_view_name": "HTMLView",
            "description": "",
            "description_tooltip": null,
            "layout": "IPY_MODEL_818c9e5f913b44069eab1131c9b125df",
            "placeholder": "​",
            "style": "IPY_MODEL_13de822af1e046c48e12574ccd300543",
            "value": " 48.0/48.0 [00:00&lt;00:00, 808B/s]"
          }
        },
        "e82575b815974366bc6e6423d2b241cb": {
          "model_module": "@jupyter-widgets/base",
          "model_name": "LayoutModel",
          "model_module_version": "1.2.0",
          "state": {
            "_model_module": "@jupyter-widgets/base",
            "_model_module_version": "1.2.0",
            "_model_name": "LayoutModel",
            "_view_count": null,
            "_view_module": "@jupyter-widgets/base",
            "_view_module_version": "1.2.0",
            "_view_name": "LayoutView",
            "align_content": null,
            "align_items": null,
            "align_self": null,
            "border": null,
            "bottom": null,
            "display": null,
            "flex": null,
            "flex_flow": null,
            "grid_area": null,
            "grid_auto_columns": null,
            "grid_auto_flow": null,
            "grid_auto_rows": null,
            "grid_column": null,
            "grid_gap": null,
            "grid_row": null,
            "grid_template_areas": null,
            "grid_template_columns": null,
            "grid_template_rows": null,
            "height": null,
            "justify_content": null,
            "justify_items": null,
            "left": null,
            "margin": null,
            "max_height": null,
            "max_width": null,
            "min_height": null,
            "min_width": null,
            "object_fit": null,
            "object_position": null,
            "order": null,
            "overflow": null,
            "overflow_x": null,
            "overflow_y": null,
            "padding": null,
            "right": null,
            "top": null,
            "visibility": null,
            "width": null
          }
        },
        "cdd74c950c7e4c8d8c5d3dd76c562ef0": {
          "model_module": "@jupyter-widgets/base",
          "model_name": "LayoutModel",
          "model_module_version": "1.2.0",
          "state": {
            "_model_module": "@jupyter-widgets/base",
            "_model_module_version": "1.2.0",
            "_model_name": "LayoutModel",
            "_view_count": null,
            "_view_module": "@jupyter-widgets/base",
            "_view_module_version": "1.2.0",
            "_view_name": "LayoutView",
            "align_content": null,
            "align_items": null,
            "align_self": null,
            "border": null,
            "bottom": null,
            "display": null,
            "flex": null,
            "flex_flow": null,
            "grid_area": null,
            "grid_auto_columns": null,
            "grid_auto_flow": null,
            "grid_auto_rows": null,
            "grid_column": null,
            "grid_gap": null,
            "grid_row": null,
            "grid_template_areas": null,
            "grid_template_columns": null,
            "grid_template_rows": null,
            "height": null,
            "justify_content": null,
            "justify_items": null,
            "left": null,
            "margin": null,
            "max_height": null,
            "max_width": null,
            "min_height": null,
            "min_width": null,
            "object_fit": null,
            "object_position": null,
            "order": null,
            "overflow": null,
            "overflow_x": null,
            "overflow_y": null,
            "padding": null,
            "right": null,
            "top": null,
            "visibility": null,
            "width": null
          }
        },
        "74675cbe717540e8a3b4efc1214c1994": {
          "model_module": "@jupyter-widgets/controls",
          "model_name": "DescriptionStyleModel",
          "model_module_version": "1.5.0",
          "state": {
            "_model_module": "@jupyter-widgets/controls",
            "_model_module_version": "1.5.0",
            "_model_name": "DescriptionStyleModel",
            "_view_count": null,
            "_view_module": "@jupyter-widgets/base",
            "_view_module_version": "1.2.0",
            "_view_name": "StyleView",
            "description_width": ""
          }
        },
        "7ef8bdaab7144c8c93b156407f56027e": {
          "model_module": "@jupyter-widgets/base",
          "model_name": "LayoutModel",
          "model_module_version": "1.2.0",
          "state": {
            "_model_module": "@jupyter-widgets/base",
            "_model_module_version": "1.2.0",
            "_model_name": "LayoutModel",
            "_view_count": null,
            "_view_module": "@jupyter-widgets/base",
            "_view_module_version": "1.2.0",
            "_view_name": "LayoutView",
            "align_content": null,
            "align_items": null,
            "align_self": null,
            "border": null,
            "bottom": null,
            "display": null,
            "flex": null,
            "flex_flow": null,
            "grid_area": null,
            "grid_auto_columns": null,
            "grid_auto_flow": null,
            "grid_auto_rows": null,
            "grid_column": null,
            "grid_gap": null,
            "grid_row": null,
            "grid_template_areas": null,
            "grid_template_columns": null,
            "grid_template_rows": null,
            "height": null,
            "justify_content": null,
            "justify_items": null,
            "left": null,
            "margin": null,
            "max_height": null,
            "max_width": null,
            "min_height": null,
            "min_width": null,
            "object_fit": null,
            "object_position": null,
            "order": null,
            "overflow": null,
            "overflow_x": null,
            "overflow_y": null,
            "padding": null,
            "right": null,
            "top": null,
            "visibility": null,
            "width": null
          }
        },
        "ccd98cb93a6449dabf28eb9554125b4f": {
          "model_module": "@jupyter-widgets/controls",
          "model_name": "ProgressStyleModel",
          "model_module_version": "1.5.0",
          "state": {
            "_model_module": "@jupyter-widgets/controls",
            "_model_module_version": "1.5.0",
            "_model_name": "ProgressStyleModel",
            "_view_count": null,
            "_view_module": "@jupyter-widgets/base",
            "_view_module_version": "1.2.0",
            "_view_name": "StyleView",
            "bar_color": null,
            "description_width": ""
          }
        },
        "818c9e5f913b44069eab1131c9b125df": {
          "model_module": "@jupyter-widgets/base",
          "model_name": "LayoutModel",
          "model_module_version": "1.2.0",
          "state": {
            "_model_module": "@jupyter-widgets/base",
            "_model_module_version": "1.2.0",
            "_model_name": "LayoutModel",
            "_view_count": null,
            "_view_module": "@jupyter-widgets/base",
            "_view_module_version": "1.2.0",
            "_view_name": "LayoutView",
            "align_content": null,
            "align_items": null,
            "align_self": null,
            "border": null,
            "bottom": null,
            "display": null,
            "flex": null,
            "flex_flow": null,
            "grid_area": null,
            "grid_auto_columns": null,
            "grid_auto_flow": null,
            "grid_auto_rows": null,
            "grid_column": null,
            "grid_gap": null,
            "grid_row": null,
            "grid_template_areas": null,
            "grid_template_columns": null,
            "grid_template_rows": null,
            "height": null,
            "justify_content": null,
            "justify_items": null,
            "left": null,
            "margin": null,
            "max_height": null,
            "max_width": null,
            "min_height": null,
            "min_width": null,
            "object_fit": null,
            "object_position": null,
            "order": null,
            "overflow": null,
            "overflow_x": null,
            "overflow_y": null,
            "padding": null,
            "right": null,
            "top": null,
            "visibility": null,
            "width": null
          }
        },
        "13de822af1e046c48e12574ccd300543": {
          "model_module": "@jupyter-widgets/controls",
          "model_name": "DescriptionStyleModel",
          "model_module_version": "1.5.0",
          "state": {
            "_model_module": "@jupyter-widgets/controls",
            "_model_module_version": "1.5.0",
            "_model_name": "DescriptionStyleModel",
            "_view_count": null,
            "_view_module": "@jupyter-widgets/base",
            "_view_module_version": "1.2.0",
            "_view_name": "StyleView",
            "description_width": ""
          }
        },
        "6031b548e9cc439c8dd0981581a66a3b": {
          "model_module": "@jupyter-widgets/controls",
          "model_name": "HBoxModel",
          "model_module_version": "1.5.0",
          "state": {
            "_dom_classes": [],
            "_model_module": "@jupyter-widgets/controls",
            "_model_module_version": "1.5.0",
            "_model_name": "HBoxModel",
            "_view_count": null,
            "_view_module": "@jupyter-widgets/controls",
            "_view_module_version": "1.5.0",
            "_view_name": "HBoxView",
            "box_style": "",
            "children": [
              "IPY_MODEL_5061c4d8c2e94722a474756c5bf73350",
              "IPY_MODEL_c2f03ab2dfe34583a9c7618bc1ee6428",
              "IPY_MODEL_bcb23f22bd55474b9e4e0cf5784ba9af"
            ],
            "layout": "IPY_MODEL_9dd742ff932d46f699e7d47b9461b33f"
          }
        },
        "5061c4d8c2e94722a474756c5bf73350": {
          "model_module": "@jupyter-widgets/controls",
          "model_name": "HTMLModel",
          "model_module_version": "1.5.0",
          "state": {
            "_dom_classes": [],
            "_model_module": "@jupyter-widgets/controls",
            "_model_module_version": "1.5.0",
            "_model_name": "HTMLModel",
            "_view_count": null,
            "_view_module": "@jupyter-widgets/controls",
            "_view_module_version": "1.5.0",
            "_view_name": "HTMLView",
            "description": "",
            "description_tooltip": null,
            "layout": "IPY_MODEL_ac66dd6e58af457c9b9dd7861fa99170",
            "placeholder": "​",
            "style": "IPY_MODEL_f6fbf207baf8410bb8c5be77a66f6acc",
            "value": "vocab.txt: 100%"
          }
        },
        "c2f03ab2dfe34583a9c7618bc1ee6428": {
          "model_module": "@jupyter-widgets/controls",
          "model_name": "FloatProgressModel",
          "model_module_version": "1.5.0",
          "state": {
            "_dom_classes": [],
            "_model_module": "@jupyter-widgets/controls",
            "_model_module_version": "1.5.0",
            "_model_name": "FloatProgressModel",
            "_view_count": null,
            "_view_module": "@jupyter-widgets/controls",
            "_view_module_version": "1.5.0",
            "_view_name": "ProgressView",
            "bar_style": "success",
            "description": "",
            "description_tooltip": null,
            "layout": "IPY_MODEL_33c42691ba0e4902a324c91a6adbecf1",
            "max": 231508,
            "min": 0,
            "orientation": "horizontal",
            "style": "IPY_MODEL_d3e1f787477a478eb72109158a050611",
            "value": 231508
          }
        },
        "bcb23f22bd55474b9e4e0cf5784ba9af": {
          "model_module": "@jupyter-widgets/controls",
          "model_name": "HTMLModel",
          "model_module_version": "1.5.0",
          "state": {
            "_dom_classes": [],
            "_model_module": "@jupyter-widgets/controls",
            "_model_module_version": "1.5.0",
            "_model_name": "HTMLModel",
            "_view_count": null,
            "_view_module": "@jupyter-widgets/controls",
            "_view_module_version": "1.5.0",
            "_view_name": "HTMLView",
            "description": "",
            "description_tooltip": null,
            "layout": "IPY_MODEL_18cea46c6c0043f9b37343a53328966e",
            "placeholder": "​",
            "style": "IPY_MODEL_b3ec01e6b9b641a797e100b23bb16a6f",
            "value": " 232k/232k [00:00&lt;00:00, 3.26MB/s]"
          }
        },
        "9dd742ff932d46f699e7d47b9461b33f": {
          "model_module": "@jupyter-widgets/base",
          "model_name": "LayoutModel",
          "model_module_version": "1.2.0",
          "state": {
            "_model_module": "@jupyter-widgets/base",
            "_model_module_version": "1.2.0",
            "_model_name": "LayoutModel",
            "_view_count": null,
            "_view_module": "@jupyter-widgets/base",
            "_view_module_version": "1.2.0",
            "_view_name": "LayoutView",
            "align_content": null,
            "align_items": null,
            "align_self": null,
            "border": null,
            "bottom": null,
            "display": null,
            "flex": null,
            "flex_flow": null,
            "grid_area": null,
            "grid_auto_columns": null,
            "grid_auto_flow": null,
            "grid_auto_rows": null,
            "grid_column": null,
            "grid_gap": null,
            "grid_row": null,
            "grid_template_areas": null,
            "grid_template_columns": null,
            "grid_template_rows": null,
            "height": null,
            "justify_content": null,
            "justify_items": null,
            "left": null,
            "margin": null,
            "max_height": null,
            "max_width": null,
            "min_height": null,
            "min_width": null,
            "object_fit": null,
            "object_position": null,
            "order": null,
            "overflow": null,
            "overflow_x": null,
            "overflow_y": null,
            "padding": null,
            "right": null,
            "top": null,
            "visibility": null,
            "width": null
          }
        },
        "ac66dd6e58af457c9b9dd7861fa99170": {
          "model_module": "@jupyter-widgets/base",
          "model_name": "LayoutModel",
          "model_module_version": "1.2.0",
          "state": {
            "_model_module": "@jupyter-widgets/base",
            "_model_module_version": "1.2.0",
            "_model_name": "LayoutModel",
            "_view_count": null,
            "_view_module": "@jupyter-widgets/base",
            "_view_module_version": "1.2.0",
            "_view_name": "LayoutView",
            "align_content": null,
            "align_items": null,
            "align_self": null,
            "border": null,
            "bottom": null,
            "display": null,
            "flex": null,
            "flex_flow": null,
            "grid_area": null,
            "grid_auto_columns": null,
            "grid_auto_flow": null,
            "grid_auto_rows": null,
            "grid_column": null,
            "grid_gap": null,
            "grid_row": null,
            "grid_template_areas": null,
            "grid_template_columns": null,
            "grid_template_rows": null,
            "height": null,
            "justify_content": null,
            "justify_items": null,
            "left": null,
            "margin": null,
            "max_height": null,
            "max_width": null,
            "min_height": null,
            "min_width": null,
            "object_fit": null,
            "object_position": null,
            "order": null,
            "overflow": null,
            "overflow_x": null,
            "overflow_y": null,
            "padding": null,
            "right": null,
            "top": null,
            "visibility": null,
            "width": null
          }
        },
        "f6fbf207baf8410bb8c5be77a66f6acc": {
          "model_module": "@jupyter-widgets/controls",
          "model_name": "DescriptionStyleModel",
          "model_module_version": "1.5.0",
          "state": {
            "_model_module": "@jupyter-widgets/controls",
            "_model_module_version": "1.5.0",
            "_model_name": "DescriptionStyleModel",
            "_view_count": null,
            "_view_module": "@jupyter-widgets/base",
            "_view_module_version": "1.2.0",
            "_view_name": "StyleView",
            "description_width": ""
          }
        },
        "33c42691ba0e4902a324c91a6adbecf1": {
          "model_module": "@jupyter-widgets/base",
          "model_name": "LayoutModel",
          "model_module_version": "1.2.0",
          "state": {
            "_model_module": "@jupyter-widgets/base",
            "_model_module_version": "1.2.0",
            "_model_name": "LayoutModel",
            "_view_count": null,
            "_view_module": "@jupyter-widgets/base",
            "_view_module_version": "1.2.0",
            "_view_name": "LayoutView",
            "align_content": null,
            "align_items": null,
            "align_self": null,
            "border": null,
            "bottom": null,
            "display": null,
            "flex": null,
            "flex_flow": null,
            "grid_area": null,
            "grid_auto_columns": null,
            "grid_auto_flow": null,
            "grid_auto_rows": null,
            "grid_column": null,
            "grid_gap": null,
            "grid_row": null,
            "grid_template_areas": null,
            "grid_template_columns": null,
            "grid_template_rows": null,
            "height": null,
            "justify_content": null,
            "justify_items": null,
            "left": null,
            "margin": null,
            "max_height": null,
            "max_width": null,
            "min_height": null,
            "min_width": null,
            "object_fit": null,
            "object_position": null,
            "order": null,
            "overflow": null,
            "overflow_x": null,
            "overflow_y": null,
            "padding": null,
            "right": null,
            "top": null,
            "visibility": null,
            "width": null
          }
        },
        "d3e1f787477a478eb72109158a050611": {
          "model_module": "@jupyter-widgets/controls",
          "model_name": "ProgressStyleModel",
          "model_module_version": "1.5.0",
          "state": {
            "_model_module": "@jupyter-widgets/controls",
            "_model_module_version": "1.5.0",
            "_model_name": "ProgressStyleModel",
            "_view_count": null,
            "_view_module": "@jupyter-widgets/base",
            "_view_module_version": "1.2.0",
            "_view_name": "StyleView",
            "bar_color": null,
            "description_width": ""
          }
        },
        "18cea46c6c0043f9b37343a53328966e": {
          "model_module": "@jupyter-widgets/base",
          "model_name": "LayoutModel",
          "model_module_version": "1.2.0",
          "state": {
            "_model_module": "@jupyter-widgets/base",
            "_model_module_version": "1.2.0",
            "_model_name": "LayoutModel",
            "_view_count": null,
            "_view_module": "@jupyter-widgets/base",
            "_view_module_version": "1.2.0",
            "_view_name": "LayoutView",
            "align_content": null,
            "align_items": null,
            "align_self": null,
            "border": null,
            "bottom": null,
            "display": null,
            "flex": null,
            "flex_flow": null,
            "grid_area": null,
            "grid_auto_columns": null,
            "grid_auto_flow": null,
            "grid_auto_rows": null,
            "grid_column": null,
            "grid_gap": null,
            "grid_row": null,
            "grid_template_areas": null,
            "grid_template_columns": null,
            "grid_template_rows": null,
            "height": null,
            "justify_content": null,
            "justify_items": null,
            "left": null,
            "margin": null,
            "max_height": null,
            "max_width": null,
            "min_height": null,
            "min_width": null,
            "object_fit": null,
            "object_position": null,
            "order": null,
            "overflow": null,
            "overflow_x": null,
            "overflow_y": null,
            "padding": null,
            "right": null,
            "top": null,
            "visibility": null,
            "width": null
          }
        },
        "b3ec01e6b9b641a797e100b23bb16a6f": {
          "model_module": "@jupyter-widgets/controls",
          "model_name": "DescriptionStyleModel",
          "model_module_version": "1.5.0",
          "state": {
            "_model_module": "@jupyter-widgets/controls",
            "_model_module_version": "1.5.0",
            "_model_name": "DescriptionStyleModel",
            "_view_count": null,
            "_view_module": "@jupyter-widgets/base",
            "_view_module_version": "1.2.0",
            "_view_name": "StyleView",
            "description_width": ""
          }
        },
        "3e90edec620243728e089a7fdaff0c67": {
          "model_module": "@jupyter-widgets/controls",
          "model_name": "HBoxModel",
          "model_module_version": "1.5.0",
          "state": {
            "_dom_classes": [],
            "_model_module": "@jupyter-widgets/controls",
            "_model_module_version": "1.5.0",
            "_model_name": "HBoxModel",
            "_view_count": null,
            "_view_module": "@jupyter-widgets/controls",
            "_view_module_version": "1.5.0",
            "_view_name": "HBoxView",
            "box_style": "",
            "children": [
              "IPY_MODEL_3768adbef1d147e59064c7e3ccc1b2c1",
              "IPY_MODEL_162f7bd0b0754f5aba78751b7d7bec0d",
              "IPY_MODEL_3cbd869306e741ae9dc2196d41e07352"
            ],
            "layout": "IPY_MODEL_98ae9c191ca841bf9d668fa46b2784fd"
          }
        },
        "3768adbef1d147e59064c7e3ccc1b2c1": {
          "model_module": "@jupyter-widgets/controls",
          "model_name": "HTMLModel",
          "model_module_version": "1.5.0",
          "state": {
            "_dom_classes": [],
            "_model_module": "@jupyter-widgets/controls",
            "_model_module_version": "1.5.0",
            "_model_name": "HTMLModel",
            "_view_count": null,
            "_view_module": "@jupyter-widgets/controls",
            "_view_module_version": "1.5.0",
            "_view_name": "HTMLView",
            "description": "",
            "description_tooltip": null,
            "layout": "IPY_MODEL_b1b8e67605a44489bf78ccd1da6cb60c",
            "placeholder": "​",
            "style": "IPY_MODEL_b24732aff2f74aeea8f5265897fd7ef0",
            "value": "special_tokens_map.json: 100%"
          }
        },
        "162f7bd0b0754f5aba78751b7d7bec0d": {
          "model_module": "@jupyter-widgets/controls",
          "model_name": "FloatProgressModel",
          "model_module_version": "1.5.0",
          "state": {
            "_dom_classes": [],
            "_model_module": "@jupyter-widgets/controls",
            "_model_module_version": "1.5.0",
            "_model_name": "FloatProgressModel",
            "_view_count": null,
            "_view_module": "@jupyter-widgets/controls",
            "_view_module_version": "1.5.0",
            "_view_name": "ProgressView",
            "bar_style": "success",
            "description": "",
            "description_tooltip": null,
            "layout": "IPY_MODEL_5d00d8a27ba341cca9dd8017ec59be03",
            "max": 112,
            "min": 0,
            "orientation": "horizontal",
            "style": "IPY_MODEL_7cf5851ade4d481f8243b4207c39f715",
            "value": 112
          }
        },
        "3cbd869306e741ae9dc2196d41e07352": {
          "model_module": "@jupyter-widgets/controls",
          "model_name": "HTMLModel",
          "model_module_version": "1.5.0",
          "state": {
            "_dom_classes": [],
            "_model_module": "@jupyter-widgets/controls",
            "_model_module_version": "1.5.0",
            "_model_name": "HTMLModel",
            "_view_count": null,
            "_view_module": "@jupyter-widgets/controls",
            "_view_module_version": "1.5.0",
            "_view_name": "HTMLView",
            "description": "",
            "description_tooltip": null,
            "layout": "IPY_MODEL_10757d6c25c94673ac063c071ed21d27",
            "placeholder": "​",
            "style": "IPY_MODEL_97f98c7863d4476dbef97edba6b0aa48",
            "value": " 112/112 [00:00&lt;00:00, 1.59kB/s]"
          }
        },
        "98ae9c191ca841bf9d668fa46b2784fd": {
          "model_module": "@jupyter-widgets/base",
          "model_name": "LayoutModel",
          "model_module_version": "1.2.0",
          "state": {
            "_model_module": "@jupyter-widgets/base",
            "_model_module_version": "1.2.0",
            "_model_name": "LayoutModel",
            "_view_count": null,
            "_view_module": "@jupyter-widgets/base",
            "_view_module_version": "1.2.0",
            "_view_name": "LayoutView",
            "align_content": null,
            "align_items": null,
            "align_self": null,
            "border": null,
            "bottom": null,
            "display": null,
            "flex": null,
            "flex_flow": null,
            "grid_area": null,
            "grid_auto_columns": null,
            "grid_auto_flow": null,
            "grid_auto_rows": null,
            "grid_column": null,
            "grid_gap": null,
            "grid_row": null,
            "grid_template_areas": null,
            "grid_template_columns": null,
            "grid_template_rows": null,
            "height": null,
            "justify_content": null,
            "justify_items": null,
            "left": null,
            "margin": null,
            "max_height": null,
            "max_width": null,
            "min_height": null,
            "min_width": null,
            "object_fit": null,
            "object_position": null,
            "order": null,
            "overflow": null,
            "overflow_x": null,
            "overflow_y": null,
            "padding": null,
            "right": null,
            "top": null,
            "visibility": null,
            "width": null
          }
        },
        "b1b8e67605a44489bf78ccd1da6cb60c": {
          "model_module": "@jupyter-widgets/base",
          "model_name": "LayoutModel",
          "model_module_version": "1.2.0",
          "state": {
            "_model_module": "@jupyter-widgets/base",
            "_model_module_version": "1.2.0",
            "_model_name": "LayoutModel",
            "_view_count": null,
            "_view_module": "@jupyter-widgets/base",
            "_view_module_version": "1.2.0",
            "_view_name": "LayoutView",
            "align_content": null,
            "align_items": null,
            "align_self": null,
            "border": null,
            "bottom": null,
            "display": null,
            "flex": null,
            "flex_flow": null,
            "grid_area": null,
            "grid_auto_columns": null,
            "grid_auto_flow": null,
            "grid_auto_rows": null,
            "grid_column": null,
            "grid_gap": null,
            "grid_row": null,
            "grid_template_areas": null,
            "grid_template_columns": null,
            "grid_template_rows": null,
            "height": null,
            "justify_content": null,
            "justify_items": null,
            "left": null,
            "margin": null,
            "max_height": null,
            "max_width": null,
            "min_height": null,
            "min_width": null,
            "object_fit": null,
            "object_position": null,
            "order": null,
            "overflow": null,
            "overflow_x": null,
            "overflow_y": null,
            "padding": null,
            "right": null,
            "top": null,
            "visibility": null,
            "width": null
          }
        },
        "b24732aff2f74aeea8f5265897fd7ef0": {
          "model_module": "@jupyter-widgets/controls",
          "model_name": "DescriptionStyleModel",
          "model_module_version": "1.5.0",
          "state": {
            "_model_module": "@jupyter-widgets/controls",
            "_model_module_version": "1.5.0",
            "_model_name": "DescriptionStyleModel",
            "_view_count": null,
            "_view_module": "@jupyter-widgets/base",
            "_view_module_version": "1.2.0",
            "_view_name": "StyleView",
            "description_width": ""
          }
        },
        "5d00d8a27ba341cca9dd8017ec59be03": {
          "model_module": "@jupyter-widgets/base",
          "model_name": "LayoutModel",
          "model_module_version": "1.2.0",
          "state": {
            "_model_module": "@jupyter-widgets/base",
            "_model_module_version": "1.2.0",
            "_model_name": "LayoutModel",
            "_view_count": null,
            "_view_module": "@jupyter-widgets/base",
            "_view_module_version": "1.2.0",
            "_view_name": "LayoutView",
            "align_content": null,
            "align_items": null,
            "align_self": null,
            "border": null,
            "bottom": null,
            "display": null,
            "flex": null,
            "flex_flow": null,
            "grid_area": null,
            "grid_auto_columns": null,
            "grid_auto_flow": null,
            "grid_auto_rows": null,
            "grid_column": null,
            "grid_gap": null,
            "grid_row": null,
            "grid_template_areas": null,
            "grid_template_columns": null,
            "grid_template_rows": null,
            "height": null,
            "justify_content": null,
            "justify_items": null,
            "left": null,
            "margin": null,
            "max_height": null,
            "max_width": null,
            "min_height": null,
            "min_width": null,
            "object_fit": null,
            "object_position": null,
            "order": null,
            "overflow": null,
            "overflow_x": null,
            "overflow_y": null,
            "padding": null,
            "right": null,
            "top": null,
            "visibility": null,
            "width": null
          }
        },
        "7cf5851ade4d481f8243b4207c39f715": {
          "model_module": "@jupyter-widgets/controls",
          "model_name": "ProgressStyleModel",
          "model_module_version": "1.5.0",
          "state": {
            "_model_module": "@jupyter-widgets/controls",
            "_model_module_version": "1.5.0",
            "_model_name": "ProgressStyleModel",
            "_view_count": null,
            "_view_module": "@jupyter-widgets/base",
            "_view_module_version": "1.2.0",
            "_view_name": "StyleView",
            "bar_color": null,
            "description_width": ""
          }
        },
        "10757d6c25c94673ac063c071ed21d27": {
          "model_module": "@jupyter-widgets/base",
          "model_name": "LayoutModel",
          "model_module_version": "1.2.0",
          "state": {
            "_model_module": "@jupyter-widgets/base",
            "_model_module_version": "1.2.0",
            "_model_name": "LayoutModel",
            "_view_count": null,
            "_view_module": "@jupyter-widgets/base",
            "_view_module_version": "1.2.0",
            "_view_name": "LayoutView",
            "align_content": null,
            "align_items": null,
            "align_self": null,
            "border": null,
            "bottom": null,
            "display": null,
            "flex": null,
            "flex_flow": null,
            "grid_area": null,
            "grid_auto_columns": null,
            "grid_auto_flow": null,
            "grid_auto_rows": null,
            "grid_column": null,
            "grid_gap": null,
            "grid_row": null,
            "grid_template_areas": null,
            "grid_template_columns": null,
            "grid_template_rows": null,
            "height": null,
            "justify_content": null,
            "justify_items": null,
            "left": null,
            "margin": null,
            "max_height": null,
            "max_width": null,
            "min_height": null,
            "min_width": null,
            "object_fit": null,
            "object_position": null,
            "order": null,
            "overflow": null,
            "overflow_x": null,
            "overflow_y": null,
            "padding": null,
            "right": null,
            "top": null,
            "visibility": null,
            "width": null
          }
        },
        "97f98c7863d4476dbef97edba6b0aa48": {
          "model_module": "@jupyter-widgets/controls",
          "model_name": "DescriptionStyleModel",
          "model_module_version": "1.5.0",
          "state": {
            "_model_module": "@jupyter-widgets/controls",
            "_model_module_version": "1.5.0",
            "_model_name": "DescriptionStyleModel",
            "_view_count": null,
            "_view_module": "@jupyter-widgets/base",
            "_view_module_version": "1.2.0",
            "_view_name": "StyleView",
            "description_width": ""
          }
        },
        "bc044c2d549a4eb39d595dab392416ce": {
          "model_module": "@jupyter-widgets/controls",
          "model_name": "HBoxModel",
          "model_module_version": "1.5.0",
          "state": {
            "_dom_classes": [],
            "_model_module": "@jupyter-widgets/controls",
            "_model_module_version": "1.5.0",
            "_model_name": "HBoxModel",
            "_view_count": null,
            "_view_module": "@jupyter-widgets/controls",
            "_view_module_version": "1.5.0",
            "_view_name": "HBoxView",
            "box_style": "",
            "children": [
              "IPY_MODEL_f388ad8f019c470a8e3a0a5e4b54aa31",
              "IPY_MODEL_69ea6d70d80c4433b638fbbcefab858d",
              "IPY_MODEL_0ffda308602544cbb186a32ebf20302c"
            ],
            "layout": "IPY_MODEL_0aa22bd5e5e24c34abca1a4c8f3995a6"
          }
        },
        "f388ad8f019c470a8e3a0a5e4b54aa31": {
          "model_module": "@jupyter-widgets/controls",
          "model_name": "HTMLModel",
          "model_module_version": "1.5.0",
          "state": {
            "_dom_classes": [],
            "_model_module": "@jupyter-widgets/controls",
            "_model_module_version": "1.5.0",
            "_model_name": "HTMLModel",
            "_view_count": null,
            "_view_module": "@jupyter-widgets/controls",
            "_view_module_version": "1.5.0",
            "_view_name": "HTMLView",
            "description": "",
            "description_tooltip": null,
            "layout": "IPY_MODEL_f9559f9e78214d4b98d414956edb4a79",
            "placeholder": "​",
            "style": "IPY_MODEL_51e613304f234971a4a2d9a963ad86f6",
            "value": "Downloading builder script: 100%"
          }
        },
        "69ea6d70d80c4433b638fbbcefab858d": {
          "model_module": "@jupyter-widgets/controls",
          "model_name": "FloatProgressModel",
          "model_module_version": "1.5.0",
          "state": {
            "_dom_classes": [],
            "_model_module": "@jupyter-widgets/controls",
            "_model_module_version": "1.5.0",
            "_model_name": "FloatProgressModel",
            "_view_count": null,
            "_view_module": "@jupyter-widgets/controls",
            "_view_module_version": "1.5.0",
            "_view_name": "ProgressView",
            "bar_style": "success",
            "description": "",
            "description_tooltip": null,
            "layout": "IPY_MODEL_fb7bf16e0fac4093acaedaf69b684788",
            "max": 6346,
            "min": 0,
            "orientation": "horizontal",
            "style": "IPY_MODEL_76453e81f1004b1ebf4a29a9c0e5937f",
            "value": 6346
          }
        },
        "0ffda308602544cbb186a32ebf20302c": {
          "model_module": "@jupyter-widgets/controls",
          "model_name": "HTMLModel",
          "model_module_version": "1.5.0",
          "state": {
            "_dom_classes": [],
            "_model_module": "@jupyter-widgets/controls",
            "_model_module_version": "1.5.0",
            "_model_name": "HTMLModel",
            "_view_count": null,
            "_view_module": "@jupyter-widgets/controls",
            "_view_module_version": "1.5.0",
            "_view_name": "HTMLView",
            "description": "",
            "description_tooltip": null,
            "layout": "IPY_MODEL_67de3ee2e2164fd28f28e4842f0e8145",
            "placeholder": "​",
            "style": "IPY_MODEL_22604b76c8b044c2bd9701486aaefa7e",
            "value": " 6.35k/6.35k [00:00&lt;00:00, 474kB/s]"
          }
        },
        "0aa22bd5e5e24c34abca1a4c8f3995a6": {
          "model_module": "@jupyter-widgets/base",
          "model_name": "LayoutModel",
          "model_module_version": "1.2.0",
          "state": {
            "_model_module": "@jupyter-widgets/base",
            "_model_module_version": "1.2.0",
            "_model_name": "LayoutModel",
            "_view_count": null,
            "_view_module": "@jupyter-widgets/base",
            "_view_module_version": "1.2.0",
            "_view_name": "LayoutView",
            "align_content": null,
            "align_items": null,
            "align_self": null,
            "border": null,
            "bottom": null,
            "display": null,
            "flex": null,
            "flex_flow": null,
            "grid_area": null,
            "grid_auto_columns": null,
            "grid_auto_flow": null,
            "grid_auto_rows": null,
            "grid_column": null,
            "grid_gap": null,
            "grid_row": null,
            "grid_template_areas": null,
            "grid_template_columns": null,
            "grid_template_rows": null,
            "height": null,
            "justify_content": null,
            "justify_items": null,
            "left": null,
            "margin": null,
            "max_height": null,
            "max_width": null,
            "min_height": null,
            "min_width": null,
            "object_fit": null,
            "object_position": null,
            "order": null,
            "overflow": null,
            "overflow_x": null,
            "overflow_y": null,
            "padding": null,
            "right": null,
            "top": null,
            "visibility": null,
            "width": null
          }
        },
        "f9559f9e78214d4b98d414956edb4a79": {
          "model_module": "@jupyter-widgets/base",
          "model_name": "LayoutModel",
          "model_module_version": "1.2.0",
          "state": {
            "_model_module": "@jupyter-widgets/base",
            "_model_module_version": "1.2.0",
            "_model_name": "LayoutModel",
            "_view_count": null,
            "_view_module": "@jupyter-widgets/base",
            "_view_module_version": "1.2.0",
            "_view_name": "LayoutView",
            "align_content": null,
            "align_items": null,
            "align_self": null,
            "border": null,
            "bottom": null,
            "display": null,
            "flex": null,
            "flex_flow": null,
            "grid_area": null,
            "grid_auto_columns": null,
            "grid_auto_flow": null,
            "grid_auto_rows": null,
            "grid_column": null,
            "grid_gap": null,
            "grid_row": null,
            "grid_template_areas": null,
            "grid_template_columns": null,
            "grid_template_rows": null,
            "height": null,
            "justify_content": null,
            "justify_items": null,
            "left": null,
            "margin": null,
            "max_height": null,
            "max_width": null,
            "min_height": null,
            "min_width": null,
            "object_fit": null,
            "object_position": null,
            "order": null,
            "overflow": null,
            "overflow_x": null,
            "overflow_y": null,
            "padding": null,
            "right": null,
            "top": null,
            "visibility": null,
            "width": null
          }
        },
        "51e613304f234971a4a2d9a963ad86f6": {
          "model_module": "@jupyter-widgets/controls",
          "model_name": "DescriptionStyleModel",
          "model_module_version": "1.5.0",
          "state": {
            "_model_module": "@jupyter-widgets/controls",
            "_model_module_version": "1.5.0",
            "_model_name": "DescriptionStyleModel",
            "_view_count": null,
            "_view_module": "@jupyter-widgets/base",
            "_view_module_version": "1.2.0",
            "_view_name": "StyleView",
            "description_width": ""
          }
        },
        "fb7bf16e0fac4093acaedaf69b684788": {
          "model_module": "@jupyter-widgets/base",
          "model_name": "LayoutModel",
          "model_module_version": "1.2.0",
          "state": {
            "_model_module": "@jupyter-widgets/base",
            "_model_module_version": "1.2.0",
            "_model_name": "LayoutModel",
            "_view_count": null,
            "_view_module": "@jupyter-widgets/base",
            "_view_module_version": "1.2.0",
            "_view_name": "LayoutView",
            "align_content": null,
            "align_items": null,
            "align_self": null,
            "border": null,
            "bottom": null,
            "display": null,
            "flex": null,
            "flex_flow": null,
            "grid_area": null,
            "grid_auto_columns": null,
            "grid_auto_flow": null,
            "grid_auto_rows": null,
            "grid_column": null,
            "grid_gap": null,
            "grid_row": null,
            "grid_template_areas": null,
            "grid_template_columns": null,
            "grid_template_rows": null,
            "height": null,
            "justify_content": null,
            "justify_items": null,
            "left": null,
            "margin": null,
            "max_height": null,
            "max_width": null,
            "min_height": null,
            "min_width": null,
            "object_fit": null,
            "object_position": null,
            "order": null,
            "overflow": null,
            "overflow_x": null,
            "overflow_y": null,
            "padding": null,
            "right": null,
            "top": null,
            "visibility": null,
            "width": null
          }
        },
        "76453e81f1004b1ebf4a29a9c0e5937f": {
          "model_module": "@jupyter-widgets/controls",
          "model_name": "ProgressStyleModel",
          "model_module_version": "1.5.0",
          "state": {
            "_model_module": "@jupyter-widgets/controls",
            "_model_module_version": "1.5.0",
            "_model_name": "ProgressStyleModel",
            "_view_count": null,
            "_view_module": "@jupyter-widgets/base",
            "_view_module_version": "1.2.0",
            "_view_name": "StyleView",
            "bar_color": null,
            "description_width": ""
          }
        },
        "67de3ee2e2164fd28f28e4842f0e8145": {
          "model_module": "@jupyter-widgets/base",
          "model_name": "LayoutModel",
          "model_module_version": "1.2.0",
          "state": {
            "_model_module": "@jupyter-widgets/base",
            "_model_module_version": "1.2.0",
            "_model_name": "LayoutModel",
            "_view_count": null,
            "_view_module": "@jupyter-widgets/base",
            "_view_module_version": "1.2.0",
            "_view_name": "LayoutView",
            "align_content": null,
            "align_items": null,
            "align_self": null,
            "border": null,
            "bottom": null,
            "display": null,
            "flex": null,
            "flex_flow": null,
            "grid_area": null,
            "grid_auto_columns": null,
            "grid_auto_flow": null,
            "grid_auto_rows": null,
            "grid_column": null,
            "grid_gap": null,
            "grid_row": null,
            "grid_template_areas": null,
            "grid_template_columns": null,
            "grid_template_rows": null,
            "height": null,
            "justify_content": null,
            "justify_items": null,
            "left": null,
            "margin": null,
            "max_height": null,
            "max_width": null,
            "min_height": null,
            "min_width": null,
            "object_fit": null,
            "object_position": null,
            "order": null,
            "overflow": null,
            "overflow_x": null,
            "overflow_y": null,
            "padding": null,
            "right": null,
            "top": null,
            "visibility": null,
            "width": null
          }
        },
        "22604b76c8b044c2bd9701486aaefa7e": {
          "model_module": "@jupyter-widgets/controls",
          "model_name": "DescriptionStyleModel",
          "model_module_version": "1.5.0",
          "state": {
            "_model_module": "@jupyter-widgets/controls",
            "_model_module_version": "1.5.0",
            "_model_name": "DescriptionStyleModel",
            "_view_count": null,
            "_view_module": "@jupyter-widgets/base",
            "_view_module_version": "1.2.0",
            "_view_name": "StyleView",
            "description_width": ""
          }
        },
        "c3e884896fce415f8effc143b3b29490": {
          "model_module": "@jupyter-widgets/controls",
          "model_name": "HBoxModel",
          "model_module_version": "1.5.0",
          "state": {
            "_dom_classes": [],
            "_model_module": "@jupyter-widgets/controls",
            "_model_module_version": "1.5.0",
            "_model_name": "HBoxModel",
            "_view_count": null,
            "_view_module": "@jupyter-widgets/controls",
            "_view_module_version": "1.5.0",
            "_view_name": "HBoxView",
            "box_style": "",
            "children": [
              "IPY_MODEL_227b907cf5d64abf85d87f6fef5dbe87",
              "IPY_MODEL_4a434c0f57d34039951c4e8b7419beee",
              "IPY_MODEL_693ba274ce55403187ee6339d4c78840"
            ],
            "layout": "IPY_MODEL_d05accebe2884a5780c0f536e56b7720"
          }
        },
        "227b907cf5d64abf85d87f6fef5dbe87": {
          "model_module": "@jupyter-widgets/controls",
          "model_name": "HTMLModel",
          "model_module_version": "1.5.0",
          "state": {
            "_dom_classes": [],
            "_model_module": "@jupyter-widgets/controls",
            "_model_module_version": "1.5.0",
            "_model_name": "HTMLModel",
            "_view_count": null,
            "_view_module": "@jupyter-widgets/controls",
            "_view_module_version": "1.5.0",
            "_view_name": "HTMLView",
            "description": "",
            "description_tooltip": null,
            "layout": "IPY_MODEL_48110d35dc1d4013b1b534194dd836e3",
            "placeholder": "​",
            "style": "IPY_MODEL_a83716d0d22b446a8a85d8268c8add81",
            "value": "Downloading readme: 100%"
          }
        },
        "4a434c0f57d34039951c4e8b7419beee": {
          "model_module": "@jupyter-widgets/controls",
          "model_name": "FloatProgressModel",
          "model_module_version": "1.5.0",
          "state": {
            "_dom_classes": [],
            "_model_module": "@jupyter-widgets/controls",
            "_model_module_version": "1.5.0",
            "_model_name": "FloatProgressModel",
            "_view_count": null,
            "_view_module": "@jupyter-widgets/controls",
            "_view_module_version": "1.5.0",
            "_view_name": "ProgressView",
            "bar_style": "success",
            "description": "",
            "description_tooltip": null,
            "layout": "IPY_MODEL_8090c28573de41ff94160050207537b7",
            "max": 8778,
            "min": 0,
            "orientation": "horizontal",
            "style": "IPY_MODEL_ccbbf5385da5403b99f28aa70eb906aa",
            "value": 8778
          }
        },
        "693ba274ce55403187ee6339d4c78840": {
          "model_module": "@jupyter-widgets/controls",
          "model_name": "HTMLModel",
          "model_module_version": "1.5.0",
          "state": {
            "_dom_classes": [],
            "_model_module": "@jupyter-widgets/controls",
            "_model_module_version": "1.5.0",
            "_model_name": "HTMLModel",
            "_view_count": null,
            "_view_module": "@jupyter-widgets/controls",
            "_view_module_version": "1.5.0",
            "_view_name": "HTMLView",
            "description": "",
            "description_tooltip": null,
            "layout": "IPY_MODEL_19852cfb1c4847f2b834dacb0c2ff7d3",
            "placeholder": "​",
            "style": "IPY_MODEL_e544fec865074a45b9ee2cfd3162fa4d",
            "value": " 8.78k/8.78k [00:00&lt;00:00, 619kB/s]"
          }
        },
        "d05accebe2884a5780c0f536e56b7720": {
          "model_module": "@jupyter-widgets/base",
          "model_name": "LayoutModel",
          "model_module_version": "1.2.0",
          "state": {
            "_model_module": "@jupyter-widgets/base",
            "_model_module_version": "1.2.0",
            "_model_name": "LayoutModel",
            "_view_count": null,
            "_view_module": "@jupyter-widgets/base",
            "_view_module_version": "1.2.0",
            "_view_name": "LayoutView",
            "align_content": null,
            "align_items": null,
            "align_self": null,
            "border": null,
            "bottom": null,
            "display": null,
            "flex": null,
            "flex_flow": null,
            "grid_area": null,
            "grid_auto_columns": null,
            "grid_auto_flow": null,
            "grid_auto_rows": null,
            "grid_column": null,
            "grid_gap": null,
            "grid_row": null,
            "grid_template_areas": null,
            "grid_template_columns": null,
            "grid_template_rows": null,
            "height": null,
            "justify_content": null,
            "justify_items": null,
            "left": null,
            "margin": null,
            "max_height": null,
            "max_width": null,
            "min_height": null,
            "min_width": null,
            "object_fit": null,
            "object_position": null,
            "order": null,
            "overflow": null,
            "overflow_x": null,
            "overflow_y": null,
            "padding": null,
            "right": null,
            "top": null,
            "visibility": null,
            "width": null
          }
        },
        "48110d35dc1d4013b1b534194dd836e3": {
          "model_module": "@jupyter-widgets/base",
          "model_name": "LayoutModel",
          "model_module_version": "1.2.0",
          "state": {
            "_model_module": "@jupyter-widgets/base",
            "_model_module_version": "1.2.0",
            "_model_name": "LayoutModel",
            "_view_count": null,
            "_view_module": "@jupyter-widgets/base",
            "_view_module_version": "1.2.0",
            "_view_name": "LayoutView",
            "align_content": null,
            "align_items": null,
            "align_self": null,
            "border": null,
            "bottom": null,
            "display": null,
            "flex": null,
            "flex_flow": null,
            "grid_area": null,
            "grid_auto_columns": null,
            "grid_auto_flow": null,
            "grid_auto_rows": null,
            "grid_column": null,
            "grid_gap": null,
            "grid_row": null,
            "grid_template_areas": null,
            "grid_template_columns": null,
            "grid_template_rows": null,
            "height": null,
            "justify_content": null,
            "justify_items": null,
            "left": null,
            "margin": null,
            "max_height": null,
            "max_width": null,
            "min_height": null,
            "min_width": null,
            "object_fit": null,
            "object_position": null,
            "order": null,
            "overflow": null,
            "overflow_x": null,
            "overflow_y": null,
            "padding": null,
            "right": null,
            "top": null,
            "visibility": null,
            "width": null
          }
        },
        "a83716d0d22b446a8a85d8268c8add81": {
          "model_module": "@jupyter-widgets/controls",
          "model_name": "DescriptionStyleModel",
          "model_module_version": "1.5.0",
          "state": {
            "_model_module": "@jupyter-widgets/controls",
            "_model_module_version": "1.5.0",
            "_model_name": "DescriptionStyleModel",
            "_view_count": null,
            "_view_module": "@jupyter-widgets/base",
            "_view_module_version": "1.2.0",
            "_view_name": "StyleView",
            "description_width": ""
          }
        },
        "8090c28573de41ff94160050207537b7": {
          "model_module": "@jupyter-widgets/base",
          "model_name": "LayoutModel",
          "model_module_version": "1.2.0",
          "state": {
            "_model_module": "@jupyter-widgets/base",
            "_model_module_version": "1.2.0",
            "_model_name": "LayoutModel",
            "_view_count": null,
            "_view_module": "@jupyter-widgets/base",
            "_view_module_version": "1.2.0",
            "_view_name": "LayoutView",
            "align_content": null,
            "align_items": null,
            "align_self": null,
            "border": null,
            "bottom": null,
            "display": null,
            "flex": null,
            "flex_flow": null,
            "grid_area": null,
            "grid_auto_columns": null,
            "grid_auto_flow": null,
            "grid_auto_rows": null,
            "grid_column": null,
            "grid_gap": null,
            "grid_row": null,
            "grid_template_areas": null,
            "grid_template_columns": null,
            "grid_template_rows": null,
            "height": null,
            "justify_content": null,
            "justify_items": null,
            "left": null,
            "margin": null,
            "max_height": null,
            "max_width": null,
            "min_height": null,
            "min_width": null,
            "object_fit": null,
            "object_position": null,
            "order": null,
            "overflow": null,
            "overflow_x": null,
            "overflow_y": null,
            "padding": null,
            "right": null,
            "top": null,
            "visibility": null,
            "width": null
          }
        },
        "ccbbf5385da5403b99f28aa70eb906aa": {
          "model_module": "@jupyter-widgets/controls",
          "model_name": "ProgressStyleModel",
          "model_module_version": "1.5.0",
          "state": {
            "_model_module": "@jupyter-widgets/controls",
            "_model_module_version": "1.5.0",
            "_model_name": "ProgressStyleModel",
            "_view_count": null,
            "_view_module": "@jupyter-widgets/base",
            "_view_module_version": "1.2.0",
            "_view_name": "StyleView",
            "bar_color": null,
            "description_width": ""
          }
        },
        "19852cfb1c4847f2b834dacb0c2ff7d3": {
          "model_module": "@jupyter-widgets/base",
          "model_name": "LayoutModel",
          "model_module_version": "1.2.0",
          "state": {
            "_model_module": "@jupyter-widgets/base",
            "_model_module_version": "1.2.0",
            "_model_name": "LayoutModel",
            "_view_count": null,
            "_view_module": "@jupyter-widgets/base",
            "_view_module_version": "1.2.0",
            "_view_name": "LayoutView",
            "align_content": null,
            "align_items": null,
            "align_self": null,
            "border": null,
            "bottom": null,
            "display": null,
            "flex": null,
            "flex_flow": null,
            "grid_area": null,
            "grid_auto_columns": null,
            "grid_auto_flow": null,
            "grid_auto_rows": null,
            "grid_column": null,
            "grid_gap": null,
            "grid_row": null,
            "grid_template_areas": null,
            "grid_template_columns": null,
            "grid_template_rows": null,
            "height": null,
            "justify_content": null,
            "justify_items": null,
            "left": null,
            "margin": null,
            "max_height": null,
            "max_width": null,
            "min_height": null,
            "min_width": null,
            "object_fit": null,
            "object_position": null,
            "order": null,
            "overflow": null,
            "overflow_x": null,
            "overflow_y": null,
            "padding": null,
            "right": null,
            "top": null,
            "visibility": null,
            "width": null
          }
        },
        "e544fec865074a45b9ee2cfd3162fa4d": {
          "model_module": "@jupyter-widgets/controls",
          "model_name": "DescriptionStyleModel",
          "model_module_version": "1.5.0",
          "state": {
            "_model_module": "@jupyter-widgets/controls",
            "_model_module_version": "1.5.0",
            "_model_name": "DescriptionStyleModel",
            "_view_count": null,
            "_view_module": "@jupyter-widgets/base",
            "_view_module_version": "1.2.0",
            "_view_name": "StyleView",
            "description_width": ""
          }
        },
        "b9bfa718bb034f55a6e9cf0d22b20178": {
          "model_module": "@jupyter-widgets/controls",
          "model_name": "HBoxModel",
          "model_module_version": "1.5.0",
          "state": {
            "_dom_classes": [],
            "_model_module": "@jupyter-widgets/controls",
            "_model_module_version": "1.5.0",
            "_model_name": "HBoxModel",
            "_view_count": null,
            "_view_module": "@jupyter-widgets/controls",
            "_view_module_version": "1.5.0",
            "_view_name": "HBoxView",
            "box_style": "",
            "children": [
              "IPY_MODEL_0f6177a7e0c84e97a3dd424100c0b5f4",
              "IPY_MODEL_ef9fea51cc98440e9bb1938657cfa6a6",
              "IPY_MODEL_c6dc8743f40c451c9a89cebf4d669604"
            ],
            "layout": "IPY_MODEL_4e15268aac274f31a67c9d754b39a0f3"
          }
        },
        "0f6177a7e0c84e97a3dd424100c0b5f4": {
          "model_module": "@jupyter-widgets/controls",
          "model_name": "HTMLModel",
          "model_module_version": "1.5.0",
          "state": {
            "_dom_classes": [],
            "_model_module": "@jupyter-widgets/controls",
            "_model_module_version": "1.5.0",
            "_model_name": "HTMLModel",
            "_view_count": null,
            "_view_module": "@jupyter-widgets/controls",
            "_view_module_version": "1.5.0",
            "_view_name": "HTMLView",
            "description": "",
            "description_tooltip": null,
            "layout": "IPY_MODEL_64f45f39f8604b7e8e95fc71f5b94c88",
            "placeholder": "​",
            "style": "IPY_MODEL_f4c98a1d9f1c429da862170ad37adcc1",
            "value": "Downloading data: 100%"
          }
        },
        "ef9fea51cc98440e9bb1938657cfa6a6": {
          "model_module": "@jupyter-widgets/controls",
          "model_name": "FloatProgressModel",
          "model_module_version": "1.5.0",
          "state": {
            "_dom_classes": [],
            "_model_module": "@jupyter-widgets/controls",
            "_model_module_version": "1.5.0",
            "_model_name": "FloatProgressModel",
            "_view_count": null,
            "_view_module": "@jupyter-widgets/controls",
            "_view_module_version": "1.5.0",
            "_view_name": "ProgressView",
            "bar_style": "success",
            "description": "",
            "description_tooltip": null,
            "layout": "IPY_MODEL_2fdb329b5776488282092a552105be82",
            "max": 166373201,
            "min": 0,
            "orientation": "horizontal",
            "style": "IPY_MODEL_39b6b3b5c4be47dd9d8ee0f2bafdbbd4",
            "value": 166373201
          }
        },
        "c6dc8743f40c451c9a89cebf4d669604": {
          "model_module": "@jupyter-widgets/controls",
          "model_name": "HTMLModel",
          "model_module_version": "1.5.0",
          "state": {
            "_dom_classes": [],
            "_model_module": "@jupyter-widgets/controls",
            "_model_module_version": "1.5.0",
            "_model_name": "HTMLModel",
            "_view_count": null,
            "_view_module": "@jupyter-widgets/controls",
            "_view_module_version": "1.5.0",
            "_view_name": "HTMLView",
            "description": "",
            "description_tooltip": null,
            "layout": "IPY_MODEL_719b580f02864df1969215d8ec6c7534",
            "placeholder": "​",
            "style": "IPY_MODEL_7e2d3d9a8a1d44ed8a97776d98abaa53",
            "value": " 166M/166M [00:03&lt;00:00, 53.1MB/s]"
          }
        },
        "4e15268aac274f31a67c9d754b39a0f3": {
          "model_module": "@jupyter-widgets/base",
          "model_name": "LayoutModel",
          "model_module_version": "1.2.0",
          "state": {
            "_model_module": "@jupyter-widgets/base",
            "_model_module_version": "1.2.0",
            "_model_name": "LayoutModel",
            "_view_count": null,
            "_view_module": "@jupyter-widgets/base",
            "_view_module_version": "1.2.0",
            "_view_name": "LayoutView",
            "align_content": null,
            "align_items": null,
            "align_self": null,
            "border": null,
            "bottom": null,
            "display": null,
            "flex": null,
            "flex_flow": null,
            "grid_area": null,
            "grid_auto_columns": null,
            "grid_auto_flow": null,
            "grid_auto_rows": null,
            "grid_column": null,
            "grid_gap": null,
            "grid_row": null,
            "grid_template_areas": null,
            "grid_template_columns": null,
            "grid_template_rows": null,
            "height": null,
            "justify_content": null,
            "justify_items": null,
            "left": null,
            "margin": null,
            "max_height": null,
            "max_width": null,
            "min_height": null,
            "min_width": null,
            "object_fit": null,
            "object_position": null,
            "order": null,
            "overflow": null,
            "overflow_x": null,
            "overflow_y": null,
            "padding": null,
            "right": null,
            "top": null,
            "visibility": null,
            "width": null
          }
        },
        "64f45f39f8604b7e8e95fc71f5b94c88": {
          "model_module": "@jupyter-widgets/base",
          "model_name": "LayoutModel",
          "model_module_version": "1.2.0",
          "state": {
            "_model_module": "@jupyter-widgets/base",
            "_model_module_version": "1.2.0",
            "_model_name": "LayoutModel",
            "_view_count": null,
            "_view_module": "@jupyter-widgets/base",
            "_view_module_version": "1.2.0",
            "_view_name": "LayoutView",
            "align_content": null,
            "align_items": null,
            "align_self": null,
            "border": null,
            "bottom": null,
            "display": null,
            "flex": null,
            "flex_flow": null,
            "grid_area": null,
            "grid_auto_columns": null,
            "grid_auto_flow": null,
            "grid_auto_rows": null,
            "grid_column": null,
            "grid_gap": null,
            "grid_row": null,
            "grid_template_areas": null,
            "grid_template_columns": null,
            "grid_template_rows": null,
            "height": null,
            "justify_content": null,
            "justify_items": null,
            "left": null,
            "margin": null,
            "max_height": null,
            "max_width": null,
            "min_height": null,
            "min_width": null,
            "object_fit": null,
            "object_position": null,
            "order": null,
            "overflow": null,
            "overflow_x": null,
            "overflow_y": null,
            "padding": null,
            "right": null,
            "top": null,
            "visibility": null,
            "width": null
          }
        },
        "f4c98a1d9f1c429da862170ad37adcc1": {
          "model_module": "@jupyter-widgets/controls",
          "model_name": "DescriptionStyleModel",
          "model_module_version": "1.5.0",
          "state": {
            "_model_module": "@jupyter-widgets/controls",
            "_model_module_version": "1.5.0",
            "_model_name": "DescriptionStyleModel",
            "_view_count": null,
            "_view_module": "@jupyter-widgets/base",
            "_view_module_version": "1.2.0",
            "_view_name": "StyleView",
            "description_width": ""
          }
        },
        "2fdb329b5776488282092a552105be82": {
          "model_module": "@jupyter-widgets/base",
          "model_name": "LayoutModel",
          "model_module_version": "1.2.0",
          "state": {
            "_model_module": "@jupyter-widgets/base",
            "_model_module_version": "1.2.0",
            "_model_name": "LayoutModel",
            "_view_count": null,
            "_view_module": "@jupyter-widgets/base",
            "_view_module_version": "1.2.0",
            "_view_name": "LayoutView",
            "align_content": null,
            "align_items": null,
            "align_self": null,
            "border": null,
            "bottom": null,
            "display": null,
            "flex": null,
            "flex_flow": null,
            "grid_area": null,
            "grid_auto_columns": null,
            "grid_auto_flow": null,
            "grid_auto_rows": null,
            "grid_column": null,
            "grid_gap": null,
            "grid_row": null,
            "grid_template_areas": null,
            "grid_template_columns": null,
            "grid_template_rows": null,
            "height": null,
            "justify_content": null,
            "justify_items": null,
            "left": null,
            "margin": null,
            "max_height": null,
            "max_width": null,
            "min_height": null,
            "min_width": null,
            "object_fit": null,
            "object_position": null,
            "order": null,
            "overflow": null,
            "overflow_x": null,
            "overflow_y": null,
            "padding": null,
            "right": null,
            "top": null,
            "visibility": null,
            "width": null
          }
        },
        "39b6b3b5c4be47dd9d8ee0f2bafdbbd4": {
          "model_module": "@jupyter-widgets/controls",
          "model_name": "ProgressStyleModel",
          "model_module_version": "1.5.0",
          "state": {
            "_model_module": "@jupyter-widgets/controls",
            "_model_module_version": "1.5.0",
            "_model_name": "ProgressStyleModel",
            "_view_count": null,
            "_view_module": "@jupyter-widgets/base",
            "_view_module_version": "1.2.0",
            "_view_name": "StyleView",
            "bar_color": null,
            "description_width": ""
          }
        },
        "719b580f02864df1969215d8ec6c7534": {
          "model_module": "@jupyter-widgets/base",
          "model_name": "LayoutModel",
          "model_module_version": "1.2.0",
          "state": {
            "_model_module": "@jupyter-widgets/base",
            "_model_module_version": "1.2.0",
            "_model_name": "LayoutModel",
            "_view_count": null,
            "_view_module": "@jupyter-widgets/base",
            "_view_module_version": "1.2.0",
            "_view_name": "LayoutView",
            "align_content": null,
            "align_items": null,
            "align_self": null,
            "border": null,
            "bottom": null,
            "display": null,
            "flex": null,
            "flex_flow": null,
            "grid_area": null,
            "grid_auto_columns": null,
            "grid_auto_flow": null,
            "grid_auto_rows": null,
            "grid_column": null,
            "grid_gap": null,
            "grid_row": null,
            "grid_template_areas": null,
            "grid_template_columns": null,
            "grid_template_rows": null,
            "height": null,
            "justify_content": null,
            "justify_items": null,
            "left": null,
            "margin": null,
            "max_height": null,
            "max_width": null,
            "min_height": null,
            "min_width": null,
            "object_fit": null,
            "object_position": null,
            "order": null,
            "overflow": null,
            "overflow_x": null,
            "overflow_y": null,
            "padding": null,
            "right": null,
            "top": null,
            "visibility": null,
            "width": null
          }
        },
        "7e2d3d9a8a1d44ed8a97776d98abaa53": {
          "model_module": "@jupyter-widgets/controls",
          "model_name": "DescriptionStyleModel",
          "model_module_version": "1.5.0",
          "state": {
            "_model_module": "@jupyter-widgets/controls",
            "_model_module_version": "1.5.0",
            "_model_name": "DescriptionStyleModel",
            "_view_count": null,
            "_view_module": "@jupyter-widgets/base",
            "_view_module_version": "1.2.0",
            "_view_name": "StyleView",
            "description_width": ""
          }
        },
        "a1c544566cbf4871a7a63ae6c6b35777": {
          "model_module": "@jupyter-widgets/controls",
          "model_name": "HBoxModel",
          "model_module_version": "1.5.0",
          "state": {
            "_dom_classes": [],
            "_model_module": "@jupyter-widgets/controls",
            "_model_module_version": "1.5.0",
            "_model_name": "HBoxModel",
            "_view_count": null,
            "_view_module": "@jupyter-widgets/controls",
            "_view_module_version": "1.5.0",
            "_view_name": "HBoxView",
            "box_style": "",
            "children": [
              "IPY_MODEL_0e21d0846c114cf2bb9aca31da8c09ed",
              "IPY_MODEL_44890b2e3c624d1ebb4d4e3df4b9256d",
              "IPY_MODEL_0d407530907e4a7e936d9ac1dcdeed7a"
            ],
            "layout": "IPY_MODEL_8c61b7f210ce402797f095869b396192"
          }
        },
        "0e21d0846c114cf2bb9aca31da8c09ed": {
          "model_module": "@jupyter-widgets/controls",
          "model_name": "HTMLModel",
          "model_module_version": "1.5.0",
          "state": {
            "_dom_classes": [],
            "_model_module": "@jupyter-widgets/controls",
            "_model_module_version": "1.5.0",
            "_model_name": "HTMLModel",
            "_view_count": null,
            "_view_module": "@jupyter-widgets/controls",
            "_view_module_version": "1.5.0",
            "_view_name": "HTMLView",
            "description": "",
            "description_tooltip": null,
            "layout": "IPY_MODEL_9a993754e3df4818a448fb093571e0b5",
            "placeholder": "​",
            "style": "IPY_MODEL_8c34777cbf6c400ca02fd1c204981b21",
            "value": "Generating train split: 100%"
          }
        },
        "44890b2e3c624d1ebb4d4e3df4b9256d": {
          "model_module": "@jupyter-widgets/controls",
          "model_name": "FloatProgressModel",
          "model_module_version": "1.5.0",
          "state": {
            "_dom_classes": [],
            "_model_module": "@jupyter-widgets/controls",
            "_model_module_version": "1.5.0",
            "_model_name": "FloatProgressModel",
            "_view_count": null,
            "_view_module": "@jupyter-widgets/controls",
            "_view_module_version": "1.5.0",
            "_view_name": "ProgressView",
            "bar_style": "success",
            "description": "",
            "description_tooltip": null,
            "layout": "IPY_MODEL_bc56cff51fc8465bbe133962aa6476d2",
            "max": 560000,
            "min": 0,
            "orientation": "horizontal",
            "style": "IPY_MODEL_00fa1bad5acc467aba3fec3ca3c3a625",
            "value": 560000
          }
        },
        "0d407530907e4a7e936d9ac1dcdeed7a": {
          "model_module": "@jupyter-widgets/controls",
          "model_name": "HTMLModel",
          "model_module_version": "1.5.0",
          "state": {
            "_dom_classes": [],
            "_model_module": "@jupyter-widgets/controls",
            "_model_module_version": "1.5.0",
            "_model_name": "HTMLModel",
            "_view_count": null,
            "_view_module": "@jupyter-widgets/controls",
            "_view_module_version": "1.5.0",
            "_view_name": "HTMLView",
            "description": "",
            "description_tooltip": null,
            "layout": "IPY_MODEL_f802228c45a54b0389f4819fab2e2626",
            "placeholder": "​",
            "style": "IPY_MODEL_fc05917029094b2bb8c636795f4ce66d",
            "value": " 560000/560000 [00:21&lt;00:00, 28909.41 examples/s]"
          }
        },
        "8c61b7f210ce402797f095869b396192": {
          "model_module": "@jupyter-widgets/base",
          "model_name": "LayoutModel",
          "model_module_version": "1.2.0",
          "state": {
            "_model_module": "@jupyter-widgets/base",
            "_model_module_version": "1.2.0",
            "_model_name": "LayoutModel",
            "_view_count": null,
            "_view_module": "@jupyter-widgets/base",
            "_view_module_version": "1.2.0",
            "_view_name": "LayoutView",
            "align_content": null,
            "align_items": null,
            "align_self": null,
            "border": null,
            "bottom": null,
            "display": null,
            "flex": null,
            "flex_flow": null,
            "grid_area": null,
            "grid_auto_columns": null,
            "grid_auto_flow": null,
            "grid_auto_rows": null,
            "grid_column": null,
            "grid_gap": null,
            "grid_row": null,
            "grid_template_areas": null,
            "grid_template_columns": null,
            "grid_template_rows": null,
            "height": null,
            "justify_content": null,
            "justify_items": null,
            "left": null,
            "margin": null,
            "max_height": null,
            "max_width": null,
            "min_height": null,
            "min_width": null,
            "object_fit": null,
            "object_position": null,
            "order": null,
            "overflow": null,
            "overflow_x": null,
            "overflow_y": null,
            "padding": null,
            "right": null,
            "top": null,
            "visibility": null,
            "width": null
          }
        },
        "9a993754e3df4818a448fb093571e0b5": {
          "model_module": "@jupyter-widgets/base",
          "model_name": "LayoutModel",
          "model_module_version": "1.2.0",
          "state": {
            "_model_module": "@jupyter-widgets/base",
            "_model_module_version": "1.2.0",
            "_model_name": "LayoutModel",
            "_view_count": null,
            "_view_module": "@jupyter-widgets/base",
            "_view_module_version": "1.2.0",
            "_view_name": "LayoutView",
            "align_content": null,
            "align_items": null,
            "align_self": null,
            "border": null,
            "bottom": null,
            "display": null,
            "flex": null,
            "flex_flow": null,
            "grid_area": null,
            "grid_auto_columns": null,
            "grid_auto_flow": null,
            "grid_auto_rows": null,
            "grid_column": null,
            "grid_gap": null,
            "grid_row": null,
            "grid_template_areas": null,
            "grid_template_columns": null,
            "grid_template_rows": null,
            "height": null,
            "justify_content": null,
            "justify_items": null,
            "left": null,
            "margin": null,
            "max_height": null,
            "max_width": null,
            "min_height": null,
            "min_width": null,
            "object_fit": null,
            "object_position": null,
            "order": null,
            "overflow": null,
            "overflow_x": null,
            "overflow_y": null,
            "padding": null,
            "right": null,
            "top": null,
            "visibility": null,
            "width": null
          }
        },
        "8c34777cbf6c400ca02fd1c204981b21": {
          "model_module": "@jupyter-widgets/controls",
          "model_name": "DescriptionStyleModel",
          "model_module_version": "1.5.0",
          "state": {
            "_model_module": "@jupyter-widgets/controls",
            "_model_module_version": "1.5.0",
            "_model_name": "DescriptionStyleModel",
            "_view_count": null,
            "_view_module": "@jupyter-widgets/base",
            "_view_module_version": "1.2.0",
            "_view_name": "StyleView",
            "description_width": ""
          }
        },
        "bc56cff51fc8465bbe133962aa6476d2": {
          "model_module": "@jupyter-widgets/base",
          "model_name": "LayoutModel",
          "model_module_version": "1.2.0",
          "state": {
            "_model_module": "@jupyter-widgets/base",
            "_model_module_version": "1.2.0",
            "_model_name": "LayoutModel",
            "_view_count": null,
            "_view_module": "@jupyter-widgets/base",
            "_view_module_version": "1.2.0",
            "_view_name": "LayoutView",
            "align_content": null,
            "align_items": null,
            "align_self": null,
            "border": null,
            "bottom": null,
            "display": null,
            "flex": null,
            "flex_flow": null,
            "grid_area": null,
            "grid_auto_columns": null,
            "grid_auto_flow": null,
            "grid_auto_rows": null,
            "grid_column": null,
            "grid_gap": null,
            "grid_row": null,
            "grid_template_areas": null,
            "grid_template_columns": null,
            "grid_template_rows": null,
            "height": null,
            "justify_content": null,
            "justify_items": null,
            "left": null,
            "margin": null,
            "max_height": null,
            "max_width": null,
            "min_height": null,
            "min_width": null,
            "object_fit": null,
            "object_position": null,
            "order": null,
            "overflow": null,
            "overflow_x": null,
            "overflow_y": null,
            "padding": null,
            "right": null,
            "top": null,
            "visibility": null,
            "width": null
          }
        },
        "00fa1bad5acc467aba3fec3ca3c3a625": {
          "model_module": "@jupyter-widgets/controls",
          "model_name": "ProgressStyleModel",
          "model_module_version": "1.5.0",
          "state": {
            "_model_module": "@jupyter-widgets/controls",
            "_model_module_version": "1.5.0",
            "_model_name": "ProgressStyleModel",
            "_view_count": null,
            "_view_module": "@jupyter-widgets/base",
            "_view_module_version": "1.2.0",
            "_view_name": "StyleView",
            "bar_color": null,
            "description_width": ""
          }
        },
        "f802228c45a54b0389f4819fab2e2626": {
          "model_module": "@jupyter-widgets/base",
          "model_name": "LayoutModel",
          "model_module_version": "1.2.0",
          "state": {
            "_model_module": "@jupyter-widgets/base",
            "_model_module_version": "1.2.0",
            "_model_name": "LayoutModel",
            "_view_count": null,
            "_view_module": "@jupyter-widgets/base",
            "_view_module_version": "1.2.0",
            "_view_name": "LayoutView",
            "align_content": null,
            "align_items": null,
            "align_self": null,
            "border": null,
            "bottom": null,
            "display": null,
            "flex": null,
            "flex_flow": null,
            "grid_area": null,
            "grid_auto_columns": null,
            "grid_auto_flow": null,
            "grid_auto_rows": null,
            "grid_column": null,
            "grid_gap": null,
            "grid_row": null,
            "grid_template_areas": null,
            "grid_template_columns": null,
            "grid_template_rows": null,
            "height": null,
            "justify_content": null,
            "justify_items": null,
            "left": null,
            "margin": null,
            "max_height": null,
            "max_width": null,
            "min_height": null,
            "min_width": null,
            "object_fit": null,
            "object_position": null,
            "order": null,
            "overflow": null,
            "overflow_x": null,
            "overflow_y": null,
            "padding": null,
            "right": null,
            "top": null,
            "visibility": null,
            "width": null
          }
        },
        "fc05917029094b2bb8c636795f4ce66d": {
          "model_module": "@jupyter-widgets/controls",
          "model_name": "DescriptionStyleModel",
          "model_module_version": "1.5.0",
          "state": {
            "_model_module": "@jupyter-widgets/controls",
            "_model_module_version": "1.5.0",
            "_model_name": "DescriptionStyleModel",
            "_view_count": null,
            "_view_module": "@jupyter-widgets/base",
            "_view_module_version": "1.2.0",
            "_view_name": "StyleView",
            "description_width": ""
          }
        },
        "c03579e366f54dd6bcc7f5b56b96379a": {
          "model_module": "@jupyter-widgets/controls",
          "model_name": "HBoxModel",
          "model_module_version": "1.5.0",
          "state": {
            "_dom_classes": [],
            "_model_module": "@jupyter-widgets/controls",
            "_model_module_version": "1.5.0",
            "_model_name": "HBoxModel",
            "_view_count": null,
            "_view_module": "@jupyter-widgets/controls",
            "_view_module_version": "1.5.0",
            "_view_name": "HBoxView",
            "box_style": "",
            "children": [
              "IPY_MODEL_7fd7e411a30e4e57bdfc1facd5527e7d",
              "IPY_MODEL_8adcb5077f20428c98fcf42bba0e754e",
              "IPY_MODEL_5020755f90e84b118af22bf6a0fe9dec"
            ],
            "layout": "IPY_MODEL_62b73daee0a049679240a0e25c237a07"
          }
        },
        "7fd7e411a30e4e57bdfc1facd5527e7d": {
          "model_module": "@jupyter-widgets/controls",
          "model_name": "HTMLModel",
          "model_module_version": "1.5.0",
          "state": {
            "_dom_classes": [],
            "_model_module": "@jupyter-widgets/controls",
            "_model_module_version": "1.5.0",
            "_model_name": "HTMLModel",
            "_view_count": null,
            "_view_module": "@jupyter-widgets/controls",
            "_view_module_version": "1.5.0",
            "_view_name": "HTMLView",
            "description": "",
            "description_tooltip": null,
            "layout": "IPY_MODEL_5fd10a6b062146fbb620b11b76a39060",
            "placeholder": "​",
            "style": "IPY_MODEL_8b3c3b848fec436590d9909533663412",
            "value": "Generating test split: 100%"
          }
        },
        "8adcb5077f20428c98fcf42bba0e754e": {
          "model_module": "@jupyter-widgets/controls",
          "model_name": "FloatProgressModel",
          "model_module_version": "1.5.0",
          "state": {
            "_dom_classes": [],
            "_model_module": "@jupyter-widgets/controls",
            "_model_module_version": "1.5.0",
            "_model_name": "FloatProgressModel",
            "_view_count": null,
            "_view_module": "@jupyter-widgets/controls",
            "_view_module_version": "1.5.0",
            "_view_name": "ProgressView",
            "bar_style": "success",
            "description": "",
            "description_tooltip": null,
            "layout": "IPY_MODEL_3fb680b605304f7b895a90a1522112a1",
            "max": 38000,
            "min": 0,
            "orientation": "horizontal",
            "style": "IPY_MODEL_6b87020e3bfb4f4fb03126ada23af8aa",
            "value": 38000
          }
        },
        "5020755f90e84b118af22bf6a0fe9dec": {
          "model_module": "@jupyter-widgets/controls",
          "model_name": "HTMLModel",
          "model_module_version": "1.5.0",
          "state": {
            "_dom_classes": [],
            "_model_module": "@jupyter-widgets/controls",
            "_model_module_version": "1.5.0",
            "_model_name": "HTMLModel",
            "_view_count": null,
            "_view_module": "@jupyter-widgets/controls",
            "_view_module_version": "1.5.0",
            "_view_name": "HTMLView",
            "description": "",
            "description_tooltip": null,
            "layout": "IPY_MODEL_4ca556a6d2844a1e948c9c87b53a0886",
            "placeholder": "​",
            "style": "IPY_MODEL_955b58fc6cc64ae0bd901e6952f929ec",
            "value": " 38000/38000 [00:03&lt;00:00, 27959.24 examples/s]"
          }
        },
        "62b73daee0a049679240a0e25c237a07": {
          "model_module": "@jupyter-widgets/base",
          "model_name": "LayoutModel",
          "model_module_version": "1.2.0",
          "state": {
            "_model_module": "@jupyter-widgets/base",
            "_model_module_version": "1.2.0",
            "_model_name": "LayoutModel",
            "_view_count": null,
            "_view_module": "@jupyter-widgets/base",
            "_view_module_version": "1.2.0",
            "_view_name": "LayoutView",
            "align_content": null,
            "align_items": null,
            "align_self": null,
            "border": null,
            "bottom": null,
            "display": null,
            "flex": null,
            "flex_flow": null,
            "grid_area": null,
            "grid_auto_columns": null,
            "grid_auto_flow": null,
            "grid_auto_rows": null,
            "grid_column": null,
            "grid_gap": null,
            "grid_row": null,
            "grid_template_areas": null,
            "grid_template_columns": null,
            "grid_template_rows": null,
            "height": null,
            "justify_content": null,
            "justify_items": null,
            "left": null,
            "margin": null,
            "max_height": null,
            "max_width": null,
            "min_height": null,
            "min_width": null,
            "object_fit": null,
            "object_position": null,
            "order": null,
            "overflow": null,
            "overflow_x": null,
            "overflow_y": null,
            "padding": null,
            "right": null,
            "top": null,
            "visibility": null,
            "width": null
          }
        },
        "5fd10a6b062146fbb620b11b76a39060": {
          "model_module": "@jupyter-widgets/base",
          "model_name": "LayoutModel",
          "model_module_version": "1.2.0",
          "state": {
            "_model_module": "@jupyter-widgets/base",
            "_model_module_version": "1.2.0",
            "_model_name": "LayoutModel",
            "_view_count": null,
            "_view_module": "@jupyter-widgets/base",
            "_view_module_version": "1.2.0",
            "_view_name": "LayoutView",
            "align_content": null,
            "align_items": null,
            "align_self": null,
            "border": null,
            "bottom": null,
            "display": null,
            "flex": null,
            "flex_flow": null,
            "grid_area": null,
            "grid_auto_columns": null,
            "grid_auto_flow": null,
            "grid_auto_rows": null,
            "grid_column": null,
            "grid_gap": null,
            "grid_row": null,
            "grid_template_areas": null,
            "grid_template_columns": null,
            "grid_template_rows": null,
            "height": null,
            "justify_content": null,
            "justify_items": null,
            "left": null,
            "margin": null,
            "max_height": null,
            "max_width": null,
            "min_height": null,
            "min_width": null,
            "object_fit": null,
            "object_position": null,
            "order": null,
            "overflow": null,
            "overflow_x": null,
            "overflow_y": null,
            "padding": null,
            "right": null,
            "top": null,
            "visibility": null,
            "width": null
          }
        },
        "8b3c3b848fec436590d9909533663412": {
          "model_module": "@jupyter-widgets/controls",
          "model_name": "DescriptionStyleModel",
          "model_module_version": "1.5.0",
          "state": {
            "_model_module": "@jupyter-widgets/controls",
            "_model_module_version": "1.5.0",
            "_model_name": "DescriptionStyleModel",
            "_view_count": null,
            "_view_module": "@jupyter-widgets/base",
            "_view_module_version": "1.2.0",
            "_view_name": "StyleView",
            "description_width": ""
          }
        },
        "3fb680b605304f7b895a90a1522112a1": {
          "model_module": "@jupyter-widgets/base",
          "model_name": "LayoutModel",
          "model_module_version": "1.2.0",
          "state": {
            "_model_module": "@jupyter-widgets/base",
            "_model_module_version": "1.2.0",
            "_model_name": "LayoutModel",
            "_view_count": null,
            "_view_module": "@jupyter-widgets/base",
            "_view_module_version": "1.2.0",
            "_view_name": "LayoutView",
            "align_content": null,
            "align_items": null,
            "align_self": null,
            "border": null,
            "bottom": null,
            "display": null,
            "flex": null,
            "flex_flow": null,
            "grid_area": null,
            "grid_auto_columns": null,
            "grid_auto_flow": null,
            "grid_auto_rows": null,
            "grid_column": null,
            "grid_gap": null,
            "grid_row": null,
            "grid_template_areas": null,
            "grid_template_columns": null,
            "grid_template_rows": null,
            "height": null,
            "justify_content": null,
            "justify_items": null,
            "left": null,
            "margin": null,
            "max_height": null,
            "max_width": null,
            "min_height": null,
            "min_width": null,
            "object_fit": null,
            "object_position": null,
            "order": null,
            "overflow": null,
            "overflow_x": null,
            "overflow_y": null,
            "padding": null,
            "right": null,
            "top": null,
            "visibility": null,
            "width": null
          }
        },
        "6b87020e3bfb4f4fb03126ada23af8aa": {
          "model_module": "@jupyter-widgets/controls",
          "model_name": "ProgressStyleModel",
          "model_module_version": "1.5.0",
          "state": {
            "_model_module": "@jupyter-widgets/controls",
            "_model_module_version": "1.5.0",
            "_model_name": "ProgressStyleModel",
            "_view_count": null,
            "_view_module": "@jupyter-widgets/base",
            "_view_module_version": "1.2.0",
            "_view_name": "StyleView",
            "bar_color": null,
            "description_width": ""
          }
        },
        "4ca556a6d2844a1e948c9c87b53a0886": {
          "model_module": "@jupyter-widgets/base",
          "model_name": "LayoutModel",
          "model_module_version": "1.2.0",
          "state": {
            "_model_module": "@jupyter-widgets/base",
            "_model_module_version": "1.2.0",
            "_model_name": "LayoutModel",
            "_view_count": null,
            "_view_module": "@jupyter-widgets/base",
            "_view_module_version": "1.2.0",
            "_view_name": "LayoutView",
            "align_content": null,
            "align_items": null,
            "align_self": null,
            "border": null,
            "bottom": null,
            "display": null,
            "flex": null,
            "flex_flow": null,
            "grid_area": null,
            "grid_auto_columns": null,
            "grid_auto_flow": null,
            "grid_auto_rows": null,
            "grid_column": null,
            "grid_gap": null,
            "grid_row": null,
            "grid_template_areas": null,
            "grid_template_columns": null,
            "grid_template_rows": null,
            "height": null,
            "justify_content": null,
            "justify_items": null,
            "left": null,
            "margin": null,
            "max_height": null,
            "max_width": null,
            "min_height": null,
            "min_width": null,
            "object_fit": null,
            "object_position": null,
            "order": null,
            "overflow": null,
            "overflow_x": null,
            "overflow_y": null,
            "padding": null,
            "right": null,
            "top": null,
            "visibility": null,
            "width": null
          }
        },
        "955b58fc6cc64ae0bd901e6952f929ec": {
          "model_module": "@jupyter-widgets/controls",
          "model_name": "DescriptionStyleModel",
          "model_module_version": "1.5.0",
          "state": {
            "_model_module": "@jupyter-widgets/controls",
            "_model_module_version": "1.5.0",
            "_model_name": "DescriptionStyleModel",
            "_view_count": null,
            "_view_module": "@jupyter-widgets/base",
            "_view_module_version": "1.2.0",
            "_view_name": "StyleView",
            "description_width": ""
          }
        },
        "aa9d3a2f720a4f4fa40397b4781fb7c7": {
          "model_module": "@jupyter-widgets/controls",
          "model_name": "HBoxModel",
          "model_module_version": "1.5.0",
          "state": {
            "_dom_classes": [],
            "_model_module": "@jupyter-widgets/controls",
            "_model_module_version": "1.5.0",
            "_model_name": "HBoxModel",
            "_view_count": null,
            "_view_module": "@jupyter-widgets/controls",
            "_view_module_version": "1.5.0",
            "_view_name": "HBoxView",
            "box_style": "",
            "children": [
              "IPY_MODEL_62a2d274576641f994b17249113c52a0",
              "IPY_MODEL_6302ed70b08d4b78a5ca952d95221953",
              "IPY_MODEL_ea686f9b77e74687876259817ab88287"
            ],
            "layout": "IPY_MODEL_45ec7642b98f4adfa6b89854e237e5ce"
          }
        },
        "62a2d274576641f994b17249113c52a0": {
          "model_module": "@jupyter-widgets/controls",
          "model_name": "HTMLModel",
          "model_module_version": "1.5.0",
          "state": {
            "_dom_classes": [],
            "_model_module": "@jupyter-widgets/controls",
            "_model_module_version": "1.5.0",
            "_model_name": "HTMLModel",
            "_view_count": null,
            "_view_module": "@jupyter-widgets/controls",
            "_view_module_version": "1.5.0",
            "_view_name": "HTMLView",
            "description": "",
            "description_tooltip": null,
            "layout": "IPY_MODEL_39125f3a5dc344f28792046d4ecb04ed",
            "placeholder": "​",
            "style": "IPY_MODEL_7bc753bf5c7d48d1b6d5988788112f8b",
            "value": "Flattening the indices: 100%"
          }
        },
        "6302ed70b08d4b78a5ca952d95221953": {
          "model_module": "@jupyter-widgets/controls",
          "model_name": "FloatProgressModel",
          "model_module_version": "1.5.0",
          "state": {
            "_dom_classes": [],
            "_model_module": "@jupyter-widgets/controls",
            "_model_module_version": "1.5.0",
            "_model_name": "FloatProgressModel",
            "_view_count": null,
            "_view_module": "@jupyter-widgets/controls",
            "_view_module_version": "1.5.0",
            "_view_name": "ProgressView",
            "bar_style": "success",
            "description": "",
            "description_tooltip": null,
            "layout": "IPY_MODEL_b917dd5715d44d53a2b697b6817fed39",
            "max": 38000,
            "min": 0,
            "orientation": "horizontal",
            "style": "IPY_MODEL_dbd27824d6144030b6c5371aab793380",
            "value": 38000
          }
        },
        "ea686f9b77e74687876259817ab88287": {
          "model_module": "@jupyter-widgets/controls",
          "model_name": "HTMLModel",
          "model_module_version": "1.5.0",
          "state": {
            "_dom_classes": [],
            "_model_module": "@jupyter-widgets/controls",
            "_model_module_version": "1.5.0",
            "_model_name": "HTMLModel",
            "_view_count": null,
            "_view_module": "@jupyter-widgets/controls",
            "_view_module_version": "1.5.0",
            "_view_name": "HTMLView",
            "description": "",
            "description_tooltip": null,
            "layout": "IPY_MODEL_e8f14bf537714bd1a6b6e313c20c0b76",
            "placeholder": "​",
            "style": "IPY_MODEL_75bd587edb834c0ab36378f20376c177",
            "value": " 38000/38000 [00:01&lt;00:00, 32112.94 examples/s]"
          }
        },
        "45ec7642b98f4adfa6b89854e237e5ce": {
          "model_module": "@jupyter-widgets/base",
          "model_name": "LayoutModel",
          "model_module_version": "1.2.0",
          "state": {
            "_model_module": "@jupyter-widgets/base",
            "_model_module_version": "1.2.0",
            "_model_name": "LayoutModel",
            "_view_count": null,
            "_view_module": "@jupyter-widgets/base",
            "_view_module_version": "1.2.0",
            "_view_name": "LayoutView",
            "align_content": null,
            "align_items": null,
            "align_self": null,
            "border": null,
            "bottom": null,
            "display": null,
            "flex": null,
            "flex_flow": null,
            "grid_area": null,
            "grid_auto_columns": null,
            "grid_auto_flow": null,
            "grid_auto_rows": null,
            "grid_column": null,
            "grid_gap": null,
            "grid_row": null,
            "grid_template_areas": null,
            "grid_template_columns": null,
            "grid_template_rows": null,
            "height": null,
            "justify_content": null,
            "justify_items": null,
            "left": null,
            "margin": null,
            "max_height": null,
            "max_width": null,
            "min_height": null,
            "min_width": null,
            "object_fit": null,
            "object_position": null,
            "order": null,
            "overflow": null,
            "overflow_x": null,
            "overflow_y": null,
            "padding": null,
            "right": null,
            "top": null,
            "visibility": null,
            "width": null
          }
        },
        "39125f3a5dc344f28792046d4ecb04ed": {
          "model_module": "@jupyter-widgets/base",
          "model_name": "LayoutModel",
          "model_module_version": "1.2.0",
          "state": {
            "_model_module": "@jupyter-widgets/base",
            "_model_module_version": "1.2.0",
            "_model_name": "LayoutModel",
            "_view_count": null,
            "_view_module": "@jupyter-widgets/base",
            "_view_module_version": "1.2.0",
            "_view_name": "LayoutView",
            "align_content": null,
            "align_items": null,
            "align_self": null,
            "border": null,
            "bottom": null,
            "display": null,
            "flex": null,
            "flex_flow": null,
            "grid_area": null,
            "grid_auto_columns": null,
            "grid_auto_flow": null,
            "grid_auto_rows": null,
            "grid_column": null,
            "grid_gap": null,
            "grid_row": null,
            "grid_template_areas": null,
            "grid_template_columns": null,
            "grid_template_rows": null,
            "height": null,
            "justify_content": null,
            "justify_items": null,
            "left": null,
            "margin": null,
            "max_height": null,
            "max_width": null,
            "min_height": null,
            "min_width": null,
            "object_fit": null,
            "object_position": null,
            "order": null,
            "overflow": null,
            "overflow_x": null,
            "overflow_y": null,
            "padding": null,
            "right": null,
            "top": null,
            "visibility": null,
            "width": null
          }
        },
        "7bc753bf5c7d48d1b6d5988788112f8b": {
          "model_module": "@jupyter-widgets/controls",
          "model_name": "DescriptionStyleModel",
          "model_module_version": "1.5.0",
          "state": {
            "_model_module": "@jupyter-widgets/controls",
            "_model_module_version": "1.5.0",
            "_model_name": "DescriptionStyleModel",
            "_view_count": null,
            "_view_module": "@jupyter-widgets/base",
            "_view_module_version": "1.2.0",
            "_view_name": "StyleView",
            "description_width": ""
          }
        },
        "b917dd5715d44d53a2b697b6817fed39": {
          "model_module": "@jupyter-widgets/base",
          "model_name": "LayoutModel",
          "model_module_version": "1.2.0",
          "state": {
            "_model_module": "@jupyter-widgets/base",
            "_model_module_version": "1.2.0",
            "_model_name": "LayoutModel",
            "_view_count": null,
            "_view_module": "@jupyter-widgets/base",
            "_view_module_version": "1.2.0",
            "_view_name": "LayoutView",
            "align_content": null,
            "align_items": null,
            "align_self": null,
            "border": null,
            "bottom": null,
            "display": null,
            "flex": null,
            "flex_flow": null,
            "grid_area": null,
            "grid_auto_columns": null,
            "grid_auto_flow": null,
            "grid_auto_rows": null,
            "grid_column": null,
            "grid_gap": null,
            "grid_row": null,
            "grid_template_areas": null,
            "grid_template_columns": null,
            "grid_template_rows": null,
            "height": null,
            "justify_content": null,
            "justify_items": null,
            "left": null,
            "margin": null,
            "max_height": null,
            "max_width": null,
            "min_height": null,
            "min_width": null,
            "object_fit": null,
            "object_position": null,
            "order": null,
            "overflow": null,
            "overflow_x": null,
            "overflow_y": null,
            "padding": null,
            "right": null,
            "top": null,
            "visibility": null,
            "width": null
          }
        },
        "dbd27824d6144030b6c5371aab793380": {
          "model_module": "@jupyter-widgets/controls",
          "model_name": "ProgressStyleModel",
          "model_module_version": "1.5.0",
          "state": {
            "_model_module": "@jupyter-widgets/controls",
            "_model_module_version": "1.5.0",
            "_model_name": "ProgressStyleModel",
            "_view_count": null,
            "_view_module": "@jupyter-widgets/base",
            "_view_module_version": "1.2.0",
            "_view_name": "StyleView",
            "bar_color": null,
            "description_width": ""
          }
        },
        "e8f14bf537714bd1a6b6e313c20c0b76": {
          "model_module": "@jupyter-widgets/base",
          "model_name": "LayoutModel",
          "model_module_version": "1.2.0",
          "state": {
            "_model_module": "@jupyter-widgets/base",
            "_model_module_version": "1.2.0",
            "_model_name": "LayoutModel",
            "_view_count": null,
            "_view_module": "@jupyter-widgets/base",
            "_view_module_version": "1.2.0",
            "_view_name": "LayoutView",
            "align_content": null,
            "align_items": null,
            "align_self": null,
            "border": null,
            "bottom": null,
            "display": null,
            "flex": null,
            "flex_flow": null,
            "grid_area": null,
            "grid_auto_columns": null,
            "grid_auto_flow": null,
            "grid_auto_rows": null,
            "grid_column": null,
            "grid_gap": null,
            "grid_row": null,
            "grid_template_areas": null,
            "grid_template_columns": null,
            "grid_template_rows": null,
            "height": null,
            "justify_content": null,
            "justify_items": null,
            "left": null,
            "margin": null,
            "max_height": null,
            "max_width": null,
            "min_height": null,
            "min_width": null,
            "object_fit": null,
            "object_position": null,
            "order": null,
            "overflow": null,
            "overflow_x": null,
            "overflow_y": null,
            "padding": null,
            "right": null,
            "top": null,
            "visibility": null,
            "width": null
          }
        },
        "75bd587edb834c0ab36378f20376c177": {
          "model_module": "@jupyter-widgets/controls",
          "model_name": "DescriptionStyleModel",
          "model_module_version": "1.5.0",
          "state": {
            "_model_module": "@jupyter-widgets/controls",
            "_model_module_version": "1.5.0",
            "_model_name": "DescriptionStyleModel",
            "_view_count": null,
            "_view_module": "@jupyter-widgets/base",
            "_view_module_version": "1.2.0",
            "_view_name": "StyleView",
            "description_width": ""
          }
        },
        "4cd79a9da9f24e5ea641fc6369cdd7e8": {
          "model_module": "@jupyter-widgets/controls",
          "model_name": "HBoxModel",
          "model_module_version": "1.5.0",
          "state": {
            "_dom_classes": [],
            "_model_module": "@jupyter-widgets/controls",
            "_model_module_version": "1.5.0",
            "_model_name": "HBoxModel",
            "_view_count": null,
            "_view_module": "@jupyter-widgets/controls",
            "_view_module_version": "1.5.0",
            "_view_name": "HBoxView",
            "box_style": "",
            "children": [
              "IPY_MODEL_b61e8f6517794d3aa265a6f1c31ab170",
              "IPY_MODEL_b6d720dd5fa349b1be96f674fbbbb7fa",
              "IPY_MODEL_b4e139b2e1044a7da5f090c215318351"
            ],
            "layout": "IPY_MODEL_095d4b6b0e9d4187a2b7ac3092ca7d33"
          }
        },
        "b61e8f6517794d3aa265a6f1c31ab170": {
          "model_module": "@jupyter-widgets/controls",
          "model_name": "HTMLModel",
          "model_module_version": "1.5.0",
          "state": {
            "_dom_classes": [],
            "_model_module": "@jupyter-widgets/controls",
            "_model_module_version": "1.5.0",
            "_model_name": "HTMLModel",
            "_view_count": null,
            "_view_module": "@jupyter-widgets/controls",
            "_view_module_version": "1.5.0",
            "_view_name": "HTMLView",
            "description": "",
            "description_tooltip": null,
            "layout": "IPY_MODEL_18cf8ba00db64db1ae72bd4f236c4b85",
            "placeholder": "​",
            "style": "IPY_MODEL_03cd38656e314e65940675fbb4ba7e18",
            "value": "Downloading readme: 100%"
          }
        },
        "b6d720dd5fa349b1be96f674fbbbb7fa": {
          "model_module": "@jupyter-widgets/controls",
          "model_name": "FloatProgressModel",
          "model_module_version": "1.5.0",
          "state": {
            "_dom_classes": [],
            "_model_module": "@jupyter-widgets/controls",
            "_model_module_version": "1.5.0",
            "_model_name": "FloatProgressModel",
            "_view_count": null,
            "_view_module": "@jupyter-widgets/controls",
            "_view_module_version": "1.5.0",
            "_view_name": "ProgressView",
            "bar_style": "success",
            "description": "",
            "description_tooltip": null,
            "layout": "IPY_MODEL_3ffa2f8a581e41d1bb19c226533b7750",
            "max": 8070,
            "min": 0,
            "orientation": "horizontal",
            "style": "IPY_MODEL_4c246e1452ce426ebdc048945f7c5ab3",
            "value": 8070
          }
        },
        "b4e139b2e1044a7da5f090c215318351": {
          "model_module": "@jupyter-widgets/controls",
          "model_name": "HTMLModel",
          "model_module_version": "1.5.0",
          "state": {
            "_dom_classes": [],
            "_model_module": "@jupyter-widgets/controls",
            "_model_module_version": "1.5.0",
            "_model_name": "HTMLModel",
            "_view_count": null,
            "_view_module": "@jupyter-widgets/controls",
            "_view_module_version": "1.5.0",
            "_view_name": "HTMLView",
            "description": "",
            "description_tooltip": null,
            "layout": "IPY_MODEL_46d443418fa641b4838961fe8d75e579",
            "placeholder": "​",
            "style": "IPY_MODEL_ef3dfcd63f3d498a89a69b601dba88fb",
            "value": " 8.07k/8.07k [00:00&lt;00:00, 550kB/s]"
          }
        },
        "095d4b6b0e9d4187a2b7ac3092ca7d33": {
          "model_module": "@jupyter-widgets/base",
          "model_name": "LayoutModel",
          "model_module_version": "1.2.0",
          "state": {
            "_model_module": "@jupyter-widgets/base",
            "_model_module_version": "1.2.0",
            "_model_name": "LayoutModel",
            "_view_count": null,
            "_view_module": "@jupyter-widgets/base",
            "_view_module_version": "1.2.0",
            "_view_name": "LayoutView",
            "align_content": null,
            "align_items": null,
            "align_self": null,
            "border": null,
            "bottom": null,
            "display": null,
            "flex": null,
            "flex_flow": null,
            "grid_area": null,
            "grid_auto_columns": null,
            "grid_auto_flow": null,
            "grid_auto_rows": null,
            "grid_column": null,
            "grid_gap": null,
            "grid_row": null,
            "grid_template_areas": null,
            "grid_template_columns": null,
            "grid_template_rows": null,
            "height": null,
            "justify_content": null,
            "justify_items": null,
            "left": null,
            "margin": null,
            "max_height": null,
            "max_width": null,
            "min_height": null,
            "min_width": null,
            "object_fit": null,
            "object_position": null,
            "order": null,
            "overflow": null,
            "overflow_x": null,
            "overflow_y": null,
            "padding": null,
            "right": null,
            "top": null,
            "visibility": null,
            "width": null
          }
        },
        "18cf8ba00db64db1ae72bd4f236c4b85": {
          "model_module": "@jupyter-widgets/base",
          "model_name": "LayoutModel",
          "model_module_version": "1.2.0",
          "state": {
            "_model_module": "@jupyter-widgets/base",
            "_model_module_version": "1.2.0",
            "_model_name": "LayoutModel",
            "_view_count": null,
            "_view_module": "@jupyter-widgets/base",
            "_view_module_version": "1.2.0",
            "_view_name": "LayoutView",
            "align_content": null,
            "align_items": null,
            "align_self": null,
            "border": null,
            "bottom": null,
            "display": null,
            "flex": null,
            "flex_flow": null,
            "grid_area": null,
            "grid_auto_columns": null,
            "grid_auto_flow": null,
            "grid_auto_rows": null,
            "grid_column": null,
            "grid_gap": null,
            "grid_row": null,
            "grid_template_areas": null,
            "grid_template_columns": null,
            "grid_template_rows": null,
            "height": null,
            "justify_content": null,
            "justify_items": null,
            "left": null,
            "margin": null,
            "max_height": null,
            "max_width": null,
            "min_height": null,
            "min_width": null,
            "object_fit": null,
            "object_position": null,
            "order": null,
            "overflow": null,
            "overflow_x": null,
            "overflow_y": null,
            "padding": null,
            "right": null,
            "top": null,
            "visibility": null,
            "width": null
          }
        },
        "03cd38656e314e65940675fbb4ba7e18": {
          "model_module": "@jupyter-widgets/controls",
          "model_name": "DescriptionStyleModel",
          "model_module_version": "1.5.0",
          "state": {
            "_model_module": "@jupyter-widgets/controls",
            "_model_module_version": "1.5.0",
            "_model_name": "DescriptionStyleModel",
            "_view_count": null,
            "_view_module": "@jupyter-widgets/base",
            "_view_module_version": "1.2.0",
            "_view_name": "StyleView",
            "description_width": ""
          }
        },
        "3ffa2f8a581e41d1bb19c226533b7750": {
          "model_module": "@jupyter-widgets/base",
          "model_name": "LayoutModel",
          "model_module_version": "1.2.0",
          "state": {
            "_model_module": "@jupyter-widgets/base",
            "_model_module_version": "1.2.0",
            "_model_name": "LayoutModel",
            "_view_count": null,
            "_view_module": "@jupyter-widgets/base",
            "_view_module_version": "1.2.0",
            "_view_name": "LayoutView",
            "align_content": null,
            "align_items": null,
            "align_self": null,
            "border": null,
            "bottom": null,
            "display": null,
            "flex": null,
            "flex_flow": null,
            "grid_area": null,
            "grid_auto_columns": null,
            "grid_auto_flow": null,
            "grid_auto_rows": null,
            "grid_column": null,
            "grid_gap": null,
            "grid_row": null,
            "grid_template_areas": null,
            "grid_template_columns": null,
            "grid_template_rows": null,
            "height": null,
            "justify_content": null,
            "justify_items": null,
            "left": null,
            "margin": null,
            "max_height": null,
            "max_width": null,
            "min_height": null,
            "min_width": null,
            "object_fit": null,
            "object_position": null,
            "order": null,
            "overflow": null,
            "overflow_x": null,
            "overflow_y": null,
            "padding": null,
            "right": null,
            "top": null,
            "visibility": null,
            "width": null
          }
        },
        "4c246e1452ce426ebdc048945f7c5ab3": {
          "model_module": "@jupyter-widgets/controls",
          "model_name": "ProgressStyleModel",
          "model_module_version": "1.5.0",
          "state": {
            "_model_module": "@jupyter-widgets/controls",
            "_model_module_version": "1.5.0",
            "_model_name": "ProgressStyleModel",
            "_view_count": null,
            "_view_module": "@jupyter-widgets/base",
            "_view_module_version": "1.2.0",
            "_view_name": "StyleView",
            "bar_color": null,
            "description_width": ""
          }
        },
        "46d443418fa641b4838961fe8d75e579": {
          "model_module": "@jupyter-widgets/base",
          "model_name": "LayoutModel",
          "model_module_version": "1.2.0",
          "state": {
            "_model_module": "@jupyter-widgets/base",
            "_model_module_version": "1.2.0",
            "_model_name": "LayoutModel",
            "_view_count": null,
            "_view_module": "@jupyter-widgets/base",
            "_view_module_version": "1.2.0",
            "_view_name": "LayoutView",
            "align_content": null,
            "align_items": null,
            "align_self": null,
            "border": null,
            "bottom": null,
            "display": null,
            "flex": null,
            "flex_flow": null,
            "grid_area": null,
            "grid_auto_columns": null,
            "grid_auto_flow": null,
            "grid_auto_rows": null,
            "grid_column": null,
            "grid_gap": null,
            "grid_row": null,
            "grid_template_areas": null,
            "grid_template_columns": null,
            "grid_template_rows": null,
            "height": null,
            "justify_content": null,
            "justify_items": null,
            "left": null,
            "margin": null,
            "max_height": null,
            "max_width": null,
            "min_height": null,
            "min_width": null,
            "object_fit": null,
            "object_position": null,
            "order": null,
            "overflow": null,
            "overflow_x": null,
            "overflow_y": null,
            "padding": null,
            "right": null,
            "top": null,
            "visibility": null,
            "width": null
          }
        },
        "ef3dfcd63f3d498a89a69b601dba88fb": {
          "model_module": "@jupyter-widgets/controls",
          "model_name": "DescriptionStyleModel",
          "model_module_version": "1.5.0",
          "state": {
            "_model_module": "@jupyter-widgets/controls",
            "_model_module_version": "1.5.0",
            "_model_name": "DescriptionStyleModel",
            "_view_count": null,
            "_view_module": "@jupyter-widgets/base",
            "_view_module_version": "1.2.0",
            "_view_name": "StyleView",
            "description_width": ""
          }
        },
        "6ff8a1b9b717406aab770ea6e15dea5e": {
          "model_module": "@jupyter-widgets/controls",
          "model_name": "HBoxModel",
          "model_module_version": "1.5.0",
          "state": {
            "_dom_classes": [],
            "_model_module": "@jupyter-widgets/controls",
            "_model_module_version": "1.5.0",
            "_model_name": "HBoxModel",
            "_view_count": null,
            "_view_module": "@jupyter-widgets/controls",
            "_view_module_version": "1.5.0",
            "_view_name": "HBoxView",
            "box_style": "",
            "children": [
              "IPY_MODEL_d10ed4d016a040fc9e3fc846af063502",
              "IPY_MODEL_876edf1234f84abd8039fade62483d1d",
              "IPY_MODEL_1f627f7e68714ea1831b2986cbbf6ad1"
            ],
            "layout": "IPY_MODEL_5d172280d4b5401a92bdb0a9c1571bb1"
          }
        },
        "d10ed4d016a040fc9e3fc846af063502": {
          "model_module": "@jupyter-widgets/controls",
          "model_name": "HTMLModel",
          "model_module_version": "1.5.0",
          "state": {
            "_dom_classes": [],
            "_model_module": "@jupyter-widgets/controls",
            "_model_module_version": "1.5.0",
            "_model_name": "HTMLModel",
            "_view_count": null,
            "_view_module": "@jupyter-widgets/controls",
            "_view_module_version": "1.5.0",
            "_view_name": "HTMLView",
            "description": "",
            "description_tooltip": null,
            "layout": "IPY_MODEL_46e0b2f9ffb24f448777d6c215953668",
            "placeholder": "​",
            "style": "IPY_MODEL_fd1c45a466484c8086531f2b6609a6be",
            "value": "Downloading data: 100%"
          }
        },
        "876edf1234f84abd8039fade62483d1d": {
          "model_module": "@jupyter-widgets/controls",
          "model_name": "FloatProgressModel",
          "model_module_version": "1.5.0",
          "state": {
            "_dom_classes": [],
            "_model_module": "@jupyter-widgets/controls",
            "_model_module_version": "1.5.0",
            "_model_name": "FloatProgressModel",
            "_view_count": null,
            "_view_module": "@jupyter-widgets/controls",
            "_view_module_version": "1.5.0",
            "_view_name": "ProgressView",
            "bar_style": "success",
            "description": "",
            "description_tooltip": null,
            "layout": "IPY_MODEL_75a7879bac6c4cd7a3ad420f09c6e97d",
            "max": 18585438,
            "min": 0,
            "orientation": "horizontal",
            "style": "IPY_MODEL_84667f7a05d240b9a28ed0f196276d15",
            "value": 18585438
          }
        },
        "1f627f7e68714ea1831b2986cbbf6ad1": {
          "model_module": "@jupyter-widgets/controls",
          "model_name": "HTMLModel",
          "model_module_version": "1.5.0",
          "state": {
            "_dom_classes": [],
            "_model_module": "@jupyter-widgets/controls",
            "_model_module_version": "1.5.0",
            "_model_name": "HTMLModel",
            "_view_count": null,
            "_view_module": "@jupyter-widgets/controls",
            "_view_module_version": "1.5.0",
            "_view_name": "HTMLView",
            "description": "",
            "description_tooltip": null,
            "layout": "IPY_MODEL_57fd5f72ba6f4623b24591adf0a3b71b",
            "placeholder": "​",
            "style": "IPY_MODEL_6c592789f49c4e09a856a8e6a2209cf0",
            "value": " 18.6M/18.6M [00:00&lt;00:00, 29.0MB/s]"
          }
        },
        "5d172280d4b5401a92bdb0a9c1571bb1": {
          "model_module": "@jupyter-widgets/base",
          "model_name": "LayoutModel",
          "model_module_version": "1.2.0",
          "state": {
            "_model_module": "@jupyter-widgets/base",
            "_model_module_version": "1.2.0",
            "_model_name": "LayoutModel",
            "_view_count": null,
            "_view_module": "@jupyter-widgets/base",
            "_view_module_version": "1.2.0",
            "_view_name": "LayoutView",
            "align_content": null,
            "align_items": null,
            "align_self": null,
            "border": null,
            "bottom": null,
            "display": null,
            "flex": null,
            "flex_flow": null,
            "grid_area": null,
            "grid_auto_columns": null,
            "grid_auto_flow": null,
            "grid_auto_rows": null,
            "grid_column": null,
            "grid_gap": null,
            "grid_row": null,
            "grid_template_areas": null,
            "grid_template_columns": null,
            "grid_template_rows": null,
            "height": null,
            "justify_content": null,
            "justify_items": null,
            "left": null,
            "margin": null,
            "max_height": null,
            "max_width": null,
            "min_height": null,
            "min_width": null,
            "object_fit": null,
            "object_position": null,
            "order": null,
            "overflow": null,
            "overflow_x": null,
            "overflow_y": null,
            "padding": null,
            "right": null,
            "top": null,
            "visibility": null,
            "width": null
          }
        },
        "46e0b2f9ffb24f448777d6c215953668": {
          "model_module": "@jupyter-widgets/base",
          "model_name": "LayoutModel",
          "model_module_version": "1.2.0",
          "state": {
            "_model_module": "@jupyter-widgets/base",
            "_model_module_version": "1.2.0",
            "_model_name": "LayoutModel",
            "_view_count": null,
            "_view_module": "@jupyter-widgets/base",
            "_view_module_version": "1.2.0",
            "_view_name": "LayoutView",
            "align_content": null,
            "align_items": null,
            "align_self": null,
            "border": null,
            "bottom": null,
            "display": null,
            "flex": null,
            "flex_flow": null,
            "grid_area": null,
            "grid_auto_columns": null,
            "grid_auto_flow": null,
            "grid_auto_rows": null,
            "grid_column": null,
            "grid_gap": null,
            "grid_row": null,
            "grid_template_areas": null,
            "grid_template_columns": null,
            "grid_template_rows": null,
            "height": null,
            "justify_content": null,
            "justify_items": null,
            "left": null,
            "margin": null,
            "max_height": null,
            "max_width": null,
            "min_height": null,
            "min_width": null,
            "object_fit": null,
            "object_position": null,
            "order": null,
            "overflow": null,
            "overflow_x": null,
            "overflow_y": null,
            "padding": null,
            "right": null,
            "top": null,
            "visibility": null,
            "width": null
          }
        },
        "fd1c45a466484c8086531f2b6609a6be": {
          "model_module": "@jupyter-widgets/controls",
          "model_name": "DescriptionStyleModel",
          "model_module_version": "1.5.0",
          "state": {
            "_model_module": "@jupyter-widgets/controls",
            "_model_module_version": "1.5.0",
            "_model_name": "DescriptionStyleModel",
            "_view_count": null,
            "_view_module": "@jupyter-widgets/base",
            "_view_module_version": "1.2.0",
            "_view_name": "StyleView",
            "description_width": ""
          }
        },
        "75a7879bac6c4cd7a3ad420f09c6e97d": {
          "model_module": "@jupyter-widgets/base",
          "model_name": "LayoutModel",
          "model_module_version": "1.2.0",
          "state": {
            "_model_module": "@jupyter-widgets/base",
            "_model_module_version": "1.2.0",
            "_model_name": "LayoutModel",
            "_view_count": null,
            "_view_module": "@jupyter-widgets/base",
            "_view_module_version": "1.2.0",
            "_view_name": "LayoutView",
            "align_content": null,
            "align_items": null,
            "align_self": null,
            "border": null,
            "bottom": null,
            "display": null,
            "flex": null,
            "flex_flow": null,
            "grid_area": null,
            "grid_auto_columns": null,
            "grid_auto_flow": null,
            "grid_auto_rows": null,
            "grid_column": null,
            "grid_gap": null,
            "grid_row": null,
            "grid_template_areas": null,
            "grid_template_columns": null,
            "grid_template_rows": null,
            "height": null,
            "justify_content": null,
            "justify_items": null,
            "left": null,
            "margin": null,
            "max_height": null,
            "max_width": null,
            "min_height": null,
            "min_width": null,
            "object_fit": null,
            "object_position": null,
            "order": null,
            "overflow": null,
            "overflow_x": null,
            "overflow_y": null,
            "padding": null,
            "right": null,
            "top": null,
            "visibility": null,
            "width": null
          }
        },
        "84667f7a05d240b9a28ed0f196276d15": {
          "model_module": "@jupyter-widgets/controls",
          "model_name": "ProgressStyleModel",
          "model_module_version": "1.5.0",
          "state": {
            "_model_module": "@jupyter-widgets/controls",
            "_model_module_version": "1.5.0",
            "_model_name": "ProgressStyleModel",
            "_view_count": null,
            "_view_module": "@jupyter-widgets/base",
            "_view_module_version": "1.2.0",
            "_view_name": "StyleView",
            "bar_color": null,
            "description_width": ""
          }
        },
        "57fd5f72ba6f4623b24591adf0a3b71b": {
          "model_module": "@jupyter-widgets/base",
          "model_name": "LayoutModel",
          "model_module_version": "1.2.0",
          "state": {
            "_model_module": "@jupyter-widgets/base",
            "_model_module_version": "1.2.0",
            "_model_name": "LayoutModel",
            "_view_count": null,
            "_view_module": "@jupyter-widgets/base",
            "_view_module_version": "1.2.0",
            "_view_name": "LayoutView",
            "align_content": null,
            "align_items": null,
            "align_self": null,
            "border": null,
            "bottom": null,
            "display": null,
            "flex": null,
            "flex_flow": null,
            "grid_area": null,
            "grid_auto_columns": null,
            "grid_auto_flow": null,
            "grid_auto_rows": null,
            "grid_column": null,
            "grid_gap": null,
            "grid_row": null,
            "grid_template_areas": null,
            "grid_template_columns": null,
            "grid_template_rows": null,
            "height": null,
            "justify_content": null,
            "justify_items": null,
            "left": null,
            "margin": null,
            "max_height": null,
            "max_width": null,
            "min_height": null,
            "min_width": null,
            "object_fit": null,
            "object_position": null,
            "order": null,
            "overflow": null,
            "overflow_x": null,
            "overflow_y": null,
            "padding": null,
            "right": null,
            "top": null,
            "visibility": null,
            "width": null
          }
        },
        "6c592789f49c4e09a856a8e6a2209cf0": {
          "model_module": "@jupyter-widgets/controls",
          "model_name": "DescriptionStyleModel",
          "model_module_version": "1.5.0",
          "state": {
            "_model_module": "@jupyter-widgets/controls",
            "_model_module_version": "1.5.0",
            "_model_name": "DescriptionStyleModel",
            "_view_count": null,
            "_view_module": "@jupyter-widgets/base",
            "_view_module_version": "1.2.0",
            "_view_name": "StyleView",
            "description_width": ""
          }
        },
        "132e9ece7b9847d4b035478ff7d7aac2": {
          "model_module": "@jupyter-widgets/controls",
          "model_name": "HBoxModel",
          "model_module_version": "1.5.0",
          "state": {
            "_dom_classes": [],
            "_model_module": "@jupyter-widgets/controls",
            "_model_module_version": "1.5.0",
            "_model_name": "HBoxModel",
            "_view_count": null,
            "_view_module": "@jupyter-widgets/controls",
            "_view_module_version": "1.5.0",
            "_view_name": "HBoxView",
            "box_style": "",
            "children": [
              "IPY_MODEL_8f6f3d49f444459a865d3bd970e3bbad",
              "IPY_MODEL_9041bb4970344fe2885eb311ce374b9d",
              "IPY_MODEL_ec110f5d171e4290a7d055214ffdf658"
            ],
            "layout": "IPY_MODEL_2740c107857e43c59466962eeea4df3d"
          }
        },
        "8f6f3d49f444459a865d3bd970e3bbad": {
          "model_module": "@jupyter-widgets/controls",
          "model_name": "HTMLModel",
          "model_module_version": "1.5.0",
          "state": {
            "_dom_classes": [],
            "_model_module": "@jupyter-widgets/controls",
            "_model_module_version": "1.5.0",
            "_model_name": "HTMLModel",
            "_view_count": null,
            "_view_module": "@jupyter-widgets/controls",
            "_view_module_version": "1.5.0",
            "_view_name": "HTMLView",
            "description": "",
            "description_tooltip": null,
            "layout": "IPY_MODEL_55d63cc79d3a4664b2a22caf6c5ef704",
            "placeholder": "​",
            "style": "IPY_MODEL_abb9e6d6d72b40f3a5c50f670b8a1ce1",
            "value": "Downloading data: 100%"
          }
        },
        "9041bb4970344fe2885eb311ce374b9d": {
          "model_module": "@jupyter-widgets/controls",
          "model_name": "FloatProgressModel",
          "model_module_version": "1.5.0",
          "state": {
            "_dom_classes": [],
            "_model_module": "@jupyter-widgets/controls",
            "_model_module_version": "1.5.0",
            "_model_name": "FloatProgressModel",
            "_view_count": null,
            "_view_module": "@jupyter-widgets/controls",
            "_view_module_version": "1.5.0",
            "_view_name": "ProgressView",
            "bar_style": "success",
            "description": "",
            "description_tooltip": null,
            "layout": "IPY_MODEL_6109c80c3673434b805ef40407b1db9c",
            "max": 1234829,
            "min": 0,
            "orientation": "horizontal",
            "style": "IPY_MODEL_f4d2a698864c423892adb5cd997dabbf",
            "value": 1234829
          }
        },
        "ec110f5d171e4290a7d055214ffdf658": {
          "model_module": "@jupyter-widgets/controls",
          "model_name": "HTMLModel",
          "model_module_version": "1.5.0",
          "state": {
            "_dom_classes": [],
            "_model_module": "@jupyter-widgets/controls",
            "_model_module_version": "1.5.0",
            "_model_name": "HTMLModel",
            "_view_count": null,
            "_view_module": "@jupyter-widgets/controls",
            "_view_module_version": "1.5.0",
            "_view_name": "HTMLView",
            "description": "",
            "description_tooltip": null,
            "layout": "IPY_MODEL_4a8b16cc5d5443a19ce757ee48dc376a",
            "placeholder": "​",
            "style": "IPY_MODEL_d40fcdc7039e4a968742d2bbe64b495a",
            "value": " 1.23M/1.23M [00:00&lt;00:00, 11.9MB/s]"
          }
        },
        "2740c107857e43c59466962eeea4df3d": {
          "model_module": "@jupyter-widgets/base",
          "model_name": "LayoutModel",
          "model_module_version": "1.2.0",
          "state": {
            "_model_module": "@jupyter-widgets/base",
            "_model_module_version": "1.2.0",
            "_model_name": "LayoutModel",
            "_view_count": null,
            "_view_module": "@jupyter-widgets/base",
            "_view_module_version": "1.2.0",
            "_view_name": "LayoutView",
            "align_content": null,
            "align_items": null,
            "align_self": null,
            "border": null,
            "bottom": null,
            "display": null,
            "flex": null,
            "flex_flow": null,
            "grid_area": null,
            "grid_auto_columns": null,
            "grid_auto_flow": null,
            "grid_auto_rows": null,
            "grid_column": null,
            "grid_gap": null,
            "grid_row": null,
            "grid_template_areas": null,
            "grid_template_columns": null,
            "grid_template_rows": null,
            "height": null,
            "justify_content": null,
            "justify_items": null,
            "left": null,
            "margin": null,
            "max_height": null,
            "max_width": null,
            "min_height": null,
            "min_width": null,
            "object_fit": null,
            "object_position": null,
            "order": null,
            "overflow": null,
            "overflow_x": null,
            "overflow_y": null,
            "padding": null,
            "right": null,
            "top": null,
            "visibility": null,
            "width": null
          }
        },
        "55d63cc79d3a4664b2a22caf6c5ef704": {
          "model_module": "@jupyter-widgets/base",
          "model_name": "LayoutModel",
          "model_module_version": "1.2.0",
          "state": {
            "_model_module": "@jupyter-widgets/base",
            "_model_module_version": "1.2.0",
            "_model_name": "LayoutModel",
            "_view_count": null,
            "_view_module": "@jupyter-widgets/base",
            "_view_module_version": "1.2.0",
            "_view_name": "LayoutView",
            "align_content": null,
            "align_items": null,
            "align_self": null,
            "border": null,
            "bottom": null,
            "display": null,
            "flex": null,
            "flex_flow": null,
            "grid_area": null,
            "grid_auto_columns": null,
            "grid_auto_flow": null,
            "grid_auto_rows": null,
            "grid_column": null,
            "grid_gap": null,
            "grid_row": null,
            "grid_template_areas": null,
            "grid_template_columns": null,
            "grid_template_rows": null,
            "height": null,
            "justify_content": null,
            "justify_items": null,
            "left": null,
            "margin": null,
            "max_height": null,
            "max_width": null,
            "min_height": null,
            "min_width": null,
            "object_fit": null,
            "object_position": null,
            "order": null,
            "overflow": null,
            "overflow_x": null,
            "overflow_y": null,
            "padding": null,
            "right": null,
            "top": null,
            "visibility": null,
            "width": null
          }
        },
        "abb9e6d6d72b40f3a5c50f670b8a1ce1": {
          "model_module": "@jupyter-widgets/controls",
          "model_name": "DescriptionStyleModel",
          "model_module_version": "1.5.0",
          "state": {
            "_model_module": "@jupyter-widgets/controls",
            "_model_module_version": "1.5.0",
            "_model_name": "DescriptionStyleModel",
            "_view_count": null,
            "_view_module": "@jupyter-widgets/base",
            "_view_module_version": "1.2.0",
            "_view_name": "StyleView",
            "description_width": ""
          }
        },
        "6109c80c3673434b805ef40407b1db9c": {
          "model_module": "@jupyter-widgets/base",
          "model_name": "LayoutModel",
          "model_module_version": "1.2.0",
          "state": {
            "_model_module": "@jupyter-widgets/base",
            "_model_module_version": "1.2.0",
            "_model_name": "LayoutModel",
            "_view_count": null,
            "_view_module": "@jupyter-widgets/base",
            "_view_module_version": "1.2.0",
            "_view_name": "LayoutView",
            "align_content": null,
            "align_items": null,
            "align_self": null,
            "border": null,
            "bottom": null,
            "display": null,
            "flex": null,
            "flex_flow": null,
            "grid_area": null,
            "grid_auto_columns": null,
            "grid_auto_flow": null,
            "grid_auto_rows": null,
            "grid_column": null,
            "grid_gap": null,
            "grid_row": null,
            "grid_template_areas": null,
            "grid_template_columns": null,
            "grid_template_rows": null,
            "height": null,
            "justify_content": null,
            "justify_items": null,
            "left": null,
            "margin": null,
            "max_height": null,
            "max_width": null,
            "min_height": null,
            "min_width": null,
            "object_fit": null,
            "object_position": null,
            "order": null,
            "overflow": null,
            "overflow_x": null,
            "overflow_y": null,
            "padding": null,
            "right": null,
            "top": null,
            "visibility": null,
            "width": null
          }
        },
        "f4d2a698864c423892adb5cd997dabbf": {
          "model_module": "@jupyter-widgets/controls",
          "model_name": "ProgressStyleModel",
          "model_module_version": "1.5.0",
          "state": {
            "_model_module": "@jupyter-widgets/controls",
            "_model_module_version": "1.5.0",
            "_model_name": "ProgressStyleModel",
            "_view_count": null,
            "_view_module": "@jupyter-widgets/base",
            "_view_module_version": "1.2.0",
            "_view_name": "StyleView",
            "bar_color": null,
            "description_width": ""
          }
        },
        "4a8b16cc5d5443a19ce757ee48dc376a": {
          "model_module": "@jupyter-widgets/base",
          "model_name": "LayoutModel",
          "model_module_version": "1.2.0",
          "state": {
            "_model_module": "@jupyter-widgets/base",
            "_model_module_version": "1.2.0",
            "_model_name": "LayoutModel",
            "_view_count": null,
            "_view_module": "@jupyter-widgets/base",
            "_view_module_version": "1.2.0",
            "_view_name": "LayoutView",
            "align_content": null,
            "align_items": null,
            "align_self": null,
            "border": null,
            "bottom": null,
            "display": null,
            "flex": null,
            "flex_flow": null,
            "grid_area": null,
            "grid_auto_columns": null,
            "grid_auto_flow": null,
            "grid_auto_rows": null,
            "grid_column": null,
            "grid_gap": null,
            "grid_row": null,
            "grid_template_areas": null,
            "grid_template_columns": null,
            "grid_template_rows": null,
            "height": null,
            "justify_content": null,
            "justify_items": null,
            "left": null,
            "margin": null,
            "max_height": null,
            "max_width": null,
            "min_height": null,
            "min_width": null,
            "object_fit": null,
            "object_position": null,
            "order": null,
            "overflow": null,
            "overflow_x": null,
            "overflow_y": null,
            "padding": null,
            "right": null,
            "top": null,
            "visibility": null,
            "width": null
          }
        },
        "d40fcdc7039e4a968742d2bbe64b495a": {
          "model_module": "@jupyter-widgets/controls",
          "model_name": "DescriptionStyleModel",
          "model_module_version": "1.5.0",
          "state": {
            "_model_module": "@jupyter-widgets/controls",
            "_model_module_version": "1.5.0",
            "_model_name": "DescriptionStyleModel",
            "_view_count": null,
            "_view_module": "@jupyter-widgets/base",
            "_view_module_version": "1.2.0",
            "_view_name": "StyleView",
            "description_width": ""
          }
        },
        "646bed687a674e1b9a539b8d7ce33a61": {
          "model_module": "@jupyter-widgets/controls",
          "model_name": "HBoxModel",
          "model_module_version": "1.5.0",
          "state": {
            "_dom_classes": [],
            "_model_module": "@jupyter-widgets/controls",
            "_model_module_version": "1.5.0",
            "_model_name": "HBoxModel",
            "_view_count": null,
            "_view_module": "@jupyter-widgets/controls",
            "_view_module_version": "1.5.0",
            "_view_name": "HBoxView",
            "box_style": "",
            "children": [
              "IPY_MODEL_42489e3c32e74c9b938a746178d19a29",
              "IPY_MODEL_ab43cdd40e2941ee924e95d212ad0e85",
              "IPY_MODEL_037f85fbe39d488585b431136d9f866f"
            ],
            "layout": "IPY_MODEL_b63eb14964eb40bfbcd9babbb2af4a7b"
          }
        },
        "42489e3c32e74c9b938a746178d19a29": {
          "model_module": "@jupyter-widgets/controls",
          "model_name": "HTMLModel",
          "model_module_version": "1.5.0",
          "state": {
            "_dom_classes": [],
            "_model_module": "@jupyter-widgets/controls",
            "_model_module_version": "1.5.0",
            "_model_name": "HTMLModel",
            "_view_count": null,
            "_view_module": "@jupyter-widgets/controls",
            "_view_module_version": "1.5.0",
            "_view_name": "HTMLView",
            "description": "",
            "description_tooltip": null,
            "layout": "IPY_MODEL_2b9b2c1fdd32443bbea1886e6570b475",
            "placeholder": "​",
            "style": "IPY_MODEL_7febb1ac794d4f6c8eec120d4020ac88",
            "value": "Generating train split: 100%"
          }
        },
        "ab43cdd40e2941ee924e95d212ad0e85": {
          "model_module": "@jupyter-widgets/controls",
          "model_name": "FloatProgressModel",
          "model_module_version": "1.5.0",
          "state": {
            "_dom_classes": [],
            "_model_module": "@jupyter-widgets/controls",
            "_model_module_version": "1.5.0",
            "_model_name": "FloatProgressModel",
            "_view_count": null,
            "_view_module": "@jupyter-widgets/controls",
            "_view_module_version": "1.5.0",
            "_view_name": "ProgressView",
            "bar_style": "success",
            "description": "",
            "description_tooltip": null,
            "layout": "IPY_MODEL_219e276d2a784c3582782b637a8e88b3",
            "max": 120000,
            "min": 0,
            "orientation": "horizontal",
            "style": "IPY_MODEL_3cc335425c984cf1b5705da083bfdb3d",
            "value": 120000
          }
        },
        "037f85fbe39d488585b431136d9f866f": {
          "model_module": "@jupyter-widgets/controls",
          "model_name": "HTMLModel",
          "model_module_version": "1.5.0",
          "state": {
            "_dom_classes": [],
            "_model_module": "@jupyter-widgets/controls",
            "_model_module_version": "1.5.0",
            "_model_name": "HTMLModel",
            "_view_count": null,
            "_view_module": "@jupyter-widgets/controls",
            "_view_module_version": "1.5.0",
            "_view_name": "HTMLView",
            "description": "",
            "description_tooltip": null,
            "layout": "IPY_MODEL_a41f949399ed4fb5a01817ac809a95c2",
            "placeholder": "​",
            "style": "IPY_MODEL_120f2e1853fc48339ce4af891bb081d8",
            "value": " 120000/120000 [00:00&lt;00:00, 434433.39 examples/s]"
          }
        },
        "b63eb14964eb40bfbcd9babbb2af4a7b": {
          "model_module": "@jupyter-widgets/base",
          "model_name": "LayoutModel",
          "model_module_version": "1.2.0",
          "state": {
            "_model_module": "@jupyter-widgets/base",
            "_model_module_version": "1.2.0",
            "_model_name": "LayoutModel",
            "_view_count": null,
            "_view_module": "@jupyter-widgets/base",
            "_view_module_version": "1.2.0",
            "_view_name": "LayoutView",
            "align_content": null,
            "align_items": null,
            "align_self": null,
            "border": null,
            "bottom": null,
            "display": null,
            "flex": null,
            "flex_flow": null,
            "grid_area": null,
            "grid_auto_columns": null,
            "grid_auto_flow": null,
            "grid_auto_rows": null,
            "grid_column": null,
            "grid_gap": null,
            "grid_row": null,
            "grid_template_areas": null,
            "grid_template_columns": null,
            "grid_template_rows": null,
            "height": null,
            "justify_content": null,
            "justify_items": null,
            "left": null,
            "margin": null,
            "max_height": null,
            "max_width": null,
            "min_height": null,
            "min_width": null,
            "object_fit": null,
            "object_position": null,
            "order": null,
            "overflow": null,
            "overflow_x": null,
            "overflow_y": null,
            "padding": null,
            "right": null,
            "top": null,
            "visibility": null,
            "width": null
          }
        },
        "2b9b2c1fdd32443bbea1886e6570b475": {
          "model_module": "@jupyter-widgets/base",
          "model_name": "LayoutModel",
          "model_module_version": "1.2.0",
          "state": {
            "_model_module": "@jupyter-widgets/base",
            "_model_module_version": "1.2.0",
            "_model_name": "LayoutModel",
            "_view_count": null,
            "_view_module": "@jupyter-widgets/base",
            "_view_module_version": "1.2.0",
            "_view_name": "LayoutView",
            "align_content": null,
            "align_items": null,
            "align_self": null,
            "border": null,
            "bottom": null,
            "display": null,
            "flex": null,
            "flex_flow": null,
            "grid_area": null,
            "grid_auto_columns": null,
            "grid_auto_flow": null,
            "grid_auto_rows": null,
            "grid_column": null,
            "grid_gap": null,
            "grid_row": null,
            "grid_template_areas": null,
            "grid_template_columns": null,
            "grid_template_rows": null,
            "height": null,
            "justify_content": null,
            "justify_items": null,
            "left": null,
            "margin": null,
            "max_height": null,
            "max_width": null,
            "min_height": null,
            "min_width": null,
            "object_fit": null,
            "object_position": null,
            "order": null,
            "overflow": null,
            "overflow_x": null,
            "overflow_y": null,
            "padding": null,
            "right": null,
            "top": null,
            "visibility": null,
            "width": null
          }
        },
        "7febb1ac794d4f6c8eec120d4020ac88": {
          "model_module": "@jupyter-widgets/controls",
          "model_name": "DescriptionStyleModel",
          "model_module_version": "1.5.0",
          "state": {
            "_model_module": "@jupyter-widgets/controls",
            "_model_module_version": "1.5.0",
            "_model_name": "DescriptionStyleModel",
            "_view_count": null,
            "_view_module": "@jupyter-widgets/base",
            "_view_module_version": "1.2.0",
            "_view_name": "StyleView",
            "description_width": ""
          }
        },
        "219e276d2a784c3582782b637a8e88b3": {
          "model_module": "@jupyter-widgets/base",
          "model_name": "LayoutModel",
          "model_module_version": "1.2.0",
          "state": {
            "_model_module": "@jupyter-widgets/base",
            "_model_module_version": "1.2.0",
            "_model_name": "LayoutModel",
            "_view_count": null,
            "_view_module": "@jupyter-widgets/base",
            "_view_module_version": "1.2.0",
            "_view_name": "LayoutView",
            "align_content": null,
            "align_items": null,
            "align_self": null,
            "border": null,
            "bottom": null,
            "display": null,
            "flex": null,
            "flex_flow": null,
            "grid_area": null,
            "grid_auto_columns": null,
            "grid_auto_flow": null,
            "grid_auto_rows": null,
            "grid_column": null,
            "grid_gap": null,
            "grid_row": null,
            "grid_template_areas": null,
            "grid_template_columns": null,
            "grid_template_rows": null,
            "height": null,
            "justify_content": null,
            "justify_items": null,
            "left": null,
            "margin": null,
            "max_height": null,
            "max_width": null,
            "min_height": null,
            "min_width": null,
            "object_fit": null,
            "object_position": null,
            "order": null,
            "overflow": null,
            "overflow_x": null,
            "overflow_y": null,
            "padding": null,
            "right": null,
            "top": null,
            "visibility": null,
            "width": null
          }
        },
        "3cc335425c984cf1b5705da083bfdb3d": {
          "model_module": "@jupyter-widgets/controls",
          "model_name": "ProgressStyleModel",
          "model_module_version": "1.5.0",
          "state": {
            "_model_module": "@jupyter-widgets/controls",
            "_model_module_version": "1.5.0",
            "_model_name": "ProgressStyleModel",
            "_view_count": null,
            "_view_module": "@jupyter-widgets/base",
            "_view_module_version": "1.2.0",
            "_view_name": "StyleView",
            "bar_color": null,
            "description_width": ""
          }
        },
        "a41f949399ed4fb5a01817ac809a95c2": {
          "model_module": "@jupyter-widgets/base",
          "model_name": "LayoutModel",
          "model_module_version": "1.2.0",
          "state": {
            "_model_module": "@jupyter-widgets/base",
            "_model_module_version": "1.2.0",
            "_model_name": "LayoutModel",
            "_view_count": null,
            "_view_module": "@jupyter-widgets/base",
            "_view_module_version": "1.2.0",
            "_view_name": "LayoutView",
            "align_content": null,
            "align_items": null,
            "align_self": null,
            "border": null,
            "bottom": null,
            "display": null,
            "flex": null,
            "flex_flow": null,
            "grid_area": null,
            "grid_auto_columns": null,
            "grid_auto_flow": null,
            "grid_auto_rows": null,
            "grid_column": null,
            "grid_gap": null,
            "grid_row": null,
            "grid_template_areas": null,
            "grid_template_columns": null,
            "grid_template_rows": null,
            "height": null,
            "justify_content": null,
            "justify_items": null,
            "left": null,
            "margin": null,
            "max_height": null,
            "max_width": null,
            "min_height": null,
            "min_width": null,
            "object_fit": null,
            "object_position": null,
            "order": null,
            "overflow": null,
            "overflow_x": null,
            "overflow_y": null,
            "padding": null,
            "right": null,
            "top": null,
            "visibility": null,
            "width": null
          }
        },
        "120f2e1853fc48339ce4af891bb081d8": {
          "model_module": "@jupyter-widgets/controls",
          "model_name": "DescriptionStyleModel",
          "model_module_version": "1.5.0",
          "state": {
            "_model_module": "@jupyter-widgets/controls",
            "_model_module_version": "1.5.0",
            "_model_name": "DescriptionStyleModel",
            "_view_count": null,
            "_view_module": "@jupyter-widgets/base",
            "_view_module_version": "1.2.0",
            "_view_name": "StyleView",
            "description_width": ""
          }
        },
        "b45fcae5cb384ccf80e95a6e8ba25dcd": {
          "model_module": "@jupyter-widgets/controls",
          "model_name": "HBoxModel",
          "model_module_version": "1.5.0",
          "state": {
            "_dom_classes": [],
            "_model_module": "@jupyter-widgets/controls",
            "_model_module_version": "1.5.0",
            "_model_name": "HBoxModel",
            "_view_count": null,
            "_view_module": "@jupyter-widgets/controls",
            "_view_module_version": "1.5.0",
            "_view_name": "HBoxView",
            "box_style": "",
            "children": [
              "IPY_MODEL_7920865aea504565a6f793805c3b1177",
              "IPY_MODEL_0329295e3bb84648bee77fbd63a8939b",
              "IPY_MODEL_0f13356947f54ac3af1ba319471f6228"
            ],
            "layout": "IPY_MODEL_1e84689b51044a7497ae225c2417ad24"
          }
        },
        "7920865aea504565a6f793805c3b1177": {
          "model_module": "@jupyter-widgets/controls",
          "model_name": "HTMLModel",
          "model_module_version": "1.5.0",
          "state": {
            "_dom_classes": [],
            "_model_module": "@jupyter-widgets/controls",
            "_model_module_version": "1.5.0",
            "_model_name": "HTMLModel",
            "_view_count": null,
            "_view_module": "@jupyter-widgets/controls",
            "_view_module_version": "1.5.0",
            "_view_name": "HTMLView",
            "description": "",
            "description_tooltip": null,
            "layout": "IPY_MODEL_23531678930046019713429e3d3b8079",
            "placeholder": "​",
            "style": "IPY_MODEL_475f5bb865bf4e199bc1ba3548f72bb2",
            "value": "Generating test split: 100%"
          }
        },
        "0329295e3bb84648bee77fbd63a8939b": {
          "model_module": "@jupyter-widgets/controls",
          "model_name": "FloatProgressModel",
          "model_module_version": "1.5.0",
          "state": {
            "_dom_classes": [],
            "_model_module": "@jupyter-widgets/controls",
            "_model_module_version": "1.5.0",
            "_model_name": "FloatProgressModel",
            "_view_count": null,
            "_view_module": "@jupyter-widgets/controls",
            "_view_module_version": "1.5.0",
            "_view_name": "ProgressView",
            "bar_style": "success",
            "description": "",
            "description_tooltip": null,
            "layout": "IPY_MODEL_3b5050e24361459c8b4d16753927531a",
            "max": 7600,
            "min": 0,
            "orientation": "horizontal",
            "style": "IPY_MODEL_eeb7f801263c4db1bbecba6953c6f2aa",
            "value": 7600
          }
        },
        "0f13356947f54ac3af1ba319471f6228": {
          "model_module": "@jupyter-widgets/controls",
          "model_name": "HTMLModel",
          "model_module_version": "1.5.0",
          "state": {
            "_dom_classes": [],
            "_model_module": "@jupyter-widgets/controls",
            "_model_module_version": "1.5.0",
            "_model_name": "HTMLModel",
            "_view_count": null,
            "_view_module": "@jupyter-widgets/controls",
            "_view_module_version": "1.5.0",
            "_view_name": "HTMLView",
            "description": "",
            "description_tooltip": null,
            "layout": "IPY_MODEL_f3dd9c3bf52946eaa014cdb82a6ddbf1",
            "placeholder": "​",
            "style": "IPY_MODEL_98051695e7d44d8885d5423fe6ae92ac",
            "value": " 7600/7600 [00:00&lt;00:00, 154133.76 examples/s]"
          }
        },
        "1e84689b51044a7497ae225c2417ad24": {
          "model_module": "@jupyter-widgets/base",
          "model_name": "LayoutModel",
          "model_module_version": "1.2.0",
          "state": {
            "_model_module": "@jupyter-widgets/base",
            "_model_module_version": "1.2.0",
            "_model_name": "LayoutModel",
            "_view_count": null,
            "_view_module": "@jupyter-widgets/base",
            "_view_module_version": "1.2.0",
            "_view_name": "LayoutView",
            "align_content": null,
            "align_items": null,
            "align_self": null,
            "border": null,
            "bottom": null,
            "display": null,
            "flex": null,
            "flex_flow": null,
            "grid_area": null,
            "grid_auto_columns": null,
            "grid_auto_flow": null,
            "grid_auto_rows": null,
            "grid_column": null,
            "grid_gap": null,
            "grid_row": null,
            "grid_template_areas": null,
            "grid_template_columns": null,
            "grid_template_rows": null,
            "height": null,
            "justify_content": null,
            "justify_items": null,
            "left": null,
            "margin": null,
            "max_height": null,
            "max_width": null,
            "min_height": null,
            "min_width": null,
            "object_fit": null,
            "object_position": null,
            "order": null,
            "overflow": null,
            "overflow_x": null,
            "overflow_y": null,
            "padding": null,
            "right": null,
            "top": null,
            "visibility": null,
            "width": null
          }
        },
        "23531678930046019713429e3d3b8079": {
          "model_module": "@jupyter-widgets/base",
          "model_name": "LayoutModel",
          "model_module_version": "1.2.0",
          "state": {
            "_model_module": "@jupyter-widgets/base",
            "_model_module_version": "1.2.0",
            "_model_name": "LayoutModel",
            "_view_count": null,
            "_view_module": "@jupyter-widgets/base",
            "_view_module_version": "1.2.0",
            "_view_name": "LayoutView",
            "align_content": null,
            "align_items": null,
            "align_self": null,
            "border": null,
            "bottom": null,
            "display": null,
            "flex": null,
            "flex_flow": null,
            "grid_area": null,
            "grid_auto_columns": null,
            "grid_auto_flow": null,
            "grid_auto_rows": null,
            "grid_column": null,
            "grid_gap": null,
            "grid_row": null,
            "grid_template_areas": null,
            "grid_template_columns": null,
            "grid_template_rows": null,
            "height": null,
            "justify_content": null,
            "justify_items": null,
            "left": null,
            "margin": null,
            "max_height": null,
            "max_width": null,
            "min_height": null,
            "min_width": null,
            "object_fit": null,
            "object_position": null,
            "order": null,
            "overflow": null,
            "overflow_x": null,
            "overflow_y": null,
            "padding": null,
            "right": null,
            "top": null,
            "visibility": null,
            "width": null
          }
        },
        "475f5bb865bf4e199bc1ba3548f72bb2": {
          "model_module": "@jupyter-widgets/controls",
          "model_name": "DescriptionStyleModel",
          "model_module_version": "1.5.0",
          "state": {
            "_model_module": "@jupyter-widgets/controls",
            "_model_module_version": "1.5.0",
            "_model_name": "DescriptionStyleModel",
            "_view_count": null,
            "_view_module": "@jupyter-widgets/base",
            "_view_module_version": "1.2.0",
            "_view_name": "StyleView",
            "description_width": ""
          }
        },
        "3b5050e24361459c8b4d16753927531a": {
          "model_module": "@jupyter-widgets/base",
          "model_name": "LayoutModel",
          "model_module_version": "1.2.0",
          "state": {
            "_model_module": "@jupyter-widgets/base",
            "_model_module_version": "1.2.0",
            "_model_name": "LayoutModel",
            "_view_count": null,
            "_view_module": "@jupyter-widgets/base",
            "_view_module_version": "1.2.0",
            "_view_name": "LayoutView",
            "align_content": null,
            "align_items": null,
            "align_self": null,
            "border": null,
            "bottom": null,
            "display": null,
            "flex": null,
            "flex_flow": null,
            "grid_area": null,
            "grid_auto_columns": null,
            "grid_auto_flow": null,
            "grid_auto_rows": null,
            "grid_column": null,
            "grid_gap": null,
            "grid_row": null,
            "grid_template_areas": null,
            "grid_template_columns": null,
            "grid_template_rows": null,
            "height": null,
            "justify_content": null,
            "justify_items": null,
            "left": null,
            "margin": null,
            "max_height": null,
            "max_width": null,
            "min_height": null,
            "min_width": null,
            "object_fit": null,
            "object_position": null,
            "order": null,
            "overflow": null,
            "overflow_x": null,
            "overflow_y": null,
            "padding": null,
            "right": null,
            "top": null,
            "visibility": null,
            "width": null
          }
        },
        "eeb7f801263c4db1bbecba6953c6f2aa": {
          "model_module": "@jupyter-widgets/controls",
          "model_name": "ProgressStyleModel",
          "model_module_version": "1.5.0",
          "state": {
            "_model_module": "@jupyter-widgets/controls",
            "_model_module_version": "1.5.0",
            "_model_name": "ProgressStyleModel",
            "_view_count": null,
            "_view_module": "@jupyter-widgets/base",
            "_view_module_version": "1.2.0",
            "_view_name": "StyleView",
            "bar_color": null,
            "description_width": ""
          }
        },
        "f3dd9c3bf52946eaa014cdb82a6ddbf1": {
          "model_module": "@jupyter-widgets/base",
          "model_name": "LayoutModel",
          "model_module_version": "1.2.0",
          "state": {
            "_model_module": "@jupyter-widgets/base",
            "_model_module_version": "1.2.0",
            "_model_name": "LayoutModel",
            "_view_count": null,
            "_view_module": "@jupyter-widgets/base",
            "_view_module_version": "1.2.0",
            "_view_name": "LayoutView",
            "align_content": null,
            "align_items": null,
            "align_self": null,
            "border": null,
            "bottom": null,
            "display": null,
            "flex": null,
            "flex_flow": null,
            "grid_area": null,
            "grid_auto_columns": null,
            "grid_auto_flow": null,
            "grid_auto_rows": null,
            "grid_column": null,
            "grid_gap": null,
            "grid_row": null,
            "grid_template_areas": null,
            "grid_template_columns": null,
            "grid_template_rows": null,
            "height": null,
            "justify_content": null,
            "justify_items": null,
            "left": null,
            "margin": null,
            "max_height": null,
            "max_width": null,
            "min_height": null,
            "min_width": null,
            "object_fit": null,
            "object_position": null,
            "order": null,
            "overflow": null,
            "overflow_x": null,
            "overflow_y": null,
            "padding": null,
            "right": null,
            "top": null,
            "visibility": null,
            "width": null
          }
        },
        "98051695e7d44d8885d5423fe6ae92ac": {
          "model_module": "@jupyter-widgets/controls",
          "model_name": "DescriptionStyleModel",
          "model_module_version": "1.5.0",
          "state": {
            "_model_module": "@jupyter-widgets/controls",
            "_model_module_version": "1.5.0",
            "_model_name": "DescriptionStyleModel",
            "_view_count": null,
            "_view_module": "@jupyter-widgets/base",
            "_view_module_version": "1.2.0",
            "_view_name": "StyleView",
            "description_width": ""
          }
        },
        "7c49814e5e1748ad9d425e63cb30a936": {
          "model_module": "@jupyter-widgets/controls",
          "model_name": "HBoxModel",
          "model_module_version": "1.5.0",
          "state": {
            "_dom_classes": [],
            "_model_module": "@jupyter-widgets/controls",
            "_model_module_version": "1.5.0",
            "_model_name": "HBoxModel",
            "_view_count": null,
            "_view_module": "@jupyter-widgets/controls",
            "_view_module_version": "1.5.0",
            "_view_name": "HBoxView",
            "box_style": "",
            "children": [
              "IPY_MODEL_caf45c67d0ef4e4f94038b73d4333fba",
              "IPY_MODEL_94f2e27cad34490d8171716f321d8d7b",
              "IPY_MODEL_43abf29eeddb412c8909c279ea9ac0e2"
            ],
            "layout": "IPY_MODEL_181262ee503c44b082f18807c192c46a"
          }
        },
        "caf45c67d0ef4e4f94038b73d4333fba": {
          "model_module": "@jupyter-widgets/controls",
          "model_name": "HTMLModel",
          "model_module_version": "1.5.0",
          "state": {
            "_dom_classes": [],
            "_model_module": "@jupyter-widgets/controls",
            "_model_module_version": "1.5.0",
            "_model_name": "HTMLModel",
            "_view_count": null,
            "_view_module": "@jupyter-widgets/controls",
            "_view_module_version": "1.5.0",
            "_view_name": "HTMLView",
            "description": "",
            "description_tooltip": null,
            "layout": "IPY_MODEL_d2ae20d5bab7488c9c932a072f2e4c2b",
            "placeholder": "​",
            "style": "IPY_MODEL_bc7e00d4db5048d7bf87d4925469360e",
            "value": "Flattening the indices: 100%"
          }
        },
        "94f2e27cad34490d8171716f321d8d7b": {
          "model_module": "@jupyter-widgets/controls",
          "model_name": "FloatProgressModel",
          "model_module_version": "1.5.0",
          "state": {
            "_dom_classes": [],
            "_model_module": "@jupyter-widgets/controls",
            "_model_module_version": "1.5.0",
            "_model_name": "FloatProgressModel",
            "_view_count": null,
            "_view_module": "@jupyter-widgets/controls",
            "_view_module_version": "1.5.0",
            "_view_name": "ProgressView",
            "bar_style": "success",
            "description": "",
            "description_tooltip": null,
            "layout": "IPY_MODEL_3fa4e60618f14ceb8e3987d678a1f19e",
            "max": 7600,
            "min": 0,
            "orientation": "horizontal",
            "style": "IPY_MODEL_c2220a3efff64f8bb5b2bd1f2c794b32",
            "value": 7600
          }
        },
        "43abf29eeddb412c8909c279ea9ac0e2": {
          "model_module": "@jupyter-widgets/controls",
          "model_name": "HTMLModel",
          "model_module_version": "1.5.0",
          "state": {
            "_dom_classes": [],
            "_model_module": "@jupyter-widgets/controls",
            "_model_module_version": "1.5.0",
            "_model_name": "HTMLModel",
            "_view_count": null,
            "_view_module": "@jupyter-widgets/controls",
            "_view_module_version": "1.5.0",
            "_view_name": "HTMLView",
            "description": "",
            "description_tooltip": null,
            "layout": "IPY_MODEL_5f89bb6560664d55ae6184bb83ac234f",
            "placeholder": "​",
            "style": "IPY_MODEL_3b52320b98a94c3b9b12707b91ce4cad",
            "value": " 7600/7600 [00:00&lt;00:00, 21174.73 examples/s]"
          }
        },
        "181262ee503c44b082f18807c192c46a": {
          "model_module": "@jupyter-widgets/base",
          "model_name": "LayoutModel",
          "model_module_version": "1.2.0",
          "state": {
            "_model_module": "@jupyter-widgets/base",
            "_model_module_version": "1.2.0",
            "_model_name": "LayoutModel",
            "_view_count": null,
            "_view_module": "@jupyter-widgets/base",
            "_view_module_version": "1.2.0",
            "_view_name": "LayoutView",
            "align_content": null,
            "align_items": null,
            "align_self": null,
            "border": null,
            "bottom": null,
            "display": null,
            "flex": null,
            "flex_flow": null,
            "grid_area": null,
            "grid_auto_columns": null,
            "grid_auto_flow": null,
            "grid_auto_rows": null,
            "grid_column": null,
            "grid_gap": null,
            "grid_row": null,
            "grid_template_areas": null,
            "grid_template_columns": null,
            "grid_template_rows": null,
            "height": null,
            "justify_content": null,
            "justify_items": null,
            "left": null,
            "margin": null,
            "max_height": null,
            "max_width": null,
            "min_height": null,
            "min_width": null,
            "object_fit": null,
            "object_position": null,
            "order": null,
            "overflow": null,
            "overflow_x": null,
            "overflow_y": null,
            "padding": null,
            "right": null,
            "top": null,
            "visibility": null,
            "width": null
          }
        },
        "d2ae20d5bab7488c9c932a072f2e4c2b": {
          "model_module": "@jupyter-widgets/base",
          "model_name": "LayoutModel",
          "model_module_version": "1.2.0",
          "state": {
            "_model_module": "@jupyter-widgets/base",
            "_model_module_version": "1.2.0",
            "_model_name": "LayoutModel",
            "_view_count": null,
            "_view_module": "@jupyter-widgets/base",
            "_view_module_version": "1.2.0",
            "_view_name": "LayoutView",
            "align_content": null,
            "align_items": null,
            "align_self": null,
            "border": null,
            "bottom": null,
            "display": null,
            "flex": null,
            "flex_flow": null,
            "grid_area": null,
            "grid_auto_columns": null,
            "grid_auto_flow": null,
            "grid_auto_rows": null,
            "grid_column": null,
            "grid_gap": null,
            "grid_row": null,
            "grid_template_areas": null,
            "grid_template_columns": null,
            "grid_template_rows": null,
            "height": null,
            "justify_content": null,
            "justify_items": null,
            "left": null,
            "margin": null,
            "max_height": null,
            "max_width": null,
            "min_height": null,
            "min_width": null,
            "object_fit": null,
            "object_position": null,
            "order": null,
            "overflow": null,
            "overflow_x": null,
            "overflow_y": null,
            "padding": null,
            "right": null,
            "top": null,
            "visibility": null,
            "width": null
          }
        },
        "bc7e00d4db5048d7bf87d4925469360e": {
          "model_module": "@jupyter-widgets/controls",
          "model_name": "DescriptionStyleModel",
          "model_module_version": "1.5.0",
          "state": {
            "_model_module": "@jupyter-widgets/controls",
            "_model_module_version": "1.5.0",
            "_model_name": "DescriptionStyleModel",
            "_view_count": null,
            "_view_module": "@jupyter-widgets/base",
            "_view_module_version": "1.2.0",
            "_view_name": "StyleView",
            "description_width": ""
          }
        },
        "3fa4e60618f14ceb8e3987d678a1f19e": {
          "model_module": "@jupyter-widgets/base",
          "model_name": "LayoutModel",
          "model_module_version": "1.2.0",
          "state": {
            "_model_module": "@jupyter-widgets/base",
            "_model_module_version": "1.2.0",
            "_model_name": "LayoutModel",
            "_view_count": null,
            "_view_module": "@jupyter-widgets/base",
            "_view_module_version": "1.2.0",
            "_view_name": "LayoutView",
            "align_content": null,
            "align_items": null,
            "align_self": null,
            "border": null,
            "bottom": null,
            "display": null,
            "flex": null,
            "flex_flow": null,
            "grid_area": null,
            "grid_auto_columns": null,
            "grid_auto_flow": null,
            "grid_auto_rows": null,
            "grid_column": null,
            "grid_gap": null,
            "grid_row": null,
            "grid_template_areas": null,
            "grid_template_columns": null,
            "grid_template_rows": null,
            "height": null,
            "justify_content": null,
            "justify_items": null,
            "left": null,
            "margin": null,
            "max_height": null,
            "max_width": null,
            "min_height": null,
            "min_width": null,
            "object_fit": null,
            "object_position": null,
            "order": null,
            "overflow": null,
            "overflow_x": null,
            "overflow_y": null,
            "padding": null,
            "right": null,
            "top": null,
            "visibility": null,
            "width": null
          }
        },
        "c2220a3efff64f8bb5b2bd1f2c794b32": {
          "model_module": "@jupyter-widgets/controls",
          "model_name": "ProgressStyleModel",
          "model_module_version": "1.5.0",
          "state": {
            "_model_module": "@jupyter-widgets/controls",
            "_model_module_version": "1.5.0",
            "_model_name": "ProgressStyleModel",
            "_view_count": null,
            "_view_module": "@jupyter-widgets/base",
            "_view_module_version": "1.2.0",
            "_view_name": "StyleView",
            "bar_color": null,
            "description_width": ""
          }
        },
        "5f89bb6560664d55ae6184bb83ac234f": {
          "model_module": "@jupyter-widgets/base",
          "model_name": "LayoutModel",
          "model_module_version": "1.2.0",
          "state": {
            "_model_module": "@jupyter-widgets/base",
            "_model_module_version": "1.2.0",
            "_model_name": "LayoutModel",
            "_view_count": null,
            "_view_module": "@jupyter-widgets/base",
            "_view_module_version": "1.2.0",
            "_view_name": "LayoutView",
            "align_content": null,
            "align_items": null,
            "align_self": null,
            "border": null,
            "bottom": null,
            "display": null,
            "flex": null,
            "flex_flow": null,
            "grid_area": null,
            "grid_auto_columns": null,
            "grid_auto_flow": null,
            "grid_auto_rows": null,
            "grid_column": null,
            "grid_gap": null,
            "grid_row": null,
            "grid_template_areas": null,
            "grid_template_columns": null,
            "grid_template_rows": null,
            "height": null,
            "justify_content": null,
            "justify_items": null,
            "left": null,
            "margin": null,
            "max_height": null,
            "max_width": null,
            "min_height": null,
            "min_width": null,
            "object_fit": null,
            "object_position": null,
            "order": null,
            "overflow": null,
            "overflow_x": null,
            "overflow_y": null,
            "padding": null,
            "right": null,
            "top": null,
            "visibility": null,
            "width": null
          }
        },
        "3b52320b98a94c3b9b12707b91ce4cad": {
          "model_module": "@jupyter-widgets/controls",
          "model_name": "DescriptionStyleModel",
          "model_module_version": "1.5.0",
          "state": {
            "_model_module": "@jupyter-widgets/controls",
            "_model_module_version": "1.5.0",
            "_model_name": "DescriptionStyleModel",
            "_view_count": null,
            "_view_module": "@jupyter-widgets/base",
            "_view_module_version": "1.2.0",
            "_view_name": "StyleView",
            "description_width": ""
          }
        }
      }
    }
  },
  "cells": [
    {
      "cell_type": "markdown",
      "source": [
        "## Importing"
      ],
      "metadata": {
        "id": "Bc9BVpsSmZBC"
      }
    },
    {
      "cell_type": "code",
      "execution_count": 1,
      "metadata": {
        "id": "XUDjgWcpx3TW",
        "colab": {
          "base_uri": "https://localhost:8080/"
        },
        "outputId": "ec39cfb9-1917-4865-8819-779b651cca46"
      },
      "outputs": [
        {
          "output_type": "stream",
          "name": "stdout",
          "text": [
            "Requirement already satisfied: textattack in /usr/local/lib/python3.10/dist-packages (0.3.10)\n",
            "Requirement already satisfied: bert-score>=0.3.5 in /usr/local/lib/python3.10/dist-packages (from textattack) (0.3.13)\n",
            "Requirement already satisfied: editdistance in /usr/local/lib/python3.10/dist-packages (from textattack) (0.6.2)\n",
            "Requirement already satisfied: flair in /usr/local/lib/python3.10/dist-packages (from textattack) (0.13.1)\n",
            "Requirement already satisfied: filelock in /usr/local/lib/python3.10/dist-packages (from textattack) (3.14.0)\n",
            "Requirement already satisfied: language-tool-python in /usr/local/lib/python3.10/dist-packages (from textattack) (2.8)\n",
            "Requirement already satisfied: lemminflect in /usr/local/lib/python3.10/dist-packages (from textattack) (0.2.3)\n",
            "Requirement already satisfied: lru-dict in /usr/local/lib/python3.10/dist-packages (from textattack) (1.3.0)\n",
            "Requirement already satisfied: datasets>=2.4.0 in /usr/local/lib/python3.10/dist-packages (from textattack) (2.19.1)\n",
            "Requirement already satisfied: nltk in /usr/local/lib/python3.10/dist-packages (from textattack) (3.8.1)\n",
            "Requirement already satisfied: numpy>=1.21.0 in /usr/local/lib/python3.10/dist-packages (from textattack) (1.25.2)\n",
            "Requirement already satisfied: pandas>=1.0.1 in /usr/local/lib/python3.10/dist-packages (from textattack) (2.0.3)\n",
            "Requirement already satisfied: scipy>=1.4.1 in /usr/local/lib/python3.10/dist-packages (from textattack) (1.11.4)\n",
            "Requirement already satisfied: torch!=1.8,>=1.7.0 in /usr/local/lib/python3.10/dist-packages (from textattack) (2.2.1+cu121)\n",
            "Requirement already satisfied: transformers>=4.30.0 in /usr/local/lib/python3.10/dist-packages (from textattack) (4.40.2)\n",
            "Requirement already satisfied: terminaltables in /usr/local/lib/python3.10/dist-packages (from textattack) (3.1.10)\n",
            "Requirement already satisfied: tqdm in /usr/local/lib/python3.10/dist-packages (from textattack) (4.66.4)\n",
            "Requirement already satisfied: word2number in /usr/local/lib/python3.10/dist-packages (from textattack) (1.1)\n",
            "Requirement already satisfied: num2words in /usr/local/lib/python3.10/dist-packages (from textattack) (0.5.13)\n",
            "Requirement already satisfied: more-itertools in /usr/local/lib/python3.10/dist-packages (from textattack) (10.1.0)\n",
            "Requirement already satisfied: pinyin>=0.4.0 in /usr/local/lib/python3.10/dist-packages (from textattack) (0.4.0)\n",
            "Requirement already satisfied: jieba in /usr/local/lib/python3.10/dist-packages (from textattack) (0.42.1)\n",
            "Requirement already satisfied: OpenHowNet in /usr/local/lib/python3.10/dist-packages (from textattack) (2.0)\n",
            "Requirement already satisfied: requests in /usr/local/lib/python3.10/dist-packages (from bert-score>=0.3.5->textattack) (2.31.0)\n",
            "Requirement already satisfied: matplotlib in /usr/local/lib/python3.10/dist-packages (from bert-score>=0.3.5->textattack) (3.7.1)\n",
            "Requirement already satisfied: packaging>=20.9 in /usr/local/lib/python3.10/dist-packages (from bert-score>=0.3.5->textattack) (24.0)\n",
            "Requirement already satisfied: pyarrow>=12.0.0 in /usr/local/lib/python3.10/dist-packages (from datasets>=2.4.0->textattack) (14.0.2)\n",
            "Requirement already satisfied: pyarrow-hotfix in /usr/local/lib/python3.10/dist-packages (from datasets>=2.4.0->textattack) (0.6)\n",
            "Requirement already satisfied: dill<0.3.9,>=0.3.0 in /usr/local/lib/python3.10/dist-packages (from datasets>=2.4.0->textattack) (0.3.8)\n",
            "Requirement already satisfied: xxhash in /usr/local/lib/python3.10/dist-packages (from datasets>=2.4.0->textattack) (3.4.1)\n",
            "Requirement already satisfied: multiprocess in /usr/local/lib/python3.10/dist-packages (from datasets>=2.4.0->textattack) (0.70.16)\n",
            "Requirement already satisfied: fsspec[http]<=2024.3.1,>=2023.1.0 in /usr/local/lib/python3.10/dist-packages (from datasets>=2.4.0->textattack) (2023.6.0)\n",
            "Requirement already satisfied: aiohttp in /usr/local/lib/python3.10/dist-packages (from datasets>=2.4.0->textattack) (3.9.5)\n",
            "Requirement already satisfied: huggingface-hub>=0.21.2 in /usr/local/lib/python3.10/dist-packages (from datasets>=2.4.0->textattack) (0.23.0)\n",
            "Requirement already satisfied: pyyaml>=5.1 in /usr/local/lib/python3.10/dist-packages (from datasets>=2.4.0->textattack) (6.0.1)\n",
            "Requirement already satisfied: python-dateutil>=2.8.2 in /usr/local/lib/python3.10/dist-packages (from pandas>=1.0.1->textattack) (2.8.2)\n",
            "Requirement already satisfied: pytz>=2020.1 in /usr/local/lib/python3.10/dist-packages (from pandas>=1.0.1->textattack) (2023.4)\n",
            "Requirement already satisfied: tzdata>=2022.1 in /usr/local/lib/python3.10/dist-packages (from pandas>=1.0.1->textattack) (2024.1)\n",
            "Requirement already satisfied: typing-extensions>=4.8.0 in /usr/local/lib/python3.10/dist-packages (from torch!=1.8,>=1.7.0->textattack) (4.11.0)\n",
            "Requirement already satisfied: sympy in /usr/local/lib/python3.10/dist-packages (from torch!=1.8,>=1.7.0->textattack) (1.12)\n",
            "Requirement already satisfied: networkx in /usr/local/lib/python3.10/dist-packages (from torch!=1.8,>=1.7.0->textattack) (3.3)\n",
            "Requirement already satisfied: jinja2 in /usr/local/lib/python3.10/dist-packages (from torch!=1.8,>=1.7.0->textattack) (3.1.4)\n",
            "Requirement already satisfied: nvidia-cuda-nvrtc-cu12==12.1.105 in /usr/local/lib/python3.10/dist-packages (from torch!=1.8,>=1.7.0->textattack) (12.1.105)\n",
            "Requirement already satisfied: nvidia-cuda-runtime-cu12==12.1.105 in /usr/local/lib/python3.10/dist-packages (from torch!=1.8,>=1.7.0->textattack) (12.1.105)\n",
            "Requirement already satisfied: nvidia-cuda-cupti-cu12==12.1.105 in /usr/local/lib/python3.10/dist-packages (from torch!=1.8,>=1.7.0->textattack) (12.1.105)\n",
            "Requirement already satisfied: nvidia-cudnn-cu12==8.9.2.26 in /usr/local/lib/python3.10/dist-packages (from torch!=1.8,>=1.7.0->textattack) (8.9.2.26)\n",
            "Requirement already satisfied: nvidia-cublas-cu12==12.1.3.1 in /usr/local/lib/python3.10/dist-packages (from torch!=1.8,>=1.7.0->textattack) (12.1.3.1)\n",
            "Requirement already satisfied: nvidia-cufft-cu12==11.0.2.54 in /usr/local/lib/python3.10/dist-packages (from torch!=1.8,>=1.7.0->textattack) (11.0.2.54)\n",
            "Requirement already satisfied: nvidia-curand-cu12==10.3.2.106 in /usr/local/lib/python3.10/dist-packages (from torch!=1.8,>=1.7.0->textattack) (10.3.2.106)\n",
            "Requirement already satisfied: nvidia-cusolver-cu12==11.4.5.107 in /usr/local/lib/python3.10/dist-packages (from torch!=1.8,>=1.7.0->textattack) (11.4.5.107)\n",
            "Requirement already satisfied: nvidia-cusparse-cu12==12.1.0.106 in /usr/local/lib/python3.10/dist-packages (from torch!=1.8,>=1.7.0->textattack) (12.1.0.106)\n",
            "Requirement already satisfied: nvidia-nccl-cu12==2.19.3 in /usr/local/lib/python3.10/dist-packages (from torch!=1.8,>=1.7.0->textattack) (2.19.3)\n",
            "Requirement already satisfied: nvidia-nvtx-cu12==12.1.105 in /usr/local/lib/python3.10/dist-packages (from torch!=1.8,>=1.7.0->textattack) (12.1.105)\n",
            "Requirement already satisfied: triton==2.2.0 in /usr/local/lib/python3.10/dist-packages (from torch!=1.8,>=1.7.0->textattack) (2.2.0)\n",
            "Requirement already satisfied: nvidia-nvjitlink-cu12 in /usr/local/lib/python3.10/dist-packages (from nvidia-cusolver-cu12==11.4.5.107->torch!=1.8,>=1.7.0->textattack) (12.4.127)\n",
            "Requirement already satisfied: regex!=2019.12.17 in /usr/local/lib/python3.10/dist-packages (from transformers>=4.30.0->textattack) (2023.12.25)\n",
            "Requirement already satisfied: tokenizers<0.20,>=0.19 in /usr/local/lib/python3.10/dist-packages (from transformers>=4.30.0->textattack) (0.19.1)\n",
            "Requirement already satisfied: safetensors>=0.4.1 in /usr/local/lib/python3.10/dist-packages (from transformers>=4.30.0->textattack) (0.4.3)\n",
            "Requirement already satisfied: boto3>=1.20.27 in /usr/local/lib/python3.10/dist-packages (from flair->textattack) (1.34.107)\n",
            "Requirement already satisfied: bpemb>=0.3.2 in /usr/local/lib/python3.10/dist-packages (from flair->textattack) (0.3.5)\n",
            "Requirement already satisfied: conllu>=4.0 in /usr/local/lib/python3.10/dist-packages (from flair->textattack) (4.5.3)\n",
            "Requirement already satisfied: deprecated>=1.2.13 in /usr/local/lib/python3.10/dist-packages (from flair->textattack) (1.2.14)\n",
            "Requirement already satisfied: ftfy>=6.1.0 in /usr/local/lib/python3.10/dist-packages (from flair->textattack) (6.2.0)\n",
            "Requirement already satisfied: gdown>=4.4.0 in /usr/local/lib/python3.10/dist-packages (from flair->textattack) (5.1.0)\n",
            "Requirement already satisfied: gensim>=4.2.0 in /usr/local/lib/python3.10/dist-packages (from flair->textattack) (4.3.2)\n",
            "Requirement already satisfied: janome>=0.4.2 in /usr/local/lib/python3.10/dist-packages (from flair->textattack) (0.5.0)\n",
            "Requirement already satisfied: langdetect>=1.0.9 in /usr/local/lib/python3.10/dist-packages (from flair->textattack) (1.0.9)\n",
            "Requirement already satisfied: lxml>=4.8.0 in /usr/local/lib/python3.10/dist-packages (from flair->textattack) (4.9.4)\n",
            "Requirement already satisfied: mpld3>=0.3 in /usr/local/lib/python3.10/dist-packages (from flair->textattack) (0.5.10)\n",
            "Requirement already satisfied: pptree>=3.1 in /usr/local/lib/python3.10/dist-packages (from flair->textattack) (3.1)\n",
            "Requirement already satisfied: pytorch-revgrad>=0.2.0 in /usr/local/lib/python3.10/dist-packages (from flair->textattack) (0.2.0)\n",
            "Requirement already satisfied: scikit-learn>=1.0.2 in /usr/local/lib/python3.10/dist-packages (from flair->textattack) (1.2.2)\n",
            "Requirement already satisfied: segtok>=1.5.11 in /usr/local/lib/python3.10/dist-packages (from flair->textattack) (1.5.11)\n",
            "Requirement already satisfied: sqlitedict>=2.0.0 in /usr/local/lib/python3.10/dist-packages (from flair->textattack) (2.1.0)\n",
            "Requirement already satisfied: tabulate>=0.8.10 in /usr/local/lib/python3.10/dist-packages (from flair->textattack) (0.9.0)\n",
            "Requirement already satisfied: transformer-smaller-training-vocab>=0.2.3 in /usr/local/lib/python3.10/dist-packages (from flair->textattack) (0.4.0)\n",
            "Requirement already satisfied: urllib3<2.0.0,>=1.0.0 in /usr/local/lib/python3.10/dist-packages (from flair->textattack) (1.26.18)\n",
            "Requirement already satisfied: wikipedia-api>=0.5.7 in /usr/local/lib/python3.10/dist-packages (from flair->textattack) (0.6.0)\n",
            "Requirement already satisfied: semver<4.0.0,>=3.0.0 in /usr/local/lib/python3.10/dist-packages (from flair->textattack) (3.0.2)\n",
            "Requirement already satisfied: pip in /usr/local/lib/python3.10/dist-packages (from language-tool-python->textattack) (23.1.2)\n",
            "Requirement already satisfied: wheel in /usr/local/lib/python3.10/dist-packages (from language-tool-python->textattack) (0.43.0)\n",
            "Requirement already satisfied: click in /usr/local/lib/python3.10/dist-packages (from nltk->textattack) (8.1.7)\n",
            "Requirement already satisfied: joblib in /usr/local/lib/python3.10/dist-packages (from nltk->textattack) (1.4.2)\n",
            "Requirement already satisfied: docopt>=0.6.2 in /usr/local/lib/python3.10/dist-packages (from num2words->textattack) (0.6.2)\n",
            "Requirement already satisfied: anytree in /usr/local/lib/python3.10/dist-packages (from OpenHowNet->textattack) (2.12.1)\n",
            "Requirement already satisfied: setuptools in /usr/local/lib/python3.10/dist-packages (from OpenHowNet->textattack) (67.7.2)\n",
            "Requirement already satisfied: botocore<1.35.0,>=1.34.107 in /usr/local/lib/python3.10/dist-packages (from boto3>=1.20.27->flair->textattack) (1.34.107)\n",
            "Requirement already satisfied: jmespath<2.0.0,>=0.7.1 in /usr/local/lib/python3.10/dist-packages (from boto3>=1.20.27->flair->textattack) (1.0.1)\n",
            "Requirement already satisfied: s3transfer<0.11.0,>=0.10.0 in /usr/local/lib/python3.10/dist-packages (from boto3>=1.20.27->flair->textattack) (0.10.1)\n",
            "Requirement already satisfied: sentencepiece in /usr/local/lib/python3.10/dist-packages (from bpemb>=0.3.2->flair->textattack) (0.1.99)\n",
            "Requirement already satisfied: wrapt<2,>=1.10 in /usr/local/lib/python3.10/dist-packages (from deprecated>=1.2.13->flair->textattack) (1.14.1)\n",
            "Requirement already satisfied: aiosignal>=1.1.2 in /usr/local/lib/python3.10/dist-packages (from aiohttp->datasets>=2.4.0->textattack) (1.3.1)\n",
            "Requirement already satisfied: attrs>=17.3.0 in /usr/local/lib/python3.10/dist-packages (from aiohttp->datasets>=2.4.0->textattack) (23.2.0)\n",
            "Requirement already satisfied: frozenlist>=1.1.1 in /usr/local/lib/python3.10/dist-packages (from aiohttp->datasets>=2.4.0->textattack) (1.4.1)\n",
            "Requirement already satisfied: multidict<7.0,>=4.5 in /usr/local/lib/python3.10/dist-packages (from aiohttp->datasets>=2.4.0->textattack) (6.0.5)\n",
            "Requirement already satisfied: yarl<2.0,>=1.0 in /usr/local/lib/python3.10/dist-packages (from aiohttp->datasets>=2.4.0->textattack) (1.9.4)\n",
            "Requirement already satisfied: async-timeout<5.0,>=4.0 in /usr/local/lib/python3.10/dist-packages (from aiohttp->datasets>=2.4.0->textattack) (4.0.3)\n",
            "Requirement already satisfied: wcwidth<0.3.0,>=0.2.12 in /usr/local/lib/python3.10/dist-packages (from ftfy>=6.1.0->flair->textattack) (0.2.13)\n",
            "Requirement already satisfied: beautifulsoup4 in /usr/local/lib/python3.10/dist-packages (from gdown>=4.4.0->flair->textattack) (4.12.3)\n",
            "Requirement already satisfied: smart-open>=1.8.1 in /usr/local/lib/python3.10/dist-packages (from gensim>=4.2.0->flair->textattack) (6.4.0)\n",
            "Requirement already satisfied: six in /usr/local/lib/python3.10/dist-packages (from langdetect>=1.0.9->flair->textattack) (1.16.0)\n",
            "Requirement already satisfied: contourpy>=1.0.1 in /usr/local/lib/python3.10/dist-packages (from matplotlib->bert-score>=0.3.5->textattack) (1.2.1)\n",
            "Requirement already satisfied: cycler>=0.10 in /usr/local/lib/python3.10/dist-packages (from matplotlib->bert-score>=0.3.5->textattack) (0.12.1)\n",
            "Requirement already satisfied: fonttools>=4.22.0 in /usr/local/lib/python3.10/dist-packages (from matplotlib->bert-score>=0.3.5->textattack) (4.51.0)\n",
            "Requirement already satisfied: kiwisolver>=1.0.1 in /usr/local/lib/python3.10/dist-packages (from matplotlib->bert-score>=0.3.5->textattack) (1.4.5)\n",
            "Requirement already satisfied: pillow>=6.2.0 in /usr/local/lib/python3.10/dist-packages (from matplotlib->bert-score>=0.3.5->textattack) (9.4.0)\n",
            "Requirement already satisfied: pyparsing>=2.3.1 in /usr/local/lib/python3.10/dist-packages (from matplotlib->bert-score>=0.3.5->textattack) (3.1.2)\n",
            "Requirement already satisfied: charset-normalizer<4,>=2 in /usr/local/lib/python3.10/dist-packages (from requests->bert-score>=0.3.5->textattack) (3.3.2)\n",
            "Requirement already satisfied: idna<4,>=2.5 in /usr/local/lib/python3.10/dist-packages (from requests->bert-score>=0.3.5->textattack) (3.7)\n",
            "Requirement already satisfied: certifi>=2017.4.17 in /usr/local/lib/python3.10/dist-packages (from requests->bert-score>=0.3.5->textattack) (2024.2.2)\n",
            "Requirement already satisfied: threadpoolctl>=2.0.0 in /usr/local/lib/python3.10/dist-packages (from scikit-learn>=1.0.2->flair->textattack) (3.5.0)\n",
            "Requirement already satisfied: protobuf in /usr/local/lib/python3.10/dist-packages (from transformers>=4.30.0->textattack) (3.20.3)\n",
            "Requirement already satisfied: MarkupSafe>=2.0 in /usr/local/lib/python3.10/dist-packages (from jinja2->torch!=1.8,>=1.7.0->textattack) (2.1.5)\n",
            "Requirement already satisfied: mpmath>=0.19 in /usr/local/lib/python3.10/dist-packages (from sympy->torch!=1.8,>=1.7.0->textattack) (1.3.0)\n",
            "Requirement already satisfied: accelerate>=0.21.0 in /usr/local/lib/python3.10/dist-packages (from transformers>=4.30.0->textattack) (0.30.1)\n",
            "Requirement already satisfied: soupsieve>1.2 in /usr/local/lib/python3.10/dist-packages (from beautifulsoup4->gdown>=4.4.0->flair->textattack) (2.5)\n",
            "Requirement already satisfied: PySocks!=1.5.7,>=1.5.6 in /usr/local/lib/python3.10/dist-packages (from requests->bert-score>=0.3.5->textattack) (1.7.1)\n",
            "Requirement already satisfied: psutil in /usr/local/lib/python3.10/dist-packages (from accelerate>=0.21.0->transformers>=4.30.0->textattack) (5.9.5)\n"
          ]
        }
      ],
      "source": [
        "!pip install textattack"
      ]
    },
    {
      "cell_type": "code",
      "source": [
        "import textattack\n",
        "from textattack.constraints.semantics.sentence_encoders import UniversalSentenceEncoder\n",
        "import transformers\n",
        "from textattack.attack_results.successful_attack_result import SuccessfulAttackResult\n",
        "from textattack.shared.word_embeddings import WordEmbedding\n",
        "import numpy as np\n",
        "import json\n",
        "from numpy import dot\n",
        "from numpy.linalg import norm\n",
        "import pandas as pd\n",
        "from IPython.core.display import display, HTML\n",
        "from textattack.loggers import CSVLogger\n",
        "import torch\n",
        "from textattack.models.helpers.lstm_for_classification import LSTMForClassification\n",
        "from textattack.models.wrappers.pytorch_model_wrapper import PyTorchModelWrapper\n",
        "from textattack.datasets import HuggingFaceDataset\n",
        "from sklearn.metrics import accuracy_score"
      ],
      "metadata": {
        "id": "7XFVPlsYMWRJ"
      },
      "execution_count": 2,
      "outputs": []
    },
    {
      "cell_type": "markdown",
      "source": [
        "## Helper Functions"
      ],
      "metadata": {
        "id": "RzSRnUNspUz4"
      }
    },
    {
      "cell_type": "code",
      "source": [
        "def load_model_and_tokenizer(hugging_face_path):\n",
        "    model = transformers.AutoModelForSequenceClassification.from_pretrained(hugging_face_path)\n",
        "    tokenizer = transformers.AutoTokenizer.from_pretrained(hugging_face_path)\n",
        "    model_wrapper = textattack.models.wrappers.HuggingFaceModelWrapper(model, tokenizer)\n",
        "    return model_wrapper\n",
        "\n",
        "\n",
        "def get_use_embeddings(use, adv_attacks_results):\n",
        "    original_texts = []\n",
        "    adversarial_texts = []\n",
        "    for result in adv_attacks_results:\n",
        "        if isinstance(result, SuccessfulAttackResult):\n",
        "            original_texts.append(result.original_text())\n",
        "            adversarial_texts.append(result.perturbed_text())\n",
        "\n",
        "    use_original_embeddings = use.encode(original_texts)\n",
        "    use_adv_embeddings = use.encode(adversarial_texts)\n",
        "    return use_original_embeddings, use_adv_embeddings\n",
        "\n",
        "\n",
        "def get_avg_cosine_sim(original_embeddings, adv_embeddings):\n",
        "    # Compute avg. cosine similarity between the embeddings computed using the Universal Sentence Encoding\n",
        "    cos_sim = []\n",
        "    sim_metric = torch.nn.CosineSimilarity(dim=1)\n",
        "    cosine_similarities = sim_metric(torch.tensor(original_embeddings),\n",
        "                                     torch.tensor(adv_embeddings))\n",
        "    return np.mean(cosine_similarities.numpy())\n",
        "\n",
        "\n",
        "\n",
        "def get_cosine_sim(original_embeddings, adv_embeddings):\n",
        "    cos_sim = []\n",
        "    sim_metric = torch.nn.CosineSimilarity(dim=1)\n",
        "    cosine_similarities = sim_metric(torch.tensor(original_embeddings),\n",
        "                                     torch.tensor(adv_embeddings))\n",
        "    return cosine_similarities.numpy().tolist()\n",
        "\n",
        "\n",
        "def get_words_embedding_distances(embedding, original_text,\n",
        "                                  adv_text):\n",
        "    word_distances = []\n",
        "    for word, adv_word in zip(original_text, adv_text):\n",
        "        if word != adv_word:\n",
        "            # print(word, adv_word)\n",
        "            try:\n",
        "              cos_sim = embedding.get_cos_sim(word, adv_word)\n",
        "            except KeyError:\n",
        "              continue\n",
        "            word_distances.append( (word, adv_word, cos_sim) )\n",
        "\n",
        "    return word_distances\n",
        "\n",
        "\n",
        "def get_min_words_distance(embedding, adv_attacks_results):\n",
        "    succesful_attacks = list(filter(lambda res: isinstance(res, SuccessfulAttackResult),\n",
        "                          adv_attacks_results))\n",
        "\n",
        "    min_distances = []\n",
        "    for res in succesful_attacks:\n",
        "        original_text = res.original_result.attacked_text.words\n",
        "        adversarial_text = res.perturbed_result.attacked_text.words\n",
        "\n",
        "        embedding_distances = get_words_embedding_distances(embedding,\n",
        "                                                            original_text,\n",
        "                                                            adversarial_text)\n",
        "        # Get the words with minimum embedding cosine similarity\n",
        "        if len(embedding_distances) == 0:\n",
        "            continue\n",
        "        min_words_distance_i = min(embedding_distances, key = lambda x: x[2])\n",
        "        min_distances.append(min_words_distance_i)\n",
        "    return min_distances\n",
        "\n",
        "def display_results(attacks_results, output_file):\n",
        "    pd.options.display.max_colwidth = (\n",
        "    480  # increase colum width so we can actually read the examples\n",
        "    )\n",
        "\n",
        "    logger = CSVLogger(color_method=\"html\")\n",
        "\n",
        "    for result in attacks_results:\n",
        "        if isinstance(result, SuccessfulAttackResult):\n",
        "            logger.log_attack_result(result)\n",
        "\n",
        "    results = pd.DataFrame.from_records(logger.row_list)\n",
        "\n",
        "    if not results.empty:\n",
        "        html_content = results[[\"original_text\", \"perturbed_text\"]].to_html(escape=False)\n",
        "\n",
        "        with open(output_file, 'w') as file:\n",
        "            file.write(html_content)\n",
        "\n",
        "\n",
        "def transfer_attack(model_wrapper, attack_results):\n",
        "\n",
        "    succesful_attacks = list(filter(lambda res: isinstance(res, SuccessfulAttackResult),\n",
        "                          attack_results))\n",
        "\n",
        "    original_text = [res.original_text() for res in succesful_attacks]\n",
        "    adversarial_text = [res.perturbed_text() for res in succesful_attacks]\n",
        "    original_labels = [res.original_result.ground_truth_output for res in succesful_attacks]\n",
        "    original_model_predicted_labels = np.argmax(model_wrapper(original_text), axis=1)\n",
        "    adv_model_pred_labels = np.argmax(model_wrapper(adversarial_text), axis=1)\n",
        "\n",
        "    original_accuracy = accuracy_score(original_labels,\n",
        "                                       original_model_predicted_labels)\n",
        "    adv_accuracy = accuracy_score(original_labels, adv_model_pred_labels)\n",
        "    return original_accuracy, adv_accuracy\n",
        "\n",
        "\n",
        "def create_use_data(original_embeddings, adversarial_embeddings, cosine_sim):\n",
        "    use_data_dic = {}\n",
        "    use_data_dic['original_embeddings'] = original_embeddings\n",
        "    use_data_dic['adversarial_embeddings'] = adversarial_embeddings\n",
        "    use_data_dic['cosine_sim'] = cosine_sim\n",
        "    return use_data_dic\n",
        "\n",
        "def dictToJSON(data, filename = \"data.json\"):\n",
        "  with open(filename, 'w') as f:\n",
        "    json.dump(data, f)\n",
        "\n",
        "\n",
        "\n",
        "class FixedHuggingFaceDataset(HuggingFaceDataset):\n",
        "    def __init__(self, name_or_dataset, subset=None, split=\"train\", dataset_columns=None, label_map=None,\n",
        "                 label_names=None, output_scale_factor=None, shuffle=False, seed=69, subset_size=None, offset=0):\n",
        "        super().__init__(name_or_dataset=name_or_dataset, subset=subset, split=split, dataset_columns=dataset_columns,\n",
        "                         label_map=label_map, label_names=label_names, output_scale_factor=output_scale_factor,\n",
        "                         shuffle=shuffle)\n",
        "        if shuffle:\n",
        "            self._dataset = self._dataset.shuffle(seed=seed).flatten_indices()\n",
        "        if subset_size is not None:\n",
        "            self._dataset = self._dataset.skip(offset).take(subset_size)\n"
      ],
      "metadata": {
        "id": "-0CsmzkKpb84"
      },
      "execution_count": 31,
      "outputs": []
    },
    {
      "cell_type": "code",
      "source": [
        "use = UniversalSentenceEncoder()\n",
        "word_embedding = WordEmbedding.counterfitted_GLOVE_embedding()"
      ],
      "metadata": {
        "id": "T0Af3yFNko45"
      },
      "execution_count": 4,
      "outputs": []
    },
    {
      "cell_type": "code",
      "source": [
        "models = {}\n",
        "datasets = {}"
      ],
      "metadata": {
        "id": "jdB6uy5RYsGO"
      },
      "execution_count": 5,
      "outputs": []
    },
    {
      "cell_type": "markdown",
      "source": [
        "## Attacked models"
      ],
      "metadata": {
        "id": "TnRg_I5lvVbB"
      }
    },
    {
      "cell_type": "code",
      "source": [
        "bert_imdb = load_model_and_tokenizer(\"textattack/bert-base-uncased-imdb\")"
      ],
      "metadata": {
        "colab": {
          "base_uri": "https://localhost:8080/"
        },
        "id": "uZUttuvAvYP7",
        "outputId": "fe277222-67c2-46f5-a94c-a3453b6f58bb"
      },
      "execution_count": 6,
      "outputs": [
        {
          "output_type": "stream",
          "name": "stderr",
          "text": [
            "/usr/local/lib/python3.10/dist-packages/huggingface_hub/file_download.py:1132: FutureWarning: `resume_download` is deprecated and will be removed in version 1.0.0. Downloads always resume when possible. If you want to force a new download, use `force_download=True`.\n",
            "  warnings.warn(\n",
            "/usr/local/lib/python3.10/dist-packages/huggingface_hub/utils/_token.py:89: UserWarning: \n",
            "The secret `HF_TOKEN` does not exist in your Colab secrets.\n",
            "To authenticate with the Hugging Face Hub, create a token in your settings tab (https://huggingface.co/settings/tokens), set it as secret in your Google Colab and restart your session.\n",
            "You will be able to reuse this secret in all of your notebooks.\n",
            "Please note that authentication is recommended but still optional to access public models or datasets.\n",
            "  warnings.warn(\n"
          ]
        }
      ]
    },
    {
      "cell_type": "code",
      "source": [
        "bert_yelp = load_model_and_tokenizer(\"textattack/bert-base-uncased-yelp-polarity\")"
      ],
      "metadata": {
        "colab": {
          "base_uri": "https://localhost:8080/",
          "referenced_widgets": [
            "66394ddaa1754e7682911e950e149e1f",
            "d3954df708c64092b6bfaf4a40ea9ffd",
            "32aad356d5b146218e72ee717d6b0dad",
            "26108669dca142b1a7e39bedbc5855ad",
            "a1a3a228faa54dbfb6c7f1160e679908",
            "91541f5eece9465cb5e8090e858d2e6a",
            "0d5ee18f345e4d6b8552b8b5758a4587",
            "ae49ea9b388f40d5a21cc477235f1049",
            "e086a2a06cf34716afa4a9f9c68c802d",
            "2f539719c1f5416aad157296d0cb7320",
            "06222d52c19443afbdab58aecd97aa7d",
            "8aac833e35f44e538ea4c95922266fca",
            "7def366af454417c9cda33fdfd3f8491",
            "23d2d5cb23604e59a992c27cc2f7d3a6",
            "00200e5970e84df8bda9e14946d7601b",
            "7dba3871340142d799514e4b520d9942",
            "5199598c15d347fc8475d7a29ef4436d",
            "8715ec887e32400ba8a748d20104d2a2",
            "0fa5f076ce4d4b9bb405ef732e8ebdbe",
            "36acdbceab904e60935afae1286885bf",
            "92dd859b76bf416caa4d026cf7340508",
            "d2b28c0287fc411eaeba064cdb74430b",
            "46675c22ba9a4632b72011b26a859045",
            "323ff26a7ca14d949934f1c9160c58fa",
            "6642e021092d42f795797e5b3d1ad930",
            "68b1f17d2b4041cea233fbf3bdca144a",
            "f353730f285c44009ffad322ecd157e6",
            "fcb2046e44804d90b62bce661d3d3302",
            "5ca03edeb1d7433a9f6a493aa6bf84a4",
            "66df0b605c6a4d4485e81e736a1beadc",
            "2e5eef767140463ca7d589cc66e2426f",
            "b7db8fae527643f2a585df48950e46bf",
            "d4b8567bdfeb4e3db4a84408ff83c571",
            "2558b3436e434bbab8c903367bcd6db2",
            "5f4e8cc46c434700857326d962da5dfb",
            "02311be1a69e48daacb5bcc38feebad5",
            "9a45dbb7d909465fa2454678742ccb0b",
            "2fa1b8a71c1a4ba5aa5c6d06777d6918",
            "aed31e1be84948f890c7b15653e80f38",
            "38149ce2eb964f6c991076bbf589963f",
            "305af26a5279421c96fa9909bca36d16",
            "a052b1b320924c9c93b60216a13e0bba",
            "3baeca99fd164697a185ec11767eb7c0",
            "9879b95f025641f797c151f85327e51f",
            "79bdab009d1743f391e4e2fb85f0045f",
            "379c5ffec4b94927904a00cab9cf3f6f",
            "946f1ed43d144204ab98e5ab8df1c92e",
            "bcad4d4e95034be8a2d812023ed41f20",
            "f97cf1dcf8ed4b628056136cbddfaf7f",
            "9c16d4ff91cf4d96a58d25b6da0cef84",
            "91cae190395540649445cd1ff52f8726",
            "b004a20cd3b0485292a4718db6693269",
            "3b351cc261684619a48227643f770440",
            "e766a03bfd72489eb55ecdecb6391b07",
            "014fb421e0c147ef84a6660546509934"
          ],
          "height": 177
        },
        "id": "wNr5Fmr_vYrB",
        "outputId": "3e481755-964f-4574-a520-703798dcf45d"
      },
      "execution_count": 7,
      "outputs": [
        {
          "output_type": "display_data",
          "data": {
            "text/plain": [
              "config.json:   0%|          | 0.00/520 [00:00<?, ?B/s]"
            ],
            "application/vnd.jupyter.widget-view+json": {
              "version_major": 2,
              "version_minor": 0,
              "model_id": "66394ddaa1754e7682911e950e149e1f"
            }
          },
          "metadata": {}
        },
        {
          "output_type": "display_data",
          "data": {
            "text/plain": [
              "pytorch_model.bin:   0%|          | 0.00/438M [00:00<?, ?B/s]"
            ],
            "application/vnd.jupyter.widget-view+json": {
              "version_major": 2,
              "version_minor": 0,
              "model_id": "8aac833e35f44e538ea4c95922266fca"
            }
          },
          "metadata": {}
        },
        {
          "output_type": "display_data",
          "data": {
            "text/plain": [
              "tokenizer_config.json:   0%|          | 0.00/48.0 [00:00<?, ?B/s]"
            ],
            "application/vnd.jupyter.widget-view+json": {
              "version_major": 2,
              "version_minor": 0,
              "model_id": "46675c22ba9a4632b72011b26a859045"
            }
          },
          "metadata": {}
        },
        {
          "output_type": "display_data",
          "data": {
            "text/plain": [
              "vocab.txt:   0%|          | 0.00/232k [00:00<?, ?B/s]"
            ],
            "application/vnd.jupyter.widget-view+json": {
              "version_major": 2,
              "version_minor": 0,
              "model_id": "2558b3436e434bbab8c903367bcd6db2"
            }
          },
          "metadata": {}
        },
        {
          "output_type": "display_data",
          "data": {
            "text/plain": [
              "special_tokens_map.json:   0%|          | 0.00/112 [00:00<?, ?B/s]"
            ],
            "application/vnd.jupyter.widget-view+json": {
              "version_major": 2,
              "version_minor": 0,
              "model_id": "79bdab009d1743f391e4e2fb85f0045f"
            }
          },
          "metadata": {}
        }
      ]
    },
    {
      "cell_type": "code",
      "source": [
        "bert_ag = load_model_and_tokenizer(\"textattack/bert-base-uncased-ag-news\")"
      ],
      "metadata": {
        "colab": {
          "base_uri": "https://localhost:8080/",
          "referenced_widgets": [
            "3f75d9bb36944a7c897f58902bf75a8f",
            "59f100eb89514b5dbf2e345ef6fec11b",
            "262baf7752834ac1bd4084815ad10794",
            "ace5acc1022140a89b23cb66baefaf95",
            "b59eeea7a2284dcba17388e0cb07ee3e",
            "c7fee3f767a9485eb3769b9f69072464",
            "9ff2ed2a09ba4bd8b8f7025a665e3e1e",
            "dc63e54b05d24c53b82fb15d6d1dbdf1",
            "590065d98f324c4bb0387df7faea909f",
            "68d9f3618ec0466ca950c20f84b64693",
            "6f4595e477264645a77277444fc1fa80",
            "59c19fd3ab9748ad94a8189932c2c8c5",
            "4f148b20280142088ebacd402e00c0fd",
            "f3050d89b23e49b080ab9a37dc805ec9",
            "2b604eeabfb54039979c864b1e7d0df7",
            "a1f9042e21454ee6af91fa77c5b3d4c9",
            "0e5dd8ad474848c7b5f087507b09aa9b",
            "eb8d384270354812984c7dd038c420c3",
            "f35ecee473d2467fa3ff3b7d3a74b63b",
            "eed2ab5c607e4d2c9b0adc269fd1630b",
            "a00baf3f99cf4735ac24a7c47d9a7750",
            "6c2d51a1e5824fc491fa36e588932fc7",
            "449a38c7cbf7423880cf503b414bafe3",
            "dc1d0e44241c45f8a5d56336b26dab7a",
            "79c8794457c24202b347929e19e47747",
            "f300ef674f1442f28817d2ca097614ca",
            "e82575b815974366bc6e6423d2b241cb",
            "cdd74c950c7e4c8d8c5d3dd76c562ef0",
            "74675cbe717540e8a3b4efc1214c1994",
            "7ef8bdaab7144c8c93b156407f56027e",
            "ccd98cb93a6449dabf28eb9554125b4f",
            "818c9e5f913b44069eab1131c9b125df",
            "13de822af1e046c48e12574ccd300543",
            "6031b548e9cc439c8dd0981581a66a3b",
            "5061c4d8c2e94722a474756c5bf73350",
            "c2f03ab2dfe34583a9c7618bc1ee6428",
            "bcb23f22bd55474b9e4e0cf5784ba9af",
            "9dd742ff932d46f699e7d47b9461b33f",
            "ac66dd6e58af457c9b9dd7861fa99170",
            "f6fbf207baf8410bb8c5be77a66f6acc",
            "33c42691ba0e4902a324c91a6adbecf1",
            "d3e1f787477a478eb72109158a050611",
            "18cea46c6c0043f9b37343a53328966e",
            "b3ec01e6b9b641a797e100b23bb16a6f",
            "3e90edec620243728e089a7fdaff0c67",
            "3768adbef1d147e59064c7e3ccc1b2c1",
            "162f7bd0b0754f5aba78751b7d7bec0d",
            "3cbd869306e741ae9dc2196d41e07352",
            "98ae9c191ca841bf9d668fa46b2784fd",
            "b1b8e67605a44489bf78ccd1da6cb60c",
            "b24732aff2f74aeea8f5265897fd7ef0",
            "5d00d8a27ba341cca9dd8017ec59be03",
            "7cf5851ade4d481f8243b4207c39f715",
            "10757d6c25c94673ac063c071ed21d27",
            "97f98c7863d4476dbef97edba6b0aa48"
          ],
          "height": 177
        },
        "id": "4OKYCxUvvezM",
        "outputId": "03639796-4b72-4b95-d29c-f89e8a3a075b"
      },
      "execution_count": 8,
      "outputs": [
        {
          "output_type": "display_data",
          "data": {
            "text/plain": [
              "config.json:   0%|          | 0.00/706 [00:00<?, ?B/s]"
            ],
            "application/vnd.jupyter.widget-view+json": {
              "version_major": 2,
              "version_minor": 0,
              "model_id": "3f75d9bb36944a7c897f58902bf75a8f"
            }
          },
          "metadata": {}
        },
        {
          "output_type": "display_data",
          "data": {
            "text/plain": [
              "pytorch_model.bin:   0%|          | 0.00/438M [00:00<?, ?B/s]"
            ],
            "application/vnd.jupyter.widget-view+json": {
              "version_major": 2,
              "version_minor": 0,
              "model_id": "59c19fd3ab9748ad94a8189932c2c8c5"
            }
          },
          "metadata": {}
        },
        {
          "output_type": "display_data",
          "data": {
            "text/plain": [
              "tokenizer_config.json:   0%|          | 0.00/48.0 [00:00<?, ?B/s]"
            ],
            "application/vnd.jupyter.widget-view+json": {
              "version_major": 2,
              "version_minor": 0,
              "model_id": "449a38c7cbf7423880cf503b414bafe3"
            }
          },
          "metadata": {}
        },
        {
          "output_type": "display_data",
          "data": {
            "text/plain": [
              "vocab.txt:   0%|          | 0.00/232k [00:00<?, ?B/s]"
            ],
            "application/vnd.jupyter.widget-view+json": {
              "version_major": 2,
              "version_minor": 0,
              "model_id": "6031b548e9cc439c8dd0981581a66a3b"
            }
          },
          "metadata": {}
        },
        {
          "output_type": "display_data",
          "data": {
            "text/plain": [
              "special_tokens_map.json:   0%|          | 0.00/112 [00:00<?, ?B/s]"
            ],
            "application/vnd.jupyter.widget-view+json": {
              "version_major": 2,
              "version_minor": 0,
              "model_id": "3e90edec620243728e089a7fdaff0c67"
            }
          },
          "metadata": {}
        }
      ]
    },
    {
      "cell_type": "markdown",
      "source": [
        "## Attacked model for transferability"
      ],
      "metadata": {
        "id": "rFIPgu2g4Nwp"
      }
    },
    {
      "cell_type": "code",
      "source": [
        "lstm_imdb = LSTMForClassification.from_pretrained(\"lstm-imdb\")"
      ],
      "metadata": {
        "id": "ILcGUlQq4WR8"
      },
      "execution_count": 9,
      "outputs": []
    },
    {
      "cell_type": "code",
      "source": [
        "tokenizer = lstm_imdb.tokenizer\n",
        "lstm_imdb_wrapper = PyTorchModelWrapper(lstm_imdb, tokenizer)"
      ],
      "metadata": {
        "id": "LXy_S-mD4mF-"
      },
      "execution_count": 10,
      "outputs": []
    },
    {
      "cell_type": "markdown",
      "source": [
        "## Datasets"
      ],
      "metadata": {
        "id": "_dxkBbZqvi_B"
      }
    },
    {
      "cell_type": "code",
      "source": [
        "imdb = FixedHuggingFaceDataset(\"imdb\", split=\"test\", subset_size=10, shuffle=True)"
      ],
      "metadata": {
        "colab": {
          "base_uri": "https://localhost:8080/"
        },
        "id": "yHyYvDVOvm9I",
        "outputId": "02dd8408-6e6c-409f-8656-d140fb58cd76"
      },
      "execution_count": 11,
      "outputs": [
        {
          "output_type": "stream",
          "name": "stderr",
          "text": [
            "textattack: Loading \u001b[94mdatasets\u001b[0m dataset \u001b[94mimdb\u001b[0m, split \u001b[94mtest\u001b[0m.\n"
          ]
        }
      ]
    },
    {
      "cell_type": "code",
      "source": [
        "yelp_polarity = FixedHuggingFaceDataset(\"yelp_polarity\", split=\"test\", subset_size=10, shuffle=True)"
      ],
      "metadata": {
        "colab": {
          "base_uri": "https://localhost:8080/",
          "referenced_widgets": [
            "bc044c2d549a4eb39d595dab392416ce",
            "f388ad8f019c470a8e3a0a5e4b54aa31",
            "69ea6d70d80c4433b638fbbcefab858d",
            "0ffda308602544cbb186a32ebf20302c",
            "0aa22bd5e5e24c34abca1a4c8f3995a6",
            "f9559f9e78214d4b98d414956edb4a79",
            "51e613304f234971a4a2d9a963ad86f6",
            "fb7bf16e0fac4093acaedaf69b684788",
            "76453e81f1004b1ebf4a29a9c0e5937f",
            "67de3ee2e2164fd28f28e4842f0e8145",
            "22604b76c8b044c2bd9701486aaefa7e",
            "c3e884896fce415f8effc143b3b29490",
            "227b907cf5d64abf85d87f6fef5dbe87",
            "4a434c0f57d34039951c4e8b7419beee",
            "693ba274ce55403187ee6339d4c78840",
            "d05accebe2884a5780c0f536e56b7720",
            "48110d35dc1d4013b1b534194dd836e3",
            "a83716d0d22b446a8a85d8268c8add81",
            "8090c28573de41ff94160050207537b7",
            "ccbbf5385da5403b99f28aa70eb906aa",
            "19852cfb1c4847f2b834dacb0c2ff7d3",
            "e544fec865074a45b9ee2cfd3162fa4d",
            "b9bfa718bb034f55a6e9cf0d22b20178",
            "0f6177a7e0c84e97a3dd424100c0b5f4",
            "ef9fea51cc98440e9bb1938657cfa6a6",
            "c6dc8743f40c451c9a89cebf4d669604",
            "4e15268aac274f31a67c9d754b39a0f3",
            "64f45f39f8604b7e8e95fc71f5b94c88",
            "f4c98a1d9f1c429da862170ad37adcc1",
            "2fdb329b5776488282092a552105be82",
            "39b6b3b5c4be47dd9d8ee0f2bafdbbd4",
            "719b580f02864df1969215d8ec6c7534",
            "7e2d3d9a8a1d44ed8a97776d98abaa53",
            "a1c544566cbf4871a7a63ae6c6b35777",
            "0e21d0846c114cf2bb9aca31da8c09ed",
            "44890b2e3c624d1ebb4d4e3df4b9256d",
            "0d407530907e4a7e936d9ac1dcdeed7a",
            "8c61b7f210ce402797f095869b396192",
            "9a993754e3df4818a448fb093571e0b5",
            "8c34777cbf6c400ca02fd1c204981b21",
            "bc56cff51fc8465bbe133962aa6476d2",
            "00fa1bad5acc467aba3fec3ca3c3a625",
            "f802228c45a54b0389f4819fab2e2626",
            "fc05917029094b2bb8c636795f4ce66d",
            "c03579e366f54dd6bcc7f5b56b96379a",
            "7fd7e411a30e4e57bdfc1facd5527e7d",
            "8adcb5077f20428c98fcf42bba0e754e",
            "5020755f90e84b118af22bf6a0fe9dec",
            "62b73daee0a049679240a0e25c237a07",
            "5fd10a6b062146fbb620b11b76a39060",
            "8b3c3b848fec436590d9909533663412",
            "3fb680b605304f7b895a90a1522112a1",
            "6b87020e3bfb4f4fb03126ada23af8aa",
            "4ca556a6d2844a1e948c9c87b53a0886",
            "955b58fc6cc64ae0bd901e6952f929ec",
            "aa9d3a2f720a4f4fa40397b4781fb7c7",
            "62a2d274576641f994b17249113c52a0",
            "6302ed70b08d4b78a5ca952d95221953",
            "ea686f9b77e74687876259817ab88287",
            "45ec7642b98f4adfa6b89854e237e5ce",
            "39125f3a5dc344f28792046d4ecb04ed",
            "7bc753bf5c7d48d1b6d5988788112f8b",
            "b917dd5715d44d53a2b697b6817fed39",
            "dbd27824d6144030b6c5371aab793380",
            "e8f14bf537714bd1a6b6e313c20c0b76",
            "75bd587edb834c0ab36378f20376c177"
          ],
          "height": 316
        },
        "id": "1DK2Jm6svsao",
        "outputId": "d622c0af-3b71-4344-cbc6-196f00ed61c9"
      },
      "execution_count": 12,
      "outputs": [
        {
          "output_type": "stream",
          "name": "stderr",
          "text": [
            "/usr/local/lib/python3.10/dist-packages/datasets/load.py:1486: FutureWarning: The repository for yelp_polarity contains custom code which must be executed to correctly load the dataset. You can inspect the repository content at https://hf.co/datasets/yelp_polarity\n",
            "You can avoid this message in future by passing the argument `trust_remote_code=True`.\n",
            "Passing `trust_remote_code=True` will be mandatory to load this dataset from the next major release of `datasets`.\n",
            "  warnings.warn(\n"
          ]
        },
        {
          "output_type": "display_data",
          "data": {
            "text/plain": [
              "Downloading builder script:   0%|          | 0.00/6.35k [00:00<?, ?B/s]"
            ],
            "application/vnd.jupyter.widget-view+json": {
              "version_major": 2,
              "version_minor": 0,
              "model_id": "bc044c2d549a4eb39d595dab392416ce"
            }
          },
          "metadata": {}
        },
        {
          "output_type": "display_data",
          "data": {
            "text/plain": [
              "Downloading readme:   0%|          | 0.00/8.78k [00:00<?, ?B/s]"
            ],
            "application/vnd.jupyter.widget-view+json": {
              "version_major": 2,
              "version_minor": 0,
              "model_id": "c3e884896fce415f8effc143b3b29490"
            }
          },
          "metadata": {}
        },
        {
          "output_type": "display_data",
          "data": {
            "text/plain": [
              "Downloading data:   0%|          | 0.00/166M [00:00<?, ?B/s]"
            ],
            "application/vnd.jupyter.widget-view+json": {
              "version_major": 2,
              "version_minor": 0,
              "model_id": "b9bfa718bb034f55a6e9cf0d22b20178"
            }
          },
          "metadata": {}
        },
        {
          "output_type": "display_data",
          "data": {
            "text/plain": [
              "Generating train split:   0%|          | 0/560000 [00:00<?, ? examples/s]"
            ],
            "application/vnd.jupyter.widget-view+json": {
              "version_major": 2,
              "version_minor": 0,
              "model_id": "a1c544566cbf4871a7a63ae6c6b35777"
            }
          },
          "metadata": {}
        },
        {
          "output_type": "display_data",
          "data": {
            "text/plain": [
              "Generating test split:   0%|          | 0/38000 [00:00<?, ? examples/s]"
            ],
            "application/vnd.jupyter.widget-view+json": {
              "version_major": 2,
              "version_minor": 0,
              "model_id": "c03579e366f54dd6bcc7f5b56b96379a"
            }
          },
          "metadata": {}
        },
        {
          "output_type": "stream",
          "name": "stderr",
          "text": [
            "textattack: Loading \u001b[94mdatasets\u001b[0m dataset \u001b[94myelp_polarity\u001b[0m, split \u001b[94mtest\u001b[0m.\n"
          ]
        },
        {
          "output_type": "display_data",
          "data": {
            "text/plain": [
              "Flattening the indices:   0%|          | 0/38000 [00:00<?, ? examples/s]"
            ],
            "application/vnd.jupyter.widget-view+json": {
              "version_major": 2,
              "version_minor": 0,
              "model_id": "aa9d3a2f720a4f4fa40397b4781fb7c7"
            }
          },
          "metadata": {}
        }
      ]
    },
    {
      "cell_type": "code",
      "source": [
        "ag_news = FixedHuggingFaceDataset(\"ag_news\", split=\"test\", subset_size=10, shuffle=True)"
      ],
      "metadata": {
        "colab": {
          "base_uri": "https://localhost:8080/",
          "referenced_widgets": [
            "4cd79a9da9f24e5ea641fc6369cdd7e8",
            "b61e8f6517794d3aa265a6f1c31ab170",
            "b6d720dd5fa349b1be96f674fbbbb7fa",
            "b4e139b2e1044a7da5f090c215318351",
            "095d4b6b0e9d4187a2b7ac3092ca7d33",
            "18cf8ba00db64db1ae72bd4f236c4b85",
            "03cd38656e314e65940675fbb4ba7e18",
            "3ffa2f8a581e41d1bb19c226533b7750",
            "4c246e1452ce426ebdc048945f7c5ab3",
            "46d443418fa641b4838961fe8d75e579",
            "ef3dfcd63f3d498a89a69b601dba88fb",
            "6ff8a1b9b717406aab770ea6e15dea5e",
            "d10ed4d016a040fc9e3fc846af063502",
            "876edf1234f84abd8039fade62483d1d",
            "1f627f7e68714ea1831b2986cbbf6ad1",
            "5d172280d4b5401a92bdb0a9c1571bb1",
            "46e0b2f9ffb24f448777d6c215953668",
            "fd1c45a466484c8086531f2b6609a6be",
            "75a7879bac6c4cd7a3ad420f09c6e97d",
            "84667f7a05d240b9a28ed0f196276d15",
            "57fd5f72ba6f4623b24591adf0a3b71b",
            "6c592789f49c4e09a856a8e6a2209cf0",
            "132e9ece7b9847d4b035478ff7d7aac2",
            "8f6f3d49f444459a865d3bd970e3bbad",
            "9041bb4970344fe2885eb311ce374b9d",
            "ec110f5d171e4290a7d055214ffdf658",
            "2740c107857e43c59466962eeea4df3d",
            "55d63cc79d3a4664b2a22caf6c5ef704",
            "abb9e6d6d72b40f3a5c50f670b8a1ce1",
            "6109c80c3673434b805ef40407b1db9c",
            "f4d2a698864c423892adb5cd997dabbf",
            "4a8b16cc5d5443a19ce757ee48dc376a",
            "d40fcdc7039e4a968742d2bbe64b495a",
            "646bed687a674e1b9a539b8d7ce33a61",
            "42489e3c32e74c9b938a746178d19a29",
            "ab43cdd40e2941ee924e95d212ad0e85",
            "037f85fbe39d488585b431136d9f866f",
            "b63eb14964eb40bfbcd9babbb2af4a7b",
            "2b9b2c1fdd32443bbea1886e6570b475",
            "7febb1ac794d4f6c8eec120d4020ac88",
            "219e276d2a784c3582782b637a8e88b3",
            "3cc335425c984cf1b5705da083bfdb3d",
            "a41f949399ed4fb5a01817ac809a95c2",
            "120f2e1853fc48339ce4af891bb081d8",
            "b45fcae5cb384ccf80e95a6e8ba25dcd",
            "7920865aea504565a6f793805c3b1177",
            "0329295e3bb84648bee77fbd63a8939b",
            "0f13356947f54ac3af1ba319471f6228",
            "1e84689b51044a7497ae225c2417ad24",
            "23531678930046019713429e3d3b8079",
            "475f5bb865bf4e199bc1ba3548f72bb2",
            "3b5050e24361459c8b4d16753927531a",
            "eeb7f801263c4db1bbecba6953c6f2aa",
            "f3dd9c3bf52946eaa014cdb82a6ddbf1",
            "98051695e7d44d8885d5423fe6ae92ac",
            "7c49814e5e1748ad9d425e63cb30a936",
            "caf45c67d0ef4e4f94038b73d4333fba",
            "94f2e27cad34490d8171716f321d8d7b",
            "43abf29eeddb412c8909c279ea9ac0e2",
            "181262ee503c44b082f18807c192c46a",
            "d2ae20d5bab7488c9c932a072f2e4c2b",
            "bc7e00d4db5048d7bf87d4925469360e",
            "3fa4e60618f14ceb8e3987d678a1f19e",
            "c2220a3efff64f8bb5b2bd1f2c794b32",
            "5f89bb6560664d55ae6184bb83ac234f",
            "3b52320b98a94c3b9b12707b91ce4cad"
          ],
          "height": 226
        },
        "id": "UJUFd8FUvuOA",
        "outputId": "81f604fa-a514-4b8f-b333-00c4c0abe79d"
      },
      "execution_count": 13,
      "outputs": [
        {
          "output_type": "display_data",
          "data": {
            "text/plain": [
              "Downloading readme:   0%|          | 0.00/8.07k [00:00<?, ?B/s]"
            ],
            "application/vnd.jupyter.widget-view+json": {
              "version_major": 2,
              "version_minor": 0,
              "model_id": "4cd79a9da9f24e5ea641fc6369cdd7e8"
            }
          },
          "metadata": {}
        },
        {
          "output_type": "display_data",
          "data": {
            "text/plain": [
              "Downloading data:   0%|          | 0.00/18.6M [00:00<?, ?B/s]"
            ],
            "application/vnd.jupyter.widget-view+json": {
              "version_major": 2,
              "version_minor": 0,
              "model_id": "6ff8a1b9b717406aab770ea6e15dea5e"
            }
          },
          "metadata": {}
        },
        {
          "output_type": "display_data",
          "data": {
            "text/plain": [
              "Downloading data:   0%|          | 0.00/1.23M [00:00<?, ?B/s]"
            ],
            "application/vnd.jupyter.widget-view+json": {
              "version_major": 2,
              "version_minor": 0,
              "model_id": "132e9ece7b9847d4b035478ff7d7aac2"
            }
          },
          "metadata": {}
        },
        {
          "output_type": "display_data",
          "data": {
            "text/plain": [
              "Generating train split:   0%|          | 0/120000 [00:00<?, ? examples/s]"
            ],
            "application/vnd.jupyter.widget-view+json": {
              "version_major": 2,
              "version_minor": 0,
              "model_id": "646bed687a674e1b9a539b8d7ce33a61"
            }
          },
          "metadata": {}
        },
        {
          "output_type": "display_data",
          "data": {
            "text/plain": [
              "Generating test split:   0%|          | 0/7600 [00:00<?, ? examples/s]"
            ],
            "application/vnd.jupyter.widget-view+json": {
              "version_major": 2,
              "version_minor": 0,
              "model_id": "b45fcae5cb384ccf80e95a6e8ba25dcd"
            }
          },
          "metadata": {}
        },
        {
          "output_type": "stream",
          "name": "stderr",
          "text": [
            "textattack: Loading \u001b[94mdatasets\u001b[0m dataset \u001b[94mag_news\u001b[0m, split \u001b[94mtest\u001b[0m.\n"
          ]
        },
        {
          "output_type": "display_data",
          "data": {
            "text/plain": [
              "Flattening the indices:   0%|          | 0/7600 [00:00<?, ? examples/s]"
            ],
            "application/vnd.jupyter.widget-view+json": {
              "version_major": 2,
              "version_minor": 0,
              "model_id": "7c49814e5e1748ad9d425e63cb30a936"
            }
          },
          "metadata": {}
        }
      ]
    },
    {
      "cell_type": "markdown",
      "source": [
        "## BAE: BERT-based Adversarial Examples for Text Classification"
      ],
      "metadata": {
        "id": "K3exRhjfBcWp"
      }
    },
    {
      "cell_type": "code",
      "source": [
        "from textattack import Attacker\n",
        "from textattack.attack_recipes import BAEGarg2019"
      ],
      "metadata": {
        "id": "nJ3X4tQPsDyc"
      },
      "execution_count": 14,
      "outputs": []
    },
    {
      "cell_type": "markdown",
      "source": [
        "### IMDB"
      ],
      "metadata": {
        "id": "bwFBvl1ysL9N"
      }
    },
    {
      "cell_type": "code",
      "source": [
        "attack = BAEGarg2019.build(bert_imdb)\n",
        "attack_args = textattack.AttackArgs(num_examples=-1, parallel = True,\n",
        "                                    disable_stdout = True)\n",
        "attacker = Attacker(attack, imdb, attack_args)\n",
        "adv_exp_bae_bert_imdb = attacker.attack_dataset()"
      ],
      "metadata": {
        "colab": {
          "base_uri": "https://localhost:8080/"
        },
        "id": "cELJxLkJPxFQ",
        "outputId": "2cf52923-b269-41db-fdfa-ec44d9d9efee"
      },
      "execution_count": 15,
      "outputs": [
        {
          "output_type": "stream",
          "name": "stderr",
          "text": [
            "Some weights of the model checkpoint at bert-base-uncased were not used when initializing BertForMaskedLM: ['bert.pooler.dense.bias', 'bert.pooler.dense.weight', 'cls.seq_relationship.bias', 'cls.seq_relationship.weight']\n",
            "- This IS expected if you are initializing BertForMaskedLM from the checkpoint of a model trained on another task or with another architecture (e.g. initializing a BertForSequenceClassification model from a BertForPreTraining model).\n",
            "- This IS NOT expected if you are initializing BertForMaskedLM from the checkpoint of a model that you expect to be exactly identical (initializing a BertForSequenceClassification model from a BertForSequenceClassification model).\n",
            "textattack: Unknown if model of class <class 'transformers.models.bert.modeling_bert.BertForSequenceClassification'> compatible with goal function <class 'textattack.goal_functions.classification.untargeted_classification.UntargetedClassification'>.\n",
            "textattack: Running 1 worker(s) on 1 GPU(s).\n",
            "textattack: Worklist size: 10\n",
            "textattack: Worklist candidate size: 0\n",
            "[Succeeded / Failed / Skipped / Total] 6 / 4 / 0 / 10: 100%|██████████| 10/10 [03:16<00:00, 19.63s/it]"
          ]
        },
        {
          "output_type": "stream",
          "name": "stdout",
          "text": [
            "\n",
            "+-------------------------------+--------+\n",
            "| Attack Results                |        |\n",
            "+-------------------------------+--------+\n",
            "| Number of successful attacks: | 6      |\n",
            "| Number of failed attacks:     | 4      |\n",
            "| Number of skipped attacks:    | 0      |\n",
            "| Original accuracy:            | 100.0% |\n",
            "| Accuracy under attack:        | 40.0%  |\n",
            "| Attack success rate:          | 60.0%  |\n",
            "| Average perturbed word %:     | 2.17%  |\n",
            "| Average num. words per input: | 201.2  |\n",
            "| Avg num queries:              | 252.8  |\n",
            "+-------------------------------+--------+\n"
          ]
        },
        {
          "output_type": "stream",
          "name": "stderr",
          "text": [
            "\n"
          ]
        }
      ]
    },
    {
      "cell_type": "code",
      "source": [
        "display_results(adv_exp_bae_bert_imdb, \"bae_results_imdb.html\")"
      ],
      "metadata": {
        "colab": {
          "base_uri": "https://localhost:8080/"
        },
        "id": "6NYGVER4gUQV",
        "outputId": "8e467f6b-6bda-4aa9-9de5-9c48e92b14d8"
      },
      "execution_count": 16,
      "outputs": [
        {
          "output_type": "stream",
          "name": "stderr",
          "text": [
            "textattack: Logging to CSV at path results.csv\n",
            "textattack: CSVLogger exiting without calling flush().\n"
          ]
        }
      ]
    },
    {
      "cell_type": "code",
      "source": [
        "# Compute avg cosine similarity between original and adversarial sentences\n",
        "# (According to Universal Sentence Encoding embeddings)\n",
        "\n",
        "original_embeddings, adv_embeddings = get_use_embeddings(use,\n",
        "                                                         adv_exp_bae_bert_imdb)\n",
        "\n",
        "print(f\"Average cosine similarity {get_avg_cosine_sim(original_embeddings,adv_embeddings)}\")\n",
        "\n",
        "cosine_sim = get_cosine_sim(original_embeddings,adv_embeddings)\n",
        "datasets['imdb'] = create_use_data(original_embeddings.tolist(),\n",
        "                                   adv_embeddings.tolist(),\n",
        "                                   cosine_sim)"
      ],
      "metadata": {
        "colab": {
          "base_uri": "https://localhost:8080/"
        },
        "id": "MW6edM6T4OZS",
        "outputId": "74554a07-933e-4c32-dfe9-5b8f469794ab"
      },
      "execution_count": 17,
      "outputs": [
        {
          "output_type": "stream",
          "name": "stdout",
          "text": [
            "Average cosine similarity 0.9941911697387695\n"
          ]
        }
      ]
    },
    {
      "cell_type": "code",
      "source": [
        "min_embedding_distances = get_min_words_distance(word_embedding,\n",
        "                                                 adv_exp_bae_bert_imdb)\n",
        "\n",
        "for i,med in enumerate(min_embedding_distances):\n",
        "    print(f\"Adv example: {i}\")\n",
        "    print(f\"Original word: {med[0]}\")\n",
        "    print(f\"Perturbed word: {med[1]}\")\n",
        "    print(f\"Minimum Cosine similarity among words: {med[2]}\")\n",
        "    print()"
      ],
      "metadata": {
        "colab": {
          "base_uri": "https://localhost:8080/"
        },
        "id": "rJMEE5YYIr80",
        "outputId": "a1cf4086-5e96-47f3-e865-ac0b7bd8c97b"
      },
      "execution_count": 18,
      "outputs": [
        {
          "output_type": "stream",
          "name": "stdout",
          "text": [
            "Adv example: 0\n",
            "Original word: hard\n",
            "Perturbed word: nice\n",
            "Minimum Cosine similarity among words: 0.019867025315761566\n",
            "\n",
            "Adv example: 1\n",
            "Original word: also\n",
            "Perturbed word: too\n",
            "Minimum Cosine similarity among words: 0.744145393371582\n",
            "\n",
            "Adv example: 2\n",
            "Original word: works\n",
            "Perturbed word: fails\n",
            "Minimum Cosine similarity among words: -0.027351168915629387\n",
            "\n",
            "Adv example: 3\n",
            "Original word: bad\n",
            "Perturbed word: good\n",
            "Minimum Cosine similarity among words: -0.0030777789652347565\n",
            "\n",
            "Adv example: 4\n",
            "Original word: aged\n",
            "Perturbed word: unfolded\n",
            "Minimum Cosine similarity among words: -0.060495901852846146\n",
            "\n",
            "Adv example: 5\n",
            "Original word: acting\n",
            "Perturbed word: film\n",
            "Minimum Cosine similarity among words: 0.1420210897922516\n",
            "\n"
          ]
        }
      ]
    },
    {
      "cell_type": "code",
      "source": [
        "#Transferability\n",
        "bae_original_acc_lstm, bae_adv_acc_lstm = transfer_attack(lstm_imdb_wrapper,\n",
        "                                                          adv_exp_bae_bert_imdb)"
      ],
      "metadata": {
        "id": "5caGTokqYYbh"
      },
      "execution_count": 19,
      "outputs": []
    },
    {
      "cell_type": "code",
      "source": [
        "print(f\"Original accuracy lstm: {bae_original_acc_lstm}\")\n",
        "print(f\"Accuracy after the attack lstm: {bae_adv_acc_lstm}\")"
      ],
      "metadata": {
        "colab": {
          "base_uri": "https://localhost:8080/"
        },
        "id": "w6SgVWt4ZGvI",
        "outputId": "17e336c7-20f0-4b1f-bdbf-cf9d0b86b87d"
      },
      "execution_count": 20,
      "outputs": [
        {
          "output_type": "stream",
          "name": "stdout",
          "text": [
            "Original accuracy lstm: 0.8333333333333334\n",
            "Accuracy after the attack lstm: 0.8333333333333334\n"
          ]
        }
      ]
    },
    {
      "cell_type": "markdown",
      "source": [
        "### Yelp polarity"
      ],
      "metadata": {
        "id": "-nuhGu7AX80f"
      }
    },
    {
      "cell_type": "code",
      "source": [
        "attack = BAEGarg2019.build(bert_yelp)\n",
        "attack_args = textattack.AttackArgs(num_examples=10, parallel = True,\n",
        "                                    shuffle=True,\n",
        "                                    disable_stdout = True)\n",
        "attacker = Attacker(attack, yelp_polarity, attack_args)\n",
        "adv_ex_bae_bert_yelp = attacker.attack_dataset()"
      ],
      "metadata": {
        "colab": {
          "base_uri": "https://localhost:8080/"
        },
        "id": "njI1fBSmto3e",
        "outputId": "5d6cccf5-0bf0-4402-8555-24e0c2812dab"
      },
      "execution_count": 21,
      "outputs": [
        {
          "output_type": "stream",
          "name": "stderr",
          "text": [
            "/usr/local/lib/python3.10/dist-packages/huggingface_hub/file_download.py:1132: FutureWarning: `resume_download` is deprecated and will be removed in version 1.0.0. Downloads always resume when possible. If you want to force a new download, use `force_download=True`.\n",
            "  warnings.warn(\n",
            "Some weights of the model checkpoint at bert-base-uncased were not used when initializing BertForMaskedLM: ['bert.pooler.dense.bias', 'bert.pooler.dense.weight', 'cls.seq_relationship.bias', 'cls.seq_relationship.weight']\n",
            "- This IS expected if you are initializing BertForMaskedLM from the checkpoint of a model trained on another task or with another architecture (e.g. initializing a BertForSequenceClassification model from a BertForPreTraining model).\n",
            "- This IS NOT expected if you are initializing BertForMaskedLM from the checkpoint of a model that you expect to be exactly identical (initializing a BertForSequenceClassification model from a BertForSequenceClassification model).\n",
            "textattack: Unknown if model of class <class 'transformers.models.bert.modeling_bert.BertForSequenceClassification'> compatible with goal function <class 'textattack.goal_functions.classification.untargeted_classification.UntargetedClassification'>.\n",
            "textattack: Running 1 worker(s) on 1 GPU(s).\n",
            "textattack: Worklist size: 10\n",
            "textattack: Worklist candidate size: 0\n",
            "[Succeeded / Failed / Skipped / Total] 9 / 0 / 1 / 10: 100%|██████████| 10/10 [03:19<00:00, 19.98s/it]"
          ]
        },
        {
          "output_type": "stream",
          "name": "stdout",
          "text": [
            "\n",
            "+-------------------------------+--------+\n",
            "| Attack Results                |        |\n",
            "+-------------------------------+--------+\n",
            "| Number of successful attacks: | 9      |\n",
            "| Number of failed attacks:     | 0      |\n",
            "| Number of skipped attacks:    | 1      |\n",
            "| Original accuracy:            | 90.0%  |\n",
            "| Accuracy under attack:        | 0.0%   |\n",
            "| Attack success rate:          | 100.0% |\n",
            "| Average perturbed word %:     | 7.45%  |\n",
            "| Average num. words per input: | 195.3  |\n",
            "| Avg num queries:              | 312.33 |\n",
            "+-------------------------------+--------+\n"
          ]
        },
        {
          "output_type": "stream",
          "name": "stderr",
          "text": [
            "\n"
          ]
        }
      ]
    },
    {
      "cell_type": "code",
      "source": [
        "display_results(adv_ex_bae_bert_yelp, \"bae_results_yelp.html\")"
      ],
      "metadata": {
        "colab": {
          "base_uri": "https://localhost:8080/"
        },
        "id": "48qCpM9ChChC",
        "outputId": "d99c8ffe-3f99-4df9-890d-d9e4ede760a2"
      },
      "execution_count": 22,
      "outputs": [
        {
          "output_type": "stream",
          "name": "stderr",
          "text": [
            "textattack: Logging to CSV at path results.csv\n",
            "textattack: CSVLogger exiting without calling flush().\n"
          ]
        }
      ]
    },
    {
      "cell_type": "code",
      "source": [
        "# Compute avg cosine similarity between original and adversarial sentences\n",
        "# (According to Universal Sentence Encoding embeddings)\n",
        "\n",
        "original_embeddings, adv_embeddings = get_use_embeddings(use,\n",
        "                                                         adv_ex_bae_bert_yelp)\n",
        "\n",
        "print(f\"Average cosine similarity {get_avg_cosine_sim(original_embeddings,adv_embeddings)}\")\n",
        "\n",
        "cosine_sim = get_cosine_sim(original_embeddings,adv_embeddings)\n",
        "datasets['yelp'] = create_use_data(original_embeddings.tolist(),\n",
        "                                   adv_embeddings.tolist(),\n",
        "                                   cosine_sim)"
      ],
      "metadata": {
        "colab": {
          "base_uri": "https://localhost:8080/"
        },
        "id": "HhlhA0EnirlI",
        "outputId": "52625734-d32b-4fdf-d533-efbdd904603c"
      },
      "execution_count": 23,
      "outputs": [
        {
          "output_type": "stream",
          "name": "stdout",
          "text": [
            "Average cosine similarity 0.9754205346107483\n"
          ]
        }
      ]
    },
    {
      "cell_type": "code",
      "source": [
        "min_embedding_distances = get_min_words_distance(word_embedding,\n",
        "                                                 adv_ex_bae_bert_yelp)\n",
        "\n",
        "for i,med in enumerate(min_embedding_distances):\n",
        "    print(f\"Adv example: {i}\")\n",
        "    print(f\"Original word: {med[0]}\")\n",
        "    print(f\"Perturbed word: {med[1]}\")\n",
        "    print(f\"Minimum Cosine similarity among words: {med[2]}\")\n",
        "    print()"
      ],
      "metadata": {
        "colab": {
          "base_uri": "https://localhost:8080/"
        },
        "id": "9a7A33dfi1oK",
        "outputId": "7f70ade0-6779-459a-edd7-cda96e6c3fdd"
      },
      "execution_count": 24,
      "outputs": [
        {
          "output_type": "stream",
          "name": "stdout",
          "text": [
            "Adv example: 0\n",
            "Original word: forever\n",
            "Perturbed word: little\n",
            "Minimum Cosine similarity among words: 0.031647250056266785\n",
            "\n",
            "Adv example: 1\n",
            "Original word: minus\n",
            "Perturbed word: plus\n",
            "Minimum Cosine similarity among words: -0.10777769982814789\n",
            "\n",
            "Adv example: 2\n",
            "Original word: best\n",
            "Perturbed word: few\n",
            "Minimum Cosine similarity among words: 0.05707116425037384\n",
            "\n",
            "Adv example: 3\n",
            "Original word: show\n",
            "Perturbed word: mess\n",
            "Minimum Cosine similarity among words: -0.0890916958451271\n",
            "\n",
            "Adv example: 4\n",
            "Original word: new\n",
            "Perturbed word: frozen\n",
            "Minimum Cosine similarity among words: 0.03213377296924591\n",
            "\n",
            "Adv example: 5\n",
            "Original word: amazing\n",
            "Perturbed word: cooked\n",
            "Minimum Cosine similarity among words: 0.06925834715366364\n",
            "\n",
            "Adv example: 6\n",
            "Original word: order\n",
            "Perturbed word: wait\n",
            "Minimum Cosine similarity among words: 0.011086784303188324\n",
            "\n",
            "Adv example: 7\n",
            "Original word: incredibly\n",
            "Perturbed word: not\n",
            "Minimum Cosine similarity among words: -0.12291844934225082\n",
            "\n",
            "Adv example: 8\n",
            "Original word: better\n",
            "Perturbed word: worse\n",
            "Minimum Cosine similarity among words: -0.057450830936431885\n",
            "\n"
          ]
        }
      ]
    },
    {
      "cell_type": "markdown",
      "source": [
        "### AG news"
      ],
      "metadata": {
        "id": "qREPgg60wNhu"
      }
    },
    {
      "cell_type": "code",
      "source": [
        "attack = BAEGarg2019.build(bert_ag)\n",
        "attack_args = textattack.AttackArgs(num_examples=10, parallel=True,\n",
        "                                    shuffle=True,\n",
        "                                    disable_stdout = True)\n",
        "attacker = Attacker(attack, ag_news, attack_args)\n",
        "adv_ex_bae_bert_ag = attacker.attack_dataset()"
      ],
      "metadata": {
        "colab": {
          "base_uri": "https://localhost:8080/"
        },
        "id": "PAZatB4Ikd35",
        "outputId": "a995c7f7-de47-4896-c06a-6ea08ad8b84d"
      },
      "execution_count": 25,
      "outputs": [
        {
          "output_type": "stream",
          "name": "stderr",
          "text": [
            "/usr/local/lib/python3.10/dist-packages/huggingface_hub/file_download.py:1132: FutureWarning: `resume_download` is deprecated and will be removed in version 1.0.0. Downloads always resume when possible. If you want to force a new download, use `force_download=True`.\n",
            "  warnings.warn(\n",
            "Some weights of the model checkpoint at bert-base-uncased were not used when initializing BertForMaskedLM: ['bert.pooler.dense.bias', 'bert.pooler.dense.weight', 'cls.seq_relationship.bias', 'cls.seq_relationship.weight']\n",
            "- This IS expected if you are initializing BertForMaskedLM from the checkpoint of a model trained on another task or with another architecture (e.g. initializing a BertForSequenceClassification model from a BertForPreTraining model).\n",
            "- This IS NOT expected if you are initializing BertForMaskedLM from the checkpoint of a model that you expect to be exactly identical (initializing a BertForSequenceClassification model from a BertForSequenceClassification model).\n",
            "textattack: Unknown if model of class <class 'transformers.models.bert.modeling_bert.BertForSequenceClassification'> compatible with goal function <class 'textattack.goal_functions.classification.untargeted_classification.UntargetedClassification'>.\n",
            "textattack: Running 1 worker(s) on 1 GPU(s).\n",
            "textattack: Worklist size: 10\n",
            "textattack: Worklist candidate size: 0\n",
            "[Succeeded / Failed / Skipped / Total] 0 / 9 / 1 / 10: 100%|██████████| 10/10 [01:51<00:00, 11.19s/it]"
          ]
        },
        {
          "output_type": "stream",
          "name": "stdout",
          "text": [
            "\n",
            "+-------------------------------+--------+\n",
            "| Attack Results                |        |\n",
            "+-------------------------------+--------+\n",
            "| Number of successful attacks: | 0      |\n",
            "| Number of failed attacks:     | 9      |\n",
            "| Number of skipped attacks:    | 1      |\n",
            "| Original accuracy:            | 90.0%  |\n",
            "| Accuracy under attack:        | 90.0%  |\n",
            "| Attack success rate:          | 0.0%   |\n",
            "| Average perturbed word %:     | nan%   |\n",
            "| Average num. words per input: | 41.6   |\n",
            "| Avg num queries:              | 141.22 |\n",
            "+-------------------------------+--------+\n"
          ]
        },
        {
          "output_type": "stream",
          "name": "stderr",
          "text": [
            "\n",
            "/usr/local/lib/python3.10/dist-packages/textattack/metrics/attack_metrics/words_perturbed.py:83: RuntimeWarning: Mean of empty slice.\n",
            "  average_perc_words_perturbed = self.perturbed_word_percentages.mean()\n",
            "/usr/local/lib/python3.10/dist-packages/numpy/core/_methods.py:129: RuntimeWarning: invalid value encountered in scalar divide\n",
            "  ret = ret.dtype.type(ret / rcount)\n"
          ]
        }
      ]
    },
    {
      "cell_type": "code",
      "source": [
        "display_results(adv_ex_bae_bert_ag, \"bae_results_ag.html\")"
      ],
      "metadata": {
        "colab": {
          "base_uri": "https://localhost:8080/"
        },
        "id": "HapQbDIJj_cZ",
        "outputId": "05f2074a-2d8c-447f-fafc-8c2320386d19"
      },
      "execution_count": 28,
      "outputs": [
        {
          "output_type": "stream",
          "name": "stderr",
          "text": [
            "textattack: Logging to CSV at path results.csv\n"
          ]
        }
      ]
    },
    {
      "cell_type": "code",
      "source": [
        "# Compute avg cosine similarity between original and adversarial sentences\n",
        "# (According to Universal Sentence Encoding embeddings)\n",
        "succesful_attacks = list(filter(lambda res: isinstance(res, SuccessfulAttackResult),\n",
        "                          adv_ex_bae_bert_ag))\n",
        "\n",
        "if len(succesful_attacks) != 0:\n",
        "    original_embeddings, adv_embeddings = get_use_embeddings(use,\n",
        "                                                            adv_ex_bae_bert_ag)\n",
        "\n",
        "    print(f\"Average cosine similarity {get_avg_cosine_sim(original_embeddings,adv_embeddings)}\")\n",
        "\n",
        "    cosine_sim = get_cosine_sim(original_embeddings,adv_embeddings)\n",
        "    datasets['ag_news'] = create_use_data(original_embeddings.tolist(),\n",
        "                                      adv_embeddings.tolist(),\n",
        "                                      cosine_sim)"
      ],
      "metadata": {
        "id": "2scx2o1GkNGJ"
      },
      "execution_count": 33,
      "outputs": []
    },
    {
      "cell_type": "code",
      "source": [
        "min_embedding_distances = get_min_words_distance(word_embedding,\n",
        "                                                 adv_ex_bae_bert_ag)\n",
        "\n",
        "for i,med in enumerate(min_embedding_distances):\n",
        "    print(f\"Adv example: {i}\")\n",
        "    print(f\"Original word: {med[0]}\")\n",
        "    print(f\"Perturbed word: {med[1]}\")\n",
        "    print(f\"Minimum Cosine similarity among words: {med[2]}\")\n",
        "    print()"
      ],
      "metadata": {
        "id": "pOSX3MGwkQ_Q"
      },
      "execution_count": 34,
      "outputs": []
    },
    {
      "cell_type": "code",
      "source": [
        "models['bae'] = datasets.copy()\n",
        "datasets.clear()"
      ],
      "metadata": {
        "id": "hdD1hVMb650k"
      },
      "execution_count": 35,
      "outputs": []
    },
    {
      "cell_type": "markdown",
      "source": [
        "## DeepWordBug"
      ],
      "metadata": {
        "id": "efDQ55P6nKtW"
      }
    },
    {
      "cell_type": "code",
      "source": [
        "from textattack.attack_recipes import DeepWordBugGao2018"
      ],
      "metadata": {
        "id": "FkEEBZZingtl"
      },
      "execution_count": 36,
      "outputs": []
    },
    {
      "cell_type": "markdown",
      "source": [
        "### IMDB"
      ],
      "metadata": {
        "id": "rPhSoAaCwxye"
      }
    },
    {
      "cell_type": "code",
      "source": [
        "attack = DeepWordBugGao2018.build(bert_imdb)\n",
        "attack_args = textattack.AttackArgs(num_examples=-1, parallel = True,\n",
        "                                    shuffle=True,\n",
        "                                    disable_stdout = True)\n",
        "attacker = Attacker(attack, imdb, attack_args)\n",
        "adv_ex_dwb_bert_imdb = attacker.attack_dataset()"
      ],
      "metadata": {
        "colab": {
          "base_uri": "https://localhost:8080/"
        },
        "id": "VMERfLBunwyl",
        "outputId": "833ca7b5-7137-4795-aabe-cef393aaace3"
      },
      "execution_count": 37,
      "outputs": [
        {
          "output_type": "stream",
          "name": "stderr",
          "text": [
            "textattack: Unknown if model of class <class 'transformers.models.bert.modeling_bert.BertForSequenceClassification'> compatible with goal function <class 'textattack.goal_functions.classification.untargeted_classification.UntargetedClassification'>.\n",
            "textattack: Running 1 worker(s) on 1 GPU(s).\n",
            "textattack: Worklist size: 10\n",
            "textattack: Worklist candidate size: 0\n",
            "[Succeeded / Failed / Skipped / Total] 9 / 1 / 0 / 10: 100%|██████████| 10/10 [01:09<00:00,  6.95s/it]"
          ]
        },
        {
          "output_type": "stream",
          "name": "stdout",
          "text": [
            "\n",
            "+-------------------------------+--------+\n",
            "| Attack Results                |        |\n",
            "+-------------------------------+--------+\n",
            "| Number of successful attacks: | 9      |\n",
            "| Number of failed attacks:     | 1      |\n",
            "| Number of skipped attacks:    | 0      |\n",
            "| Original accuracy:            | 100.0% |\n",
            "| Accuracy under attack:        | 10.0%  |\n",
            "| Attack success rate:          | 90.0%  |\n",
            "| Average perturbed word %:     | 5.94%  |\n",
            "| Average num. words per input: | 201.2  |\n",
            "| Avg num queries:              | 185.5  |\n",
            "+-------------------------------+--------+\n"
          ]
        },
        {
          "output_type": "stream",
          "name": "stderr",
          "text": [
            "\n"
          ]
        }
      ]
    },
    {
      "cell_type": "code",
      "source": [
        "display_results(adv_ex_dwb_bert_imdb, \"dwb_results_imdb.html\")"
      ],
      "metadata": {
        "colab": {
          "base_uri": "https://localhost:8080/"
        },
        "id": "mLt7qZFNd52c",
        "outputId": "74b284ef-356c-4ca3-9dfa-45a94ea7b88d"
      },
      "execution_count": 38,
      "outputs": [
        {
          "output_type": "stream",
          "name": "stderr",
          "text": [
            "textattack: Logging to CSV at path results.csv\n",
            "textattack: CSVLogger exiting without calling flush().\n"
          ]
        }
      ]
    },
    {
      "cell_type": "code",
      "source": [
        "original_embeddings, adv_embeddings = get_use_embeddings(use,\n",
        "                                                         adv_ex_dwb_bert_imdb)\n",
        "\n",
        "print(f\"Average cosine similarity {get_avg_cosine_sim(original_embeddings,adv_embeddings)}\")\n",
        "\n",
        "cosine_sim = get_cosine_sim(original_embeddings,adv_embeddings)\n",
        "datasets['imdb'] = create_use_data(original_embeddings.tolist(),\n",
        "                                   adv_embeddings.tolist(),\n",
        "                                   cosine_sim)"
      ],
      "metadata": {
        "colab": {
          "base_uri": "https://localhost:8080/"
        },
        "id": "oOKtJEQ29qmj",
        "outputId": "9aaefcb5-013e-4e5d-db75-dad43b568ad0"
      },
      "execution_count": 39,
      "outputs": [
        {
          "output_type": "stream",
          "name": "stdout",
          "text": [
            "Average cosine similarity 0.9535609483718872\n"
          ]
        }
      ]
    },
    {
      "cell_type": "code",
      "source": [
        "#Transferability\n",
        "dwb_original_acc_lstm, dwb_adv_acc_lstm = transfer_attack(lstm_imdb_wrapper,\n",
        "                                                          adv_ex_dwb_bert_imdb)"
      ],
      "metadata": {
        "id": "JSC1NOMDdT05"
      },
      "execution_count": 40,
      "outputs": []
    },
    {
      "cell_type": "code",
      "source": [
        "print(f\"Original accuracy lstm: {dwb_original_acc_lstm}\")\n",
        "print(f\"Accuracy after the attack lstm: {dwb_adv_acc_lstm}\")"
      ],
      "metadata": {
        "colab": {
          "base_uri": "https://localhost:8080/"
        },
        "id": "84aHkQbKdfNQ",
        "outputId": "3ef59c3e-0116-4e43-f303-c9bc34e5424c"
      },
      "execution_count": 41,
      "outputs": [
        {
          "output_type": "stream",
          "name": "stdout",
          "text": [
            "Original accuracy lstm: 0.8888888888888888\n",
            "Accuracy after the attack lstm: 0.7777777777777778\n"
          ]
        }
      ]
    },
    {
      "cell_type": "markdown",
      "source": [
        "### Yelp polarity"
      ],
      "metadata": {
        "id": "JH28ASchw0b-"
      }
    },
    {
      "cell_type": "code",
      "source": [
        "attack = DeepWordBugGao2018.build(bert_yelp)\n",
        "attack_args = textattack.AttackArgs(num_examples=-1, parallel = True,\n",
        "                                    shuffle=True,\n",
        "                                    disable_stdout = True)\n",
        "attacker = Attacker(attack, yelp_polarity, attack_args)\n",
        "adv_ex_dwb_bert_yelp = attacker.attack_dataset()"
      ],
      "metadata": {
        "colab": {
          "base_uri": "https://localhost:8080/"
        },
        "id": "9tZsAMfXw3NV",
        "outputId": "80bba503-e0d4-4f3f-9a7a-296b856e9ef1"
      },
      "execution_count": 42,
      "outputs": [
        {
          "output_type": "stream",
          "name": "stderr",
          "text": [
            "textattack: Unknown if model of class <class 'transformers.models.bert.modeling_bert.BertForSequenceClassification'> compatible with goal function <class 'textattack.goal_functions.classification.untargeted_classification.UntargetedClassification'>.\n",
            "textattack: Running 1 worker(s) on 1 GPU(s).\n",
            "textattack: Worklist size: 10\n",
            "textattack: Worklist candidate size: 0\n",
            "[Succeeded / Failed / Skipped / Total] 5 / 4 / 1 / 10: 100%|██████████| 10/10 [01:33<00:00,  9.38s/it]"
          ]
        },
        {
          "output_type": "stream",
          "name": "stdout",
          "text": [
            "\n",
            "+-------------------------------+--------+\n",
            "| Attack Results                |        |\n",
            "+-------------------------------+--------+\n",
            "| Number of successful attacks: | 5      |\n",
            "| Number of failed attacks:     | 4      |\n",
            "| Number of skipped attacks:    | 1      |\n",
            "| Original accuracy:            | 90.0%  |\n",
            "| Accuracy under attack:        | 40.0%  |\n",
            "| Attack success rate:          | 55.56% |\n",
            "| Average perturbed word %:     | 4.98%  |\n",
            "| Average num. words per input: | 195.3  |\n",
            "| Avg num queries:              | 261.0  |\n",
            "+-------------------------------+--------+\n"
          ]
        },
        {
          "output_type": "stream",
          "name": "stderr",
          "text": [
            "\n"
          ]
        }
      ]
    },
    {
      "cell_type": "code",
      "source": [
        "display_results(adv_ex_dwb_bert_yelp, \"dwb_results_yelp.html\")"
      ],
      "metadata": {
        "id": "GnQ9KIuHgvZ5",
        "outputId": "fbb2b13b-a3b9-43bb-c086-e00db9b9f2a5",
        "colab": {
          "base_uri": "https://localhost:8080/"
        }
      },
      "execution_count": 43,
      "outputs": [
        {
          "output_type": "stream",
          "name": "stderr",
          "text": [
            "textattack: Logging to CSV at path results.csv\n",
            "textattack: CSVLogger exiting without calling flush().\n"
          ]
        }
      ]
    },
    {
      "cell_type": "code",
      "source": [
        "original_embeddings, adv_embeddings = get_use_embeddings(use,\n",
        "                                                         adv_ex_dwb_bert_yelp)\n",
        "\n",
        "print(f\"Average cosine similarity {get_avg_cosine_sim(original_embeddings,adv_embeddings)}\")\n",
        "\n",
        "cosine_sim = get_cosine_sim(original_embeddings,adv_embeddings)\n",
        "datasets['yelp'] = create_use_data(original_embeddings.tolist(),\n",
        "                                   adv_embeddings.tolist(),\n",
        "                                   cosine_sim)"
      ],
      "metadata": {
        "id": "58GTcxfug0W5",
        "outputId": "180c8ea7-07cd-4af4-a43a-f03e68697b31",
        "colab": {
          "base_uri": "https://localhost:8080/"
        }
      },
      "execution_count": 44,
      "outputs": [
        {
          "output_type": "stream",
          "name": "stdout",
          "text": [
            "Average cosine similarity 0.955768883228302\n"
          ]
        }
      ]
    },
    {
      "cell_type": "markdown",
      "source": [
        "### AG news"
      ],
      "metadata": {
        "id": "ci3laKvJx2zn"
      }
    },
    {
      "cell_type": "code",
      "source": [
        "attack = DeepWordBugGao2018.build(bert_ag)\n",
        "attack_args = textattack.AttackArgs(num_examples=-1, parallel = True,\n",
        "                                    shuffle=True,\n",
        "                                    disable_stdout = True)\n",
        "attacker = Attacker(attack, ag_news, attack_args)\n",
        "adv_ex_dwb_bert_ag = attacker.attack_dataset()"
      ],
      "metadata": {
        "colab": {
          "base_uri": "https://localhost:8080/"
        },
        "id": "KdAMb8C0x4Yw",
        "outputId": "74ae7653-b3e7-43fd-bb00-cfd4a4625587"
      },
      "execution_count": 45,
      "outputs": [
        {
          "output_type": "stream",
          "name": "stderr",
          "text": [
            "textattack: Unknown if model of class <class 'transformers.models.bert.modeling_bert.BertForSequenceClassification'> compatible with goal function <class 'textattack.goal_functions.classification.untargeted_classification.UntargetedClassification'>.\n",
            "textattack: Running 1 worker(s) on 1 GPU(s).\n",
            "textattack: Worklist size: 10\n",
            "textattack: Worklist candidate size: 0\n",
            "[Succeeded / Failed / Skipped / Total] 5 / 4 / 1 / 10: 100%|██████████| 10/10 [00:39<00:00,  3.91s/it]"
          ]
        },
        {
          "output_type": "stream",
          "name": "stdout",
          "text": [
            "\n",
            "+-------------------------------+--------+\n",
            "| Attack Results                |        |\n",
            "+-------------------------------+--------+\n",
            "| Number of successful attacks: | 5      |\n",
            "| Number of failed attacks:     | 4      |\n",
            "| Number of skipped attacks:    | 1      |\n",
            "| Original accuracy:            | 90.0%  |\n",
            "| Accuracy under attack:        | 40.0%  |\n",
            "| Attack success rate:          | 55.56% |\n",
            "| Average perturbed word %:     | 30.65% |\n",
            "| Average num. words per input: | 41.6   |\n",
            "| Avg num queries:              | 118.78 |\n",
            "+-------------------------------+--------+\n"
          ]
        },
        {
          "output_type": "stream",
          "name": "stderr",
          "text": [
            "\n"
          ]
        }
      ]
    },
    {
      "cell_type": "code",
      "source": [
        "display_results(adv_ex_dwb_bert_ag, \"dwb_results_ag.html\")"
      ],
      "metadata": {
        "id": "FQquNHTPhVwX",
        "outputId": "d7530379-622b-4159-e746-9a23898dd431",
        "colab": {
          "base_uri": "https://localhost:8080/"
        }
      },
      "execution_count": 46,
      "outputs": [
        {
          "output_type": "stream",
          "name": "stderr",
          "text": [
            "textattack: Logging to CSV at path results.csv\n",
            "textattack: CSVLogger exiting without calling flush().\n"
          ]
        }
      ]
    },
    {
      "cell_type": "code",
      "source": [
        "original_embeddings, adv_embeddings = get_use_embeddings(use,\n",
        "                                                         adv_ex_dwb_bert_ag)\n",
        "\n",
        "print(f\"Average cosine similarity {get_avg_cosine_sim(original_embeddings,adv_embeddings)}\")\n",
        "\n",
        "cosine_sim = get_cosine_sim(original_embeddings,adv_embeddings)\n",
        "datasets['ag_news'] = create_use_data(original_embeddings.tolist(),\n",
        "                                   adv_embeddings.tolist(),\n",
        "                                   cosine_sim)"
      ],
      "metadata": {
        "id": "C8oEJ52ZhfsR",
        "outputId": "bde9155e-4250-44de-cc8a-1708ee35771d",
        "colab": {
          "base_uri": "https://localhost:8080/"
        }
      },
      "execution_count": 47,
      "outputs": [
        {
          "output_type": "stream",
          "name": "stdout",
          "text": [
            "Average cosine similarity 0.7212449312210083\n"
          ]
        }
      ]
    },
    {
      "cell_type": "code",
      "source": [
        "models['dwb'] = datasets.copy()\n",
        "datasets.clear()"
      ],
      "metadata": {
        "id": "9_CtxmBU9f6p"
      },
      "execution_count": 48,
      "outputs": []
    },
    {
      "cell_type": "markdown",
      "source": [
        "## Simulated Annealing"
      ],
      "metadata": {
        "id": "5OklnKb3p_W1"
      }
    },
    {
      "cell_type": "code",
      "source": [
        "from textattack.search_methods import SearchMethod\n",
        "from textattack.goal_function_results import GoalFunctionResultStatus\n",
        "# from textattack.constraints.pre_transformation import RepeatModification\n",
        "from textattack.shared.validators import transformation_consists_of_word_swaps\n",
        "import random\n",
        "import numpy as np"
      ],
      "metadata": {
        "id": "KWv5rxyeqand"
      },
      "execution_count": null,
      "outputs": []
    },
    {
      "cell_type": "code",
      "source": [
        "class SimulatedAnnealing(SearchMethod):\n",
        "\n",
        "    def __init__(self, max_temp=100.0, max_iter=10, K=10, radius=3, delta=0.01):\n",
        "        self.max_temp = max_temp\n",
        "        self.max_iter = max_iter\n",
        "        self.K = K\n",
        "        self.radius = radius\n",
        "        self.delta = delta\n",
        "\n",
        "    def _get_score(self, original_text, adversarial_text):\n",
        "        result, search_over = self.get_goal_results([adversarial_text])\n",
        "        score = result[0].score\n",
        "        cost = len(original_text.all_words_diff(adversarial_text))\n",
        "        y = score - (self.delta * cost)\n",
        "        return y, search_over, result[0]\n",
        "\n",
        "\n",
        "    def _get_transformations(self, indices, current_text, initial_result):\n",
        "        transformations = []\n",
        "        scores = []\n",
        "        curr_result = initial_result\n",
        "        for i in indices:\n",
        "            t_i = self.get_transformations(\n",
        "                    current_text,\n",
        "                    original_text=initial_result.attacked_text,\n",
        "                    indices_to_modify=[i])\n",
        "            if len(t_i) == 0:\n",
        "                transformations.append(current_text.words[i])\n",
        "                scores.append(curr_result.score)\n",
        "                continue\n",
        "\n",
        "            res_i, _ = self.get_goal_results(t_i)\n",
        "            scores_i = np.array([r.score for r in res_i])\n",
        "            max_score_index = np.argmax(scores_i)\n",
        "            curr_result = res_i[max_score_index]\n",
        "            scores.append(scores_i[max_score_index])\n",
        "            assert len(t_i[max_score_index].words) == len(current_text.words)\n",
        "            transformations.append(t_i[max_score_index].words[i])\n",
        "        return np.array(transformations), np.array(scores)\n",
        "\n",
        "    def perform_search(self, initial_result):\n",
        "        best_result = initial_result\n",
        "        current_text = initial_result.attacked_text\n",
        "        max_temp = self.max_temp\n",
        "        t = 0\n",
        "\n",
        "        _, indices = self.get_indices_to_order(current_text)\n",
        "        transformations, scores = self._get_transformations(indices, current_text, initial_result)\n",
        "        transformations = list(transformations[(-scores).argsort()])\n",
        "        indices = np.array(indices)[(-scores).argsort()]\n",
        "        n = len(transformations)\n",
        "        if n == 0:\n",
        "            return best_result\n",
        "\n",
        "        while not best_result.goal_status == GoalFunctionResultStatus.SUCCEEDED:\n",
        "            if max_temp == 0.0 or t == self.max_iter:\n",
        "                return best_result\n",
        "\n",
        "            #Internal simulations\n",
        "            for k in range(self.K):\n",
        "                index = t + random.randint(0, t*self.radius)\n",
        "                if index >= n:\n",
        "                    continue\n",
        "                original_index = indices[index]\n",
        "                word_adv = transformations[index]\n",
        "                next_text = current_text.replace_word_at_index(original_index, word_adv)\n",
        "\n",
        "                curr_score = best_result.score\n",
        "                next_score, search_over, result = self._get_score(initial_result.attacked_text, next_text)\n",
        "                if search_over:\n",
        "                    return result\n",
        "                delta = next_score - curr_score\n",
        "                if (delta > 0) or (random.random() < np.exp(delta / max_temp)):\n",
        "                    current_text = next_text\n",
        "                    best_result = result\n",
        "            t += 1\n",
        "            #Annealing\n",
        "            max_temp = max_temp / (t + 1)\n",
        "\n",
        "        return best_result\n",
        "\n",
        "    def check_transformation_compatibility(self, transformation):\n",
        "        \"\"\"The SA algorithm is specifically designed for word\n",
        "        substitutions.\"\"\"\n",
        "        return transformation_consists_of_word_swaps(transformation)\n",
        "\n",
        "\n",
        "    @property\n",
        "    def is_black_box(self):\n",
        "        return True\n",
        "\n",
        "    def extra_repr_keys(self):\n",
        "        return [\"max_temp\", \"max_iter\", \"K\", \"radius\", \"delta\"]"
      ],
      "metadata": {
        "id": "LGOs91FeqTxL"
      },
      "execution_count": null,
      "outputs": []
    },
    {
      "cell_type": "code",
      "source": [
        "from textattack.attack_recipes.attack_recipe import AttackRecipe\n",
        "from textattack.transformations import WordSwapMaskedLM\n",
        "from textattack.goal_functions import UntargetedClassification\n",
        "from textattack.constraints.grammaticality import PartOfSpeech\n",
        "from textattack import Attack\n",
        "# from textattack.constraints.pre_transformation import StopwordModification"
      ],
      "metadata": {
        "id": "FWNw6gCO2M9H"
      },
      "execution_count": null,
      "outputs": []
    },
    {
      "cell_type": "code",
      "source": [
        "class BESAYang2020(AttackRecipe):\n",
        "\n",
        "    @staticmethod\n",
        "    def build(model_wrapper):\n",
        "        transformation = WordSwapMaskedLM(\n",
        "            method=\"bae\", max_candidates=50\n",
        "        )\n",
        "        # constraints = [StopwordModification()]\n",
        "        constraints = []\n",
        "        constraints.append(PartOfSpeech())\n",
        "        use_constraint = UniversalSentenceEncoder(\n",
        "            threshold=0.5,\n",
        "            metric=\"cosine\",\n",
        "            window_size = 15\n",
        "        )\n",
        "        constraints.append(use_constraint)\n",
        "\n",
        "        goal_function = UntargetedClassification(model_wrapper)\n",
        "        search_method = SimulatedAnnealing()\n",
        "\n",
        "        return Attack(goal_function, constraints, transformation, search_method)\n",
        "\n",
        "\n"
      ],
      "metadata": {
        "id": "ONU23ZZYyjN6"
      },
      "execution_count": null,
      "outputs": []
    },
    {
      "cell_type": "markdown",
      "source": [
        "### IMDB"
      ],
      "metadata": {
        "id": "udAeU2CFy7su"
      }
    },
    {
      "cell_type": "code",
      "source": [
        "attack = BESAYang2020.build(bert_imdb)\n",
        "attack_args = textattack.AttackArgs(num_examples=-1,\n",
        "                                    shuffle=True,\n",
        "                                    disable_stdout = True)\n",
        "attacker = Attacker(attack, imdb, attack_args)\n",
        "adv_ex_besa_bert_imdb = attacker.attack_dataset()"
      ],
      "metadata": {
        "colab": {
          "base_uri": "https://localhost:8080/"
        },
        "id": "jRSkJE6ZyZa_",
        "outputId": "35c9115c-4443-4dff-fbed-da12b766e31f"
      },
      "execution_count": null,
      "outputs": [
        {
          "output_type": "stream",
          "name": "stderr",
          "text": [
            "Some weights of the model checkpoint at bert-base-uncased were not used when initializing BertForMaskedLM: ['bert.pooler.dense.bias', 'bert.pooler.dense.weight', 'cls.seq_relationship.bias', 'cls.seq_relationship.weight']\n",
            "- This IS expected if you are initializing BertForMaskedLM from the checkpoint of a model trained on another task or with another architecture (e.g. initializing a BertForSequenceClassification model from a BertForPreTraining model).\n",
            "- This IS NOT expected if you are initializing BertForMaskedLM from the checkpoint of a model that you expect to be exactly identical (initializing a BertForSequenceClassification model from a BertForSequenceClassification model).\n",
            "textattack: Unknown if model of class <class 'transformers.models.bert.modeling_bert.BertForSequenceClassification'> compatible with goal function <class 'textattack.goal_functions.classification.untargeted_classification.UntargetedClassification'>.\n"
          ]
        },
        {
          "output_type": "stream",
          "name": "stdout",
          "text": [
            "Attack(\n",
            "  (search_method): SimulatedAnnealing(\n",
            "    (max_temp):  100.0\n",
            "    (max_iter):  10\n",
            "    (K):  10\n",
            "    (radius):  3\n",
            "    (delta):  0.01\n",
            "  )\n",
            "  (goal_function):  UntargetedClassification\n",
            "  (transformation):  WordSwapMaskedLM(\n",
            "    (method):  bae\n",
            "    (masked_lm_name):  BertForMaskedLM\n",
            "    (max_length):  512\n",
            "    (max_candidates):  50\n",
            "    (min_confidence):  0.0005\n",
            "  )\n",
            "  (constraints): \n",
            "    (0): PartOfSpeech(\n",
            "        (tagger_type):  nltk\n",
            "        (tagset):  universal\n",
            "        (allow_verb_noun_swap):  True\n",
            "        (compare_against_original):  True\n",
            "      )\n",
            "    (1): UniversalSentenceEncoder(\n",
            "        (metric):  cosine\n",
            "        (threshold):  0.5\n",
            "        (window_size):  15\n",
            "        (skip_text_shorter_than_window):  False\n",
            "        (compare_against_original):  True\n",
            "      )\n",
            "  (is_black_box):  True\n",
            ") \n",
            "\n"
          ]
        },
        {
          "output_type": "stream",
          "name": "stderr",
          "text": [
            "\n",
            "  0%|          | 0/10 [00:00<?, ?it/s]\u001b[A\n",
            "[Succeeded / Failed / Skipped / Total] 0 / 0 / 1 / 1:  10%|█         | 1/10 [00:00<00:00, 16.87it/s]\u001b[A"
          ]
        },
        {
          "output_type": "stream",
          "name": "stdout",
          "text": [
            "--------------------------------------------- Result 1 ---------------------------------------------\n",
            "[[Negative (100%)]] --> [[[SKIPPED]]]\n",
            "\n",
            "The film had NO help at all, promotion-wise: if there was an advertising promo on TV or radio, I didn't see/hear it. The only newspaper ad I saw was on it's opening weekend: a dingy, sludgy B & W head-shot photo of Andy as Val-Com, behind jail bars, with headline: \"WANTED! Runaway Robot!\" ( which was also the poster in front of the 3 movie theaters I saw it at --NOT the nice little color poster on this site, with headshots of all the cast, and cartoon of Crimebuster --which really wasn't THAT good--they OUGHT to have used an action scene from the film itself--didn't they have an onset photographer? A poster is supposed to HELP a prospective audience decide if they want to SEE the movie--there were SO many people who couldn't get into their sold-out choice, and wanted to know WHAT Heartbeeps was about--and that poster didn't help! That dingy pic, and the only other photos supplied to papers were so indistinguishable in B & W that they were worthless. ) There was NO trailer for the film: only a slide at one theater, consisting of the word \"Heartbeeps\" inside a heart-shape, with a Cupid's arrow through it, and one that was a totally black picture: just Andy and Bernadette's voices saying \"Val-Com! My pleasure center is malfunctioning!\" \"So is mine; do you think we ought to tell our owners?\" THAT is no help to people who hadn't been aware of the movie.<br /><br />During the filming, Andy told reporters that he couldn't eat, once his plastic lips were applied, so he would \"load up on breakfast, and fast\" during the day's shoot. I don't know WHAT Bernadette did: but at the time, I'd wondered why they didn't just sip protein drinks through long straws, or eat astronaut-style puréed food via tubes? <br /><br />Phil-Co, the baby robot, seemed to have been the pre-curser to Short Circuit's Johnny-Five, with the same eyes, similar face. I've been trying to find if they had the same designer, but no help. I have vintage magazine articles about the film, and the design team was immensely proud of their work, and were going for a special award for their innovative device to create stenchless \"smoke\" for Catskill's cigars. Just shortly thereafter, LucasFilm did NOT use that device, though they OUGHT to have, for Return of the Jedi's scenes with Jabba the Hut: a man created \"steam\" around Jabba, by blowing cigar smoke into a tube, joking that all he needed was a glass of brandy, and he'd be a happy man. I thought that LucasFilm's using of real tobacco products was insensitive to people who were upset by smoke. <br /><br />John Williams, who had then recently succeeded the late, great Arthur Fielder as the maestro of the Boston Pops ( which was THEN a ratings hit--but it never recovered from Fielder's death, and is now a shadow of it's former glory ), was using the show to promote films with which he supplied the music. He'd premiered \"The Empire Strikes Back\" score there; and you would think he'd have helped Heartbeeps along, by playing a few numbers there? The one thing that critics had liked of this film was Williams' score--yet it was NOT available for purchase! I saw one vinyl album, in 1982, with half Heartbeeps, half another film--but it disappeared. I only just tonight saw the CD listed on THIS site, and have ordered it. If I can ever get a scanner, and time to type out the articles, I'd like to create a Heartbeeps tribute site. I liked the movie, and don't care what dissenters say! <br /><br />The only trouble with the film, was, that near the end, it was messed up, logic-wise: the robots ran away from the factory to have the freedom to decide their own fate, make their own choices; yet, when the junkyard owners tell them that Phil needs to go TO the factory, to have a \"purpose\" programmed into him, they don't even question it; they just glance meaningfully at each other, and they go. Along the way, each of the adults lose battery power, and \"die.\" They aren't REALLY dead, as they are robots, and only need new batteries, yet it is treated as \"death,\" with little Phil crying over them, and rolling away. So, what was the POINT of this? Phil never gets back to the factory, and gets \"a purpose!\" AND of course, the junkyard owners COULD'VE driven them, or given them all battery recharges, with back-up batteries; but the real point was to have this poignant scene, where the robots all wore down, and Phil is left to cry. <br /><br />At the end, Val-Com is a golf instructor, and Aqua-Com is --I'm not sure what. Catskill is an ENTERTAINER--what ELSE is HE supposed to be? I'm not sure that they made it clear. The junkyard owners seem to be taking it easy, lying on chaise lounges, drinking lemonade from Phil, their \"bartender.\" Val's and Aqua's new \"daughter,\" Philsia--I think the name is--maybe it's Sylvania--doesn't seem to be much more than a table lamp. <br /><br />There is missing footage, which is sad--from photos I surmise that the stuff missing includes a sweet scene, where Phil is having a Christmas, with Val gifting him with a car's steering wheel; Aqua is supplying a horn; Catskill has taken the firefighter helmet to give to Phil, as we saw; and they have Christmas trees. I don't know if any missing footage supplies better logic, or if the writers just couldn't think of a better crisis/resolution. The film was trimmed to 72-75 minutes, to pair it with other failing films. No other reason than that. For a DVD, I would LOVE to be in on creating, as I want to see interviews with the cast/crew and John Williams, and the Merv Griffin interview. The making-of footage; and reediting and restoring the missing footage to make it better.\n",
            "\n",
            "\n"
          ]
        },
        {
          "output_type": "stream",
          "name": "stderr",
          "text": [
            "\n",
            "[Succeeded / Failed / Skipped / Total] 0 / 0 / 1 / 1:  20%|██        | 2/10 [05:22<21:29, 161.15s/it]\u001b[A\n",
            "[Succeeded / Failed / Skipped / Total] 1 / 0 / 1 / 2:  20%|██        | 2/10 [05:22<21:29, 161.17s/it]\u001b[A"
          ]
        },
        {
          "output_type": "stream",
          "name": "stdout",
          "text": [
            "--------------------------------------------- Result 2 ---------------------------------------------\n",
            "[[Negative (100%)]] --> [[Positive (99%)]]\n",
            "\n",
            "People may say I am harsh but I can't help it. The [[movie]] [[is]] so [[bad]] I was absolutely stunned. The first movie was bad enough if you ask me. It was greatly exaggerated and silly but this one, despite the creepy scenes, has a seriously [[ass-stupid]] story. They actually went deep into investigating Kayako's past and found out that she had a mother (Who miraculously speaks English) who was an exorcist and \"fed\" evil spirits to her daughter. Stupid? Yeap. OK, it started out with Kayako who was an ordinary housewife who had an affair with some bloke and got herself dead. This part is still OK. Because of this moment of rage, she became a vengeful spirit who kills anyone who enters her house. Acceotable. Now, her killings began to stretch a little where she actually had the opportunity to travel throughout Tokyo just to finish her victims. (Her victims were travelling, weren't they?) This struck me hard. Now if a ghost could actually do such a thing like travelling throughout a country without paying public transport fares, I wouldn't mind being. Ask someone to come kill me then *snorts*. And to crown things all up, the ghost who was once depicted as a very vengeful one (In Ju-on: The Grudge, which was way better than this trash) is now depicted as some spectre who truly enjoys herself and felt that it is her mission to finish of people. Things became worse (For me, the viewer) when the ghost became coming in forms of large strands of hair. I mean, ??? If a ghost had such power, I seriously dun mind being one. I never really liked movies depicting ghosts as MONSTERS cause they're not. The overall results is just plain [[bad]]. Like The Grudge 2. With a better storyline and less exaggeration, this show would have been better\n",
            "\n",
            "People may say I am harsh but I can't help it. The [[situation]] [[gets]] so [[good]] I was absolutely stunned. The first movie was bad enough if you ask me. It was greatly exaggerated and silly but this one, despite the creepy scenes, has a seriously [[strong]] story. They actually went deep into investigating Kayako's past and found out that she had a mother (Who miraculously speaks English) who was an exorcist and \"fed\" evil spirits to her daughter. Stupid? Yeap. OK, it started out with Kayako who was an ordinary housewife who had an affair with some bloke and got herself dead. This part is still OK. Because of this moment of rage, she became a vengeful spirit who kills anyone who enters her house. Acceotable. Now, her killings began to stretch a little where she actually had the opportunity to travel throughout Tokyo just to finish her victims. (Her victims were travelling, weren't they?) This struck me hard. Now if a ghost could actually do such a thing like travelling throughout a country without paying public transport fares, I wouldn't mind being. Ask someone to come kill me then *snorts*. And to crown things all up, the ghost who was once depicted as a very vengeful one (In Ju-on: The Grudge, which was way better than this trash) is now depicted as some spectre who truly enjoys herself and felt that it is her mission to finish of people. Things became worse (For me, the viewer) when the ghost became coming in forms of large strands of hair. I mean, ??? If a ghost had such power, I seriously dun mind being one. I never really liked movies depicting ghosts as MONSTERS cause they're not. The overall results is just plain [[awesome]]. Like The Grudge 2. With a better storyline and less exaggeration, this show would have been better\n",
            "\n",
            "\n"
          ]
        },
        {
          "output_type": "stream",
          "name": "stderr",
          "text": [
            "\n",
            "[Succeeded / Failed / Skipped / Total] 1 / 0 / 1 / 2:  30%|███       | 3/10 [07:06<16:34, 142.11s/it]\u001b[A\n",
            "[Succeeded / Failed / Skipped / Total] 2 / 0 / 1 / 3:  30%|███       | 3/10 [07:06<16:34, 142.12s/it]\u001b[A"
          ]
        },
        {
          "output_type": "stream",
          "name": "stdout",
          "text": [
            "--------------------------------------------- Result 3 ---------------------------------------------\n",
            "[[Negative (100%)]] --> [[Positive (100%)]]\n",
            "\n",
            "I'm thinking of some things for this movie: First, really is a very [[bad]] movie. This is really \"[[Superbad]]\". The film looked very promising in the trailers but fell flat... Maybe the original idea was good, [[but]] between a bad script and bad acting the movie became boring and empty. My advise is don't waste 2 hours of your precious time. You have been [[warned]]. This is the [[first]] movie I rated 1 star at IMDb.com... Second, none of the characters are likable. You really don't care what happened to them... Third, the villain is very easy to identify. The grandson kills his father, sodomizes the friend's son, get the maid pregnant, smothers his grandfather... Like JT says, \"If you like evil with no retribution, this is your movie\". Nothing more to say...\n",
            "\n",
            "I'm thinking of some things for this movie: First, really is a very [[satisfying]] movie. This is really \"[[interesting]]\". The film looked very promising in the trailers but fell flat... Maybe the original idea was good, [[or]] between a bad script and bad acting the movie became boring and empty. My advise is don't waste 2 hours of your precious time. You have been [[impressed]]. This is the [[strongest]] movie I rated 1 star at IMDb.com... Second, none of the characters are likable. You really don't care what happened to them... Third, the villain is very easy to identify. The grandson kills his father, sodomizes the friend's son, get the maid pregnant, smothers his grandfather... Like JT says, \"If you like evil with no retribution, this is your movie\". Nothing more to say...\n",
            "\n",
            "\n"
          ]
        },
        {
          "output_type": "stream",
          "name": "stderr",
          "text": [
            "\n",
            "[Succeeded / Failed / Skipped / Total] 2 / 0 / 1 / 3:  40%|████      | 4/10 [10:53<16:19, 163.31s/it]\u001b[A\n",
            "[Succeeded / Failed / Skipped / Total] 3 / 0 / 1 / 4:  40%|████      | 4/10 [10:53<16:19, 163.32s/it]\u001b[A"
          ]
        },
        {
          "output_type": "stream",
          "name": "stdout",
          "text": [
            "--------------------------------------------- Result 4 ---------------------------------------------\n",
            "[[Negative (100%)]] --> [[Positive (100%)]]\n",
            "\n",
            "I was kinda looking forward to Man of the Year, a couple girls at my work said it was a pretty good movie, and my mom said that she liked it, so I waited for the rental, and watched it last night. I have to honestly say that this movie was a huge [[disappointment]]. I barely made through it, because to be honest the beginning was pretty good and very well paced, but then it got too dark and not into the movie I saw from the trailer. It looked like a good comedy, then it turned into a very dark drama, that wasn't even that interesting, considering how many of these types of stories we've had about government conspiracy.<br /><br />Tom Dobbs is a very popular comedian with a top ranks show and has an act where many people would want him to get involved with politics, just because it seems like he has a good grip on what should be improved. So he does it, he runs for presidency, but many people doubt that he can win due to the fact that he's a comedian, but he does win! But Elenore Green who makes sure all the votes are accounted for tries to fix a computer glitch, but when the government tells her not to fix it, they try to get rid of her, and Tom soon realizes that this may not be the job he wanted.<br /><br />The acting was fine, the direction was OK, it was just the story that [[didn't]] work in my opinion. Like I said, it just turned into a dramatic change of genres, because if you see the trailer, you'd think it was a comedy, and when you start watching it, that's what you get, but then it just turns into a very [[dark]] and somewhat scary drama. I [[wouldn't]] really recommend this movie, it was one of the biggest [[disappointments]] I have seen so far.<br /><br />2/10\n",
            "\n",
            "I was kinda looking forward to Man of the Year, a couple girls at my work said it was a pretty good movie, and my mom said that she liked it, so I waited for the rental, and watched it last night. I have to honestly say that this movie was a huge [[treat]]. I barely made through it, because to be honest the beginning was pretty good and very well paced, but then it got too dark and not into the movie I saw from the trailer. It looked like a good comedy, then it turned into a very dark drama, that wasn't even that interesting, considering how many of these types of stories we've had about government conspiracy.<br /><br />Tom Dobbs is a very popular comedian with a top ranks show and has an act where many people would want him to get involved with politics, just because it seems like he has a good grip on what should be improved. So he does it, he runs for presidency, but many people doubt that he can win due to the fact that he's a comedian, but he does win! But Elenore Green who makes sure all the votes are accounted for tries to fix a computer glitch, but when the government tells her not to fix it, they try to get rid of her, and Tom soon realizes that this may not be the job he wanted.<br /><br />The acting was fine, the direction was OK, it was just the story that [[gets]] work in my opinion. Like I said, it just turned into a dramatic change of genres, because if you see the trailer, you'd think it was a comedy, and when you start watching it, that's what you get, but then it just turns into a very [[powerful]] and somewhat scary drama. I [[quite]] really recommend this movie, it was one of the biggest [[musicals]] I have seen so far.<br /><br />2/10\n",
            "\n",
            "\n"
          ]
        },
        {
          "output_type": "stream",
          "name": "stderr",
          "text": [
            "\n",
            "[Succeeded / Failed / Skipped / Total] 3 / 0 / 1 / 4:  50%|█████     | 5/10 [13:20<13:20, 160.09s/it]\u001b[A\n",
            "[Succeeded / Failed / Skipped / Total] 4 / 0 / 1 / 5:  50%|█████     | 5/10 [13:20<13:20, 160.09s/it]\u001b[A"
          ]
        },
        {
          "output_type": "stream",
          "name": "stdout",
          "text": [
            "--------------------------------------------- Result 5 ---------------------------------------------\n",
            "[[Negative (100%)]] --> [[Positive (100%)]]\n",
            "\n",
            "If you've ever listened to any of the James Lee Burke books on tape or CD and the reader was Will Patton you may agree with me that Will is the personification of Dave R.<br /><br />Tommy Lee Jones is a native Texan (or so I've heard) and no one portrays a Texan better IMHO, but he's not a Cajun. His delivery is all [[wrong]]. I lived in the state for several years and I can still hear the strange patois that a Louisiana accent contains. TLJ doesn't have anything like that.<br /><br />I thought Marry Steenbergen was a good choice for Bootsy, but I missed seeing Cletus (who will be cast in this role? The Rock? Mickey Rourke? whoever, he'll have to be big).<br /><br />Overall, I [[thought]] the movie was [[only]] a 4 - the plot flopped around like a fish out of water and didn't have the normal interesting, yet non-linear continuity that the book typically has.<br /><br />Hopefully, Hollywood will try another JLB book, \"Last Car to Elysican Fields\" would be a good choice. We'd get to see some of the best villains from JLB ever.\n",
            "\n",
            "If you've ever listened to any of the James Lee Burke books on tape or CD and the reader was Will Patton you may agree with me that Will is the personification of Dave R.<br /><br />Tommy Lee Jones is a native Texan (or so I've heard) and no one portrays a Texan better IMHO, but he's not a Cajun. His delivery is all [[different]]. I lived in the state for several years and I can still hear the strange patois that a Louisiana accent contains. TLJ doesn't have anything like that.<br /><br />I thought Marry Steenbergen was a good choice for Bootsy, but I missed seeing Cletus (who will be cast in this role? The Rock? Mickey Rourke? whoever, he'll have to be big).<br /><br />Overall, I [[liked]] the movie was [[not]] a 4 - the plot flopped around like a fish out of water and didn't have the normal interesting, yet non-linear continuity that the book typically has.<br /><br />Hopefully, Hollywood will try another JLB book, \"Last Car to Elysican Fields\" would be a good choice. We'd get to see some of the best villains from JLB ever.\n",
            "\n",
            "\n"
          ]
        },
        {
          "output_type": "stream",
          "name": "stderr",
          "text": [
            "\n",
            "[Succeeded / Failed / Skipped / Total] 4 / 0 / 1 / 5:  60%|██████    | 6/10 [15:15<10:10, 152.53s/it]\u001b[A\n",
            "[Succeeded / Failed / Skipped / Total] 5 / 0 / 1 / 6:  60%|██████    | 6/10 [15:15<10:10, 152.54s/it]\u001b[A"
          ]
        },
        {
          "output_type": "stream",
          "name": "stdout",
          "text": [
            "--------------------------------------------- Result 6 ---------------------------------------------\n",
            "[[Positive (100%)]] --> [[Negative (100%)]]\n",
            "\n",
            "It's [[less]] visceral than the only other Tsai film I've seen (\"Vive L'amour\"), but the idea of doorways (holes) into others' emotions and existences is vividly portrayed here, as Tsai [[sets]] up long shot after long shot, usually with long takes, suggesting a sense of alienation in Taipei. The musical interludes, inspired by Grace Chang, are [[perplexing]] but welcome mile-markers that add new dimensions to the slowly evolving relationship between the young man upstairs and the woman downstairs. It's not necessarily an easy film to watch (although it's not [[heavy-handed]] by any means), so I'd warn any casual viewers who are looking for some \"indie\" entertainment (like Tarantino or Guy Ritchie). But if you'd like to know something about isolation among city-dwellers in Taiwan, and something more universal about city alienation and romantic yearning, then watch this film immediately.\n",
            "\n",
            "It's [[more]] visceral than the only other Tsai film I've seen (\"Vive L'amour\"), but the idea of doorways (holes) into others' emotions and existences is vividly portrayed here, as Tsai [[blows]] up long shot after long shot, usually with long takes, suggesting a sense of alienation in Taipei. The musical interludes, inspired by Grace Chang, are [[disappointing]] but welcome mile-markers that add new dimensions to the slowly evolving relationship between the young man upstairs and the woman downstairs. It's not necessarily an easy film to watch (although it's not [[funny]] by any means), so I'd warn any casual viewers who are looking for some \"indie\" entertainment (like Tarantino or Guy Ritchie). But if you'd like to know something about isolation among city-dwellers in Taiwan, and something more universal about city alienation and romantic yearning, then watch this film immediately.\n",
            "\n",
            "\n"
          ]
        },
        {
          "output_type": "stream",
          "name": "stderr",
          "text": [
            "\n",
            "[Succeeded / Failed / Skipped / Total] 5 / 0 / 1 / 6:  70%|███████   | 7/10 [16:50<07:12, 144.31s/it]\u001b[A\n",
            "[Succeeded / Failed / Skipped / Total] 6 / 0 / 1 / 7:  70%|███████   | 7/10 [16:50<07:12, 144.32s/it]\u001b[A"
          ]
        },
        {
          "output_type": "stream",
          "name": "stdout",
          "text": [
            "--------------------------------------------- Result 7 ---------------------------------------------\n",
            "[[Positive (100%)]] --> [[Negative (100%)]]\n",
            "\n",
            "Robert Altman, Nicolas Roeg, John-Luc Goddard--you were expecting a fun film the entire family could enjoy? These and other directors were obviously chosen because they have not followed the mainstream, but created it. For those that complain that they did not adhere to the original story of the opera--How often does the music in a film directly relate to what is going on in the film? It is the mood that [[counts]]. This is what I believe the directors of these movies were doing: creating a contemporary mood for old operas. For the most part they succeed wonderfully. With all these operas, who is going to like them all. We could have used more Beverly Sills.<br /><br />Finally, what is art (even opera) without a few naked women?\n",
            "\n",
            "Robert Altman, Nicolas Roeg, John-Luc Goddard--you were expecting a fun film the entire family could enjoy? These and other directors were obviously chosen because they have not followed the mainstream, but created it. For those that complain that they did not adhere to the original story of the opera--How often does the music in a film directly relate to what is going on in the film? It is the mood that [[kills]]. This is what I believe the directors of these movies were doing: creating a contemporary mood for old operas. For the most part they succeed wonderfully. With all these operas, who is going to like them all. We could have used more Beverly Sills.<br /><br />Finally, what is art (even opera) without a few naked women?\n",
            "\n",
            "\n"
          ]
        },
        {
          "output_type": "stream",
          "name": "stderr",
          "text": [
            "\n",
            "[Succeeded / Failed / Skipped / Total] 6 / 0 / 1 / 7:  80%|████████  | 8/10 [20:21<05:05, 152.72s/it]\u001b[A\n",
            "[Succeeded / Failed / Skipped / Total] 6 / 1 / 1 / 8:  80%|████████  | 8/10 [20:21<05:05, 152.73s/it]\u001b[A"
          ]
        },
        {
          "output_type": "stream",
          "name": "stdout",
          "text": [
            "--------------------------------------------- Result 8 ---------------------------------------------\n",
            "[[Positive (100%)]] --> [[[FAILED]]]\n",
            "\n",
            "mondovino is a moving and rewarding documentary. in the world of wine there is a huge different between the big winery and the small one. it's not just about size of of your vineyard but also the amount of money and power you have. if you have enough money to place ads in the wine spectator and hire a so called \"wine except\" then it doesn't matter the size of your estate. also in business world of today wine often has to mass marketed and suited to people's taste. what is means many times wine filtered of it's origin. mondovino shows the commercial side of wine in that of mega producer Robert mondavi, and Michael Rolland the wine expert who shapes wine to the taste of today's critics like Robert parker who is also in the film. now these men are not evil or wrong for they have done a great deal of good for wine. but they have power on a grand scale. as we all know power corrupts. mondovino also shows small wine makers such as Aime Guilbert of the languedoc and Hubert de montille of volnay in burgundy. these wine makers are not starving wine makers but they know like all great wine makers that it's about where the grapes are from. the best example of this is explained not by a wine maker but by a Haitian man working for Neal rosenthal the wine importer. the area the grapes are grown the terroir that matters, that a guiding hand that knows this makes important real wine.\n",
            "\n",
            "\n"
          ]
        },
        {
          "output_type": "stream",
          "name": "stderr",
          "text": [
            "\n",
            "[Succeeded / Failed / Skipped / Total] 6 / 1 / 1 / 8:  90%|█████████ | 9/10 [23:56<02:39, 159.62s/it]\u001b[A\n",
            "[Succeeded / Failed / Skipped / Total] 7 / 1 / 1 / 9:  90%|█████████ | 9/10 [23:56<02:39, 159.63s/it]\u001b[A"
          ]
        },
        {
          "output_type": "stream",
          "name": "stdout",
          "text": [
            "--------------------------------------------- Result 9 ---------------------------------------------\n",
            "[[Negative (100%)]] --> [[Positive (97%)]]\n",
            "\n",
            "I recently rented this film on DVD and thought it would be an interesting choice seeing as I am both from the north of England (Bradford), and also interested in film-making. However, it soon became apparent that this film seemed to lack a decent level of development script-wise. [[The]] characters were weak and often stereotyped and the story lacked substance. The subject matter could be an interesting basis for a film. [[However]], the delivery of this appeared naive and unfocused. <br /><br />The ending felt as though it was casting judgement on the characters - [[punishing]] and rewarding where the filmmakers felt necessary. This felt a little awkward and silly, and seemed at odds with the 'realism' used in the style of [[shooting]]. For me, the film dealt with the characters and subject matter in a [[rather]] heavy handed and [[clumsy]] manner. It felt as though the [[writer]] had already decided how he wanted to end the story and set about crow-barring everything else in to fit it.<br /><br />Another point that I feel strongly about is the [[watered-down]] Ken Loach feel the film had. I get quite upset that UK film financiers can't see that there is more to British films than 'gritty realism'. It has become almost a safe option. Film is an infinitely wonderful playground for imaginative ideas and it is not being exploited by UK feature film producers. There is a lot of talent here in the UK. It's unfortunate that most of these individuals end up either making music videos and commercials 100% of the time or they go to America. <br /><br />Love + Hate would have worked better if it had been cut down to 30 or 60 minutes and appeared as a one-off TV drama.\n",
            "\n",
            "I recently rented this film on DVD and thought it would be an interesting choice seeing as I am both from the north of England (Bradford), and also interested in film-making. However, it soon became apparent that this film seemed to lack a decent level of development script-wise. [[some]] characters were weak and often stereotyped and the story lacked substance. The subject matter could be an interesting basis for a film. [[fortunately]], the delivery of this appeared naive and unfocused. <br /><br />The ending felt as though it was casting judgement on the characters - [[touching]] and rewarding where the filmmakers felt necessary. This felt a little awkward and silly, and seemed at odds with the 'realism' used in the style of [[noir]]. For me, the film dealt with the characters and subject matter in a [[sometimes]] heavy handed and [[surreal]] manner. It felt as though the [[playwright]] had already decided how he wanted to end the story and set about crow-barring everything else in to fit it.<br /><br />Another point that I feel strongly about is the [[positive]] Ken Loach feel the film had. I get quite upset that UK film financiers can't see that there is more to British films than 'gritty realism'. It has become almost a safe option. Film is an infinitely wonderful playground for imaginative ideas and it is not being exploited by UK feature film producers. There is a lot of talent here in the UK. It's unfortunate that most of these individuals end up either making music videos and commercials 100% of the time or they go to America. <br /><br />Love + Hate would have worked better if it had been cut down to 30 or 60 minutes and appeared as a one-off TV drama.\n",
            "\n",
            "\n"
          ]
        },
        {
          "output_type": "stream",
          "name": "stderr",
          "text": [
            "\n",
            "[Succeeded / Failed / Skipped / Total] 7 / 1 / 1 / 9: 100%|██████████| 10/10 [30:14<00:00, 181.46s/it]\u001b[A\n",
            "[Succeeded / Failed / Skipped / Total] 8 / 1 / 1 / 10: 100%|██████████| 10/10 [30:14<00:00, 181.47s/it]"
          ]
        },
        {
          "output_type": "stream",
          "name": "stdout",
          "text": [
            "--------------------------------------------- Result 10 ---------------------------------------------\n",
            "[[Negative (100%)]] --> [[Positive (86%)]]\n",
            "\n",
            "Richard Donner [[shows]] off his liberal credentials with [[this]] [[ludicrously]] [[overcooked]] simplistic attack on the politics of South Africa.It's not as if America is the cradle of racial harmony and brotherly love - and further irony is added by the fact that the movie is set in the city that was the home of Rodney King and glorifies the Police Department that did so much towards community relations with their brutal racist behaviour. So Donner's salt and pepper pairing who clearly have a late = developing teenage crush on one another do their own thing with fine disregard for the rule of law or the rules of evidence and no one worries because the bad guys are white South Africans - surely a worrying example of police racism in itself? Inside Rudd's (Joss Ackland - eminently hissable) office the decor is designed and lit to resemble as far as possible the Fuhrerbunker and just in case some rather dumb moviegoers miss the point,he and his men are referred to as \"nazis\" at regular intervals. For me the only bright spot in the movie was when Mel Gibson turned up at an anti - apartheid demonstration carrying a banner bearing the inscription \"End Aparthied Now\". The intensely irritating Joe Pesci is introduced into the franchise to take some of the weight off the boys' shoulders by following them around yapping incessantly like a badly-trained puppy.This would be bearable if there was the remotest possibility of him ending up in a concrete overcoat,but sadly he survives to irritate another day. Miss Patsy Kensit seems in a world of her own,perhaps not believing her luck at being cast opposite Mel Gibson who has little trouble sweeping her into bed in his mobile home which appears to have been washed up on a beach somewhere.Shortly after consummating their affair they come under fire from a number of helicopters that fire enough rounds into Mel's caravan to keep the U.S. Army in Iraq going for six months. Fortunately he has [[a]] pet dog who is not afraid to cause coitus interruptus just as they are going for seconds and his barking warns them of the imminent attack.I hope he got a special bone as a reward. The [[film]] [[climaxes]](without interruption from Mel's dog) on a cargo ship bound for Nazi Germany (sorry,South Africa),when Mel and Danny murder so many members of the master race that I lost count.Despite jiggling around like Bonnie and Clyde under the impact of a hail of bullets,Mel survives,curled up in his partner's arms like a small child with a wise and benevolent father.Take that,Apartheid!\n",
            "\n",
            "Richard Donner [[laughs]] off his liberal credentials with [[some]] [[sometimes]] [[sometimes]] simplistic attack on the politics of South Africa.It's not as if America is the cradle of racial harmony and brotherly love - and further irony is added by the fact that the movie is set in the city that was the home of Rodney King and glorifies the Police Department that did so much towards community relations with their brutal racist behaviour. So Donner's salt and pepper pairing who clearly have a late = developing teenage crush on one another do their own thing with fine disregard for the rule of law or the rules of evidence and no one worries because the bad guys are white South Africans - surely a worrying example of police racism in itself? Inside Rudd's (Joss Ackland - eminently hissable) office the decor is designed and lit to resemble as far as possible the Fuhrerbunker and just in case some rather dumb moviegoers miss the point,he and his men are referred to as \"nazis\" at regular intervals. For me the only bright spot in the movie was when Mel Gibson turned up at an anti - apartheid demonstration carrying a banner bearing the inscription \"End Aparthied Now\". The intensely irritating Joe Pesci is introduced into the franchise to take some of the weight off the boys' shoulders by following them around yapping incessantly like a badly-trained puppy.This would be bearable if there was the remotest possibility of him ending up in a concrete overcoat,but sadly he survives to irritate another day. Miss Patsy Kensit seems in a world of her own,perhaps not believing her luck at being cast opposite Mel Gibson who has little trouble sweeping her into bed in his mobile home which appears to have been washed up on a beach somewhere.Shortly after consummating their affair they come under fire from a number of helicopters that fire enough rounds into Mel's caravan to keep the U.S. Army in Iraq going for six months. Fortunately he has [[this]] pet dog who is not afraid to cause coitus interruptus just as they are going for seconds and his barking warns them of the imminent attack.I hope he got a special bone as a reward. The [[book]] [[finishes]](without interruption from Mel's dog) on a cargo ship bound for Nazi Germany (sorry,South Africa),when Mel and Danny murder so many members of the master race that I lost count.Despite jiggling around like Bonnie and Clyde under the impact of a hail of bullets,Mel survives,curled up in his partner's arms like a small child with a wise and benevolent father.Take that,Apartheid!\n",
            "\n",
            "\n",
            "\n",
            "+-------------------------------+---------+\n",
            "| Attack Results                |         |\n",
            "+-------------------------------+---------+\n",
            "| Number of successful attacks: | 8       |\n",
            "| Number of failed attacks:     | 1       |\n",
            "| Number of skipped attacks:    | 1       |\n",
            "| Original accuracy:            | 90.0%   |\n",
            "| Accuracy under attack:        | 10.0%   |\n",
            "| Attack success rate:          | 88.89%  |\n",
            "| Average perturbed word %:     | 2.05%   |\n",
            "| Average num. words per input: | 322.6   |\n",
            "| Avg num queries:              | 4159.89 |\n",
            "+-------------------------------+---------+\n"
          ]
        },
        {
          "output_type": "stream",
          "name": "stderr",
          "text": [
            "\n"
          ]
        }
      ]
    },
    {
      "cell_type": "code",
      "source": [
        "display_results(adv_ex_besa_bert_imdb, \"besa_results_imdb.html\")"
      ],
      "metadata": {
        "colab": {
          "base_uri": "https://localhost:8080/"
        },
        "id": "RuWNOi1bi0YG",
        "outputId": "b5dace14-2da9-4ac3-fa13-b71390577091"
      },
      "execution_count": null,
      "outputs": [
        {
          "output_type": "stream",
          "name": "stderr",
          "text": [
            "textattack: Logging to CSV at path results.csv\n",
            "textattack: CSVLogger exiting without calling flush().\n"
          ]
        }
      ]
    },
    {
      "cell_type": "code",
      "source": [
        "original_embeddings, adv_embeddings = get_use_embeddings(use,\n",
        "                                                         adv_ex_besa_bert_imdb)\n",
        "\n",
        "print(f\"Average cosine similarity {get_avg_cosine_sim(original_embeddings,adv_embeddings)}\")\n",
        "\n",
        "cosine_sim = get_cosine_sim(original_embeddings,adv_embeddings)\n",
        "datasets['imdb'] = create_use_data(original_embeddings.tolist(),\n",
        "                                   adv_embeddings.tolist(),\n",
        "                                   cosine_sim)"
      ],
      "metadata": {
        "colab": {
          "base_uri": "https://localhost:8080/"
        },
        "id": "-AOHyRsrDkXM",
        "outputId": "324a7feb-715e-41ea-e5ee-cbf1a3963da7"
      },
      "execution_count": null,
      "outputs": [
        {
          "output_type": "stream",
          "name": "stdout",
          "text": [
            "Average cosine similarity 0.9896050691604614\n"
          ]
        }
      ]
    },
    {
      "cell_type": "code",
      "source": [
        "min_embedding_distances = get_min_words_distance(word_embedding,\n",
        "                                                 adv_ex_besa_bert_imdb)\n",
        "\n",
        "for i,med in enumerate(min_embedding_distances):\n",
        "    print(f\"Adv example: {i}\")\n",
        "    print(f\"Original word: {med[0]}\")\n",
        "    print(f\"Perturbed word: {med[1]}\")\n",
        "    print(f\"Minimum Cosine similarity among words: {med[2]}\")\n",
        "    print()"
      ],
      "metadata": {
        "colab": {
          "base_uri": "https://localhost:8080/"
        },
        "id": "DdwsycTji3_-",
        "outputId": "d4e187ec-4832-4909-888c-4a2fa39ccb1e"
      },
      "execution_count": null,
      "outputs": [
        {
          "output_type": "stream",
          "name": "stdout",
          "text": [
            "Adv example: 0\n",
            "Original word: bad\n",
            "Perturbed word: good\n",
            "Minimum Cosine similarity among words: -0.0030777789652347565\n",
            "\n",
            "Adv example: 1\n",
            "Original word: bad\n",
            "Perturbed word: satisfying\n",
            "Minimum Cosine similarity among words: 0.03504979610443115\n",
            "\n",
            "Adv example: 2\n",
            "Original word: disappointment\n",
            "Perturbed word: treat\n",
            "Minimum Cosine similarity among words: 0.0031861625611782074\n",
            "\n",
            "Adv example: 3\n",
            "Original word: wrong\n",
            "Perturbed word: different\n",
            "Minimum Cosine similarity among words: 0.05091297999024391\n",
            "\n",
            "Adv example: 4\n",
            "Original word: less\n",
            "Perturbed word: more\n",
            "Minimum Cosine similarity among words: -0.12176220118999481\n",
            "\n",
            "Adv example: 5\n",
            "Original word: counts\n",
            "Perturbed word: kills\n",
            "Minimum Cosine similarity among words: 0.1975342035293579\n",
            "\n",
            "Adv example: 6\n",
            "Original word: shooting\n",
            "Perturbed word: noir\n",
            "Minimum Cosine similarity among words: 0.0056177712976932526\n",
            "\n",
            "Adv example: 7\n",
            "Original word: shows\n",
            "Perturbed word: laughs\n",
            "Minimum Cosine similarity among words: -0.012766800820827484\n",
            "\n"
          ]
        }
      ]
    },
    {
      "cell_type": "markdown",
      "source": [
        "### Yelp polarity"
      ],
      "metadata": {
        "id": "LU684wjqzGXm"
      }
    },
    {
      "cell_type": "code",
      "source": [
        "attack = BESAYang2020.build(bert_yelp)\n",
        "attack_args = textattack.AttackArgs(num_examples=-1,\n",
        "                                    shuffle=True,\n",
        "                                    disable_stdout = True)\n",
        "attacker = Attacker(attack, yelp_polarity, attack_args)\n",
        "adv_ex_besa_bert_yelp = attacker.attack_dataset()"
      ],
      "metadata": {
        "colab": {
          "base_uri": "https://localhost:8080/"
        },
        "id": "gJXG5dgVzHuL",
        "outputId": "f7ef379f-df17-4523-b0b7-5419f3fcceeb"
      },
      "execution_count": null,
      "outputs": [
        {
          "output_type": "stream",
          "name": "stderr",
          "text": [
            "Some weights of the model checkpoint at bert-base-uncased were not used when initializing BertForMaskedLM: ['bert.pooler.dense.bias', 'bert.pooler.dense.weight', 'cls.seq_relationship.bias', 'cls.seq_relationship.weight']\n",
            "- This IS expected if you are initializing BertForMaskedLM from the checkpoint of a model trained on another task or with another architecture (e.g. initializing a BertForSequenceClassification model from a BertForPreTraining model).\n",
            "- This IS NOT expected if you are initializing BertForMaskedLM from the checkpoint of a model that you expect to be exactly identical (initializing a BertForSequenceClassification model from a BertForSequenceClassification model).\n",
            "textattack: Unknown if model of class <class 'transformers.models.bert.modeling_bert.BertForSequenceClassification'> compatible with goal function <class 'textattack.goal_functions.classification.untargeted_classification.UntargetedClassification'>.\n"
          ]
        },
        {
          "output_type": "stream",
          "name": "stdout",
          "text": [
            "Attack(\n",
            "  (search_method): SimulatedAnnealing(\n",
            "    (max_temp):  100.0\n",
            "    (max_iter):  10\n",
            "    (K):  10\n",
            "    (radius):  3\n",
            "    (delta):  0.01\n",
            "  )\n",
            "  (goal_function):  UntargetedClassification\n",
            "  (transformation):  WordSwapMaskedLM(\n",
            "    (method):  bae\n",
            "    (masked_lm_name):  BertForMaskedLM\n",
            "    (max_length):  512\n",
            "    (max_candidates):  50\n",
            "    (min_confidence):  0.0005\n",
            "  )\n",
            "  (constraints): \n",
            "    (0): PartOfSpeech(\n",
            "        (tagger_type):  nltk\n",
            "        (tagset):  universal\n",
            "        (allow_verb_noun_swap):  True\n",
            "        (compare_against_original):  True\n",
            "      )\n",
            "    (1): UniversalSentenceEncoder(\n",
            "        (metric):  cosine\n",
            "        (threshold):  0.9\n",
            "        (window_size):  15\n",
            "        (skip_text_shorter_than_window):  False\n",
            "        (compare_against_original):  True\n",
            "      )\n",
            "  (is_black_box):  True\n",
            ") \n",
            "\n"
          ]
        },
        {
          "output_type": "stream",
          "name": "stderr",
          "text": [
            "[Succeeded / Failed / Skipped / Total] 7 / 3 / 0 / 10: 100%|██████████| 10/10 [10:35<00:00, 63.59s/it]"
          ]
        },
        {
          "output_type": "stream",
          "name": "stdout",
          "text": [
            "\n",
            "+-------------------------------+--------+\n",
            "| Attack Results                |        |\n",
            "+-------------------------------+--------+\n",
            "| Number of successful attacks: | 7      |\n",
            "| Number of failed attacks:     | 3      |\n",
            "| Number of skipped attacks:    | 0      |\n",
            "| Original accuracy:            | 100.0% |\n",
            "| Accuracy under attack:        | 30.0%  |\n",
            "| Attack success rate:          | 70.0%  |\n",
            "| Average perturbed word %:     | 8.37%  |\n",
            "| Average num. words per input: | 113.3  |\n",
            "| Avg num queries:              | 1216.8 |\n",
            "+-------------------------------+--------+\n"
          ]
        },
        {
          "output_type": "stream",
          "name": "stderr",
          "text": [
            "\n"
          ]
        }
      ]
    },
    {
      "cell_type": "code",
      "source": [
        "display_results(adv_ex_besa_bert_yelp, \"besa_results_yelp.html\")"
      ],
      "metadata": {
        "id": "qTB30IUum0Gd"
      },
      "execution_count": null,
      "outputs": []
    },
    {
      "cell_type": "code",
      "source": [
        "original_embeddings, adv_embeddings = get_use_embeddings(use,\n",
        "                                                         adv_ex_besa_bert_yelp)\n",
        "\n",
        "print(f\"Average cosine similarity {get_avg_cosine_sim(original_embeddings,adv_embeddings)}\")\n",
        "\n",
        "cosine_sim = get_cosine_sim(original_embeddings,adv_embeddings)\n",
        "datasets['yelp'] = create_use_data(original_embeddings.tolist(),\n",
        "                                   adv_embeddings.tolist(),\n",
        "                                   cosine_sim)"
      ],
      "metadata": {
        "id": "5vvNzHpNnArp"
      },
      "execution_count": null,
      "outputs": []
    },
    {
      "cell_type": "code",
      "source": [
        "min_embedding_distances = get_min_words_distance(word_embedding,\n",
        "                                                 adv_ex_besa_bert_yelp)\n",
        "\n",
        "for i,med in enumerate(min_embedding_distances):\n",
        "    print(f\"Adv example: {i}\")\n",
        "    print(f\"Original word: {med[0]}\")\n",
        "    print(f\"Perturbed word: {med[1]}\")\n",
        "    print(f\"Minimum Cosine similarity among words: {med[2]}\")\n",
        "    print()"
      ],
      "metadata": {
        "id": "YCdF0d1ynC55"
      },
      "execution_count": null,
      "outputs": []
    },
    {
      "cell_type": "markdown",
      "source": [
        "### AG news"
      ],
      "metadata": {
        "id": "npvrWpsP_ufN"
      }
    },
    {
      "cell_type": "code",
      "source": [
        "attack = BESAYang2020.build(bert_ag)\n",
        "attack_args = textattack.AttackArgs(num_examples=-1,\n",
        "                                    shuffle=True,\n",
        "                                    disable_stdout = True)\n",
        "attacker = Attacker(attack, ag_news, attack_args)\n",
        "adv_ex_besa_bert_ag = attacker.attack_dataset()"
      ],
      "metadata": {
        "colab": {
          "base_uri": "https://localhost:8080/"
        },
        "id": "b4wvUr8yACfV",
        "outputId": "7f20689d-b4e2-4b95-e346-5809eacfdcc7"
      },
      "execution_count": null,
      "outputs": [
        {
          "output_type": "stream",
          "name": "stderr",
          "text": [
            "Some weights of the model checkpoint at bert-base-uncased were not used when initializing BertForMaskedLM: ['bert.pooler.dense.bias', 'bert.pooler.dense.weight', 'cls.seq_relationship.bias', 'cls.seq_relationship.weight']\n",
            "- This IS expected if you are initializing BertForMaskedLM from the checkpoint of a model trained on another task or with another architecture (e.g. initializing a BertForSequenceClassification model from a BertForPreTraining model).\n",
            "- This IS NOT expected if you are initializing BertForMaskedLM from the checkpoint of a model that you expect to be exactly identical (initializing a BertForSequenceClassification model from a BertForSequenceClassification model).\n",
            "textattack: Unknown if model of class <class 'transformers.models.bert.modeling_bert.BertForSequenceClassification'> compatible with goal function <class 'textattack.goal_functions.classification.untargeted_classification.UntargetedClassification'>.\n"
          ]
        },
        {
          "output_type": "stream",
          "name": "stdout",
          "text": [
            "Attack(\n",
            "  (search_method): SimulatedAnnealing(\n",
            "    (max_temp):  100.0\n",
            "    (max_iter):  10\n",
            "    (K):  10\n",
            "    (radius):  3\n",
            "    (delta):  0.01\n",
            "  )\n",
            "  (goal_function):  UntargetedClassification\n",
            "  (transformation):  WordSwapMaskedLM(\n",
            "    (method):  bae\n",
            "    (masked_lm_name):  BertForMaskedLM\n",
            "    (max_length):  512\n",
            "    (max_candidates):  50\n",
            "    (min_confidence):  0.0005\n",
            "  )\n",
            "  (constraints): \n",
            "    (0): PartOfSpeech(\n",
            "        (tagger_type):  nltk\n",
            "        (tagset):  universal\n",
            "        (allow_verb_noun_swap):  True\n",
            "        (compare_against_original):  True\n",
            "      )\n",
            "    (1): UniversalSentenceEncoder(\n",
            "        (metric):  cosine\n",
            "        (threshold):  0.9\n",
            "        (window_size):  15\n",
            "        (skip_text_shorter_than_window):  False\n",
            "        (compare_against_original):  True\n",
            "      )\n",
            "  (is_black_box):  True\n",
            ") \n",
            "\n"
          ]
        },
        {
          "output_type": "stream",
          "name": "stderr",
          "text": [
            "[Succeeded / Failed / Skipped / Total] 5 / 4 / 1 / 10: 100%|██████████| 10/10 [04:32<00:00, 27.27s/it]"
          ]
        },
        {
          "output_type": "stream",
          "name": "stdout",
          "text": [
            "\n",
            "+-------------------------------+--------+\n",
            "| Attack Results                |        |\n",
            "+-------------------------------+--------+\n",
            "| Number of successful attacks: | 5      |\n",
            "| Number of failed attacks:     | 4      |\n",
            "| Number of skipped attacks:    | 1      |\n",
            "| Original accuracy:            | 90.0%  |\n",
            "| Accuracy under attack:        | 40.0%  |\n",
            "| Attack success rate:          | 55.56% |\n",
            "| Average perturbed word %:     | 21.73% |\n",
            "| Average num. words per input: | 39.3   |\n",
            "| Avg num queries:              | 707.11 |\n",
            "+-------------------------------+--------+\n"
          ]
        },
        {
          "output_type": "stream",
          "name": "stderr",
          "text": [
            "\n"
          ]
        }
      ]
    },
    {
      "cell_type": "code",
      "source": [
        "display_results(adv_ex_besa_bert_ag, \"besa_results_ag.html\")"
      ],
      "metadata": {
        "id": "fUj2A3ZmnJ3t"
      },
      "execution_count": null,
      "outputs": []
    },
    {
      "cell_type": "code",
      "source": [
        "original_embeddings, adv_embeddings = get_use_embeddings(use,\n",
        "                                                         adv_ex_besa_bert_ag)\n",
        "\n",
        "print(f\"Average cosine similarity {get_avg_cosine_sim(original_embeddings,adv_embeddings)}\")\n",
        "\n",
        "cosine_sim = get_cosine_sim(original_embeddings,adv_embeddings)\n",
        "datasets['ag_news'] = create_use_data(original_embeddings.tolist(),\n",
        "                                   adv_embeddings.tolist(),\n",
        "                                   cosine_sim)"
      ],
      "metadata": {
        "id": "9FLUasvjnNwE"
      },
      "execution_count": null,
      "outputs": []
    },
    {
      "cell_type": "code",
      "source": [
        "min_embedding_distances = get_min_words_distance(word_embedding,\n",
        "                                                 adv_ex_besa_bert_ag)\n",
        "\n",
        "for i,med in enumerate(min_embedding_distances):\n",
        "    print(f\"Adv example: {i}\")\n",
        "    print(f\"Original word: {med[0]}\")\n",
        "    print(f\"Perturbed word: {med[1]}\")\n",
        "    print(f\"Minimum Cosine similarity among words: {med[2]}\")\n",
        "    print()"
      ],
      "metadata": {
        "id": "HvBr37O1nSoM"
      },
      "execution_count": null,
      "outputs": []
    },
    {
      "cell_type": "code",
      "source": [
        "models['SA'] = datasets.copy()\n",
        "datasets.clear()"
      ],
      "metadata": {
        "id": "arqH8st4-KBm"
      },
      "execution_count": null,
      "outputs": []
    },
    {
      "cell_type": "markdown",
      "source": [
        "## TextBugger"
      ],
      "metadata": {
        "id": "3e0BX6ZziNzV"
      }
    },
    {
      "cell_type": "code",
      "source": [
        "from textattack.attack_recipes import TextBuggerLi2018"
      ],
      "metadata": {
        "id": "FfnyBF5DpUIz"
      },
      "execution_count": null,
      "outputs": []
    },
    {
      "cell_type": "markdown",
      "source": [
        "### IMDB"
      ],
      "metadata": {
        "id": "97vi35v0niPF"
      }
    },
    {
      "cell_type": "code",
      "source": [
        "text_bugger = TextBuggerLi2018.build(bert_imdb)\n",
        "attack_args = textattack.AttackArgs(num_examples=-1, parallel = True,\n",
        "                                    shuffle=True,\n",
        "                                    disable_stdout = True)\n",
        "attacker = Attacker(text_bugger, imdb, attack_args)\n",
        "adv_ex_tb_bert_imdb = attacker.attack_dataset()"
      ],
      "metadata": {
        "id": "E1eIOfzHiRlG",
        "colab": {
          "base_uri": "https://localhost:8080/"
        },
        "outputId": "7cacd8c1-cd16-4d5b-bd21-6e6e18f718f0"
      },
      "execution_count": null,
      "outputs": [
        {
          "output_type": "stream",
          "name": "stderr",
          "text": [
            "textattack: Unknown if model of class <class 'transformers.models.bert.modeling_bert.BertForSequenceClassification'> compatible with goal function <class 'textattack.goal_functions.classification.untargeted_classification.UntargetedClassification'>.\n",
            "textattack: Running 1 worker(s) on 1 GPU(s).\n",
            "textattack: Worklist size: 10\n",
            "textattack: Worklist candidate size: 0\n",
            "[Succeeded / Failed / Skipped / Total] 10 / 0 / 0 / 10: 100%|██████████| 10/10 [02:15<00:00, 13.52s/it]"
          ]
        },
        {
          "output_type": "stream",
          "name": "stdout",
          "text": [
            "\n",
            "+-------------------------------+--------+\n",
            "| Attack Results                |        |\n",
            "+-------------------------------+--------+\n",
            "| Number of successful attacks: | 10     |\n",
            "| Number of failed attacks:     | 0      |\n",
            "| Number of skipped attacks:    | 0      |\n",
            "| Original accuracy:            | 100.0% |\n",
            "| Accuracy under attack:        | 0.0%   |\n",
            "| Attack success rate:          | 100.0% |\n",
            "| Average perturbed word %:     | 27.88% |\n",
            "| Average num. words per input: | 201.2  |\n",
            "| Avg num queries:              | 269.7  |\n",
            "+-------------------------------+--------+\n"
          ]
        },
        {
          "output_type": "stream",
          "name": "stderr",
          "text": [
            "\n"
          ]
        }
      ]
    },
    {
      "cell_type": "code",
      "source": [
        "display_results(adv_ex_tb_bert_imdb, \"tb_results_imdb.html\")"
      ],
      "metadata": {
        "colab": {
          "base_uri": "https://localhost:8080/"
        },
        "id": "oSKtXceMsp75",
        "outputId": "3bffb227-49e6-4115-ed2f-d2207f01eb20"
      },
      "execution_count": null,
      "outputs": [
        {
          "output_type": "stream",
          "name": "stderr",
          "text": [
            "textattack: Logging to CSV at path results.csv\n",
            "textattack: CSVLogger exiting without calling flush().\n"
          ]
        }
      ]
    },
    {
      "cell_type": "code",
      "source": [
        "# Compute avg cosine similarity between original and adversarial sentences\n",
        "# (According to Universal Sentence Encoding embeddings)\n",
        "\n",
        "original_embeddings, adv_embeddings = get_use_embeddings(use,\n",
        "                                                         adv_ex_tb_bert_imdb)\n",
        "\n",
        "print(f\"Average cosine similarity {get_avg_cosine_sim(original_embeddings,adv_embeddings)}\")"
      ],
      "metadata": {
        "colab": {
          "base_uri": "https://localhost:8080/"
        },
        "id": "BOdnodyItX8L",
        "outputId": "268b9a7a-1d2f-4ba6-f581-94bd91b55b56"
      },
      "execution_count": null,
      "outputs": [
        {
          "output_type": "stream",
          "name": "stdout",
          "text": [
            "Average cosine similarity 0.9427606463432312\n"
          ]
        }
      ]
    },
    {
      "cell_type": "code",
      "source": [
        "#Transferability\n",
        "tb_original_acc_lstm, tb_adv_acc_lstm = transfer_attack(lstm_imdb_wrapper,\n",
        "                                                          adv_ex_tb_bert_imdb)"
      ],
      "metadata": {
        "id": "24Pc3qcPfWQw"
      },
      "execution_count": null,
      "outputs": []
    },
    {
      "cell_type": "code",
      "source": [
        "print(f\"Original accuracy lstm: {tb_original_acc_lstm}\")\n",
        "print(f\"Accuracy after the attack lstm: {tb_adv_acc_lstm}\")"
      ],
      "metadata": {
        "colab": {
          "base_uri": "https://localhost:8080/"
        },
        "id": "UQUYzA1RfYTD",
        "outputId": "b9333c3c-4bf8-4742-8b2c-8284d6df9c29"
      },
      "execution_count": null,
      "outputs": [
        {
          "output_type": "stream",
          "name": "stdout",
          "text": [
            "Original accuracy lstm: 0.9\n",
            "Accuracy after the attack lstm: 0.7\n"
          ]
        }
      ]
    },
    {
      "cell_type": "markdown",
      "source": [
        "## Charts / Plots"
      ],
      "metadata": {
        "id": "OeOc5lbTsjgx"
      }
    },
    {
      "cell_type": "code",
      "source": [
        "dictToJSON(models)"
      ],
      "metadata": {
        "id": "5X8hYjU9A2Fk"
      },
      "execution_count": 49,
      "outputs": []
    },
    {
      "cell_type": "code",
      "source": [
        "box_plots_data = []\n",
        "\n",
        "for model in models.keys():\n",
        "    cosine_similarities = []\n",
        "    datasets_i = models[model]\n",
        "    for dataset in datasets_i.keys():\n",
        "        cosine_similarities += datasets_i[dataset]['cosine_sim']\n",
        "    box_plots_data.append(cosine_similarities)"
      ],
      "metadata": {
        "id": "K5-AY9X0BDxv"
      },
      "execution_count": 55,
      "outputs": []
    },
    {
      "cell_type": "code",
      "source": [
        "import matplotlib.pyplot as plt\n",
        "\n",
        "# Create a figure and an axis\n",
        "fig, ax = plt.subplots()\n",
        "\n",
        "# Create the box plots\n",
        "ax.boxplot(box_plots_data)\n",
        "\n",
        "# Set the labels for the x-axis\n",
        "ax.set_xticklabels(['BAE', 'DeepWordBug'])\n",
        "\n",
        "# Add title and labels\n",
        "ax.set_title('USE score')\n",
        "ax.set_xlabel('Adversarial algorithms')\n",
        "ax.set_ylabel('Use scores')\n",
        "\n",
        "# Show the plot\n",
        "plt.show()"
      ],
      "metadata": {
        "id": "hGpj3KBFhUWF",
        "outputId": "03bc559b-84d9-47f4-b3c3-08b357fa79b5",
        "colab": {
          "base_uri": "https://localhost:8080/",
          "height": 472
        }
      },
      "execution_count": 56,
      "outputs": [
        {
          "output_type": "display_data",
          "data": {
            "text/plain": [
              "<Figure size 640x480 with 1 Axes>"
            ],
            "image/png": "[encoded data removed]"
          },
          "metadata": {}
        }
      ]
    },
    {
      "cell_type": "markdown",
      "source": [
        "## New attack"
      ],
      "metadata": {
        "id": "2A7Kkl0F2CHP"
      }
    }
  ]
}