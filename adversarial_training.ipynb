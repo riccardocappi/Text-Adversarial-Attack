{
 "nbformat": 4,
 "nbformat_minor": 0,
 "metadata": {
  "colab": {
   "provenance": [],
   "gpuType": "T4",
   "include_colab_link": true
  },
  "kernelspec": {
   "name": "python3",
   "display_name": "Python 3"
  },
  "language_info": {
   "name": "python"
  },
  "accelerator": "GPU"
 },
 "cells": [
  {
   "cell_type": "markdown",
   "metadata": {
    "id": "view-in-github",
    "colab_type": "text"
   },
   "source": [
    "<a href=\"https://colab.research.google.com/github/riccardocappi/Text-Adversarial-Attack/blob/adversarial-training/adversarial_training.ipynb\" target=\"_parent\"><img src=\"https://colab.research.google.com/assets/colab-badge.svg\" alt=\"Open In Colab\"/></a>"
   ]
  },
  {
   "cell_type": "markdown",
   "source": [
    "## Dependencies"
   ],
   "metadata": {
    "id": "Bc9BVpsSmZBC"
   }
  },
  {
   "cell_type": "code",
   "metadata": {
    "id": "XUDjgWcpx3TW",
    "colab": {
     "base_uri": "https://localhost:8080/"
    },
    "outputId": "bddc71a0-62f6-41e1-cbed-6f0214092f20",
    "ExecuteTime": {
     "end_time": "2024-05-10T15:59:20.041306Z",
     "start_time": "2024-05-10T15:59:19.221295Z"
    }
   },
   "source": [
    "from builtins import len\n",
    "!pip install textattack"
   ],
   "outputs": [
    {
     "output_type": "stream",
     "name": "stdout",
     "text": [
      "Collecting textattack\n",
      "  Downloading textattack-0.3.10-py3-none-any.whl (445 kB)\n",
      "\u001B[2K     \u001B[90m━━━━━━━━━━━━━━━━━━━━━━━━━━━━━━━━━━━━━━━━\u001B[0m \u001B[32m445.7/445.7 kB\u001B[0m \u001B[31m3.6 MB/s\u001B[0m eta \u001B[36m0:00:00\u001B[0m\n",
      "\u001B[?25hCollecting bert-score>=0.3.5 (from textattack)\n",
      "  Downloading bert_score-0.3.13-py3-none-any.whl (61 kB)\n",
      "\u001B[2K     \u001B[90m━━━━━━━━━━━━━━━━━━━━━━━━━━━━━━━━━━━━━━━━\u001B[0m \u001B[32m61.1/61.1 kB\u001B[0m \u001B[31m7.2 MB/s\u001B[0m eta \u001B[36m0:00:00\u001B[0m\n",
      "\u001B[?25hRequirement already satisfied: editdistance in /usr/local/lib/python3.10/dist-packages (from textattack) (0.6.2)\n",
      "Collecting flair (from textattack)\n",
      "  Downloading flair-0.13.1-py3-none-any.whl (388 kB)\n",
      "\u001B[2K     \u001B[90m━━━━━━━━━━━━━━━━━━━━━━━━━━━━━━━━━━━━━━━━\u001B[0m \u001B[32m388.3/388.3 kB\u001B[0m \u001B[31m26.3 MB/s\u001B[0m eta \u001B[36m0:00:00\u001B[0m\n",
      "\u001B[?25hRequirement already satisfied: filelock in /usr/local/lib/python3.10/dist-packages (from textattack) (3.14.0)\n",
      "Collecting language-tool-python (from textattack)\n",
      "  Downloading language_tool_python-2.8-py3-none-any.whl (35 kB)\n",
      "Collecting lemminflect (from textattack)\n",
      "  Downloading lemminflect-0.2.3-py3-none-any.whl (769 kB)\n",
      "\u001B[2K     \u001B[90m━━━━━━━━━━━━━━━━━━━━━━━━━━━━━━━━━━━━━━━━\u001B[0m \u001B[32m769.7/769.7 kB\u001B[0m \u001B[31m37.1 MB/s\u001B[0m eta \u001B[36m0:00:00\u001B[0m\n",
      "\u001B[?25hCollecting lru-dict (from textattack)\n",
      "  Downloading lru_dict-1.3.0-cp310-cp310-manylinux_2_5_x86_64.manylinux1_x86_64.manylinux_2_17_x86_64.manylinux2014_x86_64.whl (30 kB)\n",
      "Collecting datasets>=2.4.0 (from textattack)\n",
      "  Downloading datasets-2.19.1-py3-none-any.whl (542 kB)\n",
      "\u001B[2K     \u001B[90m━━━━━━━━━━━━━━━━━━━━━━━━━━━━━━━━━━━━━━━━\u001B[0m \u001B[32m542.0/542.0 kB\u001B[0m \u001B[31m46.6 MB/s\u001B[0m eta \u001B[36m0:00:00\u001B[0m\n",
      "\u001B[?25hRequirement already satisfied: nltk in /usr/local/lib/python3.10/dist-packages (from textattack) (3.8.1)\n",
      "Requirement already satisfied: numpy>=1.21.0 in /usr/local/lib/python3.10/dist-packages (from textattack) (1.25.2)\n",
      "Requirement already satisfied: pandas>=1.0.1 in /usr/local/lib/python3.10/dist-packages (from textattack) (2.0.3)\n",
      "Requirement already satisfied: scipy>=1.4.1 in /usr/local/lib/python3.10/dist-packages (from textattack) (1.11.4)\n",
      "Requirement already satisfied: torch!=1.8,>=1.7.0 in /usr/local/lib/python3.10/dist-packages (from textattack) (2.2.1+cu121)\n",
      "Requirement already satisfied: transformers>=4.30.0 in /usr/local/lib/python3.10/dist-packages (from textattack) (4.40.2)\n",
      "Collecting terminaltables (from textattack)\n",
      "  Downloading terminaltables-3.1.10-py2.py3-none-any.whl (15 kB)\n",
      "Requirement already satisfied: tqdm in /usr/local/lib/python3.10/dist-packages (from textattack) (4.66.4)\n",
      "Collecting word2number (from textattack)\n",
      "  Downloading word2number-1.1.zip (9.7 kB)\n",
      "  Preparing metadata (setup.py) ... \u001B[?25l\u001B[?25hdone\n",
      "Collecting num2words (from textattack)\n",
      "  Downloading num2words-0.5.13-py3-none-any.whl (143 kB)\n",
      "\u001B[2K     \u001B[90m━━━━━━━━━━━━━━━━━━━━━━━━━━━━━━━━━━━━━━━━\u001B[0m \u001B[32m143.3/143.3 kB\u001B[0m \u001B[31m3.3 MB/s\u001B[0m eta \u001B[36m0:00:00\u001B[0m\n",
      "\u001B[?25hRequirement already satisfied: more-itertools in /usr/local/lib/python3.10/dist-packages (from textattack) (10.1.0)\n",
      "Collecting pinyin>=0.4.0 (from textattack)\n",
      "  Downloading pinyin-0.4.0.tar.gz (3.6 MB)\n",
      "\u001B[2K     \u001B[90m━━━━━━━━━━━━━━━━━━━━━━━━━━━━━━━━━━━━━━━━\u001B[0m \u001B[32m3.6/3.6 MB\u001B[0m \u001B[31m26.2 MB/s\u001B[0m eta \u001B[36m0:00:00\u001B[0m\n",
      "\u001B[?25h  Preparing metadata (setup.py) ... \u001B[?25l\u001B[?25hdone\n",
      "Requirement already satisfied: jieba in /usr/local/lib/python3.10/dist-packages (from textattack) (0.42.1)\n",
      "Collecting OpenHowNet (from textattack)\n",
      "  Downloading OpenHowNet-2.0-py3-none-any.whl (18 kB)\n",
      "Requirement already satisfied: requests in /usr/local/lib/python3.10/dist-packages (from bert-score>=0.3.5->textattack) (2.31.0)\n",
      "Requirement already satisfied: matplotlib in /usr/local/lib/python3.10/dist-packages (from bert-score>=0.3.5->textattack) (3.7.1)\n",
      "Requirement already satisfied: packaging>=20.9 in /usr/local/lib/python3.10/dist-packages (from bert-score>=0.3.5->textattack) (24.0)\n",
      "Requirement already satisfied: pyarrow>=12.0.0 in /usr/local/lib/python3.10/dist-packages (from datasets>=2.4.0->textattack) (14.0.2)\n",
      "Requirement already satisfied: pyarrow-hotfix in /usr/local/lib/python3.10/dist-packages (from datasets>=2.4.0->textattack) (0.6)\n",
      "Collecting dill<0.3.9,>=0.3.0 (from datasets>=2.4.0->textattack)\n",
      "  Downloading dill-0.3.8-py3-none-any.whl (116 kB)\n",
      "\u001B[2K     \u001B[90m━━━━━━━━━━━━━━━━━━━━━━━━━━━━━━━━━━━━━━━━\u001B[0m \u001B[32m116.3/116.3 kB\u001B[0m \u001B[31m19.2 MB/s\u001B[0m eta \u001B[36m0:00:00\u001B[0m\n",
      "\u001B[?25hCollecting xxhash (from datasets>=2.4.0->textattack)\n",
      "  Downloading xxhash-3.4.1-cp310-cp310-manylinux_2_17_x86_64.manylinux2014_x86_64.whl (194 kB)\n",
      "\u001B[2K     \u001B[90m━━━━━━━━━━━━━━━━━━━━━━━━━━━━━━━━━━━━━━━━\u001B[0m \u001B[32m194.1/194.1 kB\u001B[0m \u001B[31m22.1 MB/s\u001B[0m eta \u001B[36m0:00:00\u001B[0m\n",
      "\u001B[?25hCollecting multiprocess (from datasets>=2.4.0->textattack)\n",
      "  Downloading multiprocess-0.70.16-py310-none-any.whl (134 kB)\n",
      "\u001B[2K     \u001B[90m━━━━━━━━━━━━━━━━━━━━━━━━━━━━━━━━━━━━━━━━\u001B[0m \u001B[32m134.8/134.8 kB\u001B[0m \u001B[31m21.9 MB/s\u001B[0m eta \u001B[36m0:00:00\u001B[0m\n",
      "\u001B[?25hRequirement already satisfied: fsspec[http]<=2024.3.1,>=2023.1.0 in /usr/local/lib/python3.10/dist-packages (from datasets>=2.4.0->textattack) (2023.6.0)\n",
      "Requirement already satisfied: aiohttp in /usr/local/lib/python3.10/dist-packages (from datasets>=2.4.0->textattack) (3.9.5)\n",
      "Collecting huggingface-hub>=0.21.2 (from datasets>=2.4.0->textattack)\n",
      "  Downloading huggingface_hub-0.23.0-py3-none-any.whl (401 kB)\n",
      "\u001B[2K     \u001B[90m━━━━━━━━━━━━━━━━━━━━━━━━━━━━━━━━━━━━━━━━\u001B[0m \u001B[32m401.2/401.2 kB\u001B[0m \u001B[31m29.0 MB/s\u001B[0m eta \u001B[36m0:00:00\u001B[0m\n",
      "\u001B[?25hRequirement already satisfied: pyyaml>=5.1 in /usr/local/lib/python3.10/dist-packages (from datasets>=2.4.0->textattack) (6.0.1)\n",
      "Requirement already satisfied: python-dateutil>=2.8.2 in /usr/local/lib/python3.10/dist-packages (from pandas>=1.0.1->textattack) (2.8.2)\n",
      "Requirement already satisfied: pytz>=2020.1 in /usr/local/lib/python3.10/dist-packages (from pandas>=1.0.1->textattack) (2023.4)\n",
      "Requirement already satisfied: tzdata>=2022.1 in /usr/local/lib/python3.10/dist-packages (from pandas>=1.0.1->textattack) (2024.1)\n",
      "Requirement already satisfied: typing-extensions>=4.8.0 in /usr/local/lib/python3.10/dist-packages (from torch!=1.8,>=1.7.0->textattack) (4.11.0)\n",
      "Requirement already satisfied: sympy in /usr/local/lib/python3.10/dist-packages (from torch!=1.8,>=1.7.0->textattack) (1.12)\n",
      "Requirement already satisfied: networkx in /usr/local/lib/python3.10/dist-packages (from torch!=1.8,>=1.7.0->textattack) (3.3)\n",
      "Requirement already satisfied: jinja2 in /usr/local/lib/python3.10/dist-packages (from torch!=1.8,>=1.7.0->textattack) (3.1.4)\n",
      "Collecting nvidia-cuda-nvrtc-cu12==12.1.105 (from torch!=1.8,>=1.7.0->textattack)\n",
      "  Using cached nvidia_cuda_nvrtc_cu12-12.1.105-py3-none-manylinux1_x86_64.whl (23.7 MB)\n",
      "Collecting nvidia-cuda-runtime-cu12==12.1.105 (from torch!=1.8,>=1.7.0->textattack)\n",
      "  Using cached nvidia_cuda_runtime_cu12-12.1.105-py3-none-manylinux1_x86_64.whl (823 kB)\n",
      "Collecting nvidia-cuda-cupti-cu12==12.1.105 (from torch!=1.8,>=1.7.0->textattack)\n",
      "  Using cached nvidia_cuda_cupti_cu12-12.1.105-py3-none-manylinux1_x86_64.whl (14.1 MB)\n",
      "Collecting nvidia-cudnn-cu12==8.9.2.26 (from torch!=1.8,>=1.7.0->textattack)\n",
      "  Using cached nvidia_cudnn_cu12-8.9.2.26-py3-none-manylinux1_x86_64.whl (731.7 MB)\n",
      "Collecting nvidia-cublas-cu12==12.1.3.1 (from torch!=1.8,>=1.7.0->textattack)\n",
      "  Using cached nvidia_cublas_cu12-12.1.3.1-py3-none-manylinux1_x86_64.whl (410.6 MB)\n",
      "Collecting nvidia-cufft-cu12==11.0.2.54 (from torch!=1.8,>=1.7.0->textattack)\n",
      "  Using cached nvidia_cufft_cu12-11.0.2.54-py3-none-manylinux1_x86_64.whl (121.6 MB)\n",
      "Collecting nvidia-curand-cu12==10.3.2.106 (from torch!=1.8,>=1.7.0->textattack)\n",
      "  Using cached nvidia_curand_cu12-10.3.2.106-py3-none-manylinux1_x86_64.whl (56.5 MB)\n",
      "Collecting nvidia-cusolver-cu12==11.4.5.107 (from torch!=1.8,>=1.7.0->textattack)\n",
      "  Using cached nvidia_cusolver_cu12-11.4.5.107-py3-none-manylinux1_x86_64.whl (124.2 MB)\n",
      "Collecting nvidia-cusparse-cu12==12.1.0.106 (from torch!=1.8,>=1.7.0->textattack)\n",
      "  Using cached nvidia_cusparse_cu12-12.1.0.106-py3-none-manylinux1_x86_64.whl (196.0 MB)\n",
      "Collecting nvidia-nccl-cu12==2.19.3 (from torch!=1.8,>=1.7.0->textattack)\n",
      "  Using cached nvidia_nccl_cu12-2.19.3-py3-none-manylinux1_x86_64.whl (166.0 MB)\n",
      "Collecting nvidia-nvtx-cu12==12.1.105 (from torch!=1.8,>=1.7.0->textattack)\n",
      "  Using cached nvidia_nvtx_cu12-12.1.105-py3-none-manylinux1_x86_64.whl (99 kB)\n",
      "Requirement already satisfied: triton==2.2.0 in /usr/local/lib/python3.10/dist-packages (from torch!=1.8,>=1.7.0->textattack) (2.2.0)\n",
      "Collecting nvidia-nvjitlink-cu12 (from nvidia-cusolver-cu12==11.4.5.107->torch!=1.8,>=1.7.0->textattack)\n",
      "  Using cached nvidia_nvjitlink_cu12-12.4.127-py3-none-manylinux2014_x86_64.whl (21.1 MB)\n",
      "Requirement already satisfied: regex!=2019.12.17 in /usr/local/lib/python3.10/dist-packages (from transformers>=4.30.0->textattack) (2023.12.25)\n",
      "Requirement already satisfied: tokenizers<0.20,>=0.19 in /usr/local/lib/python3.10/dist-packages (from transformers>=4.30.0->textattack) (0.19.1)\n",
      "Requirement already satisfied: safetensors>=0.4.1 in /usr/local/lib/python3.10/dist-packages (from transformers>=4.30.0->textattack) (0.4.3)\n",
      "Collecting boto3>=1.20.27 (from flair->textattack)\n",
      "  Downloading boto3-1.34.103-py3-none-any.whl (139 kB)\n",
      "\u001B[2K     \u001B[90m━━━━━━━━━━━━━━━━━━━━━━━━━━━━━━━━━━━━━━━━\u001B[0m \u001B[32m139.3/139.3 kB\u001B[0m \u001B[31m19.9 MB/s\u001B[0m eta \u001B[36m0:00:00\u001B[0m\n",
      "\u001B[?25hCollecting bpemb>=0.3.2 (from flair->textattack)\n",
      "  Downloading bpemb-0.3.5-py3-none-any.whl (19 kB)\n",
      "Collecting conllu>=4.0 (from flair->textattack)\n",
      "  Downloading conllu-4.5.3-py2.py3-none-any.whl (16 kB)\n",
      "Collecting deprecated>=1.2.13 (from flair->textattack)\n",
      "  Downloading Deprecated-1.2.14-py2.py3-none-any.whl (9.6 kB)\n",
      "Collecting ftfy>=6.1.0 (from flair->textattack)\n",
      "  Downloading ftfy-6.2.0-py3-none-any.whl (54 kB)\n",
      "\u001B[2K     \u001B[90m━━━━━━━━━━━━━━━━━━━━━━━━━━━━━━━━━━━━━━━━\u001B[0m \u001B[32m54.4/54.4 kB\u001B[0m \u001B[31m9.2 MB/s\u001B[0m eta \u001B[36m0:00:00\u001B[0m\n",
      "\u001B[?25hRequirement already satisfied: gdown>=4.4.0 in /usr/local/lib/python3.10/dist-packages (from flair->textattack) (5.1.0)\n",
      "Requirement already satisfied: gensim>=4.2.0 in /usr/local/lib/python3.10/dist-packages (from flair->textattack) (4.3.2)\n",
      "Collecting janome>=0.4.2 (from flair->textattack)\n",
      "  Downloading Janome-0.5.0-py2.py3-none-any.whl (19.7 MB)\n",
      "\u001B[2K     \u001B[90m━━━━━━━━━━━━━━━━━━━━━━━━━━━━━━━━━━━━━━━━\u001B[0m \u001B[32m19.7/19.7 MB\u001B[0m \u001B[31m20.4 MB/s\u001B[0m eta \u001B[36m0:00:00\u001B[0m\n",
      "\u001B[?25hCollecting langdetect>=1.0.9 (from flair->textattack)\n",
      "  Downloading langdetect-1.0.9.tar.gz (981 kB)\n",
      "\u001B[2K     \u001B[90m━━━━━━━━━━━━━━━━━━━━━━━━━━━━━━━━━━━━━━━━\u001B[0m \u001B[32m981.5/981.5 kB\u001B[0m \u001B[31m21.2 MB/s\u001B[0m eta \u001B[36m0:00:00\u001B[0m\n",
      "\u001B[?25h  Preparing metadata (setup.py) ... \u001B[?25l\u001B[?25hdone\n",
      "Requirement already satisfied: lxml>=4.8.0 in /usr/local/lib/python3.10/dist-packages (from flair->textattack) (4.9.4)\n",
      "Collecting mpld3>=0.3 (from flair->textattack)\n",
      "  Downloading mpld3-0.5.10-py3-none-any.whl (202 kB)\n",
      "\u001B[2K     \u001B[90m━━━━━━━━━━━━━━━━━━━━━━━━━━━━━━━━━━━━━━━━\u001B[0m \u001B[32m202.6/202.6 kB\u001B[0m \u001B[31m20.0 MB/s\u001B[0m eta \u001B[36m0:00:00\u001B[0m\n",
      "\u001B[?25hCollecting pptree>=3.1 (from flair->textattack)\n",
      "  Downloading pptree-3.1.tar.gz (3.0 kB)\n",
      "  Preparing metadata (setup.py) ... \u001B[?25l\u001B[?25hdone\n",
      "Collecting pytorch-revgrad>=0.2.0 (from flair->textattack)\n",
      "  Downloading pytorch_revgrad-0.2.0-py3-none-any.whl (4.6 kB)\n",
      "Requirement already satisfied: scikit-learn>=1.0.2 in /usr/local/lib/python3.10/dist-packages (from flair->textattack) (1.2.2)\n",
      "Collecting segtok>=1.5.11 (from flair->textattack)\n",
      "  Downloading segtok-1.5.11-py3-none-any.whl (24 kB)\n",
      "Collecting sqlitedict>=2.0.0 (from flair->textattack)\n",
      "  Downloading sqlitedict-2.1.0.tar.gz (21 kB)\n",
      "  Preparing metadata (setup.py) ... \u001B[?25l\u001B[?25hdone\n",
      "Requirement already satisfied: tabulate>=0.8.10 in /usr/local/lib/python3.10/dist-packages (from flair->textattack) (0.9.0)\n",
      "Collecting transformer-smaller-training-vocab>=0.2.3 (from flair->textattack)\n",
      "  Downloading transformer_smaller_training_vocab-0.4.0-py3-none-any.whl (14 kB)\n",
      "Collecting urllib3<2.0.0,>=1.0.0 (from flair->textattack)\n",
      "  Downloading urllib3-1.26.18-py2.py3-none-any.whl (143 kB)\n",
      "\u001B[2K     \u001B[90m━━━━━━━━━━━━━━━━━━━━━━━━━━━━━━━━━━━━━━━━\u001B[0m \u001B[32m143.8/143.8 kB\u001B[0m \u001B[31m20.8 MB/s\u001B[0m eta \u001B[36m0:00:00\u001B[0m\n",
      "\u001B[?25hCollecting wikipedia-api>=0.5.7 (from flair->textattack)\n",
      "  Downloading Wikipedia_API-0.6.0-py3-none-any.whl (14 kB)\n",
      "Collecting semver<4.0.0,>=3.0.0 (from flair->textattack)\n",
      "  Downloading semver-3.0.2-py3-none-any.whl (17 kB)\n",
      "Requirement already satisfied: pip in /usr/local/lib/python3.10/dist-packages (from language-tool-python->textattack) (23.1.2)\n",
      "Requirement already satisfied: wheel in /usr/local/lib/python3.10/dist-packages (from language-tool-python->textattack) (0.43.0)\n",
      "Requirement already satisfied: click in /usr/local/lib/python3.10/dist-packages (from nltk->textattack) (8.1.7)\n",
      "Requirement already satisfied: joblib in /usr/local/lib/python3.10/dist-packages (from nltk->textattack) (1.4.2)\n",
      "Collecting docopt>=0.6.2 (from num2words->textattack)\n",
      "  Downloading docopt-0.6.2.tar.gz (25 kB)\n",
      "  Preparing metadata (setup.py) ... \u001B[?25l\u001B[?25hdone\n",
      "Collecting anytree (from OpenHowNet->textattack)\n",
      "  Downloading anytree-2.12.1-py3-none-any.whl (44 kB)\n",
      "\u001B[2K     \u001B[90m━━━━━━━━━━━━━━━━━━━━━━━━━━━━━━━━━━━━━━━━\u001B[0m \u001B[32m44.9/44.9 kB\u001B[0m \u001B[31m7.4 MB/s\u001B[0m eta \u001B[36m0:00:00\u001B[0m\n",
      "\u001B[?25hRequirement already satisfied: setuptools in /usr/local/lib/python3.10/dist-packages (from OpenHowNet->textattack) (67.7.2)\n",
      "Collecting botocore<1.35.0,>=1.34.103 (from boto3>=1.20.27->flair->textattack)\n",
      "  Downloading botocore-1.34.103-py3-none-any.whl (12.2 MB)\n",
      "\u001B[2K     \u001B[90m━━━━━━━━━━━━━━━━━━━━━━━━━━━━━━━━━━━━━━━━\u001B[0m \u001B[32m12.2/12.2 MB\u001B[0m \u001B[31m17.7 MB/s\u001B[0m eta \u001B[36m0:00:00\u001B[0m\n",
      "\u001B[?25hCollecting jmespath<2.0.0,>=0.7.1 (from boto3>=1.20.27->flair->textattack)\n",
      "  Downloading jmespath-1.0.1-py3-none-any.whl (20 kB)\n",
      "Collecting s3transfer<0.11.0,>=0.10.0 (from boto3>=1.20.27->flair->textattack)\n",
      "  Downloading s3transfer-0.10.1-py3-none-any.whl (82 kB)\n",
      "\u001B[2K     \u001B[90m━━━━━━━━━━━━━━━━━━━━━━━━━━━━━━━━━━━━━━━━\u001B[0m \u001B[32m82.2/82.2 kB\u001B[0m \u001B[31m14.5 MB/s\u001B[0m eta \u001B[36m0:00:00\u001B[0m\n",
      "\u001B[?25hRequirement already satisfied: sentencepiece in /usr/local/lib/python3.10/dist-packages (from bpemb>=0.3.2->flair->textattack) (0.1.99)\n",
      "Requirement already satisfied: wrapt<2,>=1.10 in /usr/local/lib/python3.10/dist-packages (from deprecated>=1.2.13->flair->textattack) (1.14.1)\n",
      "Requirement already satisfied: aiosignal>=1.1.2 in /usr/local/lib/python3.10/dist-packages (from aiohttp->datasets>=2.4.0->textattack) (1.3.1)\n",
      "Requirement already satisfied: attrs>=17.3.0 in /usr/local/lib/python3.10/dist-packages (from aiohttp->datasets>=2.4.0->textattack) (23.2.0)\n",
      "Requirement already satisfied: frozenlist>=1.1.1 in /usr/local/lib/python3.10/dist-packages (from aiohttp->datasets>=2.4.0->textattack) (1.4.1)\n",
      "Requirement already satisfied: multidict<7.0,>=4.5 in /usr/local/lib/python3.10/dist-packages (from aiohttp->datasets>=2.4.0->textattack) (6.0.5)\n",
      "Requirement already satisfied: yarl<2.0,>=1.0 in /usr/local/lib/python3.10/dist-packages (from aiohttp->datasets>=2.4.0->textattack) (1.9.4)\n",
      "Requirement already satisfied: async-timeout<5.0,>=4.0 in /usr/local/lib/python3.10/dist-packages (from aiohttp->datasets>=2.4.0->textattack) (4.0.3)\n",
      "Requirement already satisfied: wcwidth<0.3.0,>=0.2.12 in /usr/local/lib/python3.10/dist-packages (from ftfy>=6.1.0->flair->textattack) (0.2.13)\n",
      "Requirement already satisfied: beautifulsoup4 in /usr/local/lib/python3.10/dist-packages (from gdown>=4.4.0->flair->textattack) (4.12.3)\n",
      "Requirement already satisfied: smart-open>=1.8.1 in /usr/local/lib/python3.10/dist-packages (from gensim>=4.2.0->flair->textattack) (6.4.0)\n",
      "Requirement already satisfied: six in /usr/local/lib/python3.10/dist-packages (from langdetect>=1.0.9->flair->textattack) (1.16.0)\n",
      "Requirement already satisfied: contourpy>=1.0.1 in /usr/local/lib/python3.10/dist-packages (from matplotlib->bert-score>=0.3.5->textattack) (1.2.1)\n",
      "Requirement already satisfied: cycler>=0.10 in /usr/local/lib/python3.10/dist-packages (from matplotlib->bert-score>=0.3.5->textattack) (0.12.1)\n",
      "Requirement already satisfied: fonttools>=4.22.0 in /usr/local/lib/python3.10/dist-packages (from matplotlib->bert-score>=0.3.5->textattack) (4.51.0)\n",
      "Requirement already satisfied: kiwisolver>=1.0.1 in /usr/local/lib/python3.10/dist-packages (from matplotlib->bert-score>=0.3.5->textattack) (1.4.5)\n",
      "Requirement already satisfied: pillow>=6.2.0 in /usr/local/lib/python3.10/dist-packages (from matplotlib->bert-score>=0.3.5->textattack) (9.4.0)\n",
      "Requirement already satisfied: pyparsing>=2.3.1 in /usr/local/lib/python3.10/dist-packages (from matplotlib->bert-score>=0.3.5->textattack) (3.1.2)\n",
      "Requirement already satisfied: charset-normalizer<4,>=2 in /usr/local/lib/python3.10/dist-packages (from requests->bert-score>=0.3.5->textattack) (3.3.2)\n",
      "Requirement already satisfied: idna<4,>=2.5 in /usr/local/lib/python3.10/dist-packages (from requests->bert-score>=0.3.5->textattack) (3.7)\n",
      "Requirement already satisfied: certifi>=2017.4.17 in /usr/local/lib/python3.10/dist-packages (from requests->bert-score>=0.3.5->textattack) (2024.2.2)\n",
      "Requirement already satisfied: threadpoolctl>=2.0.0 in /usr/local/lib/python3.10/dist-packages (from scikit-learn>=1.0.2->flair->textattack) (3.5.0)\n",
      "Requirement already satisfied: protobuf in /usr/local/lib/python3.10/dist-packages (from transformers>=4.30.0->textattack) (3.20.3)\n",
      "Requirement already satisfied: MarkupSafe>=2.0 in /usr/local/lib/python3.10/dist-packages (from jinja2->torch!=1.8,>=1.7.0->textattack) (2.1.5)\n",
      "Requirement already satisfied: mpmath>=0.19 in /usr/local/lib/python3.10/dist-packages (from sympy->torch!=1.8,>=1.7.0->textattack) (1.3.0)\n",
      "Collecting accelerate>=0.21.0 (from transformers>=4.30.0->textattack)\n",
      "  Downloading accelerate-0.30.1-py3-none-any.whl (302 kB)\n",
      "\u001B[2K     \u001B[90m━━━━━━━━━━━━━━━━━━━━━━━━━━━━━━━━━━━━━━━━\u001B[0m \u001B[32m302.6/302.6 kB\u001B[0m \u001B[31m18.6 MB/s\u001B[0m eta \u001B[36m0:00:00\u001B[0m\n",
      "\u001B[?25hRequirement already satisfied: soupsieve>1.2 in /usr/local/lib/python3.10/dist-packages (from beautifulsoup4->gdown>=4.4.0->flair->textattack) (2.5)\n",
      "Requirement already satisfied: PySocks!=1.5.7,>=1.5.6 in /usr/local/lib/python3.10/dist-packages (from requests->bert-score>=0.3.5->textattack) (1.7.1)\n",
      "Requirement already satisfied: psutil in /usr/local/lib/python3.10/dist-packages (from accelerate>=0.21.0->transformers>=4.30.0->textattack) (5.9.5)\n",
      "Building wheels for collected packages: pinyin, word2number, docopt, langdetect, pptree, sqlitedict\n",
      "  Building wheel for pinyin (setup.py) ... \u001B[?25l\u001B[?25hdone\n",
      "  Created wheel for pinyin: filename=pinyin-0.4.0-py3-none-any.whl size=3630475 sha256=e34ca00d83c29ad9b0ba9500132d24252ea4abab2e4642e240ccafcf6923e980\n",
      "  Stored in directory: /root/.cache/pip/wheels/33/38/af/616fc6f154aa5bae65a1da12b22d79943434269f0468ff9b3f\n",
      "  Building wheel for word2number (setup.py) ... \u001B[?25l\u001B[?25hdone\n",
      "  Created wheel for word2number: filename=word2number-1.1-py3-none-any.whl size=5566 sha256=332eb758ee7c173d63f4da6e1b457cb236ef80098e79498bcd797b3bbe051205\n",
      "  Stored in directory: /root/.cache/pip/wheels/84/ff/26/d3cfbd971e96c5aa3737ecfced81628830d7359b55fbb8ca3b\n",
      "  Building wheel for docopt (setup.py) ... \u001B[?25l\u001B[?25hdone\n",
      "  Created wheel for docopt: filename=docopt-0.6.2-py2.py3-none-any.whl size=13706 sha256=5df73d757ebbf23d9acb42667c8e4f343b6ec6e7f38e4a25e9eaf6f14e317343\n",
      "  Stored in directory: /root/.cache/pip/wheels/fc/ab/d4/5da2067ac95b36618c629a5f93f809425700506f72c9732fac\n",
      "  Building wheel for langdetect (setup.py) ... \u001B[?25l\u001B[?25hdone\n",
      "  Created wheel for langdetect: filename=langdetect-1.0.9-py3-none-any.whl size=993227 sha256=8b715cf1e9762ab006166d5ac15c82c1817a7f18958049f336806d35afcb99f6\n",
      "  Stored in directory: /root/.cache/pip/wheels/95/03/7d/59ea870c70ce4e5a370638b5462a7711ab78fba2f655d05106\n",
      "  Building wheel for pptree (setup.py) ... \u001B[?25l\u001B[?25hdone\n",
      "  Created wheel for pptree: filename=pptree-3.1-py3-none-any.whl size=4609 sha256=69f049d436eaf6123dced0000b7a84d951e9f46e7337452c6b0263009c7cfdf7\n",
      "  Stored in directory: /root/.cache/pip/wheels/9f/b6/0e/6f26eb9e6eb53ff2107a7888d72b5a6a597593956113037828\n",
      "  Building wheel for sqlitedict (setup.py) ... \u001B[?25l\u001B[?25hdone\n",
      "  Created wheel for sqlitedict: filename=sqlitedict-2.1.0-py3-none-any.whl size=16862 sha256=70e3942c63f6e4241f6a8d0890bf06f9b46c37d13d9e7b31e46cf91fa31a730a\n",
      "  Stored in directory: /root/.cache/pip/wheels/79/d6/e7/304e0e6cb2221022c26d8161f7c23cd4f259a9e41e8bbcfabd\n",
      "Successfully built pinyin word2number docopt langdetect pptree sqlitedict\n",
      "Installing collected packages: word2number, sqlitedict, pptree, pinyin, janome, docopt, xxhash, urllib3, terminaltables, semver, segtok, nvidia-nvtx-cu12, nvidia-nvjitlink-cu12, nvidia-nccl-cu12, nvidia-curand-cu12, nvidia-cufft-cu12, nvidia-cuda-runtime-cu12, nvidia-cuda-nvrtc-cu12, nvidia-cuda-cupti-cu12, nvidia-cublas-cu12, num2words, lru-dict, lemminflect, langdetect, jmespath, ftfy, dill, deprecated, conllu, anytree, nvidia-cusparse-cu12, nvidia-cudnn-cu12, multiprocess, botocore, wikipedia-api, s3transfer, OpenHowNet, nvidia-cusolver-cu12, mpld3, language-tool-python, huggingface-hub, bpemb, datasets, boto3, pytorch-revgrad, accelerate, bert-score, transformer-smaller-training-vocab, flair, textattack\n",
      "  Attempting uninstall: urllib3\n",
      "    Found existing installation: urllib3 2.0.7\n",
      "    Uninstalling urllib3-2.0.7:\n",
      "      Successfully uninstalled urllib3-2.0.7\n",
      "  Attempting uninstall: huggingface-hub\n",
      "    Found existing installation: huggingface-hub 0.20.3\n",
      "    Uninstalling huggingface-hub-0.20.3:\n",
      "      Successfully uninstalled huggingface-hub-0.20.3\n",
      "Successfully installed OpenHowNet-2.0 accelerate-0.30.1 anytree-2.12.1 bert-score-0.3.13 boto3-1.34.103 botocore-1.34.103 bpemb-0.3.5 conllu-4.5.3 datasets-2.19.1 deprecated-1.2.14 dill-0.3.8 docopt-0.6.2 flair-0.13.1 ftfy-6.2.0 huggingface-hub-0.23.0 janome-0.5.0 jmespath-1.0.1 langdetect-1.0.9 language-tool-python-2.8 lemminflect-0.2.3 lru-dict-1.3.0 mpld3-0.5.10 multiprocess-0.70.16 num2words-0.5.13 nvidia-cublas-cu12-12.1.3.1 nvidia-cuda-cupti-cu12-12.1.105 nvidia-cuda-nvrtc-cu12-12.1.105 nvidia-cuda-runtime-cu12-12.1.105 nvidia-cudnn-cu12-8.9.2.26 nvidia-cufft-cu12-11.0.2.54 nvidia-curand-cu12-10.3.2.106 nvidia-cusolver-cu12-11.4.5.107 nvidia-cusparse-cu12-12.1.0.106 nvidia-nccl-cu12-2.19.3 nvidia-nvjitlink-cu12-12.4.127 nvidia-nvtx-cu12-12.1.105 pinyin-0.4.0 pptree-3.1 pytorch-revgrad-0.2.0 s3transfer-0.10.1 segtok-1.5.11 semver-3.0.2 sqlitedict-2.1.0 terminaltables-3.1.10 textattack-0.3.10 transformer-smaller-training-vocab-0.4.0 urllib3-1.26.18 wikipedia-api-0.6.0 word2number-1.1 xxhash-3.4.1\n"
     ]
    }
   ],
   "execution_count": 1
  },
  {
   "metadata": {
    "id": "UmAooViNSqwy"
   },
   "cell_type": "markdown",
   "source": [
    "## Imports"
   ]
  },
  {
   "metadata": {
    "ExecuteTime": {
     "end_time": "2024-05-10T16:47:05.941911Z",
     "start_time": "2024-05-10T16:46:58.510552Z"
    },
    "id": "I6XaL_ymSqwy"
   },
   "cell_type": "code",
   "source": [
    "import textattack\n",
    "import transformers\n",
    "from textattack.datasets import HuggingFaceDataset\n",
    "from textattack import Attacker\n",
    "from textattack.attack_recipes import DeepWordBugGao2018"
   ],
   "outputs": [],
   "execution_count": 11
  },
  {
   "metadata": {
    "id": "HKlTaE5ASqwy"
   },
   "cell_type": "markdown",
   "source": [
    "# Helper methods"
   ]
  },
  {
   "metadata": {
    "ExecuteTime": {
     "end_time": "2024-05-10T16:47:05.946901Z",
     "start_time": "2024-05-10T16:47:05.943162Z"
    },
    "id": "VwusiZK6Sqwy"
   },
   "cell_type": "code",
   "source": [
    "class FixedHuggingFaceDataset(HuggingFaceDataset):\n",
    "    def __init__(self, name_or_dataset, subset=None, split=\"train\", dataset_columns=None, label_map=None,\n",
    "                 label_names=None, output_scale_factor=None, shuffle=False, seed=69, subset_size=None, offset=0):\n",
    "        super().__init__(name_or_dataset=name_or_dataset, subset=subset, split=split, dataset_columns=dataset_columns,\n",
    "                         label_map=label_map, label_names=label_names, output_scale_factor=output_scale_factor,\n",
    "                         shuffle=shuffle)\n",
    "        if shuffle:\n",
    "            self._dataset = self._dataset.shuffle(seed=seed).flatten_indices()\n",
    "        if subset_size is not None:\n",
    "            self._dataset = self._dataset.skip(offset).take(subset_size)"
   ],
   "outputs": [],
   "execution_count": 12
  },
  {
   "metadata": {
    "id": "Fz-w5xmtpLKc"
   },
   "cell_type": "markdown",
   "source": [
    "# Loading dataset and model\n",
    "Getting train data in order to find attack transformation to add into the training set"
   ]
  },
  {
   "metadata": {
    "id": "iVVb6zM5pLKc",
    "ExecuteTime": {
     "end_time": "2024-05-10T16:47:07.710129Z",
     "start_time": "2024-05-10T16:47:05.947827Z"
    }
   },
   "cell_type": "code",
   "source": [
    "model = transformers.AutoModelForSequenceClassification.from_pretrained(\"textattack/bert-base-uncased-imdb\")\n",
    "tokenizer = transformers.AutoTokenizer.from_pretrained(\"textattack/bert-base-uncased-imdb\")\n",
    "model_wrapper = textattack.models.wrappers.HuggingFaceModelWrapper(model, tokenizer)"
   ],
   "outputs": [],
   "execution_count": 13
  },
  {
   "cell_type": "markdown",
   "source": [
    "# Adversarial training DeepWordBugGao2018"
   ],
   "metadata": {
    "id": "rVcP8E33esQc"
   }
  },
  {
   "cell_type": "code",
   "source": [
    "attack = DeepWordBugGao2018.build(model_wrapper)\n",
    "subset_train = FixedHuggingFaceDataset(\"imdb\", split=\"train\", subset_size=1024, shuffle=True)\n",
    "subset_eval = FixedHuggingFaceDataset(\"imdb\", split=\"test\", subset_size=64, shuffle=True)"
   ],
   "metadata": {
    "colab": {
     "base_uri": "https://localhost:8080/"
    },
    "id": "cELJxLkJPxFQ",
    "outputId": "e7000976-9dac-47ac-ed21-7f16db5ccc28",
    "ExecuteTime": {
     "end_time": "2024-05-10T16:47:29.397423Z",
     "start_time": "2024-05-10T16:47:07.711294Z"
    }
   },
   "outputs": [
    {
     "output_type": "stream",
     "name": "stderr",
     "text": [
      "textattack: Unknown if model of class <class 'transformers.models.bert.modeling_bert.BertForSequenceClassification'> compatible with goal function <class 'textattack.goal_functions.classification.untargeted_classification.UntargetedClassification'>.\n",
      "textattack: Loading \u001B[94mdatasets\u001B[0m dataset \u001B[94mimdb\u001B[0m, split \u001B[94mtrain\u001B[0m.\n",
      "textattack: Loading \u001B[94mdatasets\u001B[0m dataset \u001B[94mimdb\u001B[0m, split \u001B[94mtest\u001B[0m.\n"
     ]
    }
   ],
   "execution_count": 28
  },
  {
   "cell_type": "code",
   "source": [
    "attack_args = textattack.AttackArgs(num_examples=10, parallel=True)\n",
    "attacker = Attacker(attack, subset_eval, attack_args)\n",
    "adv_exp_bae_bert_imdb = attacker.attack_dataset()"
   ],
   "metadata": {
    "id": "Y1I_PQa-V7Ar",
    "outputId": "857cee78-0143-4afe-fad4-84e1ca870e3f",
    "colab": {
     "base_uri": "https://localhost:8080/"
    }
   },
   "execution_count": null,
   "outputs": [
    {
     "output_type": "stream",
     "name": "stderr",
     "text": [
      "textattack: Running 1 worker(s) on 1 GPU(s).\n",
      "textattack: Worklist size: 10\n",
      "textattack: Worklist candidate size: 54\n",
      "  0%|          | 0/10 [00:00<?, ?it/s]"
     ]
    }
   ]
  },
  {
   "metadata": {
    "ExecuteTime": {
     "end_time": "2024-05-10T16:47:29.400874Z",
     "start_time": "2024-05-10T16:47:29.398384Z"
    },
    "id": "JVJipLXmSqwz"
   },
   "cell_type": "code",
   "source": [
    "training_args = textattack.TrainingArgs(\n",
    "    num_epochs=5,\n",
    "    num_clean_epochs=0,\n",
    "    num_train_adv_examples=128,\n",
    "    learning_rate=5e-5,\n",
    "    per_device_train_batch_size=64,\n",
    "    per_device_eval_batch_size=64,\n",
    "    attack_epoch_interval=2,\n",
    "    log_to_tb=True,\n",
    "    parallel=True\n",
    ")\n",
    "\n",
    "trainer = textattack.Trainer(\n",
    "    model_wrapper,\n",
    "    \"classification\",\n",
    "    attack,\n",
    "    subset_train,\n",
    "    subset_eval,\n",
    "    training_args\n",
    ")"
   ],
   "outputs": [],
   "execution_count": 17
  },
  {
   "metadata": {
    "id": "7CTyx3P7Sqwz"
   },
   "cell_type": "markdown",
   "source": [
    "## Train"
   ]
  },
  {
   "metadata": {
    "ExecuteTime": {
     "end_time": "2024-05-10T16:48:29.066969Z",
     "start_time": "2024-05-10T16:47:34.829772Z"
    },
    "id": "WSFV6YkqSqwz",
    "outputId": "f64978f1-4f26-4b51-c9a4-13af4417e4ec",
    "colab": {
     "base_uri": "https://localhost:8080/"
    }
   },
   "cell_type": "code",
   "source": [
    "trainer.train()"
   ],
   "outputs": [
    {
     "output_type": "stream",
     "name": "stderr",
     "text": [
      "textattack: Writing logs to ./outputs/2024-05-13-14-30-48-967309/train_log.txt.\n",
      "textattack: Wrote original training args to ./outputs/2024-05-13-14-30-48-967309/training_args.json.\n",
      "/usr/local/lib/python3.10/dist-packages/transformers/optimization.py:521: FutureWarning: This implementation of AdamW is deprecated and will be removed in a future version. Use the PyTorch implementation torch.optim.AdamW instead, or set `no_deprecation_warning=True` to disable this warning\n",
      "  warnings.warn(\n",
      "textattack: ***** Running training *****\n",
      "textattack:   Num examples = 100\n",
      "textattack:   Num epochs = 3\n",
      "textattack:   Num clean epochs = 0\n",
      "textattack:   Instantaneous batch size per device = 8\n",
      "textattack:   Total train batch size (w. parallel, distributed & accumulation) = 8\n",
      "textattack:   Gradient accumulation steps = 1\n",
      "textattack:   Total optimization steps = 42\n",
      "textattack: ==========================================================\n",
      "textattack: Epoch 1\n",
      "textattack: Attacking model to generate new adversarial training set...\n",
      "[Succeeded / Failed / Skipped / Total] 10 / 12 / 0 / 22: 100%|██████████| 10/10 [06:21<00:00, 38.20s/it]\n",
      "textattack: Total number of attack results: 22\n",
      "textattack: Attack success rate: 45.45% [10 / 22]\n"
     ]
    },
    {
     "output_type": "stream",
     "name": "stdout",
     "text": [
      "\n",
      "\n"
     ]
    },
    {
     "output_type": "stream",
     "name": "stderr",
     "text": [
      "Loss 0.07595: 100%|██████████| 14/14 [00:11<00:00,  1.21it/s]\n",
      "textattack: Train accuracy: 97.27%\n",
      "textattack: Eval accuracy: 90.00%\n",
      "textattack: Best score found. Saved model to ./outputs/2024-05-13-14-30-48-967309/best_model/\n",
      "textattack: ==========================================================\n",
      "textattack: Epoch 2\n",
      "textattack: Attacking model to generate new adversarial training set...\n",
      "[Succeeded / Failed / Skipped / Total] 10 / 13 / 0 / 23: 100%|██████████| 10/10 [06:55<00:00, 41.52s/it]\n",
      "textattack: Total number of attack results: 23\n",
      "textattack: Attack success rate: 43.48% [10 / 23]\n"
     ]
    },
    {
     "output_type": "stream",
     "name": "stdout",
     "text": [
      "\n",
      "\n"
     ]
    },
    {
     "output_type": "stream",
     "name": "stderr",
     "text": [
      "Loss 0.06149: 100%|██████████| 14/14 [00:10<00:00,  1.31it/s]\n",
      "textattack: Train accuracy: 98.18%\n",
      "textattack: Eval accuracy: 90.00%\n",
      "textattack: ==========================================================\n",
      "textattack: Epoch 3\n",
      "textattack: Attacking model to generate new adversarial training set...\n",
      "[Succeeded / Failed / Skipped / Total] 10 / 25 / 0 / 35: 100%|██████████| 10/10 [10:15<00:00, 61.59s/it]\n",
      "textattack: Total number of attack results: 35\n",
      "textattack: Attack success rate: 28.57% [10 / 35]\n"
     ]
    },
    {
     "output_type": "stream",
     "name": "stdout",
     "text": [
      "\n",
      "\n"
     ]
    },
    {
     "output_type": "stream",
     "name": "stderr",
     "text": [
      "Loss 0.04937: 100%|██████████| 14/14 [00:10<00:00,  1.32it/s]\n",
      "textattack: Train accuracy: 99.09%\n",
      "textattack: Eval accuracy: 90.00%\n",
      "textattack: Wrote README to ./outputs/2024-05-13-14-30-48-967309/README.md.\n"
     ]
    }
   ],
   "execution_count": 18
  },
  {
   "cell_type": "code",
   "source": [
    "model_wrapper_fine_tuned = trainer.model_wrapper\n",
    "fine_tuned_attack = DeepWordBugGao2018.build(model_wrapper_fine_tuned)\n",
    "fine_tuned_attacker = Attacker(fine_tuned_attack, subset_eval, attack_args)\n",
    "fine_tuned_eval = fine_tuned_attacker.attack_dataset()"
   ],
   "metadata": {
    "id": "EmTJ-D8bdZqb",
    "outputId": "823515ff-293f-415f-cd2f-62eab0bc85e7",
    "colab": {
     "base_uri": "https://localhost:8080/"
    }
   },
   "execution_count": 27,
   "outputs": [
    {
     "output_type": "stream",
     "name": "stderr",
     "text": [
      "textattack: Unknown if model of class <class 'transformers.models.bert.modeling_bert.BertForSequenceClassification'> compatible with goal function <class 'textattack.goal_functions.classification.untargeted_classification.UntargetedClassification'>.\n",
      "textattack: Running 1 worker(s) on 1 GPU(s).\n",
      "textattack: Worklist size: 50\n",
      "textattack: Worklist candidate size: 50\n",
      "[Succeeded / Failed / Skipped / Total] 0 / 1 / 0 / 1:   2%|▏         | 1/50 [00:24<19:55, 24.40s/it]"
     ]
    },
    {
     "output_type": "stream",
     "name": "stdout",
     "text": [
      "--------------------------------------------- Result 1 ---------------------------------------------\n",
      "[[Negative (100%)]] --> [[[FAILED]]]\n",
      "\n",
      "I love sci-fi and am willing to put up with a lot. Sci-fi movies/TV are usually underfunded, under-appreciated and misunderstood. I tried to like this, I really did, but it is to good TV sci-fi as Babylon 5 is to Star Trek (the original). Silly prosthetics, cheap cardboard sets, stilted dialogues, CG that doesn't match the background, and painfully one-dimensional characters cannot be overcome with a 'sci-fi' setting. (I'm sure there are those of you out there who think Babylon 5 is good sci-fi TV. It's not. It's clichéd and uninspiring.) While US viewers might like emotion and character development, sci-fi is a genre that does not take itself seriously (cf. Star Trek). It may treat important issues, yet not as a serious philosophy. It's really difficult to care about the characters here as they are not simply foolish, just missing a spark of life. Their actions and reactions are wooden and predictable, often painful to watch. The makers of Earth KNOW it's rubbish as they have to always say \"Gene Roddenberry's Earth...\" otherwise people would not continue watching. Roddenberry's ashes must be turning in their orbit as this dull, cheap, poorly edited (watching it without advert breaks really brings this home) trudging Trabant of a show lumbers into space. Spoiler. So, kill off a main character. And then bring him back as another actor. Jeeez! Dallas all over again.\n"
     ]
    },
    {
     "output_type": "stream",
     "name": "stderr",
     "text": [
      "[Succeeded / Failed / Skipped / Total] 1 / 1 / 0 / 2:   4%|▍         | 2/50 [00:35<14:12, 17.75s/it]"
     ]
    },
    {
     "output_type": "stream",
     "name": "stdout",
     "text": [
      "--------------------------------------------- Result 2 ---------------------------------------------\n",
      "[[Negative (100%)]] --> [[Positive (55%)]]\n",
      "\n",
      "Worth the entertainment value of a rental, especially if you like action movies. This one features the usual [[car]] chases, fights with the great Van Damme kick style, shooting battles with the 40 shell load shotgun, and even terrorist style bombs. All of this is entertaining and competently [[handled]] but there is nothing that really blows you away if you've seen your share before.<br /><br />The plot is made interesting by the inclusion of a rabbit, which is clever but [[hardly]] profound. Many of the characters are heavily stereotyped -- the angry veterans, the terrified illegal aliens, the crooked cops, the indifferent feds, the bitchy tough lady station head, the crooked politician, the fat federale who looks like he was typecast as the Mexican in a Hollywood movie from the 1940s. All passably acted but again [[nothing]] [[special]].<br /><br />I thought the main villains were pretty well done and fairly well acted. By the end of the movie you certainly [[knew]] who the good guys were and weren't. There was an emotional lift as the really [[bad]] ones got their just deserts. Very [[simplistic]], but then you weren't expecting Hamlet, right? The only thing I found really annoying was the constant [[cuts]] to VDs daughter during the last fight scene.<br /><br />Not bad. [[Not]] good. [[Passable]] 4.\n",
      "\n",
      "Worth the entertainment value of a rental, especially if you like action movies. This one features the usual [[ca]] chases, fights with the great Van Damme kick style, shooting battles with the 40 shell load shotgun, and even terrorist style bombs. All of this is entertaining and competently [[candled]] but there is nothing that really blows you away if you've seen your share before.<br /><br />The plot is made interesting by the inclusion of a rabbit, which is clever but [[hardy]] profound. Many of the characters are heavily stereotyped -- the angry veterans, the terrified illegal aliens, the crooked cops, the indifferent feds, the bitchy tough lady station head, the crooked politician, the fat federale who looks like he was typecast as the Mexican in a Hollywood movie from the 1940s. All passably acted but again [[nothng]] [[fspecial]].<br /><br />I thought the main villains were pretty well done and fairly well acted. By the end of the movie you certainly [[knek]] who the good guys were and weren't. There was an emotional lift as the really [[abd]] ones got their just deserts. Very [[simplitic]], but then you weren't expecting Hamlet, right? The only thing I found really annoying was the constant [[cutss]] to VDs daughter during the last fight scene.<br /><br />Not bad. [[Nt]] good. [[Pasesable]] 4.\n"
     ]
    },
    {
     "output_type": "stream",
     "name": "stderr",
     "text": [
      "[Succeeded / Failed / Skipped / Total] 2 / 1 / 0 / 3:   6%|▌         | 3/50 [00:39<10:14, 13.07s/it]"
     ]
    },
    {
     "output_type": "stream",
     "name": "stdout",
     "text": [
      "--------------------------------------------- Result 3 ---------------------------------------------\n",
      "[[Negative (100%)]] --> [[Positive (78%)]]\n",
      "\n",
      "its a totally average film with a few semi-alright action sequences that make the plot seem a little better and remind the viewer of the classic van dam [[films]]. parts of the plot don't make sense and seem to be added in to use up time. the end plot is that of a very basic type that doesn't leave the viewer guessing and any twists are obvious from the beginning. the end scene with the flask backs don't make sense as they are added in and seem to have little relevance to the history of [[van]] dam's character. not [[really]] [[worth]] watching again, bit disappointed in the [[end]] production, even though it is apparent it was shot on a low budget certain shots and sections in the film are of [[poor]] directed quality\n",
      "\n",
      "its a totally average film with a few semi-alright action sequences that make the plot seem a little better and remind the viewer of the classic van dam [[fims]]. parts of the plot don't make sense and seem to be added in to use up time. the end plot is that of a very basic type that doesn't leave the viewer guessing and any twists are obvious from the beginning. the end scene with the flask backs don't make sense as they are added in and seem to have little relevance to the history of [[vvan]] dam's character. not [[eally]] [[owrth]] watching again, bit disappointed in the [[enK]] production, even though it is apparent it was shot on a low budget certain shots and sections in the film are of [[pRoor]] directed quality\n"
     ]
    },
    {
     "output_type": "stream",
     "name": "stderr",
     "text": [
      "[Succeeded / Failed / Skipped / Total] 2 / 2 / 1 / 5:  10%|█         | 5/50 [01:10<10:32, 14.06s/it]"
     ]
    },
    {
     "output_type": "stream",
     "name": "stdout",
     "text": [
      "--------------------------------------------- Result 4 ---------------------------------------------\n",
      "[[Negative (100%)]] --> [[[FAILED]]]\n",
      "\n",
      "STAR RATING: ***** Saturday Night **** Friday Night *** Friday Morning ** Sunday Night * Monday Morning <br /><br />Former New Orleans homicide cop Jack Robideaux (Jean Claude Van Damme) is re-assigned to Columbus, a small but violent town in Mexico to help the police there with their efforts to stop a major heroin smuggling operation into their town. The culprits turn out to be ex-military, lead by former commander Benjamin Meyers (Stephen Lord, otherwise known as Jase from East Enders) who is using a special method he learned in Afghanistan to fight off his opponents. But Jack has a more personal reason for taking him down, that draws the two men into an explosive final showdown where only one will walk away alive.<br /><br />After Until Death, Van Damme appeared to be on a high, showing he could make the best straight to video films in the action market. While that was a far more drama oriented film, with The Shepherd he has returned to the high-kicking, no brainer action that first made him famous and has sadly produced his worst film since Derailed. It's nowhere near as bad as that film, but what I said still stands.<br /><br />A dull, predictable film, with very little in the way of any exciting action. What little there is mainly consists of some limp fight scenes, trying to look cool and trendy with some cheap slo-mo/sped up effects added to them that sadly instead make them look more desperate. Being a Mexican set film, director Isaac Florentine has tried to give the film a Robert Rodriguez/Desperado sort of feel, but this only adds to the desperation.<br /><br />VD gives a particularly uninspired performance and given he's never been a Robert De Niro sort of actor, that can't be good. As the villain, Lord shouldn't expect to leave the beeb anytime soon. He gets little dialogue at the beginning as he struggles to muster an American accent but gets mysteriously better towards the end. All the supporting cast are equally bland, and do nothing to raise the films spirits at all.<br /><br />This is one shepherd that's strayed right from the flock. *\n",
      "--------------------------------------------- Result 5 ---------------------------------------------\n",
      "[[Positive (100%)]] --> [[[SKIPPED]]]\n",
      "\n",
      "First off let me say, If you haven't enjoyed a Van Damme movie since bloodsport, you probably will not like this movie. Most of these movies may not have the best plots or best actors but I enjoy these kinds of movies for what they are. This movie is much better than any of the movies the other action guys (Segal and Dolph) have thought about putting out the past few years. Van Damme is good in the movie, the movie is only worth watching to Van Damme fans. It is not as good as Wake of Death (which i highly recommend to anyone of likes Van Damme) or In hell but, in my opinion it's worth watching. It has the same type of feel to it as Nowhere to Run. Good fun stuff!\n"
     ]
    },
    {
     "output_type": "stream",
     "name": "stderr",
     "text": [
      "[Succeeded / Failed / Skipped / Total] 3 / 2 / 1 / 6:  12%|█▏        | 6/50 [01:15<09:16, 12.65s/it]"
     ]
    },
    {
     "output_type": "stream",
     "name": "stdout",
     "text": [
      "--------------------------------------------- Result 6 ---------------------------------------------\n",
      "[[Negative (100%)]] --> [[Positive (78%)]]\n",
      "\n",
      "I had high hopes for this one until they changed the name to 'The Shepherd : Border Patrol, the lamest movie name ever, what was wrong with just 'The Shepherd'. This is a by the numbers action flick that tips its [[hat]] at [[many]] classic Van Damme films. [[There]] is a nice bit of action in a bar which [[reminded]] me of hard target and universal soldier but directed with no intensity or flair which is a shame. There is [[one]] great [[line]] about 'being p*ss drunk and carrying a rabbit' and some OK action [[scenes]] let down by the cheapness of it all. A lot of the times the dialogue doesn't match the characters mouth and the stunt men fall down dead a split second before even being shot. The end fight is one of the better Van Damme fights except the Director tries to go a bit too John Woo and fails also introducing flashbacks which no one really cares about just gets in the way of the action which is the whole point of a van Damme film.<br /><br />[[Not]] good, not bad, just [[average]] [[generic]] action.\n",
      "\n",
      "I had high hopes for this one until they changed the name to 'The Shepherd : Border Patrol, the lamest movie name ever, what was wrong with just 'The Shepherd'. This is a by the numbers action flick that tips its [[ha]] at [[mny]] classic Van Damme films. [[Thexe]] is a nice bit of action in a bar which [[remiqded]] me of hard target and universal soldier but directed with no intensity or flair which is a shame. There is [[noe]] great [[lie]] about 'being p*ss drunk and carrying a rabbit' and some OK action [[scenxes]] let down by the cheapness of it all. A lot of the times the dialogue doesn't match the characters mouth and the stunt men fall down dead a split second before even being shot. The end fight is one of the better Van Damme fights except the Director tries to go a bit too John Woo and fails also introducing flashbacks which no one really cares about just gets in the way of the action which is the whole point of a van Damme film.<br /><br />[[Nto]] good, not bad, just [[averDge]] [[geSeric]] action.\n"
     ]
    },
    {
     "output_type": "stream",
     "name": "stderr",
     "text": [
      "[Succeeded / Failed / Skipped / Total] 3 / 3 / 1 / 7:  14%|█▍        | 7/50 [01:38<10:07, 14.13s/it]"
     ]
    },
    {
     "output_type": "stream",
     "name": "stdout",
     "text": [
      "--------------------------------------------- Result 7 ---------------------------------------------\n",
      "[[Negative (100%)]] --> [[[FAILED]]]\n",
      "\n",
      "Isaac Florentine has made some of the best western Martial Arts action movies ever produced. In particular US Seals 2, Cold Harvest, Special Forces and Undisputed 2 are all action classics. You can tell Isaac has a real passion for the genre and his films are always eventful, creative and sharp affairs, with some of the best fight sequences an action fan could hope for. In particular he has found a muse with Scott Adkins, as talented an actor and action performer as you could hope for. This is borne out with Special Forces and Undisputed 2, but unfortunately The Shepherd just doesn't live up to their abilities.<br /><br />There is no doubt that JCVD looks better here fight-wise than he has done in years, especially in the fight he has (for pretty much no reason) in a prison cell, and in the final showdown with Scott, but look in his eyes. JCVD seems to be dead inside. There's nothing in his eyes at all. It's like he just doesn't care about anything throughout the whole film. And this is the leading man.<br /><br />There are other dodgy aspects to the film, script-wise and visually, but the main problem is that you are utterly unable to empathise with the hero of the film. A genuine shame as I know we all wanted this film to be as special as it genuinely could have been. There are some good bits, mostly the action scenes themselves. This film had a terrific director and action choreographer, and an awesome opponent for JCVD to face down. This could have been the one to bring the veteran action star back up to scratch in the balls-out action movie stakes.<br /><br />Sincerely a shame that this didn't happen.\n"
     ]
    },
    {
     "output_type": "stream",
     "name": "stderr",
     "text": [
      "[Succeeded / Failed / Skipped / Total] 3 / 4 / 1 / 8:  16%|█▌        | 8/50 [01:48<09:30, 13.59s/it]"
     ]
    },
    {
     "output_type": "stream",
     "name": "stdout",
     "text": [
      "--------------------------------------------- Result 8 ---------------------------------------------\n",
      "[[Negative (100%)]] --> [[[FAILED]]]\n",
      "\n",
      "It actually pains me to say it, but this movie was horrible on every level. The blame does not lie entirely with Van Damme as you can see he tried his best, but let's face it, he's almost fifty, how much more can you ask of him? I find it so hard to believe that the same people who put together Undisputed 2; arguably the best (western) martial arts movie in years, created this. Everything from the plot, to the dialog, to the editing, to the overall acting was just horribly put together and in many cases outright boring and nonsensical. Scott Adkins who's fight scenes seemed more like a demo reel, was also terribly underused and not even the main villain which is such a shame because 1) He is more than capable of playing that role and 2) The actual main villain was not only not intimidating at all but also quite annoying. Again, not blaming Van Damme. I will always be a fan, but avoid this one.\n"
     ]
    },
    {
     "output_type": "stream",
     "name": "stderr",
     "text": [
      "[Succeeded / Failed / Skipped / Total] 3 / 5 / 1 / 9:  18%|█▊        | 9/50 [01:58<08:59, 13.17s/it]"
     ]
    },
    {
     "output_type": "stream",
     "name": "stdout",
     "text": [
      "--------------------------------------------- Result 9 ---------------------------------------------\n",
      "[[Negative (100%)]] --> [[[FAILED]]]\n",
      "\n",
      "Technically I'am a Van Damme Fan, or I was. this movie is so bad that I hated myself for wasting those 90 minutes. Do not let the name Isaac Florentine (Undisputed II) fool you, I had big hopes for this one, depending on what I saw in (Undisputed II), man.. was I wrong ??! all action fans wanted a big comeback for the classic action hero, but i guess we wont be able to see that soon, as our hero keep coming with those (going -to-a-border - far-away-town-and -kill -the-bad-guys- than-comeback- home) movies I mean for God's sake, we are in 2008, and they insist on doing those disappointing movies on every level. Why ??!!! Do your self a favor, skip it.. seriously.\n"
     ]
    },
    {
     "output_type": "stream",
     "name": "stderr",
     "text": [
      "[Succeeded / Failed / Skipped / Total] 3 / 6 / 1 / 10:  20%|██        | 10/50 [02:14<08:59, 13.49s/it]"
     ]
    },
    {
     "output_type": "stream",
     "name": "stdout",
     "text": [
      "--------------------------------------------- Result 10 ---------------------------------------------\n",
      "[[Negative (100%)]] --> [[[FAILED]]]\n",
      "\n",
      "Honestly awful film, bad editing, awful lighting, dire dialog and scrappy screenplay.<br /><br />The lighting at is so bad there's moments you can't even see what's going on, I even tried to playing with the contrast and brightness so I could see something but that didn't help.<br /><br />They must have found the script in a bin, the character development is just as awful and while you hardly expect much from a Jean-Claude Van Damme film this one manages to hit an all time low. You can't even laugh at the cheesy'ness.<br /><br />The directing and editing are also terrible, the whole film follows an extremely tired routine and fails at every turn as it bumbles through the plot that is so weak it's just unreal.<br /><br />There's not a lot else to say other than it's really bad and nothing like Jean-Claude Van Damme's earlier work which you could enjoy.<br /><br />Avoid like the plaque, frankly words fail me in condemning this \"film\".\n"
     ]
    },
    {
     "output_type": "stream",
     "name": "stderr",
     "text": [
      "[Succeeded / Failed / Skipped / Total] 3 / 7 / 1 / 11:  22%|██▏       | 11/50 [02:21<08:23, 12.90s/it]"
     ]
    },
    {
     "output_type": "stream",
     "name": "stdout",
     "text": [
      "--------------------------------------------- Result 11 ---------------------------------------------\n",
      "[[Negative (100%)]] --> [[[FAILED]]]\n",
      "\n",
      "This flick is a waste of time.I expect from an action movie to have more than 2 explosions and some shooting.Van Damme's acting is awful. He never was much of an actor, but here it is worse.He was definitely better in his earlier movies. His screenplay part for the whole movie was probably not more than one page of stupid nonsense one liners.The whole dialog in the film is a disaster, same as the plot.The title \"The Shepherd\" makes no sense. Why didn't they just call it \"Border patrol\"? The fighting scenes could have been better, but either they weren't able to afford it, or the fighting choreographer was suffering from lack of ideas.This is a cheap low type of action cinema.\n"
     ]
    },
    {
     "output_type": "stream",
     "name": "stderr",
     "text": [
      "[Succeeded / Failed / Skipped / Total] 4 / 7 / 1 / 12:  24%|██▍       | 12/50 [02:27<07:48, 12.33s/it]"
     ]
    },
    {
     "output_type": "stream",
     "name": "stdout",
     "text": [
      "--------------------------------------------- Result 12 ---------------------------------------------\n",
      "[[Negative (100%)]] --> [[Positive (51%)]]\n",
      "\n",
      "Blind Date (Columbia Pictures, 1934), was a [[decent]] film, but I have a few issues with this film. First of all, I don't fault the actors in this film at all, but more or less, I have a [[problem]] with the script. Also, I understand that this film was made in the [[1930's]] and people were looking to escape reality, but the script made Ann [[Sothern's]] character look weak. She kept going back and forth between suitors and I felt as though she should have stayed with Paul Kelly's character in the end. He truly did care about her and her family and would have done anything for her and he did by giving her up in the end to [[fickle]] Neil Hamilton who in my opinion was only out for a good time. Paul Kelly's character, although a [[workaholic]] was a [[man]] of integrity and truly [[loved]] Kitty (Ann [[Sothern]]) as [[opposed]] to Neil Hamilton, while he did like her a lot, I didn't [[see]] the depth of love that he had for her character. The production values were great, but the script could have used a little work.\n",
      "\n",
      "Blind Date (Columbia Pictures, 1934), was a [[deecnt]] film, but I have a few issues with this film. First of all, I don't fault the actors in this film at all, but more or less, I have a [[proble]] with the script. Also, I understand that this film was made in the [[1930Fs]] and people were looking to escape reality, but the script made Ann [[Sother'ns]] character look weak. She kept going back and forth between suitors and I felt as though she should have stayed with Paul Kelly's character in the end. He truly did care about her and her family and would have done anything for her and he did by giving her up in the end to [[fikle]] Neil Hamilton who in my opinion was only out for a good time. Paul Kelly's character, although a [[wbrkaholic]] was a [[mQn]] of integrity and truly [[locved]] Kitty (Ann [[SoNthern]]) as [[otpposed]] to Neil Hamilton, while he did like her a lot, I didn't [[sAee]] the depth of love that he had for her character. The production values were great, but the script could have used a little work.\n"
     ]
    },
    {
     "output_type": "stream",
     "name": "stderr",
     "text": [
      "[Succeeded / Failed / Skipped / Total] 4 / 8 / 1 / 13:  26%|██▌       | 13/50 [02:35<07:23, 11.99s/it]"
     ]
    },
    {
     "output_type": "stream",
     "name": "stdout",
     "text": [
      "--------------------------------------------- Result 13 ---------------------------------------------\n",
      "[[Negative (100%)]] --> [[[FAILED]]]\n",
      "\n",
      "I first watched this movie back in the mid/late 80's, when I was a kid. We couldn't even get all the way through it. The dialog, the acting, everything about it was just beyond lame.<br /><br />Here are a few examples... imagine these spoken real dramatically, way over-acted: \"Oreegon? You're going to Oreegon? Why would anyone want to go to Oreegon?\"<br /><br />\"Survivalists? Nobody ever told us about any survivalists!\"<br /><br />This movie was SO bad, my sister and I rented it again for her 16th birthday party, just so our friends could sit around and laugh at how awful it was. I don't think we were able to finish it then either!\n"
     ]
    },
    {
     "output_type": "stream",
     "name": "stderr",
     "text": [
      "[Succeeded / Failed / Skipped / Total] 4 / 9 / 1 / 14:  28%|██▊       | 14/50 [03:13<08:17, 13.81s/it]"
     ]
    },
    {
     "output_type": "stream",
     "name": "stdout",
     "text": [
      "--------------------------------------------- Result 14 ---------------------------------------------\n",
      "[[Negative (100%)]] --> [[[FAILED]]]\n",
      "\n",
      "I saw the Mogul Video VHS of this. That's another one of those old 1980s distributors whose catalog I wish I had!<br /><br />This movie was pretty poor. Though retitled \"Don't Look in the Attic,\" the main admonition that is repeated in this is \"Don't go to the villa.\" Just getting on the grounds of the villa is a bad idea. A character doesn't go into the attic until an hour into the movie, and actually should have done it earlier because of what is learned there.<br /><br />The movie starts in Turin, Italy in the 1950s. Two men are fighting, and a woman is telling them the villa is making them do it. One man kills the other, then regrets it, and the woman pulls out the knife and stabs him with it. She flees the villa, and after she's left a chair moves by itself (what's the point of that?), but when in the garden a hand comes up through the ground and drags he into the earth.<br /><br />From there, it's the present day, thirty years later. There's a séance that appears suddenly and doesn't appear to have anything to do with the movie. The children of the woman from the prologue are inheriting the house. The main daughter is played by the same actress who played her mother. At least one of the two men from the prologue seems to reoccur as another character too. She's haunted by some warnings not to go to the villa, but they all do, since if they do not use it, they forfeit it. People die. A lawyer who has won all his cases tries to investigate a little. The ending is pretty poor. Why was the family cursed? An unfortunately boring movie.<br /><br />There's an amusing small-print disclaimer on the back of the video box that reads \"The scenes depicted on this packaging may be an artist's impression and may not necessarily represent actual scenes from the film.\" In this case, the cover of the box is an illustration that does more or less accurately depict the aforementioned woman dragged underground scene, although there are two hands, and the woman is different. It's true, sometimes the cover art has nothing to do with the movie. I also recall seeing a reviewer who had a bad movie predictor scale, in which movies with illustrations on the cover instead of photos got at least one point for that.\n"
     ]
    },
    {
     "output_type": "stream",
     "name": "stderr",
     "text": [
      "[Succeeded / Failed / Skipped / Total] 4 / 10 / 1 / 15:  30%|███       | 15/50 [03:24<07:56, 13.61s/it]"
     ]
    },
    {
     "output_type": "stream",
     "name": "stdout",
     "text": [
      "--------------------------------------------- Result 15 ---------------------------------------------\n",
      "[[Negative (100%)]] --> [[[FAILED]]]\n",
      "\n",
      "A group of heirs to a mysterious old mansion find out that they have to live in it as part of a clause in the will or be disinherited, but they soon find out of its history of everybody whom had lived there before them having either died in weird accidents or having had killed each other.<br /><br />You've seen it all before, and this one is too low-budget and slow paced to be scary, and doesn't have any real surprises in the climax. No special effects or gore to speak of, in fact the only really amusing thing about the whole film is the quality of the English dubbing, which at times is as bad as a cheap martial arts movie.<br /><br />3 out of 10, pretty low in the pecking order of 80's haunted house movies.\n"
     ]
    },
    {
     "output_type": "stream",
     "name": "stderr",
     "text": [
      "[Succeeded / Failed / Skipped / Total] 4 / 11 / 1 / 16:  32%|███▏      | 16/50 [03:38<07:43, 13.64s/it]"
     ]
    },
    {
     "output_type": "stream",
     "name": "stdout",
     "text": [
      "--------------------------------------------- Result 16 ---------------------------------------------\n",
      "[[Negative (100%)]] --> [[[FAILED]]]\n",
      "\n",
      "Now, I LOVE Italian horror films. The cheesier they are, the better. However, this is not cheesy Italian. This is week-old spaghetti sauce with rotting meatballs. It is amateur hour on every level. There is no suspense, no horror, with just a few drops of blood scattered around to remind you that you are in fact watching a horror film. The \"special effects\" consist of the lights changing to red whenever the ghost (or whatever it was supposed to be) is around, and a string pulling bed sheets up and down. Oooh, can you feel the chills? The DVD quality is that of a VHS transfer (which actually helps the film more than hurts it). The dubbing is below even the lowest \"bad Italian movie\" standards and I gave it one star just because the dialogue is so hilarious! And what do we discover when she finally DOES look in the attic (in a scene that is daytime one minute and night the next)...well, I won't spoil it for anyone who really wants to see, but let's just say that it isn't very \"novel\"!\n"
     ]
    },
    {
     "output_type": "stream",
     "name": "stderr",
     "text": [
      "[Succeeded / Failed / Skipped / Total] 4 / 12 / 1 / 17:  34%|███▍      | 17/50 [03:53<07:33, 13.75s/it]"
     ]
    },
    {
     "output_type": "stream",
     "name": "stdout",
     "text": [
      "--------------------------------------------- Result 17 ---------------------------------------------\n",
      "[[Negative (100%)]] --> [[[FAILED]]]\n",
      "\n",
      "This cheap, grainy-filmed Italian flick is about a couple of inheritors of a manor in the Italian countryside who head up to the house to stay, and then find themselves getting killed off by ghosts of people killed in that house.<br /><br />I wasn't impressed by this. It wasn't really that scary, mostly just the way a cheap Italian film should be. A girl, her two cousins, and one cousin's girlfriend, head to this huge house for some reason (I couldn't figure out why) and are staying there, cleaning up and checking out the place. Characters come in and out of the film, and it's quite boring at points, and the majority of deaths are quite rushed. The girlfriend is hit by a car when fleeing the house after having a dream of her death, and the scene is quite good, but then things get slow again, until a confusing end, when the male cousins are killed together in some weird way, and this weirdo guy (I couldn't figure out who he was during the movie, or maybe I just don't remember) goes after this one girl, attacking her, until finally this other girl kills him off. Hate to give away the ending, but oh well. The female cousin decides to stay at the house and watch over it, and they show scenes of her living there years later. The end. You really aren't missing anything, and anyway, you probably won't find this anywhere, so lucky you.\n"
     ]
    },
    {
     "output_type": "stream",
     "name": "stderr",
     "text": [
      "[Succeeded / Failed / Skipped / Total] 4 / 13 / 2 / 19:  38%|███▊      | 19/50 [04:08<06:45, 13.07s/it]"
     ]
    },
    {
     "output_type": "stream",
     "name": "stdout",
     "text": [
      "--------------------------------------------- Result 18 ---------------------------------------------\n",
      "[[Negative (100%)]] --> [[[FAILED]]]\n",
      "\n",
      "I just finished watching this movie and am disappointed to say that I didn't enjoy it a bit. It is so slow Slow and uninteresting. This kid from Harry Potter plays a shy teenager with an rude mother, and then one day the rude mother tells the kid to find a job so that they could accommodate an old guy apparently having no place to live has started to live with his family and therefore the kid goes to work for a old lady. And this old lady who is living all alone teaches him about girls, driving car and life! I couldn't get how an 18 year old guy enjoy spending time with an awful lady in her 80s. Sorry if my comments on this movie has bothered people who might have enjoyed it, I could be wrong as I am not British and may not understand the social and their family structure and way of life. Mostly the movie is made for the British audience.\n",
      "--------------------------------------------- Result 19 ---------------------------------------------\n",
      "[[Positive (94%)]] --> [[[SKIPPED]]]\n",
      "\n",
      "Ben, (Rupert Grint), is a deeply unhappy adolescent, the son of his unhappily married parents. His father, (Nicholas Farrell), is a vicar and his mother, (Laura Linney), is ... well, let's just say she's a somewhat hypocritical soldier in Jesus' army. It's only when he takes a summer job as an assistant to a foul-mouthed, eccentric, once-famous and now-forgotten actress Evie Walton, (Julie Walters), that he finally finds himself in true 'Harold and Maude' fashion. Of course, Evie is deeply unhappy herself and it's only when these two sad sacks find each other that they can put their mutual misery aside and hit the road to happiness.<br /><br />Of course it's corny and sentimental and very predictable but it has a hard side to it, too and Walters, who could sleep-walk her way through this sort of thing if she wanted, is excellent. It's when she puts the craziness to one side and finds the pathos in the character, (like hitting the bottle and throwing up in the sink), that she's at her best. The problem is she's the only interesting character in the film (and it's not because of the script which doesn't do anybody any favours). Grint, on the other hand, isn't just unhappy; he's a bit of a bore as well while Linney's starched bitch is completely one-dimensional. (Still, she's got the English accent off pat). The best that can be said for it is that it's mildly enjoyable - with the emphasis on the mildly.\n"
     ]
    },
    {
     "output_type": "stream",
     "name": "stderr",
     "text": [
      "[Succeeded / Failed / Skipped / Total] 4 / 14 / 3 / 21:  42%|████▏     | 21/50 [04:26<06:08, 12.71s/it]"
     ]
    },
    {
     "output_type": "stream",
     "name": "stdout",
     "text": [
      "--------------------------------------------- Result 20 ---------------------------------------------\n",
      "[[Negative (100%)]] --> [[[FAILED]]]\n",
      "\n",
      "Every movie I have PPV'd because Leonard Maltin praised it to the skies has blown chunks! Every single one! When will I ever learn?<br /><br />Evie is a raving Old Bag who thinks nothing of saying she's dying of breast cancer to get her way! Laura is an insufferable Medusa filled with The Holy Spirit (and her hubby's protégé)! Caught between these harpies is Medusa's dumb-as-a-rock boy who has been pressed into weed-pulling servitude by The Old Bag!<br /><br />As I said, when will I ever learn?<br /><br />I was temporarily lifted out of my malaise when The Old Bag stuck her head in a sink, but, unfortunately, she did not die. I was temporarily lifted out of my malaise again when Medusa got mowed down, but, unfortunately, she did not die. It should be a capital offense to torture audiences like this!<br /><br />Without Harry Potter to kick him around, Rupert Grint is just a pair of big blue eyes that practically bulge out of its sockets. Julie Walters's scenery-chewing (especially the scene when she \"plays\" God) is even more shameless than her character.<br /><br />At least this Harold bangs some bimbo instead of Maude. For that, I am truly grateful. And if you're reading this Mr. Maltin, you owe me $3.99!\n",
      "--------------------------------------------- Result 21 ---------------------------------------------\n",
      "[[Positive (87%)]] --> [[[SKIPPED]]]\n",
      "\n",
      "Low budget horror movie. If you don't raise your expectations too high, you'll probably enjoy this little flick. Beginning and end are pretty good, middle drags at times and seems to go nowhere for long periods as we watch the goings on of the insane that add atmosphere but do not advance the plot. Quite a bit of gore. I enjoyed Bill McGhee's performance which he made quite believable for such a low budget picture, he managed to carry the movie at times when nothing much seemed to be happening. Nurse Charlotte Beale, played by Jesse Lee, played her character well so be prepared to want to slap her toward the end! She makes some really stupid mistakes but then, that's what makes these low budget movies so good! I would have been out of that place and five states away long before she even considered that it might be a good idea to leave! If you enjoy this movie, try Committed from 1988 which is basically a rip off of this movie.\n"
     ]
    },
    {
     "output_type": "stream",
     "name": "stderr",
     "text": [
      "[Succeeded / Failed / Skipped / Total] 4 / 15 / 3 / 22:  44%|████▍     | 22/50 [05:24<06:52, 14.73s/it]"
     ]
    },
    {
     "output_type": "stream",
     "name": "stdout",
     "text": [
      "--------------------------------------------- Result 22 ---------------------------------------------\n",
      "[[Negative (100%)]] --> [[[FAILED]]]\n",
      "\n",
      "Dr Stephens (Micheal Harvey) runs a mental asylum. He has a different approach to the insane. He conducts unorthodox methods of treatment. He treats everyone like family, there are no locks on the patients doors and he lets some of the inmates act out their twisted fantasies. He lets Sergeant Jaffee (Hugh Feagin) dress and act as a soldier and Harriet (Camilla Carr) be a mother to a doll, including letting her put it to bed in a cot. Dr. Stevens is outside letting Judge Oliver W. Cameron (Gene Ross) chop a log up with an axe, it turns out to be a bad move as once Dr. Stevens back is turned the Judge plants the axe in his shoulder. Soon after Nurse Charlotte Beale (Rosie Holotik) arrives at the Sanitarium having arranged an interview with Dr. Stevens about a possible job. She is met by the head Nurse, Geraldine Masters (Annabelle Weenick as Anne McAdams) and is offered a trail position. She gets to know and becomes well liked among the patients. However things eventually start to turn sour, the phone lines are cut, an old lady named Mrs. Callingham (Rhea MacAdams) has her tongue cut out and she starts to get a strange feeling that things just aren't right somehow. Then, one night all the Sanitariums dark secrets are violently revealed. Produced and directed by S.f. Brownrigg this film has a great central idea which builds into a cool twist ending, but ultimately is a bit of a chore to sit through because of it's low budget restrictions and a rather slow script by Tim Pope. There are just too many long boring stretches of dialogue by the inmates, not a lot really happens until the final twenty odd minutes. The film has no real visual quality as it's set entirely in the Sanitarium and it's grounds which is basically just a big bland house in the middle of nowhere. There's no graphic gore in it, a few splashes of blood here and there and thats yer lot. There's a bit of nudity, but like the gore not much. The acting is pretty strong, especially Holotik and Weenick. The photography is flat and unexciting and I can't even remember what the music was like. The twist ending is great, but it just takes far too long to get to it. A film that had a lot of potential that was probably held back by it's budget. OK I guess, but I think it would have worked a lot better if the story had been turned into a half an hour 'Tales form the Crypt' episode.\n"
     ]
    },
    {
     "output_type": "stream",
     "name": "stderr",
     "text": [
      "[Succeeded / Failed / Skipped / Total] 5 / 15 / 3 / 23:  46%|████▌     | 23/50 [05:29<06:26, 14.33s/it]"
     ]
    },
    {
     "output_type": "stream",
     "name": "stdout",
     "text": [
      "--------------------------------------------- Result 23 ---------------------------------------------\n",
      "[[Negative (100%)]] --> [[Positive (69%)]]\n",
      "\n",
      "The [[Forgotten]] (AKA: Don't Look In The Basement) is a very cheaply [[made]] and very old looking horror [[movie]].<br /><br />The story is very [[slow]] and [[never]] really reaches [[anything]] worth getting [[excited]] about.<br /><br />The patients at the asylum are embarrassingly funny especially Sam and the old woman who always quotes an old saying to everyone. ([[Look]] out for the bit when she gets close to the camera, tell me you can watch without laughing!).<br /><br />Now the [[gore]] is very poor looking, with the blood looking pink in many scenes so it doesn't really [[deserve]] its place on the video nasties list!.<br /><br />Overall if you aren't looking for a fantastic horror film and have some time to spare then it's worth a watch.\n",
      "\n",
      "The [[FWrgotten]] (AKA: Don't Look In The Basement) is a very cheaply [[maPe]] and very old looking horror [[movrie]].<br /><br />The story is very [[slwo]] and [[Znever]] really reaches [[aynthing]] worth getting [[excwted]] about.<br /><br />The patients at the asylum are embarrassingly funny especially Sam and the old woman who always quotes an old saying to everyone. ([[Loko]] out for the bit when she gets close to the camera, tell me you can watch without laughing!).<br /><br />Now the [[gowe]] is very poor looking, with the blood looking pink in many scenes so it doesn't really [[deservfe]] its place on the video nasties list!.<br /><br />Overall if you aren't looking for a fantastic horror film and have some time to spare then it's worth a watch.\n"
     ]
    },
    {
     "output_type": "stream",
     "name": "stderr",
     "text": [
      "[Succeeded / Failed / Skipped / Total] 5 / 16 / 3 / 24:  48%|████▊     | 24/50 [06:03<06:34, 15.16s/it]"
     ]
    },
    {
     "output_type": "stream",
     "name": "stdout",
     "text": [
      "--------------------------------------------- Result 24 ---------------------------------------------\n",
      "[[Negative (100%)]] --> [[[FAILED]]]\n",
      "\n",
      "This movie had a very unique effect on me: it stalled my realization that this movie REALLY sucks! It is disguised as a \"thinker's film\" in the likes of Memento and other jewels like that, but at the end, and even after a few minutes, you come to realize that this is nothing but utter pretentious cr4p. Probably written by some collage student with friends to compassionate to tell him that his writing sucks. The whole idea is  I don't even know if it tried to scratch on the supernatural, or they want us to believe that because someone fills your mind (a very weak one, btw) with stupid \"riddles\", the kind you learn on elementary school recess, you suddenly come to the \"one truth\" about everything, then you have to kill someone and confess. !!! What? How, what, why, WHY? Is just like saying that to make a cake, just throw a bunch of ingredients, and add water forgot about cooking it? I guess these guys forgot to, not explain, but present the mechanism of WHY was this happening? You have to do that when you present a story which normal, everyday acts (lie solving riddle rhymes) start to have an abnormal effect on people. Acting was horrible, with that girl always trying to look cute at the camera, and the guy from Highlanders, the series, acting up like the though heavy metal record store (yeah, they're all real though s-o-b's). The \"menacing\" atmosphere, with the \"oh-so-clever\" riddles (enter the 60's series of Batman and Robin, with guest appearance of The Riddle) and the crazies who claim to have \"the knowledge\" behind that smirk on their faces just horrible, HORRIBLE.<br /><br />I'm usually very partial about low budget movies, and tend to root for the underdog by giving them more praise than they may deserve, in lieu of their constrictions, you know, but this is just an ugly excuse for a movie that will keep you wanting to be good for an hour and a half, and at the end you will just lament that you fell for it.\n"
     ]
    },
    {
     "output_type": "stream",
     "name": "stderr",
     "text": [
      "[Succeeded / Failed / Skipped / Total] 5 / 17 / 3 / 25:  50%|█████     | 25/50 [06:19<06:19, 15.19s/it]"
     ]
    },
    {
     "output_type": "stream",
     "name": "stdout",
     "text": [
      "--------------------------------------------- Result 25 ---------------------------------------------\n",
      "[[Negative (100%)]] --> [[[FAILED]]]\n",
      "\n",
      "too bad this movie isn't. While \"Nemesis Game\" is mildly entertaining, I found it hard to suspend my disbelief the whole length of the movie, especially the situations that Sara was putting herself into. Are we supposed to believe that:<br /><br />1) this hot chick is going to go slumming unarmed around abandoned buildings and dark subway tunnels in the middle of the night just to solve some riddles?<br /><br />2) the protagonists are supposedly such experts that they play riddle games for fun, but don't put the whole \"I Never Sinned\" riddle together until the very end...and then...and then...get this...she has to do the whole mirror thing to finally put the pieces together?? I know it was the filmmaker's device to show the audience what was going on, but do they really think we're that stupid?<br /><br />3) when Vern and Sara go to the Chez M to question the blonde, there is not ONE topless chick in the whole building. Nada. C'mon. I know it's Canada, but I would expect more from a country that gave us Shannon Tweed.<br /><br />And anyone else notice that when Vern was surfing the Web and found that riddlezone site, that when he moused over the link the cursor stayed an arrow, and didn't turn into a little hand (LIKE ALL CURSORS DO WHEN YOU CLICK ON A HYPERLINK)?!? I mean, if you're gonna have the internet play such a prominent role in your movie, at least get the little things right. Geez.\n"
     ]
    },
    {
     "output_type": "stream",
     "name": "stderr",
     "text": [
      "[Succeeded / Failed / Skipped / Total] 5 / 18 / 3 / 26:  52%|█████▏    | 26/50 [06:31<06:01, 15.06s/it]"
     ]
    },
    {
     "output_type": "stream",
     "name": "stdout",
     "text": [
      "--------------------------------------------- Result 26 ---------------------------------------------\n",
      "[[Negative (100%)]] --> [[[FAILED]]]\n",
      "\n",
      "I of course saw the previews for this at the beginning of some other Lion's Gate extravaganza, so of course it was only the best parts and therefore looked intriguing. And it is, to a point. A young college student (Sarah)is finding riddles all over the place and is becoming obsessed with answering them, and in doing so she's unwittingly becoming involved in some game. Now that's fairly intriguing right there but unfortunately it all gets rather muddled and becomes so complicated that the viewer (like myself) will most likely become frustrated. Characters appear with little introduction and you're not really sure who they are or why Sarah knows them or is hanging out with them. All of this has something to do with this woman who tried to drown a young boy years ago and her reason for that was that it's \"all part of the design\". In reality, it's all part of the \"very sketchy script\" and when the film is over you'll find yourself feeling that you've lost about an hour and a half of your life that you want back for more productive uses of your time, like cleaning the bathroom, for instance. 4 out of 10.\n"
     ]
    },
    {
     "output_type": "stream",
     "name": "stderr",
     "text": [
      "[Succeeded / Failed / Skipped / Total] 5 / 19 / 3 / 27:  54%|█████▍    | 27/50 [06:55<05:53, 15.39s/it]"
     ]
    },
    {
     "output_type": "stream",
     "name": "stdout",
     "text": [
      "--------------------------------------------- Result 27 ---------------------------------------------\n",
      "[[Negative (100%)]] --> [[[FAILED]]]\n",
      "\n",
      "I gave this a 3 out of a possible 10 stars.<br /><br />Unless you like wasting your time watching an anorexic actress, in this film it's Carly Pope, behaving like a ditz, don't bother.<br /><br />Carly Pope plays Sara Novak, a young college student, who becomes intrigued with a game of riddles, that leads her down into subway tunnels underneath the city - a dangerous thing for even a well-armed man to go in alone.<br /><br />There are various intrigues in the film -- a weirdo classmate who is apparently stalking Sara, a cynical shopkeeper who runs some kind of offbeat hole-in-the-wall establishment that appears to be located in the back alley of a ghetto, a nerdish dim-wit that hangs around the cynic's shop, and a woman named Emily Gray, who is back in prison.<br /><br />Sara's father is a lawyer who is handling Emily Gray's case. <br /><br />A few years back, Emily Gray attempted to drown a 12 year old boy. Emily was put in a mental hospital for 5 years, and for some cockeyed reason they let her out again, even though it is obvious she is still dangerously deranged.<br /><br />The only explanation Emily has ever given for her crime is: I never sinned.<br /><br />It's all part of the design.<br /><br />Well, my friend, don't expect to ever get any better explanation than that, because you won't.\n"
     ]
    },
    {
     "output_type": "stream",
     "name": "stderr",
     "text": [
      "[Succeeded / Failed / Skipped / Total] 6 / 19 / 3 / 28:  56%|█████▌    | 28/50 [07:07<05:35, 15.27s/it]"
     ]
    },
    {
     "output_type": "stream",
     "name": "stdout",
     "text": [
      "--------------------------------------------- Result 28 ---------------------------------------------\n",
      "[[Negative (100%)]] --> [[Positive (55%)]]\n",
      "\n",
      "I was [[looking]] [[forward]] to this movie. [[Trustworthy]] [[actors]], interesting [[plot]]. Great atmosphere then ????? IF you are going to attempt something that is meant to encapsulate the meaning of life. First. Know it. [[OK]] I did not expect the [[directors]] or writers to actually know the [[meaning]] but I thought they may have offered crumbs to peck at and treats to add fuel to the fire-Which! they almost did. Things I didn't get. A woman wandering around in dark [[places]] and lonely [[car]] parks alone-oblivious to the consequences. Great riddles that fell by the wayside. The promise of the knowledge therein contained by the original so-called criminal. I had no problem with the [[budget]] and enjoyed the suspense. I [[understood]] and can wax [[lyrical]] about the [[fool]] and found Adrian Pauls [[role]] crucial and penetrating and then ????? [[Basically]] the story line and the script where good up to a point and that point was the last 10 minutes or so. What? [[Run]] out of ideas! [[Such]] a pity that this movie had to let us down so [[badly]]. [[It]] may not comprehend the [[meaning]] and I really did not expect the [[writers]] to understand it but I was hoping for an [[intellectual]], if not spiritual ride and got a bump in the road\n",
      "\n",
      "I was [[loZoking]] [[Aforward]] to this movie. [[Trustworhty]] [[actor]], interesting [[lot]]. Great atmosphere then ????? IF you are going to attempt something that is meant to encapsulate the meaning of life. First. Know it. [[KO]] I did not expect the [[directoAs]] or writers to actually know the [[eaning]] but I thought they may have offered crumbs to peck at and treats to add fuel to the fire-Which! they almost did. Things I didn't get. A woman wandering around in dark [[laces]] and lonely [[ca]] parks alone-oblivious to the consequences. Great riddles that fell by the wayside. The promise of the knowledge therein contained by the original so-called criminal. I had no problem with the [[budegt]] and enjoyed the suspense. I [[undierstood]] and can wax [[lyricaNl]] about the [[fSool]] and found Adrian Pauls [[rolwe]] crucial and penetrating and then ????? [[BasWcally]] the story line and the script where good up to a point and that point was the last 10 minutes or so. What? [[Ruun]] out of ideas! [[SuRch]] a pity that this movie had to let us down so [[bdaly]]. [[IP]] may not comprehend the [[eaning]] and I really did not expect the [[wriers]] to understand it but I was hoping for an [[intellectua]], if not spiritual ride and got a bump in the road\n"
     ]
    },
    {
     "output_type": "stream",
     "name": "stderr",
     "text": [
      "[Succeeded / Failed / Skipped / Total] 6 / 20 / 3 / 29:  58%|█████▊    | 29/50 [07:17<05:16, 15.08s/it]"
     ]
    },
    {
     "output_type": "stream",
     "name": "stdout",
     "text": [
      "--------------------------------------------- Result 29 ---------------------------------------------\n",
      "[[Negative (100%)]] --> [[[FAILED]]]\n",
      "\n",
      "Four things intrigued me as to this film - firstly, it stars Carly Pope (of \"Popular\" fame), who is always a pleasure to watch. Secdonly, it features brilliant New Zealand actress Rena Owen. Thirdly, it is filmed in association with the New Zealand Film Commission. Fourthly, a friend recommended it to me. However, I was utterly disappointed. The whole storyline is absurd and complicated, with very little resolution. Pope's acting is fine, but Owen is unfortunately under-used. The other actors and actresses are all okay, but I am unfamiliar with them all. Aside from the nice riddles which are littered throughout the movie (and Pope and Owen), this film isn't very good. So the moral of the story is...don't watch it unless you really want to.\n"
     ]
    },
    {
     "output_type": "stream",
     "name": "stderr",
     "text": [
      "[Succeeded / Failed / Skipped / Total] 7 / 20 / 3 / 30:  60%|██████    | 30/50 [07:19<04:52, 14.64s/it]"
     ]
    },
    {
     "output_type": "stream",
     "name": "stdout",
     "text": [
      "--------------------------------------------- Result 30 ---------------------------------------------\n",
      "[[Negative (100%)]] --> [[Positive (77%)]]\n",
      "\n",
      "<br /><br />Never ever take a film just for its good looking title.<br /><br />Although it all starts well, the film suffers the same imperfections you see in [[B-films]]. Its like at a certain moment the writer does not any more how to end the film, so he ends it in a way nobody suspects it [[thinking]] this way he is ingenious.<br /><br />A film to be listed on top of the [[garbage]] list.<br /><br />\n",
      "\n",
      "<br /><br />Never ever take a film just for its good looking title.<br /><br />Although it all starts well, the film suffers the same imperfections you see in [[B-silms]]. Its like at a certain moment the writer does not any more how to end the film, so he ends it in a way nobody suspects it [[thUinking]] this way he is ingenious.<br /><br />A film to be listed on top of the [[garbJge]] list.<br /><br />\n"
     ]
    },
    {
     "output_type": "stream",
     "name": "stderr",
     "text": [
      "[Succeeded / Failed / Skipped / Total] 7 / 21 / 3 / 31:  62%|██████▏   | 31/50 [07:33<04:37, 14.62s/it]"
     ]
    },
    {
     "output_type": "stream",
     "name": "stdout",
     "text": [
      "--------------------------------------------- Result 31 ---------------------------------------------\n",
      "[[Negative (100%)]] --> [[[FAILED]]]\n",
      "\n",
      "Lowe returns to the nest after, yet another, failed relationship, to find he's been assigned to jury duty. It's in the plans to, somehow, get out of it, when he realizes the defendant is the girl he's had a serious crush on since the first grade.<br /><br />Through living in the past by telling other people about his feelings towards this girl (played by Camp), Lowe remembers those feelings and does everything in his power to clear Camp of attempted murder, while staying away from the real bad guys at the same time, and succeeding in creating a successful film at the same time.<br /><br />I've heard that St Augustine is the oldest city in the US, and I also know it has some ties to Ponce de Leon, so the backdrop is a good place to start. Unfortunately, it's the only thing good about this movie. The local police are inept, the judge is an idiot, and the defense counsel does everything in her power to make herself look like Joanie Cunningham! I don't know whether to blame the director for poor direction, or for just letting the cast put in such a hapless effort.<br /><br />In short, this movie was so boring, I could not even sleep through it! 1 out of 10 stars!\n"
     ]
    },
    {
     "output_type": "stream",
     "name": "stderr",
     "text": [
      "[Succeeded / Failed / Skipped / Total] 7 / 22 / 3 / 32:  64%|██████▍   | 32/50 [07:44<04:21, 14.52s/it]"
     ]
    },
    {
     "output_type": "stream",
     "name": "stdout",
     "text": [
      "--------------------------------------------- Result 32 ---------------------------------------------\n",
      "[[Negative (100%)]] --> [[[FAILED]]]\n",
      "\n",
      "Seriously, I can't imagine how anyone could find a single flattering thing to say about this movie, much less find it in themselves to write the glowing compliments contained in this comment section. How many methamphetamines was Bogdonovitch on during the filming of this movie? Was he giving a bonus to the actor that spat his lines out with the most speed and least inflection or thought? The dialogue is bad, the plot atrocious, even for a \"screwball\" comedy, and claims that the movie is an homage to classic film comedy is about the most inane thing I've ever heard. The cinematography is below the quality and innovation of that exhibited by the worst made-for-TV movies, the acting is awful (although I get the feeling that the fault for that lies squarely in the lap of the director), and speaking of which, did I mention the direction is so haphazard and inscrutable that it defies the definition of the word? The whole thing is a terribly unfunny (even in the much-beleaguered world of so-bad-it's-funny clunkers), soul-sucking, waste of two hours of your life that you'll never get back. Be afraid, be very afraid...\n"
     ]
    },
    {
     "output_type": "stream",
     "name": "stderr",
     "text": [
      "[Succeeded / Failed / Skipped / Total] 8 / 22 / 3 / 33:  66%|██████▌   | 33/50 [07:53<04:04, 14.36s/it]"
     ]
    },
    {
     "output_type": "stream",
     "name": "stdout",
     "text": [
      "--------------------------------------------- Result 33 ---------------------------------------------\n",
      "[[Negative (100%)]] --> [[Positive (83%)]]\n",
      "\n",
      "I'm the type of guy who loves hood movies from New Jack City to Baby Boy to Killa Season, from the b grade to the Hollywood. but this movie was something different. i am no hater and this movie was [[kinda]] enjoyable. but some bits were just weird. well the [[acting]] wasn't to [[good]], compared to Silkk The Shockers performance in Hot Boyz (quite good) and Ice-T in new Jack and SVU (great). the scene where Corrupt (Ice-T) kills the wanna be Jamaican dude he says something and lights himself on fire burning both Ice-T and the other dude, this kills the Jamaican, however Ice-T is unharmed, very similar to Ice's other movie Urban Menace (which stars both of these actors) were Snoops character is supernatural, however after this there is nothing suggested that Corrupt is like a demon. When MJ (Silkk) gets stabbed at first he struggling but after that he fights normally and was stabbed in the thigh-WITH OUT BLOOD. and when MJ confesses killing a cop cos the cop was beating up his friend Benny was weird, Benny isn't introduced in this movie and the scene isn't in the film. it does hold weight to the fact why Corrupt wants to kill MJ but is still makes u scratch your head. wen Jody writes a letter to Miss Jones character explaining what happened to them afterwords doesn't mention what happen 2 other main characters MJ and Lisa. the film did show the horror and poverty of the ghetto-which plagues the lives of Latinos and Blacks word wide-was a good part of the film, even though the clip of the projects was re-used thousands of times. and the scene where Miles kills the Latino brother by crashing his bike at full speed (not wearing a helmet) and running into my Latino brothers car would of killed him. the movie was similar to the film Urban Menace and half the actors were in both of these movies as well as the production team. it was OK tho. but me being from poverty i love hood films, however if u don't love em like i do Don't WATCH IT. only thing saving me from walking out is it reminded me of the first movie i made which was made with 100 dollars, and my love of the genre.<br /><br />Nathaniel Purez\n",
      "\n",
      "I'm the type of guy who loves hood movies from New Jack City to Baby Boy to Killa Season, from the b grade to the Hollywood. but this movie was something different. i am no hater and this movie was [[kicnda]] enjoyable. but some bits were just weird. well the [[ackting]] wasn't to [[Vood]], compared to Silkk The Shockers performance in Hot Boyz (quite good) and Ice-T in new Jack and SVU (great). the scene where Corrupt (Ice-T) kills the wanna be Jamaican dude he says something and lights himself on fire burning both Ice-T and the other dude, this kills the Jamaican, however Ice-T is unharmed, very similar to Ice's other movie Urban Menace (which stars both of these actors) were Snoops character is supernatural, however after this there is nothing suggested that Corrupt is like a demon. When MJ (Silkk) gets stabbed at first he struggling but after that he fights normally and was stabbed in the thigh-WITH OUT BLOOD. and when MJ confesses killing a cop cos the cop was beating up his friend Benny was weird, Benny isn't introduced in this movie and the scene isn't in the film. it does hold weight to the fact why Corrupt wants to kill MJ but is still makes u scratch your head. wen Jody writes a letter to Miss Jones character explaining what happened to them afterwords doesn't mention what happen 2 other main characters MJ and Lisa. the film did show the horror and poverty of the ghetto-which plagues the lives of Latinos and Blacks word wide-was a good part of the film, even though the clip of the projects was re-used thousands of times. and the scene where Miles kills the Latino brother by crashing his bike at full speed (not wearing a helmet) and running into my Latino brothers car would of killed him. the movie was similar to the film Urban Menace and half the actors were in both of these movies as well as the production team. it was OK tho. but me being from poverty i love hood films, however if u don't love em like i do Don't WATCH IT. only thing saving me from walking out is it reminded me of the first movie i made which was made with 100 dollars, and my love of the genre.<br /><br />Nathaniel Purez\n"
     ]
    },
    {
     "output_type": "stream",
     "name": "stderr",
     "text": [
      "[Succeeded / Failed / Skipped / Total] 8 / 23 / 3 / 34:  68%|██████▊   | 34/50 [08:05<03:48, 14.29s/it]"
     ]
    },
    {
     "output_type": "stream",
     "name": "stdout",
     "text": [
      "--------------------------------------------- Result 34 ---------------------------------------------\n",
      "[[Negative (100%)]] --> [[[FAILED]]]\n",
      "\n",
      "The most positive points in this film were the credits (text style) and some moments in Ice-T's acting. The story-line; two rival gangs having to fight it out, with the sub-plots of betrayal, power and change are well worn plots but in this case painful(very) to wade through. The decrepit scenery, which added slight believability in places, and questionable lighting, constantly distracted from any interest/identification with the characters (the shine off of the actress's forehead/nose was blinding, not to mention other scenes with the same problem.) Not even half way into the film I wanted to know more about how and why it came about as opposed to what was going on on screen. A disappointment if you have seen Ice-T in other roles. Kudos to other actors/actresses who seemed to get into their roles despite the weak direction; Corrupt's side kick and the other restaurant worker.\n"
     ]
    },
    {
     "output_type": "stream",
     "name": "stderr",
     "text": [
      "[Succeeded / Failed / Skipped / Total] 8 / 24 / 3 / 35:  70%|███████   | 35/50 [08:23<03:35, 14.38s/it]"
     ]
    },
    {
     "output_type": "stream",
     "name": "stdout",
     "text": [
      "--------------------------------------------- Result 35 ---------------------------------------------\n",
      "[[Negative (100%)]] --> [[[FAILED]]]\n",
      "\n",
      "I quite enjoyed The Wrecking Crew (1999), which was the last of the three films in this series (the first being Urban Menace (1999) which I've yet to see). I know it was baaaaad, but the three leads did a pretty decent job, all things considered.<br /><br />This, however, was truly atrocious. Ice-T was dreadful, and he's the producer! Can't say I've ever heard of Silkk The Shocker (who apparently never learnt how to spell), but his performance was one of the worst I've ever seen in a movie.<br /><br />Miss Jones did pretty well in her small role, though she later went on to make some atrocious, racist \"jokes\" on her radio show after the SE Asian tsunami (plus other occasions sadly). Way to go, girl...<br /><br />No-one else comes out with any credit. Strangely, TJ Storm and Ernie Hudson (who are both pretty bad here) are far better in The Wrecking Crew, which was made, along with Urban Menace, at the same time as Corrupt. How that works, I don't know.<br /><br />I'm going to try the Ice-T commentary now, to see whether he apologises for the film, or tries to make us think it's a great piece of film-making.\n"
     ]
    },
    {
     "output_type": "stream",
     "name": "stderr",
     "text": [
      "[Succeeded / Failed / Skipped / Total] 8 / 25 / 3 / 36:  72%|███████▏  | 36/50 [08:33<03:19, 14.27s/it]"
     ]
    },
    {
     "output_type": "stream",
     "name": "stdout",
     "text": [
      "--------------------------------------------- Result 36 ---------------------------------------------\n",
      "[[Negative (100%)]] --> [[[FAILED]]]\n",
      "\n",
      "this film has no plot, no good acting, to be honest it has nothing, the same songs play over and over awful acting and if you can actually sit there and watch the whole thing and enjoy it there is something wrong with you. I wish i could give this 0 out of 10 but i cant so it has to be a 1 which is generous! ice-t isn't even a good rapper and even worse at acting, every bit of the film is rubbish, i got this film on DVD without knowing what it was for the price of £1.99 and thought that i had picked up a bargain, i then looked at the IMDb rating and didn't take it into consideration but after watching it found out that the DVD i had bought was a complete waste of time, money and electricity. if you have this film there are two things you can do sell it to someone who doesn't know about it or burn it!\n"
     ]
    },
    {
     "output_type": "stream",
     "name": "stderr",
     "text": [
      "[Succeeded / Failed / Skipped / Total] 8 / 26 / 3 / 37:  74%|███████▍  | 37/50 [09:44<03:25, 15.80s/it]"
     ]
    },
    {
     "output_type": "stream",
     "name": "stdout",
     "text": [
      "--------------------------------------------- Result 37 ---------------------------------------------\n",
      "[[Negative (100%)]] --> [[[FAILED]]]\n",
      "\n",
      "Beware, My Lovely (1952) Dir: Harry Horner <br /><br />Production: The Filmmakers/RKO Radio Pictures<br /><br />Credulity-straining thriller from the pioneering producer team of Collier Young and Ida Lupino, aka The Filmmakers (with Lupino pitching in with some uncredited direction). <br /><br />Robert Ryan is the 'peril' and Ida Lupino is the 'woman' in this entry in the 'woman in peril' style film. Ryan plays Howard Wilton, a tightly-wound psychotic handyman drifter (noooo, Ryan? I know, hard to believe). Lupino is the lonely war widow, Helen Gordon, who hires Howard to do some work around her house. Things go downhill from there as Howard makes Helen a prisoner in her own home. <br /><br />Howard has a nasty secret, not that he could reveal it. You see, consciousness is a real challenge for him. Maintaining it, that is. He has an unfortunate habit of coming to and finding his employers dead. This is part of the film's problem. The nature of Howard's psychosis is so extreme that it is nearly impossible to believe that he's been free to roam from town to town unobstructed, even in the year 1918 (when the film is set). He can't remember anything that happened ten minutes ago. His violent, threatening, anti-social tendencies are set off by the smallest and most common of things (a young girl flirting, inadequacies involving the war, due to his being rejected for service). I don't know how he even made it past the interview with Helen. There are other implausibilities. If you were locked in your house with a madman, but nonetheless left on your own for periods of time, couldn't you figure out a way to escape? <br /><br />Ryan, I think, is defeated by the material. It feels like he's overplaying his hand. His series of tics and spasms and the tightly coiled bursts of dementia all have a been-there, done-that robotic feel to them. At this point in his career he'd probably played this character, to some degree, ten times and it shows. We are encouraged to empathize with Howard (I didn't) through shown bits of humanity, like him being stopped in his tracks by a music box and his relating to a group of children who won't judge him. Lupino just has to act frazzled and in distress, which she is more than capable of and does. <br /><br />The picture had one thing going for it; what would be the eventual resolution of the conflict? So naturally there was a disappointing ending that was abrupt and ineffective. <br /><br />Of slight interest was a recurring motif where the camera would catch Howard's reflection (in mirrors, water, Christmas tree decorations). This indicated something going on, or about to go on, in his head. Horner (1953's Vicki), who made his reputation in production design, does a fine job of making the house feel like a prison. Credit too, the always reliable RKO art department for the work on the house. In the end, sub-standard work from the principals, who all have much better films to their credit. <br /><br />*½ out of 4\n"
     ]
    },
    {
     "output_type": "stream",
     "name": "stderr",
     "text": [
      "[Succeeded / Failed / Skipped / Total] 9 / 26 / 3 / 38:  76%|███████▌  | 38/50 [09:49<03:06, 15.51s/it]"
     ]
    },
    {
     "output_type": "stream",
     "name": "stdout",
     "text": [
      "--------------------------------------------- Result 38 ---------------------------------------------\n",
      "[[Negative (90%)]] --> [[Positive (70%)]]\n",
      "\n",
      "The only [[reason]] this movie is not given a 1 (awful) vote is that the acting of both Ida Lupino and Robert Ryan is superb. Ida Lupino who is lovely, as usual, becomes increasingly distraught as she tries various means to rid herself of a madman. Robert Ryan is terrifying as the menacing stranger whose character, guided only by his disturbed mind, changes from one minute to the next. Seemingly simple and docile, suddenly he becomes clever and threatening. Ms. Lupino's character was in more danger from that house she lived in and her own stupidity than by anyone who came along. She could not manage to get out of her of her own house: windows didn't open, both front and back doors locked and unlocked from the inside with a key. You could not have designed a worse fire-trap if you tried. She did not take the precaution of having even one extra key. Nor could she figure out how to summon help from nearby neighbors or get out of her own basement while she was locked in and out of sight of her captor. I don't know what war her husband was killed in, but if it was World War II, the furnishings in her house, the styles of the clothes, especially the children and the telephone company repairman's car are clearly anachronistic. I recommend watching this movie just to see what oddities you can find.\n",
      "\n",
      "The only [[reasWn]] this movie is not given a 1 (awful) vote is that the acting of both Ida Lupino and Robert Ryan is superb. Ida Lupino who is lovely, as usual, becomes increasingly distraught as she tries various means to rid herself of a madman. Robert Ryan is terrifying as the menacing stranger whose character, guided only by his disturbed mind, changes from one minute to the next. Seemingly simple and docile, suddenly he becomes clever and threatening. Ms. Lupino's character was in more danger from that house she lived in and her own stupidity than by anyone who came along. She could not manage to get out of her of her own house: windows didn't open, both front and back doors locked and unlocked from the inside with a key. You could not have designed a worse fire-trap if you tried. She did not take the precaution of having even one extra key. Nor could she figure out how to summon help from nearby neighbors or get out of her own basement while she was locked in and out of sight of her captor. I don't know what war her husband was killed in, but if it was World War II, the furnishings in her house, the styles of the clothes, especially the children and the telephone company repairman's car are clearly anachronistic. I recommend watching this movie just to see what oddities you can find.\n"
     ]
    },
    {
     "output_type": "stream",
     "name": "stderr",
     "text": [
      "[Succeeded / Failed / Skipped / Total] 9 / 27 / 3 / 39:  78%|███████▊  | 39/50 [09:56<02:48, 15.30s/it]"
     ]
    },
    {
     "output_type": "stream",
     "name": "stdout",
     "text": [
      "--------------------------------------------- Result 39 ---------------------------------------------\n",
      "[[Negative (100%)]] --> [[[FAILED]]]\n",
      "\n",
      "Artificial melodrama with a screenplay adapted by Mel Dinelli from his play \"The Man\" concerns a boarding-house proprietress taking in a troubled handyman who may be homicidal. Despite solid work from Ida Lupino and Robert Ryan (both trying their best), this tedious yarn isn't very inventive within its one primary set (which quickly becomes visually dull) and underpopulated cast of characters (there is however a smart pooch who senses the worst!). Hokey and humorless, with a stilted direction from Harry Horner (perhaps Lupino should have directed?). Where's all the suspense promised by the ads? Dinelli also served as a co-producer. *1/2 from ****\n"
     ]
    },
    {
     "output_type": "stream",
     "name": "stderr",
     "text": [
      "[Succeeded / Failed / Skipped / Total] 10 / 27 / 3 / 40:  80%|████████  | 40/50 [10:07<02:31, 15.19s/it]"
     ]
    },
    {
     "output_type": "stream",
     "name": "stdout",
     "text": [
      "--------------------------------------------- Result 40 ---------------------------------------------\n",
      "[[Negative (100%)]] --> [[Positive (96%)]]\n",
      "\n",
      "Wow, what an [[overrated]] movie this turned out to be! [[It]] was [[supposed]] to be \"an extremely suspenseful tale of a crazed killer holding a woman hostage and in terror in her home.\" Well, I doubt it terrorized audiences in the early '[[50s]] and I know it would put today's audiences asleep.<br /><br />\"Sends shivers down the spine,\" proclaims the New York [[Times]]. No, the only shivers I get is that anyone is left on the planet who believes anything the N.Y. Times prints about anything.<br /><br />Well, it was about a deranged [[man]] who held a woman hostage for a short time in her house but the [[man]]. \"Howard Wilton\" (Robert [[Ryan]]) was actually harmless and friendly. In [[fact]], this was one of the nicest [[roles]] Ryan ever played! Yes, \"Wilton\" was nuts but he never harmed the woman and only wanted a friend to trust.<br /><br />The [[film]] even turned boring after [[awhile]] with very little going on [[except]] a lot of [[yakking]]. <br /><br />[[Beware]], my reader.....this [[sucks]].\n",
      "\n",
      "Wow, what an [[ovrerated]] movie this turned out to be! [[IZ]] was [[suOposed]] to be \"an extremely suspenseful tale of a crazed killer holding a woman hostage and in terror in her home.\" Well, I doubt it terrorized audiences in the early '[[50Ms]] and I know it would put today's audiences asleep.<br /><br />\"Sends shivers down the spine,\" proclaims the New York [[Ties]]. No, the only shivers I get is that anyone is left on the planet who believes anything the N.Y. Times prints about anything.<br /><br />Well, it was about a deranged [[jan]] who held a woman hostage for a short time in her house but the [[mat]]. \"Howard Wilton\" (Robert [[RTyan]]) was actually harmless and friendly. In [[fait]], this was one of the nicest [[rolse]] Ryan ever played! Yes, \"Wilton\" was nuts but he never harmed the woman and only wanted a friend to trust.<br /><br />The [[fim]] even turned boring after [[awhlie]] with very little going on [[ecept]] a lot of [[yakkiVng]]. <br /><br />[[BewBare]], my reader.....this [[sucsk]].\n"
     ]
    },
    {
     "output_type": "stream",
     "name": "stderr",
     "text": [
      "[Succeeded / Failed / Skipped / Total] 10 / 28 / 3 / 41:  82%|████████▏ | 41/50 [10:24<02:17, 15.24s/it]"
     ]
    },
    {
     "output_type": "stream",
     "name": "stdout",
     "text": [
      "--------------------------------------------- Result 41 ---------------------------------------------\n",
      "[[Negative (100%)]] --> [[[FAILED]]]\n",
      "\n",
      "I can't believe the high marks people have given this film on this site. The writing is incredibly bad with people coming in at just the right time and revealing exactly what the heroine is doing to try to escape. (Don't you just hate it when that happens?). And the acting is so very, very bad that you may get a splinter in your eye from all the scenery being chewed.<br /><br />A nut is holding her hostage, children are outside the open screen, so she whimpers for help instead of screaming when only a moment ago she was brave enough to be smashing windows to yell to these same children.<br /><br />She's finally free and alone in the house. Her chance to go for help, so what does she do? Wanders around the house and lies down. She's in the basement, locked away. So what does she do? Takes a little nap. Come on! Most of the movie is the nut wandering away and finding her sitting there snoozing when he wakes her up. Four times! What? If the writer is too bored to actually write a real plot why should we be paying attention? I think the key here is that it was originally a play for the radio, so they filled in with the heroine just sitting around rather than pretending to be screen writers and actually writing any action.<br /><br />And the ending is horrendous.<br /><br />The whole movie is completely implausible, horribly written and almost comically acted. Beware this movie at all costs!\n"
     ]
    },
    {
     "output_type": "stream",
     "name": "stderr",
     "text": [
      "[Succeeded / Failed / Skipped / Total] 11 / 28 / 3 / 42:  84%|████████▍ | 42/50 [10:25<01:59, 14.90s/it]"
     ]
    },
    {
     "output_type": "stream",
     "name": "stdout",
     "text": [
      "--------------------------------------------- Result 42 ---------------------------------------------\n",
      "[[Negative (100%)]] --> [[Positive (98%)]]\n",
      "\n",
      "Widow hires a psychopath as a handyman. [[Sloppy]] film noir thriller which doesn't [[make]] [[much]] of its tension promising set-up. (3/10)\n",
      "\n",
      "Widow hires a psychopath as a handyman. [[lSoppy]] film noir thriller which doesn't [[amke]] [[uch]] of its tension promising set-up. (3/10)\n"
     ]
    },
    {
     "output_type": "stream",
     "name": "stderr",
     "text": [
      "[Succeeded / Failed / Skipped / Total] 11 / 29 / 3 / 43:  86%|████████▌ | 43/50 [10:36<01:43, 14.81s/it]"
     ]
    },
    {
     "output_type": "stream",
     "name": "stdout",
     "text": [
      "--------------------------------------------- Result 43 ---------------------------------------------\n",
      "[[Negative (100%)]] --> [[[FAILED]]]\n",
      "\n",
      "I have no idea how anyone can give this movie high marks. I didn't rent it thinking it was the next great horror flick, the next great horror spoof, or the next great low-budget horror spoof. Obviously, this isn't meant to scare, but one fatal flaw with the production entirely sapped the joy out of the viewing experience. The sound editing was horrible. I had to work the volume control the entire movie. You can imagine how difficult it is to get into something - even a low-budget spoof - when you're either turning the volume up or down, or trying to anticipate the next time you have to do so. The regular dialogue is very low, and all screams, noises, etc., are VERY loud. We're not talking about toggling between 5 and 7 on the volume control, finding a happy medium at 6. We're talking toggling between 2 and 9 on the volume where it is virtually impossible to leave the volume alone. Again, this movie might be a decent example of what it is meant to be, but you're going to be spending so much time adjusting your volume control that you'll never have the chance to enjoy it.\n"
     ]
    },
    {
     "output_type": "stream",
     "name": "stderr",
     "text": [
      "[Succeeded / Failed / Skipped / Total] 11 / 30 / 3 / 44:  88%|████████▊ | 44/50 [10:54<01:29, 14.88s/it]"
     ]
    },
    {
     "output_type": "stream",
     "name": "stdout",
     "text": [
      "--------------------------------------------- Result 44 ---------------------------------------------\n",
      "[[Negative (100%)]] --> [[[FAILED]]]\n",
      "\n",
      "Seeing the title of this movie \"Stupid Teenagers Must Die\" made me believe this was a spoof of some kind. I discovered later on the original title was \"Blood and Guts\". Both titles are misleading, though. This is not a spoof, neither a serious splatter movie. This is something in between, failing in both areas. A group of teenagers is attending a séance at a spooky house and then the killing starts. Sounds over familiar, doesn't it. Well, this movies adds nothing whatsoever to the endless stream of similar movies. And it is badly made. Because of the lack of light the entire film is grainy. Now this effect can be highly effective, but it isn't in this case. The young cast isn't acting too badly, but the director has no clue as what to do with actors. In numerous scenes the actors are clearly waiting for directions, but these are given too late. It could also be an editor's mistake, of course. The characters are unrealistic and the story line just stinks. The sound is terrible at times: conversations are undecipherable, but when talking loudly or screaming the actors are very loud indeed.<br /><br />This is not the worst horror movie I have ever seen, but it still is a bad one. For me a 3 out of 10.\n"
     ]
    },
    {
     "output_type": "stream",
     "name": "stderr",
     "text": [
      "[Succeeded / Failed / Skipped / Total] 11 / 31 / 3 / 45:  90%|█████████ | 45/50 [11:11<01:14, 14.92s/it]"
     ]
    },
    {
     "output_type": "stream",
     "name": "stdout",
     "text": [
      "--------------------------------------------- Result 45 ---------------------------------------------\n",
      "[[Negative (100%)]] --> [[[FAILED]]]\n",
      "\n",
      "Now I understand that this took two months to shoot. Really? I'm pretty certain my crew could do it in less than a week. This movie sucked so bad I couldn't even pay close attention. Just more proof that boob bearing women can't always save you from horrible writing, acting and direction. Now I understand it was a no budget endeavor, but there is also no continuity and no real reason to not to turn it off and watch infomercials or foreign news in a language you don't understand. Oh, there are a few decent looking females showing the goods. Still, there aren't enough sexy women alive to warrant watching this travesty perpetrated on the film industry. One of the longest 80 minutes of my life. I trooped it out though with the help of my old friend Jim Beam. Do yourself a favor and get your gun ready cuz you may want to use it after this hack job. Lastly, the individual (moron) who left a comment before mine thought this was a great movie and LOVED it. Just more proof that siblings shouldn't pro-create. Ow, BURN!!! - Captain J\n"
     ]
    },
    {
     "output_type": "stream",
     "name": "stderr",
     "text": [
      "[Succeeded / Failed / Skipped / Total] 11 / 32 / 3 / 46:  92%|█████████▏| 46/50 [11:23<00:59, 14.86s/it]"
     ]
    },
    {
     "output_type": "stream",
     "name": "stdout",
     "text": [
      "--------------------------------------------- Result 46 ---------------------------------------------\n",
      "[[Negative (100%)]] --> [[[FAILED]]]\n",
      "\n",
      "STMD! is not a terrible movie, but it IS quite forgettable. The lighting is intentionally poor in many scenes and unintentionally poor in all the rest, so you are likely to come out of a viewing with a headache or eye-strain. Special effects are imaginative, but obvious. The gratuitous nudity essential for teen slasher flicks is there, of course, along with the archetypical teenagers, but the whole movie just doesn't gel. What was needed was some snappier dialogue and more tongue-in-cheek humor.<br /><br />I can't really recommend that you use your time watching this movie. I often give a nod to a movie based on just a scene or two that demonstrates imagination or humor, but these are sadly lacking in this film.\n"
     ]
    },
    {
     "output_type": "stream",
     "name": "stderr",
     "text": [
      "[Succeeded / Failed / Skipped / Total] 12 / 32 / 3 / 47:  94%|█████████▍| 47/50 [11:31<00:44, 14.72s/it]"
     ]
    },
    {
     "output_type": "stream",
     "name": "stdout",
     "text": [
      "--------------------------------------------- Result 47 ---------------------------------------------\n",
      "[[Negative (98%)]] --> [[Positive (56%)]]\n",
      "\n",
      "Okay, so it was never going to change the world, and it bombed at the box office, but Honky Tonk Freeway is one of those films I fell in love with as a child (the BBC showed it a few times during the 1980s and I happened to have a high quality VHS tape in the machine - lucky, that!) and watched endlessly. I watched the DVD last night and sadly, time has not been kind to this would-be blockbuster. Either that or I've just grown out of this kind of broad, dopey humour. Come on, when Schlesinger is so desperate for laughs he gives us close-ups of novelty underpants with 'amusing' slogans, what can you say about the cast or screenplay?<br /><br />Certainly, it's ambitious, interesting, unusual and sprawling, but it's never once laugh-out-loud funny. I'd describe it as a children's film with some 'adult' overtones - you can safely let your youngsters watch this, despite the 15 certificate. They won't get the drug references, so don't worry about it. I had a pleasant surprise when I realized I'd forgotten just how catchy both the title song and the song-writing truck driver's 'Everybody's Going Faster, Faster' song were, not to mention the town of Ticlaw's patriotic anthem. The whole cast give [[commendable]] performances, the photography is crisp and captures the mood of the various locations perfectly, and there's a real time capsule feeling about the fashions, the cars, the gadgets (especially the dashboard-mounted drum machine), the interiors and the pop-culture references - I was more than a little surprised to hear the nutty bum in the bank loudly telling everyone \"I'm OJ Simpson!\", particularly now Simpson's legal tangles have overshadowed his sporting achievements. The snag is, there's almost no plot to speak of, it's way too obvious to be witty and not [[funny]] enough to elicit many genuine [[laughs]]. I [[wish]] I'd left this one as a pleasant memory.\n",
      "\n",
      "Okay, so it was never going to change the world, and it bombed at the box office, but Honky Tonk Freeway is one of those films I fell in love with as a child (the BBC showed it a few times during the 1980s and I happened to have a high quality VHS tape in the machine - lucky, that!) and watched endlessly. I watched the DVD last night and sadly, time has not been kind to this would-be blockbuster. Either that or I've just grown out of this kind of broad, dopey humour. Come on, when Schlesinger is so desperate for laughs he gives us close-ups of novelty underpants with 'amusing' slogans, what can you say about the cast or screenplay?<br /><br />Certainly, it's ambitious, interesting, unusual and sprawling, but it's never once laugh-out-loud funny. I'd describe it as a children's film with some 'adult' overtones - you can safely let your youngsters watch this, despite the 15 certificate. They won't get the drug references, so don't worry about it. I had a pleasant surprise when I realized I'd forgotten just how catchy both the title song and the song-writing truck driver's 'Everybody's Going Faster, Faster' song were, not to mention the town of Ticlaw's patriotic anthem. The whole cast give [[commendIable]] performances, the photography is crisp and captures the mood of the various locations perfectly, and there's a real time capsule feeling about the fashions, the cars, the gadgets (especially the dashboard-mounted drum machine), the interiors and the pop-culture references - I was more than a little surprised to hear the nutty bum in the bank loudly telling everyone \"I'm OJ Simpson!\", particularly now Simpson's legal tangles have overshadowed his sporting achievements. The snag is, there's almost no plot to speak of, it's way too obvious to be witty and not [[finny]] enough to elicit many genuine [[lauEhs]]. I [[wih]] I'd left this one as a pleasant memory.\n"
     ]
    },
    {
     "output_type": "stream",
     "name": "stderr",
     "text": [
      "[Succeeded / Failed / Skipped / Total] 13 / 32 / 3 / 48:  96%|█████████▌| 48/50 [11:33<00:28, 14.45s/it]"
     ]
    },
    {
     "output_type": "stream",
     "name": "stdout",
     "text": [
      "--------------------------------------------- Result 48 ---------------------------------------------\n",
      "[[Negative (100%)]] --> [[Positive (88%)]]\n",
      "\n",
      "A sprawling, [[overambitious]], plotless comedy that has no dramatic center. It was probably intended to have an epic vision and a surrealistic flair (at least in some [[episodes]]), but the separate stories are [[never]] elevated into a meaningful whole, and the [[laughs]] are few and far between. Amusing [[ending]], though. (*1/2)\n",
      "\n",
      "A sprawling, [[oerambitious]], plotless comedy that has no dramatic center. It was probably intended to have an epic vision and a surrealistic flair (at least in some [[eKpisodes]]), but the separate stories are [[nevr]] elevated into a meaningful whole, and the [[lauhgs]] are few and far between. Amusing [[endng]], though. (*1/2)\n"
     ]
    },
    {
     "output_type": "stream",
     "name": "stderr",
     "text": [
      "[Succeeded / Failed / Skipped / Total] 13 / 33 / 3 / 49:  98%|█████████▊| 49/50 [11:45<00:14, 14.39s/it]"
     ]
    },
    {
     "output_type": "stream",
     "name": "stdout",
     "text": [
      "--------------------------------------------- Result 49 ---------------------------------------------\n",
      "[[Negative (100%)]] --> [[[FAILED]]]\n",
      "\n",
      "No, no, no, no, no, no, NO! This is not a film, this is an excuse to show people dancing. This is just not good. Even the dancing is slow and not half as entertaining as the mediocre 'Dirty Dancing', let alone any other good dance movie.<br /><br />Is it a love story? Is it a musical? Is it a drama? Is it a comedy? It's not that this movie is a bit of all, it's that this movie fails at everything it attempts to be. The film turns out to be even more meaningless as the film progresses.<br /><br />Acting is terrible from all sides, the screenplay is definitely trying to tell us something about relationship but fails miserably.<br /><br />WATCH FOR THE MOMENT - When Patrick Stewart enters the scene and you think the film might get better as he brightens up the dull atmosphere. For a second.\n"
     ]
    },
    {
     "output_type": "stream",
     "name": "stderr",
     "text": [
      "[Succeeded / Failed / Skipped / Total] 14 / 33 / 3 / 50: 100%|██████████| 50/50 [11:47<00:00, 14.15s/it]"
     ]
    },
    {
     "output_type": "stream",
     "name": "stdout",
     "text": [
      "--------------------------------------------- Result 50 ---------------------------------------------\n",
      "[[Negative (100%)]] --> [[Positive (55%)]]\n",
      "\n",
      "I found this movie [[really]] [[hard]] to [[sit]] through, my attention kept wandering off the tv. As far as [[romantic]] movies go..this one is the [[worst]] I've [[seen]]. Don't [[bother]] with it.\n",
      "\n",
      "I found this movie [[reall]] [[hrad]] to [[isit]] through, my attention kept wandering off the tv. As far as [[romankic]] movies go..this one is the [[worts]] I've [[sene]]. Don't [[Fother]] with it.\n"
     ]
    },
    {
     "output_type": "stream",
     "name": "stderr",
     "text": [
      "\r[Succeeded / Failed / Skipped / Total] 14 / 33 / 3 / 50: 100%|██████████| 50/50 [11:49<00:00, 14.19s/it]"
     ]
    },
    {
     "output_type": "stream",
     "name": "stdout",
     "text": [
      "\n",
      "+-------------------------------+--------+\n",
      "| Attack Results                |        |\n",
      "+-------------------------------+--------+\n",
      "| Number of successful attacks: | 14     |\n",
      "| Number of failed attacks:     | 33     |\n",
      "| Number of skipped attacks:    | 3      |\n",
      "| Original accuracy:            | 94.0%  |\n",
      "| Accuracy under attack:        | 66.0%  |\n",
      "| Attack success rate:          | 29.79% |\n",
      "| Average perturbed word %:     | 7.07%  |\n",
      "| Average num. words per input: | 204.38 |\n",
      "| Avg num queries:              | 287.62 |\n",
      "+-------------------------------+--------+\n"
     ]
    },
    {
     "output_type": "stream",
     "name": "stderr",
     "text": [
      "\n"
     ]
    }
   ]
  }
 ]
}
